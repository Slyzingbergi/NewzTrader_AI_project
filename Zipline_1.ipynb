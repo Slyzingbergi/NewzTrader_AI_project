{
 "metadata": {
  "name": "Zipline_1"
 },
 "nbformat": 3,
 "nbformat_minor": 0,
 "worksheets": [
  {
   "cells": [
    {
     "cell_type": "code",
     "collapsed": false,
     "input": [
      "import random\n",
      "import nltk as nltk\n",
      "#nltk.download()\n",
      "from nltk.corpus import stopwords\n",
      "import os, os.path\n",
      "path = os.path.expanduser('~/nltk_data')\n",
      "if not os.path.exists(path):\n",
      "    os.mkdir(path)\n",
      "os.path.exists(path)\n",
      "import nltk.data\n",
      "path in nltk.data.path\n",
      "from nltk.corpus.reader import CategorizedPlaintextCorpusReader\n",
      "reader = CategorizedPlaintextCorpusReader('.', r'.*_news_.*\\.csv', cat_pattern=r'.*_news_(\\w+)\\.csv')\n",
      "reader.categories()\n",
      "reader.fileids(categories=['UP'])\n",
      "def bag_of_words(words):\n",
      "    return dict([(word, True) for word in words if word[0].isalpha()])\n",
      "import collections\n",
      "def bag_of_words_not_in_set(words, badwords):\n",
      "    return bag_of_words(set(words)-set(badwords))\n",
      "\n",
      "def bag_of_non_stopwords(words, stopfile='english'):\n",
      "    badwords = stopwords.words(stopfile)\n",
      "    return bag_of_words_not_in_set(words, badwords)\n",
      "\n",
      "from nltk.metrics import BigramAssocMeasures\n",
      "from nltk.collocations import BigramCollocationFinder\n",
      "\n",
      "def bag_of_bigrams_words(words, score_fn=BigramAssocMeasures.chi_sq, n=2000):\n",
      "    bigram_finder = BigramCollocationFinder.from_words(words)\n",
      "    bigrams = bigram_finder.nbest(score_fn, n)\n",
      "    dictOfBigrams = bag_of_words(bigrams)\n",
      "    dictOfBigrams.update(bag_of_non_stopwords(words))\n",
      "    return dictOfBigrams\n",
      "    \n",
      "def label_feats_from_corpus(corp, feature_detector=bag_of_bigrams_words):\n",
      "    label_feats = collections.defaultdict(list)\n",
      "    for label in corp.categories():\n",
      "        for fileid in corp.fileids(categories=[label]):\n",
      "            feats = feature_detector(corp.words(fileids=[fileid]))\n",
      "            label_feats[label].append(feats)\n",
      "    return label_feats\n",
      "\n",
      "def split_label_feats(lfeats, split=0.75):\n",
      "    train_feats = []\n",
      "    test_feats = []\n",
      "    for label, feats in lfeats.iteritems():\n",
      "        random.shuffle(feats, random.random)\n",
      "        cutoff = int(len(feats) * split)\n",
      "        train_feats.extend([(feat, label) for feat in feats[:cutoff]])\n",
      "        test_feats.extend([(feat, label) for feat in feats[cutoff:]])\n",
      "    return train_feats, test_feats\n",
      "\n",
      "\n",
      "\n",
      "\n",
      "reader.categories()\n",
      "\n",
      "lfeats = label_feats_from_corpus(reader)\n",
      "lfeats.keys()\n",
      "train_feats, test_feats = split_label_feats(lfeats)\n",
      "len(train_feats)\n",
      "len(test_feats)\n",
      "\n",
      "from nltk.classify import NaiveBayesClassifier\n",
      "nb_classifier = NaiveBayesClassifier.train(train_feats)\n",
      "nb_classifier.labels()\n",
      "\n",
      "from nltk.classify.util import accuracy\n",
      "accuracy(nb_classifier, test_feats)\n"
     ],
     "language": "python",
     "metadata": {},
     "outputs": [
      {
       "output_type": "pyout",
       "prompt_number": 171,
       "text": [
        "0.4722222222222222"
       ]
      }
     ],
     "prompt_number": 171
    },
    {
     "cell_type": "code",
     "collapsed": false,
     "input": [
      "def only_alphanum(s):\n",
      "    #s = unicode(s, \"utf-8\")\n",
      "    return ' '.join(c for c in s.split() if c.isalnum())\n",
      "def only_alpha(s):\n",
      "    return ' '.join(c for c in s.split() if c.isalpha())\n",
      "def removeNonAscii(s): return \"\".join(i for i in s if ord(i)<128)\n",
      "from lxml import etree\n",
      "import datetime\n",
      "from dateutil.parser import parse\n",
      "path = \"http://www.google.com/finance/company_news?q=USB&output=rss&num=500\"\n",
      "root = etree.parse(path)\n",
      "myRoot = root.getroot()\n",
      "news={}\n",
      "for element in myRoot.iter(\"item\"):\n",
      "    for item in element.iter(\"pubDate\"):\n",
      "        pubDate = parse(item.text)\n",
      "    for item in element.iter(\"title\"):\n",
      "        title = item.text\n",
      "    news[pubDate.date()]=only_alphanum(removeNonAscii(title))"
     ],
     "language": "python",
     "metadata": {},
     "outputs": [],
     "prompt_number": 69
    },
    {
     "cell_type": "code",
     "collapsed": false,
     "input": [
      "nb_classifier.classify(bag_of_words([\"plunges\", \"dividend\", \"lowers\", \"guidence\"]))"
     ],
     "language": "python",
     "metadata": {},
     "outputs": [
      {
       "output_type": "pyout",
       "prompt_number": 101,
       "text": [
        "'NONE'"
       ]
      }
     ],
     "prompt_number": 101
    },
    {
     "cell_type": "code",
     "collapsed": false,
     "input": [
      "\n",
      "import pandas as pd\n",
      "import numpy as np\n",
      "import matplotlib.pyplot as plt\n",
      "\n",
      "#import zipline as zp\n",
      "from zipline.algorithm import TradingAlgorithm\n",
      "from zipline.transforms import MovingAverage, batch_transform\n",
      "from zipline.utils.factory import load_from_yahoo\n"
     ],
     "language": "python",
     "metadata": {},
     "outputs": [],
     "prompt_number": 2
    },
    {
     "cell_type": "code",
     "collapsed": false,
     "input": [
      "mystart = datetime.date(2010, 1, 1)\n",
      "myend = datetime.date(2012, 10, 1)\n",
      "eix = load_from_yahoo(stocks=['^VIX'], start=mystart, end=myend)"
     ],
     "language": "python",
     "metadata": {},
     "outputs": [
      {
       "output_type": "stream",
       "stream": "stdout",
       "text": [
        "^VIX\n",
        "SPX"
       ]
      },
      {
       "output_type": "stream",
       "stream": "stdout",
       "text": [
        "\n"
       ]
      }
     ],
     "prompt_number": 141
    },
    {
     "cell_type": "code",
     "collapsed": false,
     "input": [
      "eix['^VIX'].plot()"
     ],
     "language": "python",
     "metadata": {},
     "outputs": [
      {
       "output_type": "pyout",
       "prompt_number": 142,
       "text": [
        "<matplotlib.axes.AxesSubplot at 0x114eb8f50>"
       ]
      },
      {
       "output_type": "display_data",
       "png": "[encoded data removed]"
      }
     ],
     "prompt_number": 142
    },
    {
     "cell_type": "code",
     "collapsed": false,
     "input": [
      "data = load_from_yahoo(stocks=['AAPL', 'PEP', 'KO'])"
     ],
     "language": "python",
     "metadata": {},
     "outputs": [
      {
       "output_type": "stream",
       "stream": "stdout",
       "text": [
        "AAPL\n",
        "PEP"
       ]
      },
      {
       "output_type": "stream",
       "stream": "stdout",
       "text": [
        "\n",
        "KO"
       ]
      },
      {
       "output_type": "stream",
       "stream": "stdout",
       "text": [
        "\n",
        "SPX"
       ]
      },
      {
       "output_type": "stream",
       "stream": "stdout",
       "text": [
        "\n"
       ]
      }
     ],
     "prompt_number": 4
    },
    {
     "cell_type": "code",
     "collapsed": false,
     "input": [
      "data.save('talk_px.dat')"
     ],
     "language": "python",
     "metadata": {},
     "outputs": [],
     "prompt_number": 5
    },
    {
     "cell_type": "code",
     "collapsed": false,
     "input": [
      "data=pd.load('talk_px.dat')"
     ],
     "language": "python",
     "metadata": {},
     "outputs": [],
     "prompt_number": 6
    },
    {
     "cell_type": "code",
     "collapsed": false,
     "input": [
      "data['AAPL'].plot()"
     ],
     "language": "python",
     "metadata": {},
     "outputs": [
      {
       "output_type": "pyout",
       "prompt_number": 7,
       "text": [
        "<matplotlib.axes.AxesSubplot at 0x111e44610>"
       ]
      },
      {
       "output_type": "display_data",
       "png": "[encoded data removed]"
      }
     ],
     "prompt_number": 7
    },
    {
     "cell_type": "code",
     "collapsed": false,
     "input": [
      "class NLPFinanceNews(TradingAlgorithm):\n",
      "    def initialize(self, classifier, news, ticker):\n",
      "        self.invested = False\n",
      "        self.buy_orders = []\n",
      "        self.sell_orders = []\n",
      "        self.classifier = classifier\n",
      "        self.news = news\n",
      "        self.ticker = ticker\n",
      "    \n",
      "    def bag_of_words(self, words):\n",
      "        return dict([(word, True) for word in words if word[0].isalpha()])\n",
      "    \n",
      "    def handle_data(self, data):\n",
      "        print  self.news.get(datetime.date(data[self.ticker].datetime.year, data[self.ticker].datetime.month, data[self.ticker].datetime.day), 'None') + \" Classify: \" + self.classifier.classify(self.bag_of_words(self.news.get(datetime.date(data[self.ticker].datetime.year, data[self.ticker].datetime.month, data[self.ticker].datetime.day), 'None')))\n",
      "        if self.classifier.classify(self.bag_of_words(self.news.get(datetime.date(data[self.ticker].datetime.year, data[self.ticker].datetime.month, data[self.ticker].datetime.day), 'None'))) == 'UP' and not self.invested:\n",
      "            self.order(self.ticker, 200)\n",
      "            self.invested = True\n",
      "            self.buy_orders.append(data[self.ticker].datetime)\n",
      "            print \"{dt}: Buying 200\" +  self.ticker + \"shares.\".format(dt=data[self.ticker].datetime)\n",
      "        elif self.classifier.classify(self.bag_of_words(self.news.get(datetime.date(data[self.ticker].datetime.year, data[self.ticker].datetime.month, data[self.ticker].datetime.day), 'None'))) == 'DOWN': # and self.invested:\n",
      "            self.order(self.ticker, -200)\n",
      "            self.invested = False\n",
      "            self.sell_orders.append(data[self.ticker].datetime)\n",
      "            print \": Selling 200\" + self.ticker + \"shares.\"\n",
      " \n",
      "                                       "
     ],
     "language": "python",
     "metadata": {},
     "outputs": [],
     "prompt_number": 104
    },
    {
     "cell_type": "code",
     "collapsed": false,
     "input": [
      "nlp = NLPFinanceNews(nb_classifier, news, '^VIX')"
     ],
     "language": "python",
     "metadata": {},
     "outputs": [],
     "prompt_number": 143
    },
    {
     "cell_type": "code",
     "collapsed": false,
     "input": [
      "news[datetime.date(2010, 11, 10)]"
     ],
     "language": "python",
     "metadata": {},
     "outputs": [
      {
       "ename": "KeyError",
       "evalue": "datetime.date(2010, 11, 10)",
       "output_type": "pyerr",
       "traceback": [
        "\u001b[0;31m---------------------------------------------------------------------------\u001b[0m\n\u001b[0;31mKeyError\u001b[0m                                  Traceback (most recent call last)",
        "\u001b[0;32m<ipython-input-29-dc11e06a5fd4>\u001b[0m in \u001b[0;36m<module>\u001b[0;34m()\u001b[0m\n\u001b[0;32m----> 1\u001b[0;31m \u001b[0mnews\u001b[0m\u001b[0;34m[\u001b[0m\u001b[0mdatetime\u001b[0m\u001b[0;34m.\u001b[0m\u001b[0mdate\u001b[0m\u001b[0;34m(\u001b[0m\u001b[0;36m2010\u001b[0m\u001b[0;34m,\u001b[0m \u001b[0;36m11\u001b[0m\u001b[0;34m,\u001b[0m \u001b[0;36m10\u001b[0m\u001b[0;34m)\u001b[0m\u001b[0;34m]\u001b[0m\u001b[0;34m\u001b[0m\u001b[0m\n\u001b[0m",
        "\u001b[0;31mKeyError\u001b[0m: datetime.date(2010, 11, 10)"
       ]
      }
     ],
     "prompt_number": 29
    },
    {
     "cell_type": "code",
     "collapsed": false,
     "input": [
      "nb_classifier.classify(bag_of_words('None'))"
     ],
     "language": "python",
     "metadata": {},
     "outputs": [
      {
       "output_type": "pyout",
       "prompt_number": 31,
       "text": [
        "'NONE'"
       ]
      }
     ],
     "prompt_number": 31
    },
    {
     "cell_type": "code",
     "collapsed": false,
     "input": [
      "results = nlp.run?\n",
      "                  "
     ],
     "language": "python",
     "metadata": {},
     "outputs": [],
     "prompt_number": 17
    },
    {
     "cell_type": "code",
     "collapsed": false,
     "input": [
      "results = nlp.run(eix)"
     ],
     "language": "python",
     "metadata": {},
     "outputs": [
      {
       "output_type": "stream",
       "stream": "stdout",
       "text": [
        "None Classify: UP\n",
        "{dt}: Buying 200^VIXshares.\n",
        "None Classify: UP\n",
        "None Classify: UP\n",
        "None Classify: UP\n",
        "None Classify: UP\n",
        "None Classify: UP\n",
        "None Classify: UP\n",
        "None Classify: UP\n",
        "None Classify: UP\n",
        "None Classify: UP\n",
        "None Classify: UP\n",
        "None Classify: UP\n",
        "None Classify: UP\n",
        "None Classify: UP\n",
        "None Classify: UP\n",
        "None Classify: UP\n",
        "None Classify: UP\n",
        "None Classify: UP\n",
        "None Classify: UP\n",
        "None Classify: UP\n",
        "None Classify: UP\n",
        "None Classify: UP\n",
        "None Classify: UP\n",
        "None Classify: UP\n",
        "None Classify: UP\n",
        "None Classify: UP\n",
        "None Classify: UP\n",
        "None Classify: UP\n",
        "None Classify: UP\n",
        "None Classify: UP\n",
        "None Classify: UP\n",
        "None Classify: UP\n",
        "None Classify: UP\n",
        "None Classify: UP\n",
        "None Classify: UP\n",
        "None Classify: UP\n",
        "None Classify: UP\n",
        "None Classify: UP\n",
        "None Classify: UP\n",
        "None Classify: UP\n",
        "None Classify: UP\n",
        "None Classify: UP\n",
        "None Classify: UP\n",
        "None Classify: UP\n",
        "None Classify: UP\n",
        "None Classify: UP"
       ]
      },
      {
       "output_type": "stream",
       "stream": "stdout",
       "text": [
        "\n",
        "None Classify: UP\n",
        "None Classify: UP\n",
        "None Classify: UP\n",
        "None Classify: UP\n",
        "None Classify: UP\n",
        "None Classify: UP\n",
        "None Classify: UP\n",
        "None Classify: UP\n",
        "None Classify: UP\n",
        "None Classify: UP\n",
        "None Classify: UP\n",
        "None Classify: UP\n",
        "None Classify: UP\n",
        "None Classify: UP\n",
        "None Classify: UP\n",
        "None Classify: UP\n",
        "None Classify: UP\n",
        "None Classify: UP\n",
        "None Classify: UP\n",
        "None Classify: UP\n",
        "None Classify: UP\n",
        "None Classify: UP\n",
        "None Classify: UP\n",
        "None Classify: UP\n",
        "None Classify: UP\n",
        "None Classify: UP\n",
        "None Classify: UP\n",
        "None Classify: UP\n",
        "None Classify: UP\n",
        "None Classify: UP\n",
        "None Classify: UP\n",
        "None Classify: UP\n",
        "None Classify: UP\n",
        "None Classify: UP\n",
        "None Classify: UP\n",
        "None Classify: UP\n",
        "None Classify: UP\n",
        "None Classify: UP\n",
        "None Classify: UP\n",
        "None Classify: UP"
       ]
      },
      {
       "output_type": "stream",
       "stream": "stdout",
       "text": [
        "\n",
        "None Classify: UP\n",
        "None Classify: UP\n",
        "None Classify: UP\n",
        "None Classify: UP\n",
        "None Classify: UP\n",
        "None Classify: UP\n",
        "None Classify: UP\n",
        "None Classify: UP\n",
        "None Classify: UP\n",
        "None Classify: UP\n",
        "None Classify: UP\n",
        "None Classify: UP\n",
        "None Classify: UP\n",
        "None Classify: UP\n",
        "None Classify: UP\n",
        "None Classify: UP\n",
        "None Classify: UP\n",
        "None Classify: UP\n",
        "None Classify: UP\n",
        "None Classify: UP\n",
        "None Classify: UP\n",
        "None Classify: UP\n",
        "None Classify: UP\n",
        "None Classify: UP\n",
        "None Classify: UP\n",
        "None Classify: UP\n",
        "None Classify: UP\n",
        "None Classify: UP\n",
        "None Classify: UP\n",
        "None Classify: UP\n",
        "None Classify: UP\n",
        "None Classify: UP\n",
        "None Classify: UP\n",
        "None Classify: UP\n",
        "None Classify: UP\n",
        "None Classify: UP"
       ]
      },
      {
       "output_type": "stream",
       "stream": "stdout",
       "text": [
        "\n",
        "None Classify: UP\n",
        "None Classify: UP\n",
        "None Classify: UP\n",
        "None Classify: UP\n",
        "None Classify: UP\n",
        "None Classify: UP\n",
        "None Classify: UP\n",
        "None Classify: UP\n",
        "None Classify: UP\n",
        "None Classify: UP\n",
        "None Classify: UP\n",
        "None Classify: UP\n",
        "None Classify: UP\n",
        "None Classify: UP\n",
        "None Classify: UP\n",
        "None Classify: UP\n",
        "None Classify: UP\n",
        "None Classify: UP\n",
        "None Classify: UP\n",
        "None Classify: UP\n",
        "None Classify: UP\n",
        "None Classify: UP\n",
        "None Classify: UP\n",
        "None Classify: UP\n",
        "None Classify: UP\n",
        "None Classify: UP\n",
        "None Classify: UP\n",
        "None Classify: UP\n",
        "None Classify: UP\n",
        "None Classify: UP\n",
        "None Classify: UP\n",
        "None Classify: UP\n",
        "None Classify: UP\n",
        "None Classify: UP\n",
        "None Classify: UP\n",
        "None Classify: UP\n",
        "None Classify: UP\n",
        "None Classify: UP"
       ]
      },
      {
       "output_type": "stream",
       "stream": "stdout",
       "text": [
        "\n",
        "None Classify: UP\n",
        "None Classify: UP\n",
        "None Classify: UP\n",
        "None Classify: UP\n",
        "None Classify: UP\n",
        "None Classify: UP\n",
        "None Classify: UP\n",
        "None Classify: UP\n",
        "None Classify: UP\n",
        "None Classify: UP\n",
        "None Classify: UP\n",
        "None Classify: UP\n",
        "None Classify: UP\n",
        "None Classify: UP\n",
        "None Classify: UP\n",
        "None Classify: UP\n",
        "None Classify: UP\n",
        "None Classify: UP\n",
        "None Classify: UP\n",
        "None Classify: UP\n",
        "None Classify: UP\n",
        "None Classify: UP\n",
        "None Classify: UP\n",
        "None Classify: UP\n",
        "None Classify: UP\n",
        "None Classify: UP\n",
        "None Classify: UP\n",
        "None Classify: UP\n",
        "None Classify: UP\n",
        "None Classify: UP\n",
        "None Classify: UP\n",
        "None Classify: UP\n",
        "None Classify: UP\n",
        "None Classify: UP"
       ]
      },
      {
       "output_type": "stream",
       "stream": "stdout",
       "text": [
        "\n",
        "None Classify: UP\n",
        "None Classify: UP\n",
        "None Classify: UP\n",
        "None Classify: UP\n",
        "None Classify: UP\n",
        "None Classify: UP\n",
        "None Classify: UP\n",
        "None Classify: UP\n",
        "None Classify: UP\n",
        "None Classify: UP\n",
        "None Classify: UP\n",
        "None Classify: UP\n",
        "None Classify: UP\n",
        "None Classify: UP\n",
        "None Classify: UP\n",
        "None Classify: UP\n",
        "None Classify: UP\n",
        "None Classify: UP\n",
        "None Classify: UP\n",
        "None Classify: UP\n",
        "None Classify: UP\n",
        "Elavon Introduces Enterprise Billing Solution Classify: DOWN\n",
        "{dt}: Selling 200^VIXshares.\n",
        "None Classify: UP\n",
        "{dt}: Buying 200^VIXshares.\n",
        "None Classify: UP\n",
        "None Classify: UP\n",
        "Bancorp To Buy Bank Of America Corporate Trust Classify: UP\n",
        "None Classify: UP\n",
        "None Classify: UP\n",
        "None Classify: UP\n",
        "None Classify: UP\n",
        "None Classify: UP\n",
        "None Classify: UP\n",
        "None Classify: UP"
       ]
      },
      {
       "output_type": "stream",
       "stream": "stdout",
       "text": [
        "\n",
        "None Classify: UP\n",
        "None Classify: UP\n",
        "Suntron Announces New Credit Facility By Bank Asset Based Finance To Support Growth Classify: UP\n",
        "None Classify: UP\n",
        "None Classify: UP\n",
        "None Classify: UP\n",
        "None Classify: UP\n",
        "None Classify: UP\n",
        "Citigroup Credicard And Elavon Announces Alliance To Establish Merchant Payments Solutions Company In Brazil Classify: UP\n",
        "None Classify: UP\n",
        "None Classify: UP\n",
        "None Classify: UP\n",
        "Bancorp Announces Quarterly Dividends Classify: UP\n",
        "None Classify: UP\n",
        "None Classify: UP\n",
        "None Classify: UP\n",
        "None Classify: UP\n",
        "None Classify: UP\n",
        "None Classify: UP\n",
        "None Classify: UP\n",
        "None Classify: UP\n",
        "None Classify: UP\n",
        "None Classify: UP\n",
        "None Classify: UP\n",
        "None Classify: UP\n",
        "None Classify: UP\n",
        "Bancorp Completes Acquisition Of Securitization Trust Administration Business From Bank of Classify: UP\n",
        "None Classify: UP"
       ]
      },
      {
       "output_type": "stream",
       "stream": "stdout",
       "text": [
        "\n",
        "None Classify: UP\n",
        "None Classify: UP\n",
        "None Classify: UP\n",
        "None Classify: UP\n",
        "None Classify: UP\n",
        "None Classify: UP\n",
        "None Classify: UP\n",
        "None Classify: UP\n",
        "None Classify: UP\n",
        "None Classify: UP\n",
        "None Classify: UP\n",
        "None Classify: UP\n",
        "None Classify: UP\n",
        "None Classify: UP\n",
        "None Classify: UP\n",
        "None Classify: UP\n",
        "None Classify: UP\n",
        "None Classify: UP\n",
        "None Classify: UP\n",
        "None Classify: UP\n",
        "None Classify: UP\n",
        "None Classify: UP\n",
        "None Classify: UP\n",
        "None Classify: UP\n",
        "None Classify: UP\n",
        "None Classify: UP\n",
        "None Classify: UP\n",
        "None Classify: UP\n",
        "None Classify: UP\n",
        "None Classify: UP\n",
        "None Classify: UP\n",
        "None Classify: UP\n",
        "None Classify: UP"
       ]
      },
      {
       "output_type": "stream",
       "stream": "stdout",
       "text": [
        "\n",
        "None Classify: UP\n",
        "None Classify: UP\n",
        "None Classify: UP\n",
        "None Classify: UP\n",
        "None Classify: UP\n",
        "None Classify: UP\n",
        "None Classify: UP\n",
        "None Classify: UP\n",
        "None Classify: UP\n",
        "None Classify: UP\n",
        "None Classify: UP\n",
        "None Classify: UP\n",
        "None Classify: UP\n",
        "None Classify: UP\n",
        "None Classify: UP\n",
        "None Classify: UP\n",
        "Bancorp Announces Increase In Quarterly Common Stock Dividend And Authorizes New 50 Million Share Repurchase Program Classify: UP\n",
        "None Classify: UP\n",
        "None Classify: UP\n",
        "None Classify: UP\n",
        "None Classify: UP\n",
        "None Classify: UP\n",
        "None Classify: UP\n",
        "None Classify: UP\n",
        "None Classify: UP\n",
        "None Classify: UP\n",
        "None Classify: UP\n",
        "None Classify: UP"
       ]
      },
      {
       "output_type": "stream",
       "stream": "stdout",
       "text": [
        "\n",
        "None Classify: UP\n",
        "None Classify: UP\n",
        "None Classify: UP\n",
        "None Classify: UP\n",
        "None Classify: UP\n",
        "None Classify: UP\n",
        "None Classify: UP\n",
        "None Classify: UP\n",
        "None Classify: UP\n",
        "None Classify: UP\n",
        "None Classify: UP\n",
        "None Classify: UP\n",
        "None Classify: UP\n",
        "None Classify: UP\n",
        "None Classify: UP\n",
        "None Classify: UP\n",
        "None Classify: UP\n",
        "None Classify: UP\n",
        "None Classify: UP\n",
        "None Classify: UP\n",
        "None Classify: UP\n",
        "None Classify: UP\n",
        "None Classify: UP\n",
        "None Classify: UP\n",
        "Morgan Stanley Settles 1 CDO Suit With Classify: DOWN\n",
        "{dt}: Selling 200^VIXshares.\n",
        "None Classify: UP\n",
        "{dt}: Buying 200^VIXshares.\n",
        "None Classify: UP\n",
        "None Classify: UP\n",
        "None Classify: UP\n",
        "None Classify: UP"
       ]
      },
      {
       "output_type": "stream",
       "stream": "stdout",
       "text": [
        "\n",
        "None Classify: UP\n",
        "None Classify: UP\n",
        "None Classify: UP\n",
        "None Classify: UP\n",
        "None Classify: UP\n",
        "None Classify: UP\n",
        "None Classify: UP\n",
        "None Classify: UP\n",
        "None Classify: UP\n",
        "None Classify: UP\n",
        "None Classify: UP\n",
        "None Classify: UP\n",
        "None Classify: UP\n",
        "None Classify: UP\n",
        "None Classify: UP\n",
        "None Classify: UP\n",
        "None Classify: UP\n",
        "None Classify: UP\n",
        "None Classify: UP\n",
        "None Classify: UP\n",
        "None Classify: UP\n",
        "None Classify: UP\n",
        "None Classify: UP\n",
        "Bancorp Announces Quarterly Dividends Classify: UP\n",
        "None Classify: UP\n",
        "None Classify: UP\n",
        "None Classify: UP\n",
        "None Classify: UP\n",
        "None Classify: UP\n",
        "None Classify: UP\n",
        "None Classify: UP"
       ]
      },
      {
       "output_type": "stream",
       "stream": "stdout",
       "text": [
        "\n",
        "None Classify: UP\n",
        "None Classify: UP\n",
        "None Classify: UP\n",
        "None Classify: UP\n",
        "None Classify: UP\n",
        "None Classify: UP\n",
        "None Classify: UP\n",
        "None Classify: UP\n",
        "None Classify: UP\n",
        "None Classify: UP\n",
        "None Classify: UP\n",
        "None Classify: UP\n",
        "None Classify: UP\n",
        "None Classify: UP\n",
        "None Classify: UP\n",
        "None Classify: UP\n",
        "None Classify: UP\n",
        "None Classify: UP\n",
        "None Classify: UP\n",
        "None Classify: UP\n",
        "None Classify: UP\n",
        "None Classify: UP\n",
        "None Classify: UP\n",
        "None Classify: UP\n",
        "None Classify: UP\n",
        "None Classify: UP"
       ]
      },
      {
       "output_type": "stream",
       "stream": "stdout",
       "text": [
        "\n",
        "None Classify: UP\n",
        "None Classify: UP\n",
        "None Classify: UP\n",
        "None Classify: UP\n",
        "None Classify: UP\n",
        "None Classify: UP\n",
        "None Classify: UP\n",
        "None Classify: UP\n",
        "None Classify: UP\n",
        "None Classify: UP\n",
        "None Classify: UP\n",
        "None Classify: UP\n",
        "None Classify: UP\n",
        "None Classify: UP\n",
        "None Classify: UP\n",
        "US As Sues Bank of America Corporation Over Classify: UP\n",
        "None Classify: UP\n",
        "None Classify: UP\n",
        "None Classify: UP\n",
        "None Classify: UP\n",
        "None Classify: UP\n",
        "None Classify: UP\n",
        "None Classify: UP\n",
        "None Classify: UP\n",
        "None Classify: UP\n",
        "None Classify: UP\n",
        "None Classify: UP\n",
        "None Classify: UP\n",
        "None Classify: UP"
       ]
      },
      {
       "output_type": "stream",
       "stream": "stdout",
       "text": [
        "\n",
        "Bancorp Announces Quarterly Dividends Classify: UP\n",
        "None Classify: UP\n",
        "None Classify: UP\n",
        "None Classify: UP\n",
        "None Classify: UP\n",
        "None Classify: UP\n",
        "None Classify: UP\n",
        "None Classify: UP\n",
        "None Classify: UP\n",
        "None Classify: UP\n",
        "None Classify: UP\n",
        "None Classify: UP\n",
        "None Classify: UP\n",
        "None Classify: UP\n",
        "None Classify: UP\n",
        "None Classify: UP\n",
        "None Classify: UP\n",
        "None Classify: UP\n",
        "None Classify: UP\n",
        "None Classify: UP\n",
        "None Classify: UP\n",
        "None Classify: UP\n",
        "None Classify: UP\n",
        "None Classify: UP\n",
        "None Classify: UP\n",
        "None Classify: UP\n",
        "None Classify: UP"
       ]
      },
      {
       "output_type": "stream",
       "stream": "stdout",
       "text": [
        "\n",
        "None Classify: UP\n",
        "None Classify: UP\n",
        "None Classify: UP\n",
        "None Classify: UP\n",
        "None Classify: UP\n",
        "None Classify: UP\n",
        "None Classify: UP\n",
        "None Classify: UP\n",
        "None Classify: UP\n",
        "None Classify: UP\n",
        "None Classify: UP\n",
        "None Classify: UP\n",
        "None Classify: UP\n",
        "None Classify: UP\n",
        "None Classify: UP\n",
        "None Classify: UP\n",
        "None Classify: UP\n",
        "None Classify: UP\n",
        "None Classify: UP\n",
        "None Classify: UP\n",
        "None Classify: UP\n",
        "None Classify: UP\n",
        "None Classify: UP\n",
        "None Classify: UP\n",
        "None Classify: UP\n",
        "None Classify: UP\n",
        "None Classify: UP"
       ]
      },
      {
       "output_type": "stream",
       "stream": "stdout",
       "text": [
        "\n",
        "None Classify: UP\n",
        "None Classify: UP\n",
        "None Classify: UP\n",
        "None Classify: UP\n",
        "None Classify: UP\n",
        "Bancorp Announces Quarterly Dividends Classify: UP\n",
        "None Classify: UP\n",
        "None Classify: UP\n",
        "None Classify: UP\n",
        "None Classify: UP\n",
        "None Classify: UP\n",
        "Elan Financial Services Acquires Million in Financial Institution Credit Card Portfolios Classify: DOWN\n",
        "{dt}: Selling 200^VIXshares.\n",
        "None Classify: UP\n",
        "{dt}: Buying 200^VIXshares.\n",
        "None Classify: UP\n",
        "None Classify: UP\n",
        "None Classify: UP\n",
        "None Classify: UP\n",
        "None Classify: UP\n",
        "None Classify: UP\n",
        "None Classify: UP\n",
        "None Classify: UP\n",
        "None Classify: UP\n",
        "None Classify: UP\n",
        "None Classify: UP\n",
        "None Classify: UP\n",
        "None Classify: UP\n",
        "None Classify: UP\n",
        "None Classify: UP"
       ]
      },
      {
       "output_type": "stream",
       "stream": "stdout",
       "text": [
        "\n",
        "None Classify: UP\n",
        "None Classify: UP\n",
        "None Classify: UP\n",
        "None Classify: UP\n",
        "None Classify: UP\n",
        "None Classify: UP\n",
        "None Classify: UP\n",
        "Bank National Association Acquires Banking Operations Of BankEast Corporation Of Tennessee Classify: UP\n",
        "US Bank National Association Acquires Indiana Corporate Trust Business From UMB Financial UMB Bank Classify: UP\n",
        "None Classify: UP\n",
        "US Bank National Association Enters Into Definitive Agreement To Purchase Institutional Trust Business Classify: UP\n",
        "None Classify: UP\n",
        "None Classify: UP\n",
        "None Classify: UP\n",
        "None Classify: UP\n",
        "None Classify: UP\n",
        "None Classify: UP\n",
        "None Classify: UP\n",
        "None Classify: UP\n",
        "None Classify: UP\n",
        "None Classify: UP\n",
        "None Classify: UP\n",
        "None Classify: UP"
       ]
      },
      {
       "output_type": "stream",
       "stream": "stdout",
       "text": [
        "\n",
        "None Classify: UP\n",
        "None Classify: UP\n",
        "None Classify: UP\n",
        "None Classify: UP\n",
        "None Classify: UP\n",
        "None Classify: UP\n",
        "None Classify: UP\n",
        "None Classify: UP\n",
        "None Classify: UP\n",
        "None Classify: UP\n",
        "None Classify: UP\n",
        "None Classify: UP\n",
        "None Classify: UP\n",
        "None Classify: UP\n",
        "None Classify: UP\n",
        "US Bancorp Announces Increase In Quarterly Common Stock Dividend And Authorizes New 100 Million Share Repurchase Program Classify: UP\n",
        "None Classify: UP\n",
        "None Classify: UP\n",
        "None Classify: UP\n",
        "None Classify: UP\n",
        "None Classify: UP\n",
        "None Classify: UP\n",
        "None Classify: UP\n",
        "None Classify: UP\n",
        "None Classify: UP\n",
        "None Classify: UP"
       ]
      },
      {
       "output_type": "stream",
       "stream": "stdout",
       "text": [
        "\n",
        "None Classify: UP\n",
        "None Classify: UP\n",
        "None Classify: UP\n",
        "None Classify: UP\n",
        "None Classify: UP\n",
        "None Classify: UP\n",
        "None Classify: UP\n",
        "None Classify: UP\n",
        "None Classify: UP\n",
        "None Classify: UP\n",
        "None Classify: UP\n",
        "Bank of America US Bancorp Sued For Role As WaMu Bond Classify: UP\n",
        "None Classify: UP\n",
        "None Classify: UP\n",
        "None Classify: UP\n",
        "None Classify: UP\n",
        "None Classify: UP\n",
        "None Classify: UP\n",
        "None Classify: UP\n",
        "None Classify: UP\n",
        "None Classify: UP\n",
        "None Classify: UP\n",
        "None Classify: UP\n",
        "None Classify: UP\n",
        "None Classify: UP"
       ]
      },
      {
       "output_type": "stream",
       "stream": "stdout",
       "text": [
        "\n",
        "None Classify: UP\n",
        "None Classify: UP\n",
        "None Classify: UP\n",
        "None Classify: UP\n",
        "None Classify: UP\n",
        "None Classify: UP\n",
        "None Classify: UP\n",
        "None Classify: UP\n",
        "None Classify: UP\n",
        "None Classify: UP\n",
        "None Classify: UP\n",
        "None Classify: UP\n",
        "None Classify: UP\n",
        "None Classify: UP\n",
        "None Classify: UP\n",
        "None Classify: UP\n",
        "None Classify: UP\n",
        "None Classify: UP\n",
        "None Classify: UP\n",
        "None Classify: UP\n",
        "None Classify: UP\n",
        "None Classify: UP\n",
        "None Classify: UP\n",
        "None Classify: UP"
       ]
      },
      {
       "output_type": "stream",
       "stream": "stdout",
       "text": [
        "\n",
        "None Classify: UP\n",
        "None Classify: UP\n",
        "None Classify: UP\n",
        "None Classify: UP\n",
        "None Classify: UP\n",
        "None Classify: UP\n",
        "None Classify: UP\n",
        "None Classify: UP\n",
        "US Bancorp Announces Quarterly Dividends Classify: UP\n",
        "None Classify: UP\n",
        "None Classify: UP\n",
        "None Classify: UP\n",
        "None Classify: UP\n",
        "None Classify: UP\n",
        "None Classify: UP\n",
        "None Classify: UP\n",
        "None Classify: UP\n",
        "None Classify: UP\n",
        "None Classify: UP\n",
        "None Classify: UP\n",
        "None Classify: UP\n",
        "None Classify: UP\n",
        "None Classify: UP\n",
        "None Classify: UP\n",
        "None Classify: UP\n",
        "None Classify: UP"
       ]
      },
      {
       "output_type": "stream",
       "stream": "stdout",
       "text": [
        "\n",
        "None Classify: UP\n",
        "None Classify: UP\n",
        "None Classify: UP\n",
        "None Classify: UP\n",
        "None Classify: UP\n",
        "None Classify: UP\n",
        "None Classify: UP\n",
        "None Classify: UP\n",
        "None Classify: UP\n",
        "None Classify: UP\n",
        "None Classify: UP\n",
        "None Classify: UP\n",
        "None Classify: UP\n",
        "None Classify: UP\n",
        "None Classify: UP\n",
        "None Classify: UP\n",
        "None Classify: UP\n",
        "None Classify: UP\n",
        "None Classify: UP\n",
        "None Classify: UP\n",
        "None Classify: UP\n",
        "None Classify: UP"
       ]
      },
      {
       "output_type": "stream",
       "stream": "stdout",
       "text": [
        "\n",
        "None Classify: UP\n",
        "None Classify: UP\n",
        "None Classify: UP\n",
        "None Classify: UP\n",
        "None Classify: UP\n",
        "None Classify: UP\n",
        "None Classify: UP\n",
        "None Classify: UP\n",
        "None Classify: UP\n",
        "None Classify: UP\n",
        "None Classify: UP\n",
        "None Classify: UP\n",
        "None Classify: UP\n",
        "None Classify: UP\n",
        "None Classify: UP\n",
        "None Classify: UP\n",
        "None Classify: UP\n",
        "None Classify: UP\n",
        "None Classify: UP\n",
        "None Classify: UP\n",
        "None Classify: UP\n",
        "None Classify: UP\n",
        "None Classify: UP\n",
        "Bancorp Announces Quarterly Dividends Classify: UP"
       ]
      },
      {
       "output_type": "stream",
       "stream": "stderr",
       "text": [
        "[2012-11-07 00:08] INFO: Performance: Simulated 692.0 trading days out of 693.\n"
       ]
      },
      {
       "output_type": "stream",
       "stream": "stderr",
       "text": [
        "[2012-11-07 00:08] INFO: Performance: first open: 2010-01-04 14:30:00+00:00\n"
       ]
      },
      {
       "output_type": "stream",
       "stream": "stdout",
       "text": [
        "\n",
        "None Classify: UP\n",
        "None Classify: UP\n",
        "None Classify: UP\n",
        "None Classify: UP\n",
        "None Classify: UP\n",
        "None Classify: UP\n",
        "None Classify: UP\n",
        "None Classify: UP\n",
        "None Classify: UP"
       ]
      },
      {
       "output_type": "stream",
       "stream": "stdout",
       "text": [
        "\n"
       ]
      }
     ],
     "prompt_number": 144
    },
    {
     "cell_type": "code",
     "collapsed": false,
     "input": [
      "results.portfolio_value.plot()"
     ],
     "language": "python",
     "metadata": {},
     "outputs": [
      {
       "output_type": "pyout",
       "prompt_number": 145,
       "text": [
        "<matplotlib.axes.AxesSubplot at 0x10fd07790>"
       ]
      },
      {
       "output_type": "display_data",
       "png": "[encoded data removed]"
      }
     ],
     "prompt_number": 145
    },
    {
     "cell_type": "code",
     "collapsed": false,
     "input": [
      "class BuyApple(TradingAlgorithm):\n",
      "    def handle_data(self, data):\n",
      "        self.order('AAPL', 1)"
     ],
     "language": "python",
     "metadata": {},
     "outputs": [],
     "prompt_number": 25
    },
    {
     "cell_type": "code",
     "collapsed": false,
     "input": [
      "my_algo = BuyApple()\n"
     ],
     "language": "python",
     "metadata": {},
     "outputs": [],
     "prompt_number": 26
    },
    {
     "cell_type": "code",
     "collapsed": false,
     "input": [
      "results_buy_apple = my_algo.run(data)"
     ],
     "language": "python",
     "metadata": {},
     "outputs": [
      {
       "output_type": "stream",
       "stream": "stderr",
       "text": [
        "[2012-11-04 17:36] INFO: Performance: Simulated 2267.0 trading days out of 2268.\n"
       ]
      },
      {
       "output_type": "stream",
       "stream": "stderr",
       "text": [
        "[2012-11-04 17:36] INFO: Performance: first open: 1993-01-04 14:30:00+00:00\n"
       ]
      }
     ],
     "prompt_number": 27
    },
    {
     "cell_type": "code",
     "collapsed": false,
     "input": [
      "results_buy_apple\n"
     ],
     "language": "python",
     "metadata": {},
     "outputs": [
      {
       "output_type": "pyout",
       "prompt_number": 28,
       "text": [
        "<class 'pandas.core.frame.DataFrame'>\n",
        "DatetimeIndex: 2267 entries, 1993-01-04 21:00:00 to 2001-12-28 21:00:00\n",
        "Data columns:\n",
        "capital_used               2267  non-null values\n",
        "cumulative_capital_used    2267  non-null values\n",
        "ending_cash                2267  non-null values\n",
        "ending_value               2267  non-null values\n",
        "max_capital_used           2267  non-null values\n",
        "max_leverage               2267  non-null values\n",
        "period_close               2267  non-null values\n",
        "period_open                2267  non-null values\n",
        "pnl                        2267  non-null values\n",
        "portfolio_value            2267  non-null values\n",
        "positions                  2267  non-null values\n",
        "returns                    2267  non-null values\n",
        "starting_cash              2267  non-null values\n",
        "starting_value             2267  non-null values\n",
        "transactions               2267  non-null values\n",
        "dtypes: float64(11), object(4)"
       ]
      }
     ],
     "prompt_number": 28
    },
    {
     "cell_type": "code",
     "collapsed": false,
     "input": [
      "results_buy_apple.portfolio_value.plot()"
     ],
     "language": "python",
     "metadata": {},
     "outputs": [
      {
       "output_type": "pyout",
       "prompt_number": 29,
       "text": [
        "<matplotlib.axes.AxesSubplot at 0x1124729d0>"
       ]
      },
      {
       "output_type": "display_data",
       "png": "[encoded data removed]"
      }
     ],
     "prompt_number": 29
    },
    {
     "cell_type": "code",
     "collapsed": false,
     "input": [
      "datetime.date(2012, 10, 1)"
     ],
     "language": "python",
     "metadata": {},
     "outputs": [
      {
       "output_type": "pyout",
       "prompt_number": 14,
       "text": [
        "datetime.date(2012, 10, 1)"
       ]
      }
     ],
     "prompt_number": 14
    },
    {
     "cell_type": "code",
     "collapsed": false,
     "input": [
      "print datetime.date(2012, 10, 1)"
     ],
     "language": "python",
     "metadata": {},
     "outputs": [
      {
       "output_type": "stream",
       "stream": "stdout",
       "text": [
        "2012-10-01\n"
       ]
      }
     ],
     "prompt_number": 15
    },
    {
     "cell_type": "code",
     "collapsed": false,
     "input": [],
     "language": "python",
     "metadata": {},
     "outputs": []
    }
   ],
   "metadata": {}
  }
 ]
}