{
 "metadata": {
  "name": "Zipline_1"
 },
 "nbformat": 3,
 "nbformat_minor": 0,
 "worksheets": [
  {
   "cells": [
    {
     "cell_type": "code",
     "collapsed": false,
     "input": [
      "import random\n",
      "import nltk as nltk\n",
      "#nltk.download()\n",
      "from nltk.corpus import stopwords\n",
      "import os, os.path\n",
      "path = os.path.expanduser('~/nltk_data')\n",
      "if not os.path.exists(path):\n",
      "    os.mkdir(path)\n",
      "os.path.exists(path)\n",
      "import nltk.data\n",
      "path in nltk.data.path\n",
      "from nltk.corpus.reader import CategorizedPlaintextCorpusReader\n",
      "reader = CategorizedPlaintextCorpusReader('.', r'.*_news_.*\\.csv', cat_pattern=r'.*_news_(\\w+)\\.csv')\n",
      "reader.categories()\n",
      "reader.fileids(categories=['UP'])\n",
      "def bag_of_words(words):\n",
      "    return dict([(word, True) for word in words if word[0].isalpha()])\n",
      "import collections\n",
      "def bag_of_words_not_in_set(words, badwords):\n",
      "    return bag_of_words(set(words)-set(badwords))\n",
      "\n",
      "def bag_of_non_stopwords(words, stopfile='english'):\n",
      "    badwords = stopwords.words(stopfile)\n",
      "    return bag_of_words_not_in_set(words, badwords)\n",
      "\n",
      "from nltk.metrics import BigramAssocMeasures\n",
      "from nltk.collocations import BigramCollocationFinder\n",
      "\n",
      "def bag_of_bigrams_words(words, score_fn=BigramAssocMeasures.chi_sq, n=2000):\n",
      "    bigram_finder = BigramCollocationFinder.from_words(words)\n",
      "    bigrams = bigram_finder.nbest(score_fn, n)\n",
      "    dictOfBigrams = bag_of_words(bigrams)\n",
      "    dictOfBigrams.update(bag_of_non_stopwords(words))\n",
      "    return dictOfBigrams\n",
      "    \n",
      "def label_feats_from_corpus(corp, feature_detector=bag_of_bigrams_words):\n",
      "    label_feats = collections.defaultdict(list)\n",
      "    for label in corp.categories():\n",
      "        for fileid in corp.fileids(categories=[label]):\n",
      "            feats = feature_detector(corp.words(fileids=[fileid]))\n",
      "            label_feats[label].append(feats)\n",
      "    return label_feats\n",
      "\n",
      "def split_label_feats(lfeats, split=0.80):\n",
      "    train_feats = []\n",
      "    test_feats = []\n",
      "    for label, feats in lfeats.iteritems():\n",
      "        random.shuffle(feats, random.random)\n",
      "        cutoff = int(len(feats) * split)\n",
      "        train_feats.extend([(feat, label) for feat in feats[:cutoff]])\n",
      "        test_feats.extend([(feat, label) for feat in feats[cutoff:]])\n",
      "    return train_feats, test_feats\n",
      "\n",
      "\n",
      "\n",
      "\n",
      "reader.categories()\n",
      "\n",
      "lfeats = label_feats_from_corpus(reader)\n",
      "lfeats.keys()\n",
      "train_feats, test_feats = split_label_feats(lfeats)\n",
      "len(train_feats)\n",
      "len(test_feats)\n",
      "\n",
      "from nltk.classify import NaiveBayesClassifier\n",
      "nb_classifier = NaiveBayesClassifier.train(train_feats)\n",
      "nb_classifier.labels()\n",
      "\n",
      "from nltk.classify.util import accuracy\n",
      "accuracy(nb_classifier, test_feats)\n"
     ],
     "language": "python",
     "metadata": {},
     "outputs": [
      {
       "output_type": "pyout",
       "prompt_number": 242,
       "text": [
        "0.4731182795698925"
       ]
      }
     ],
     "prompt_number": 242
    },
    {
     "cell_type": "code",
     "collapsed": false,
     "input": [
      "nb_classifier.show_most_informative_features(100)"
     ],
     "language": "python",
     "metadata": {},
     "outputs": [
      {
       "output_type": "stream",
       "stream": "stdout",
       "text": [
        "Most Informative Features\n",
        "  ('Above', 'Estimates') = True               UP : NONE   =     40.9 : 1.0"
       ]
      },
      {
       "output_type": "stream",
       "stream": "stdout",
       "text": [
        "\n",
        "         ('High', 'End') = True               UP : DOWN   =     33.7 : 1.0\n",
        "   ('Guidance', 'Above') = True               UP : NONE   =     20.6 : 1.0\n",
        "                   Above = True               UP : NONE   =     20.0 : 1.0\n",
        "            ('On', 'Q4') = True               UP : NONE   =     20.0 : 1.0\n",
        "       ('Inc', 'Issues') = True               UP : NONE   =     19.7 : 1.0\n",
        "        ('Issues', 'Q3') = True               UP : NONE   =     19.5 : 1.0\n",
        "      ('With', 'Issues') = True               UP : DOWN   =     19.0 : 1.0\n",
        "       ('Inc', 'Raises') = True               UP : NONE   =     18.4 : 1.0\n",
        "      ('Lowers', 'High') = True               UP : DOWN   =     17.7 : 1.0\n",
        "   ('Revenue', 'Issues') = True               UP : NONE   =     16.3 : 1.0\n",
        "                  Charge = True               UP : NONE   =     16.3 : 1.0\n",
        "      ('Corp', 'Issues') = True               UP : DOWN   =     15.7 : 1.0\n",
        "     ('Above', 'Raises') = True               UP : DOWN   =     15.7 : 1.0\n",
        "   ('Estimates', '2011') = True               UP : NONE   =     15.4 : 1.0\n",
        "    ('Guidance', '2011') = True               UP : NONE   =     15.3 : 1.0\n",
        "('Corporation', 'Raises') = True               UP : NONE   =     15.2 : 1.0\n",
        "                      Q1 = True               UP : NONE   =     15.1 : 1.0\n",
        "    ('With', 'Comments') = True               UP : DOWN   =     15.0 : 1.0\n",
        "   ('With', 'Reaffirms') = True               UP : DOWN   =     15.0 : 1.0\n",
        "     ('Revenue', 'Call') = True               UP : NONE   =     14.7 : 1.0\n",
        "                 Revises = True               UP : NONE   =     14.7 : 1.0\n",
        "      ('Guidance', 'At') = True               UP : NONE   =     14.7 : 1.0\n",
        "       ('Revises', 'FY') = True               UP : DOWN   =     14.3 : 1.0\n",
        "        ('Issues', 'Q2') = True               UP : DOWN   =     13.9 : 1.0\n",
        "        ('Issues', 'Q1') = True               UP : NONE   =     13.2 : 1.0\n",
        "('Announces', 'Million') = True               UP : NONE   =     13.1 : 1.0\n",
        "     ('EPS', 'Comments') = True               UP : DOWN   =     12.6 : 1.0\n",
        "           ('End', 'Of') = True               UP : NONE   =     12.4 : 1.0\n",
        "          ('FY', '2013') = True               UP : NONE   =     12.4 : 1.0\n",
        "      ('With', 'Raises') = True               UP : NONE   =     12.3 : 1.0\n",
        "     ('Below', 'Raises') = True               UP : DOWN   =     12.3 : 1.0\n",
        "   ('Below', 'Comments') = True               UP : NONE   =     12.0 : 1.0\n",
        " ('Stock', 'Repurchase') = True               UP : NONE   =     12.0 : 1.0\n",
        "                      H2 = True               UP : NONE   =     12.0 : 1.0\n",
        "            ('On', 'Q2') = True               UP : NONE   =     12.0 : 1.0\n",
        "          ('on', '2012') = True               UP : NONE   =     11.5 : 1.0\n",
        "                    York = True             DOWN : NONE   =     11.5 : 1.0\n",
        "       ('Notes', '2011') = True             DOWN : NONE   =     11.5 : 1.0\n",
        "         ('New', 'York') = True             DOWN : NONE   =     11.5 : 1.0\n",
        "                  Review = True               UP : NONE   =     11.5 : 1.0\n",
        "   ('Sales', 'Guidance') = True               UP : NONE   =     11.5 : 1.0\n",
        "        ('Call', '2011') = True               UP : NONE   =     11.4 : 1.0\n",
        "                 Narrows = True               UP : NONE   =     11.4 : 1.0\n",
        "   ('Revenue', 'Raises') = True               UP : DOWN   =     11.3 : 1.0\n",
        "                     End = True               UP : NONE   =     11.2 : 1.0\n",
        "          ('Low', 'End') = True               UP : NONE   =     11.1 : 1.0\n",
        "            ('On', 'Q1') = True               UP : DOWN   =     11.0 : 1.0\n",
        " ('Investigation', 'Of') = True               UP : NONE   =     10.9 : 1.0\n",
        "('Distribution', 'Agreement') = True             DOWN : NONE   =     10.9 : 1.0\n",
        "       ('Above', 'Call') = True               UP : NONE   =     10.9 : 1.0\n",
        "       ('To', 'Deliver') = True             DOWN : NONE   =     10.9 : 1.0\n",
        "  ('Below', 'Estimates') = True               UP : NONE   =     10.9 : 1.0\n",
        "                    High = True               UP : NONE   =     10.8 : 1.0\n",
        "       ('Narrows', 'FY') = True               UP : NONE   =     10.7 : 1.0\n",
        "                      Q3 = True               UP : NONE   =     10.5 : 1.0\n",
        "                   Mixed = True               UP : NONE   =     10.4 : 1.0\n",
        "     ('Below', 'Lowers') = True               UP : NONE   =     10.4 : 1.0\n",
        "    ('Guidance', '2010') = True               UP : NONE   =     10.4 : 1.0\n",
        "                  Update = True             DOWN : NONE   =     10.4 : 1.0\n",
        "      ('EPS', 'Outlook') = True               UP : NONE   =     10.4 : 1.0\n",
        "   ('Guidance', 'Below') = True               UP : NONE   =     10.3 : 1.0\n",
        "         ('Of', 'Prior') = True               UP : NONE   =     10.3 : 1.0\n",
        "                   Below = True               UP : NONE   =     10.1 : 1.0\n",
        "                 Partner = True             DOWN : NONE   =     10.1 : 1.0\n",
        "         ('and', '2012') = True             DOWN : NONE   =      9.9 : 1.0\n",
        "                      UK = True             DOWN : NONE   =      9.9 : 1.0\n",
        "                   Close = True               UP : NONE   =      9.9 : 1.0\n",
        "       ('Trading', 'on') = True             DOWN : NONE   =      9.9 : 1.0\n",
        "        ('With', 'Call') = True               UP : DOWN   =      9.7 : 1.0\n",
        "      ('Prior', 'Range') = True               UP : DOWN   =      9.7 : 1.0\n",
        "       ('EPS', 'Issues') = True               UP : NONE   =      9.5 : 1.0\n",
        "                 Outlook = True               UP : NONE   =      9.5 : 1.0\n",
        "          ('In', '2012') = True             DOWN : NONE   =      9.3 : 1.0\n",
        "                   Prior = True               UP : NONE   =      9.3 : 1.0\n",
        " ('Revenue', 'Guidance') = True               UP : NONE   =      9.2 : 1.0\n",
        "         ('Prior', 'FY') = True               UP : NONE   =      9.2 : 1.0\n",
        "     ('Below', 'Issues') = True               UP : DOWN   =      9.0 : 1.0\n",
        "            ('To', 'Be') = True             DOWN : NONE   =      8.8 : 1.0\n",
        "                Coverage = True             DOWN : NONE   =      8.8 : 1.0\n",
        "           ('on', 'OTC') = True             DOWN : NONE   =      8.8 : 1.0\n",
        "               Initiates = True             DOWN : NONE   =      8.8 : 1.0\n",
        "            ('On', 'H2') = True               UP : NONE   =      8.8 : 1.0\n",
        "   ('Starts', 'Trading') = True             DOWN : NONE   =      8.8 : 1.0\n",
        "                     OTC = True             DOWN : NONE   =      8.8 : 1.0\n",
        "        ('of', 'Senior') = True             DOWN : NONE   =      8.8 : 1.0\n",
        "     ('Agreement', 'to') = True             DOWN : NONE   =      8.8 : 1.0\n",
        "   ('Revenue', 'Lowers') = True               UP : DOWN   =      8.6 : 1.0\n",
        "                      Q2 = True               UP : NONE   =      8.6 : 1.0\n",
        "       ('Below', 'Call') = True               UP : NONE   =      8.5 : 1.0\n",
        "    ('Zacks', 'Analyst') = True             DOWN : NONE   =      8.5 : 1.0\n",
        "        ('The', 'Zacks') = True             DOWN : NONE   =      8.5 : 1.0\n",
        "       ('Same', 'Store') = True               UP : DOWN   =      8.3 : 1.0\n",
        "                    Same = True               UP : DOWN   =      8.3 : 1.0\n",
        "('Corporation', 'Lowers') = True               UP : DOWN   =      8.3 : 1.0\n",
        "        ('Blog', '2012') = True             DOWN : NONE   =      8.3 : 1.0\n",
        "                Complete = True               UP : NONE   =      8.3 : 1.0\n",
        "      ('Business', 'To') = True               UP : NONE   =      8.3 : 1.0\n",
        "                     RBC = True               UP : NONE   =      8.3 : 1.0\n",
        "      ('New', 'Billion') = True               UP : NONE   =      8.3 : 1.0\n"
       ]
      }
     ],
     "prompt_number": 243
    },
    {
     "cell_type": "code",
     "collapsed": false,
     "input": [
      "def only_alphanum(s):\n",
      "    #s = unicode(s, \"utf-8\")\n",
      "    return ' '.join(c for c in s.split() if c.isalnum())\n",
      "def only_alpha(s):\n",
      "    return ' '.join(c for c in s.split() if c.isalpha())\n",
      "def removeNonAscii(s): return \"\".join(i for i in s if ord(i)<128)\n",
      "from lxml import etree\n",
      "import datetime\n",
      "from dateutil.parser import parse\n",
      "path = \"http://www.google.com/finance/company_news?q=USB&output=rss&num=500\"\n",
      "root = etree.parse(path)\n",
      "myRoot = root.getroot()\n",
      "news={}\n",
      "for element in myRoot.iter(\"item\"):\n",
      "    for item in element.iter(\"pubDate\"):\n",
      "        pubDate = parse(item.text)\n",
      "    for item in element.iter(\"title\"):\n",
      "        title = item.text\n",
      "    news[pubDate.date()]=only_alphanum(removeNonAscii(title))"
     ],
     "language": "python",
     "metadata": {},
     "outputs": [],
     "prompt_number": 69
    },
    {
     "cell_type": "code",
     "collapsed": false,
     "input": [
      "nb_classifier.classify(bag_of_words([\"plunges\", \"dividend\", \"lowers\", \"guidence\"]))"
     ],
     "language": "python",
     "metadata": {},
     "outputs": [
      {
       "output_type": "pyout",
       "prompt_number": 101,
       "text": [
        "'NONE'"
       ]
      }
     ],
     "prompt_number": 101
    },
    {
     "cell_type": "code",
     "collapsed": false,
     "input": [
      "\n",
      "import pandas as pd\n",
      "import numpy as np\n",
      "import matplotlib.pyplot as plt\n",
      "\n",
      "#import zipline as zp\n",
      "from zipline.algorithm import TradingAlgorithm\n",
      "from zipline.transforms import MovingAverage, batch_transform\n",
      "from zipline.utils.factory import load_from_yahoo\n"
     ],
     "language": "python",
     "metadata": {},
     "outputs": [],
     "prompt_number": 2
    },
    {
     "cell_type": "code",
     "collapsed": false,
     "input": [
      "mystart = datetime.date(2010, 1, 1)\n",
      "myend = datetime.date(2012, 10, 1)\n",
      "aapl = load_from_yahoo(stocks=['K'], start=mystart, end=myend)"
     ],
     "language": "python",
     "metadata": {},
     "outputs": [
      {
       "output_type": "stream",
       "stream": "stdout",
       "text": [
        "K\n",
        "SPX"
       ]
      },
      {
       "output_type": "stream",
       "stream": "stdout",
       "text": [
        "\n"
       ]
      }
     ],
     "prompt_number": 183
    },
    {
     "cell_type": "code",
     "collapsed": false,
     "input": [
      "eix['^VIX'].plot()"
     ],
     "language": "python",
     "metadata": {},
     "outputs": [
      {
       "output_type": "pyout",
       "prompt_number": 142,
       "text": [
        "<matplotlib.axes.AxesSubplot at 0x114eb8f50>"
       ]
      },
      {
       "output_type": "display_data",
       "png": "[encoded data removed]"
      }
     ],
     "prompt_number": 142
    },
    {
     "cell_type": "code",
     "collapsed": false,
     "input": [
      "data = load_from_yahoo(stocks=['AAPL', 'PEP', 'KO'])"
     ],
     "language": "python",
     "metadata": {},
     "outputs": [
      {
       "output_type": "stream",
       "stream": "stdout",
       "text": [
        "AAPL\n",
        "PEP"
       ]
      },
      {
       "output_type": "stream",
       "stream": "stdout",
       "text": [
        "\n",
        "KO"
       ]
      },
      {
       "output_type": "stream",
       "stream": "stdout",
       "text": [
        "\n",
        "SPX"
       ]
      },
      {
       "output_type": "stream",
       "stream": "stdout",
       "text": [
        "\n"
       ]
      }
     ],
     "prompt_number": 4
    },
    {
     "cell_type": "code",
     "collapsed": false,
     "input": [
      "data.save('talk_px.dat')"
     ],
     "language": "python",
     "metadata": {},
     "outputs": [],
     "prompt_number": 5
    },
    {
     "cell_type": "code",
     "collapsed": false,
     "input": [
      "data=pd.load('talk_px.dat')"
     ],
     "language": "python",
     "metadata": {},
     "outputs": [],
     "prompt_number": 6
    },
    {
     "cell_type": "code",
     "collapsed": false,
     "input": [
      "data['AAPL'].plot()"
     ],
     "language": "python",
     "metadata": {},
     "outputs": [
      {
       "output_type": "pyout",
       "prompt_number": 7,
       "text": [
        "<matplotlib.axes.AxesSubplot at 0x111e44610>"
       ]
      },
      {
       "output_type": "display_data",
       "png": "[encoded data removed]"
      }
     ],
     "prompt_number": 7
    },
    {
     "cell_type": "code",
     "collapsed": false,
     "input": [],
     "language": "python",
     "metadata": {},
     "outputs": []
    },
    {
     "cell_type": "code",
     "collapsed": false,
     "input": [
      "class NLPFinanceNews(TradingAlgorithm):\n",
      "    def initialize(self, classifier, news, ticker):\n",
      "        self.invested = False\n",
      "        self.buy_orders = []\n",
      "        self.sell_orders = []\n",
      "        self.classifier = classifier\n",
      "        self.news = news\n",
      "        self.ticker = ticker\n",
      "    \n",
      "    def bag_of_words(self, words):\n",
      "        return dict([(word, True) for word in words if word[0].isalpha()])\n",
      "    \n",
      "    def handle_data(self, data):\n",
      "        print  self.news.get(datetime.date(data[self.ticker].datetime.year, data[self.ticker].datetime.month, data[self.ticker].datetime.day), 'None') + \" Classify: \" + self.classifier.classify(self.bag_of_words(self.news.get(datetime.date(data[self.ticker].datetime.year, data[self.ticker].datetime.month, data[self.ticker].datetime.day), 'None')))\n",
      "        if self.classifier.classify(self.bag_of_words(self.news.get(datetime.date(data[self.ticker].datetime.year, data[self.ticker].datetime.month, data[self.ticker].datetime.day), 'None'))) == 'UP' and not self.invested:\n",
      "            self.order(self.ticker, 200)\n",
      "            self.invested = True\n",
      "            self.buy_orders.append(data[self.ticker].datetime)\n",
      "            print \"{dt}: Buying 200\" +  self.ticker + \"shares.\".format(dt=data[self.ticker].datetime)\n",
      "        elif self.classifier.classify(self.bag_of_words(self.news.get(datetime.date(data[self.ticker].datetime.year, data[self.ticker].datetime.month, data[self.ticker].datetime.day), 'None'))) == 'DOWN': # and self.invested:\n",
      "            self.order(self.ticker, -200)\n",
      "            self.invested = False\n",
      "            self.sell_orders.append(data[self.ticker].datetime)\n",
      "            print \": Selling 200\" + self.ticker + \"shares.\"\n",
      " \n",
      "                                       "
     ],
     "language": "python",
     "metadata": {},
     "outputs": [],
     "prompt_number": 177
    },
    {
     "cell_type": "code",
     "collapsed": false,
     "input": [
      "nlp = NLPFinanceNews(nb_classifier, news, 'K')"
     ],
     "language": "python",
     "metadata": {},
     "outputs": [],
     "prompt_number": 231
    },
    {
     "cell_type": "code",
     "collapsed": false,
     "input": [
      "news[datetime.date(2010, 11, 10)]"
     ],
     "language": "python",
     "metadata": {},
     "outputs": [
      {
       "ename": "KeyError",
       "evalue": "datetime.date(2010, 11, 10)",
       "output_type": "pyerr",
       "traceback": [
        "\u001b[0;31m---------------------------------------------------------------------------\u001b[0m\n\u001b[0;31mKeyError\u001b[0m                                  Traceback (most recent call last)",
        "\u001b[0;32m<ipython-input-29-dc11e06a5fd4>\u001b[0m in \u001b[0;36m<module>\u001b[0;34m()\u001b[0m\n\u001b[0;32m----> 1\u001b[0;31m \u001b[0mnews\u001b[0m\u001b[0;34m[\u001b[0m\u001b[0mdatetime\u001b[0m\u001b[0;34m.\u001b[0m\u001b[0mdate\u001b[0m\u001b[0;34m(\u001b[0m\u001b[0;36m2010\u001b[0m\u001b[0;34m,\u001b[0m \u001b[0;36m11\u001b[0m\u001b[0;34m,\u001b[0m \u001b[0;36m10\u001b[0m\u001b[0;34m)\u001b[0m\u001b[0;34m]\u001b[0m\u001b[0;34m\u001b[0m\u001b[0m\n\u001b[0m",
        "\u001b[0;31mKeyError\u001b[0m: datetime.date(2010, 11, 10)"
       ]
      }
     ],
     "prompt_number": 29
    },
    {
     "cell_type": "code",
     "collapsed": false,
     "input": [
      "nb_classifier.classify(bag_of_words('None'))"
     ],
     "language": "python",
     "metadata": {},
     "outputs": [
      {
       "output_type": "pyout",
       "prompt_number": 31,
       "text": [
        "'NONE'"
       ]
      }
     ],
     "prompt_number": 31
    },
    {
     "cell_type": "code",
     "collapsed": false,
     "input": [
      "results = nlp.run?\n",
      "                  "
     ],
     "language": "python",
     "metadata": {},
     "outputs": [],
     "prompt_number": 17
    },
    {
     "cell_type": "code",
     "collapsed": false,
     "input": [
      "results = nlp.run(aapl)"
     ],
     "language": "python",
     "metadata": {},
     "outputs": [
      {
       "output_type": "stream",
       "stream": "stdout",
       "text": [
        "None Classify: UP\n",
        "{dt}: Buying 200Kshares.\n",
        "None Classify: UP\n",
        "None Classify: UP\n",
        "None Classify: UP\n",
        "None Classify: UP\n",
        "None Classify: UP\n",
        "None Classify: UP\n",
        "None Classify: UP\n",
        "None Classify: UP\n",
        "None Classify: UP\n",
        "None Classify: UP\n",
        "None Classify: UP\n",
        "None Classify: UP\n",
        "None Classify: UP\n",
        "None Classify: UP\n",
        "None Classify: UP\n",
        "None Classify: UP\n",
        "None Classify: UP\n",
        "None Classify: UP\n",
        "None Classify: UP\n",
        "None Classify: UP\n",
        "None Classify: UP\n",
        "None Classify: UP\n",
        "None Classify: UP\n",
        "None Classify: UP\n",
        "None Classify: UP\n",
        "None Classify: UP\n",
        "None Classify: UP\n",
        "None Classify: UP\n",
        "None Classify: UP\n",
        "None Classify: UP\n",
        "None Classify: UP\n",
        "None Classify: UP\n",
        "None Classify: UP\n",
        "None Classify: UP\n",
        "None Classify: UP\n",
        "None Classify: UP\n",
        "None Classify: UP\n",
        "None Classify: UP\n",
        "None Classify: UP\n",
        "None Classify: UP\n",
        "None Classify: UP\n",
        "None Classify: UP\n",
        "None Classify: UP\n",
        "None Classify: UP\n",
        "None Classify: UP"
       ]
      },
      {
       "output_type": "stream",
       "stream": "stdout",
       "text": [
        "\n",
        "None Classify: UP\n",
        "None Classify: UP\n",
        "None Classify: UP\n",
        "None Classify: UP\n",
        "None Classify: UP\n",
        "None Classify: UP\n",
        "None Classify: UP\n",
        "None Classify: UP\n",
        "None Classify: UP\n",
        "None Classify: UP\n",
        "None Classify: UP\n",
        "None Classify: UP\n",
        "None Classify: UP\n",
        "None Classify: UP\n",
        "None Classify: UP\n",
        "None Classify: UP\n",
        "None Classify: UP\n",
        "None Classify: UP\n",
        "None Classify: UP\n",
        "None Classify: UP\n",
        "None Classify: UP\n",
        "None Classify: UP\n",
        "None Classify: UP\n",
        "None Classify: UP\n",
        "None Classify: UP\n",
        "None Classify: UP\n",
        "None Classify: UP\n",
        "None Classify: UP\n",
        "None Classify: UP\n",
        "None Classify: UP\n",
        "None Classify: UP\n",
        "None Classify: UP\n",
        "None Classify: UP\n",
        "None Classify: UP\n",
        "None Classify: UP\n",
        "None Classify: UP\n",
        "None Classify: UP\n",
        "None Classify: UP\n",
        "None Classify: UP\n",
        "None Classify: UP"
       ]
      },
      {
       "output_type": "stream",
       "stream": "stdout",
       "text": [
        "\n",
        "None Classify: UP\n",
        "None Classify: UP\n",
        "None Classify: UP\n",
        "None Classify: UP\n",
        "None Classify: UP\n",
        "None Classify: UP\n",
        "None Classify: UP\n",
        "None Classify: UP\n",
        "None Classify: UP\n",
        "None Classify: UP\n",
        "None Classify: UP\n",
        "None Classify: UP\n",
        "None Classify: UP\n",
        "None Classify: UP\n",
        "None Classify: UP\n",
        "None Classify: UP\n",
        "None Classify: UP\n",
        "None Classify: UP\n",
        "None Classify: UP\n",
        "None Classify: UP\n",
        "None Classify: UP\n",
        "None Classify: UP\n",
        "None Classify: UP\n",
        "None Classify: UP\n",
        "None Classify: UP\n",
        "None Classify: UP\n",
        "None Classify: UP\n",
        "None Classify: UP\n",
        "None Classify: UP\n",
        "None Classify: UP\n",
        "None Classify: UP\n",
        "None Classify: UP\n",
        "None Classify: UP\n",
        "None Classify: UP\n",
        "None Classify: UP\n",
        "None Classify: UP\n",
        "None Classify: UP"
       ]
      },
      {
       "output_type": "stream",
       "stream": "stdout",
       "text": [
        "\n",
        "None Classify: UP\n",
        "None Classify: UP\n",
        "None Classify: UP\n",
        "None Classify: UP\n",
        "None Classify: UP\n",
        "None Classify: UP\n",
        "None Classify: UP\n",
        "None Classify: UP\n",
        "None Classify: UP\n",
        "None Classify: UP\n",
        "None Classify: UP\n",
        "None Classify: UP\n",
        "None Classify: UP\n",
        "None Classify: UP\n",
        "None Classify: UP\n",
        "None Classify: UP\n",
        "None Classify: UP\n",
        "None Classify: UP\n",
        "None Classify: UP\n",
        "None Classify: UP\n",
        "None Classify: UP\n",
        "None Classify: UP\n",
        "None Classify: UP\n",
        "None Classify: UP\n",
        "None Classify: UP\n",
        "None Classify: UP\n",
        "None Classify: UP\n",
        "None Classify: UP\n",
        "None Classify: UP\n",
        "None Classify: UP\n",
        "None Classify: UP\n",
        "None Classify: UP\n",
        "None Classify: UP\n",
        "None Classify: UP\n",
        "None Classify: UP"
       ]
      },
      {
       "output_type": "stream",
       "stream": "stdout",
       "text": [
        "\n",
        "None Classify: UP\n",
        "None Classify: UP\n",
        "None Classify: UP\n",
        "None Classify: UP\n",
        "None Classify: UP\n",
        "None Classify: UP\n",
        "None Classify: UP\n",
        "None Classify: UP\n",
        "None Classify: UP\n",
        "None Classify: UP\n",
        "None Classify: UP\n",
        "None Classify: UP\n",
        "None Classify: UP\n",
        "None Classify: UP\n",
        "None Classify: UP\n",
        "None Classify: UP\n",
        "None Classify: UP\n",
        "None Classify: UP\n",
        "None Classify: UP\n",
        "None Classify: UP\n",
        "None Classify: UP\n",
        "None Classify: UP\n",
        "None Classify: UP\n",
        "None Classify: UP\n",
        "None Classify: UP\n",
        "None Classify: UP\n",
        "None Classify: UP\n",
        "None Classify: UP\n",
        "None Classify: UP\n",
        "None Classify: UP\n",
        "None Classify: UP\n",
        "None Classify: UP\n",
        "None Classify: UP\n",
        "None Classify: UP\n",
        "None Classify: UP"
       ]
      },
      {
       "output_type": "stream",
       "stream": "stdout",
       "text": [
        "\n",
        "None Classify: UP\n",
        "None Classify: UP\n",
        "None Classify: UP\n",
        "None Classify: UP\n",
        "None Classify: UP\n",
        "None Classify: UP\n",
        "None Classify: UP\n",
        "None Classify: UP\n",
        "None Classify: UP\n",
        "None Classify: UP\n",
        "None Classify: UP\n",
        "None Classify: UP\n",
        "None Classify: UP\n",
        "None Classify: UP\n",
        "None Classify: UP\n",
        "None Classify: UP\n",
        "None Classify: UP\n",
        "None Classify: UP\n",
        "None Classify: UP\n",
        "None Classify: UP\n",
        "None Classify: UP\n",
        "None Classify: UP\n",
        "Elavon Introduces Enterprise Billing Solution Classify: DOWN\n",
        ": Selling 200Kshares.\n",
        "None Classify: UP\n",
        "{dt}: Buying 200Kshares.\n",
        "None Classify: UP\n",
        "None Classify: UP\n",
        "Bancorp To Buy Bank Of America Corporate Trust Classify: UP\n",
        "None Classify: UP\n",
        "None Classify: UP\n",
        "None Classify: UP\n",
        "None Classify: UP\n",
        "None Classify: UP\n",
        "None Classify: UP"
       ]
      },
      {
       "output_type": "stream",
       "stream": "stdout",
       "text": [
        "\n",
        "None Classify: UP\n",
        "None Classify: UP\n",
        "None Classify: UP\n",
        "Suntron Announces New Credit Facility By Bank Asset Based Finance To Support Growth Classify: UP\n",
        "None Classify: UP\n",
        "None Classify: UP\n",
        "None Classify: UP\n",
        "None Classify: UP\n",
        "None Classify: UP\n",
        "Citigroup Credicard And Elavon Announces Alliance To Establish Merchant Payments Solutions Company In Brazil Classify: DOWN\n",
        ": Selling 200Kshares.\n",
        "None Classify: UP\n",
        "{dt}: Buying 200Kshares.\n",
        "None Classify: UP\n",
        "None Classify: UP\n",
        "Bancorp Announces Quarterly Dividends Classify: DOWN\n",
        ": Selling 200Kshares.\n",
        "None Classify: UP\n",
        "{dt}: Buying 200Kshares.\n",
        "None Classify: UP\n",
        "None Classify: UP\n",
        "None Classify: UP\n",
        "None Classify: UP\n",
        "None Classify: UP\n",
        "None Classify: UP\n",
        "None Classify: UP\n",
        "None Classify: UP\n",
        "None Classify: UP\n",
        "None Classify: UP\n",
        "None Classify: UP\n",
        "None Classify: UP\n",
        "Bancorp Completes Acquisition Of Securitization Trust Administration Business From Bank of Classify: UP"
       ]
      },
      {
       "output_type": "stream",
       "stream": "stdout",
       "text": [
        "\n",
        "None Classify: UP\n",
        "None Classify: UP\n",
        "None Classify: UP\n",
        "None Classify: UP\n",
        "None Classify: UP\n",
        "None Classify: UP\n",
        "None Classify: UP\n",
        "None Classify: UP\n",
        "None Classify: UP\n",
        "None Classify: UP\n",
        "None Classify: UP\n",
        "None Classify: UP\n",
        "None Classify: UP\n",
        "None Classify: UP\n",
        "None Classify: UP\n",
        "None Classify: UP\n",
        "None Classify: UP\n",
        "None Classify: UP\n",
        "None Classify: UP\n",
        "None Classify: UP\n",
        "None Classify: UP\n",
        "None Classify: UP\n",
        "None Classify: UP\n",
        "None Classify: UP\n",
        "None Classify: UP\n",
        "None Classify: UP\n",
        "None Classify: UP\n",
        "None Classify: UP\n",
        "None Classify: UP\n",
        "None Classify: UP\n",
        "None Classify: UP\n",
        "None Classify: UP"
       ]
      },
      {
       "output_type": "stream",
       "stream": "stdout",
       "text": [
        "\n",
        "None Classify: UP\n",
        "None Classify: UP\n",
        "None Classify: UP\n",
        "None Classify: UP\n",
        "None Classify: UP\n",
        "None Classify: UP\n",
        "None Classify: UP\n",
        "None Classify: UP\n",
        "None Classify: UP\n",
        "None Classify: UP\n",
        "None Classify: UP\n",
        "None Classify: UP\n",
        "None Classify: UP\n",
        "None Classify: UP\n",
        "None Classify: UP\n",
        "None Classify: UP\n",
        "None Classify: UP\n",
        "None Classify: UP\n",
        "Bancorp Announces Increase In Quarterly Common Stock Dividend And Authorizes New 50 Million Share Repurchase Program Classify: DOWN\n",
        ": Selling 200Kshares.\n",
        "None Classify: UP\n",
        "{dt}: Buying 200Kshares.\n",
        "None Classify: UP\n",
        "None Classify: UP\n",
        "None Classify: UP"
       ]
      },
      {
       "output_type": "stream",
       "stream": "stdout",
       "text": [
        "\n",
        "None Classify: UP\n",
        "None Classify: UP\n",
        "None Classify: UP\n",
        "None Classify: UP\n",
        "None Classify: UP\n",
        "None Classify: UP\n",
        "None Classify: UP\n",
        "None Classify: UP\n",
        "None Classify: UP\n",
        "None Classify: UP\n",
        "None Classify: UP\n",
        "None Classify: UP\n",
        "None Classify: UP\n",
        "None Classify: UP\n",
        "None Classify: UP\n",
        "None Classify: UP\n",
        "None Classify: UP\n",
        "None Classify: UP\n",
        "None Classify: UP\n",
        "None Classify: UP\n",
        "None Classify: UP\n",
        "None Classify: UP\n",
        "None Classify: UP\n",
        "None Classify: UP\n",
        "None Classify: UP"
       ]
      },
      {
       "output_type": "stream",
       "stream": "stdout",
       "text": [
        "\n",
        "None Classify: UP\n",
        "None Classify: UP\n",
        "None Classify: UP\n",
        "None Classify: UP\n",
        "None Classify: UP\n",
        "None Classify: UP\n",
        "Morgan Stanley Settles 1 CDO Suit With Classify: DOWN\n",
        ": Selling 200Kshares.\n",
        "None Classify: UP\n",
        "{dt}: Buying 200Kshares.\n",
        "None Classify: UP\n",
        "None Classify: UP\n",
        "None Classify: UP\n",
        "None Classify: UP\n",
        "None Classify: UP\n",
        "None Classify: UP\n",
        "None Classify: UP\n",
        "None Classify: UP\n",
        "None Classify: UP\n",
        "None Classify: UP\n",
        "None Classify: UP\n",
        "None Classify: UP\n",
        "None Classify: UP\n",
        "None Classify: UP\n",
        "None Classify: UP\n",
        "None Classify: UP\n",
        "None Classify: UP\n",
        "None Classify: UP\n",
        "None Classify: UP\n",
        "None Classify: UP\n",
        "None Classify: UP\n",
        "None Classify: UP\n",
        "None Classify: UP"
       ]
      },
      {
       "output_type": "stream",
       "stream": "stdout",
       "text": [
        "\n",
        "None Classify: UP\n",
        "None Classify: UP\n",
        "None Classify: UP\n",
        "None Classify: UP\n",
        "Bancorp Announces Quarterly Dividends Classify: DOWN\n",
        ": Selling 200Kshares.\n",
        "None Classify: UP\n",
        "{dt}: Buying 200Kshares.\n",
        "None Classify: UP\n",
        "None Classify: UP\n",
        "None Classify: UP\n",
        "None Classify: UP\n",
        "None Classify: UP\n",
        "None Classify: UP\n",
        "None Classify: UP\n",
        "None Classify: UP\n",
        "None Classify: UP\n",
        "None Classify: UP\n",
        "None Classify: UP\n",
        "None Classify: UP\n",
        "None Classify: UP\n",
        "None Classify: UP\n",
        "None Classify: UP\n",
        "None Classify: UP\n",
        "None Classify: UP\n",
        "None Classify: UP\n",
        "None Classify: UP\n",
        "None Classify: UP\n",
        "None Classify: UP\n",
        "None Classify: UP\n",
        "None Classify: UP\n",
        "None Classify: UP"
       ]
      },
      {
       "output_type": "stream",
       "stream": "stdout",
       "text": [
        "\n",
        "None Classify: UP\n",
        "None Classify: UP\n",
        "None Classify: UP\n",
        "None Classify: UP\n",
        "None Classify: UP\n",
        "None Classify: UP\n",
        "None Classify: UP\n",
        "None Classify: UP\n",
        "None Classify: UP\n",
        "None Classify: UP\n",
        "None Classify: UP\n",
        "None Classify: UP\n",
        "None Classify: UP\n",
        "None Classify: UP\n",
        "None Classify: UP\n",
        "None Classify: UP\n",
        "None Classify: UP\n",
        "None Classify: UP\n",
        "None Classify: UP\n",
        "None Classify: UP\n",
        "None Classify: UP\n",
        "None Classify: UP\n",
        "None Classify: UP\n",
        "US As Sues Bank of America Corporation Over Classify: UP\n",
        "None Classify: UP\n",
        "None Classify: UP\n",
        "None Classify: UP\n",
        "None Classify: UP\n",
        "None Classify: UP\n",
        "None Classify: UP"
       ]
      },
      {
       "output_type": "stream",
       "stream": "stdout",
       "text": [
        "\n",
        "None Classify: UP\n",
        "None Classify: UP\n",
        "None Classify: UP\n",
        "None Classify: UP\n",
        "None Classify: UP\n",
        "None Classify: UP\n",
        "None Classify: UP\n",
        "Bancorp Announces Quarterly Dividends Classify: DOWN\n",
        ": Selling 200Kshares.\n",
        "None Classify: UP\n",
        "{dt}: Buying 200Kshares.\n",
        "None Classify: UP\n",
        "None Classify: UP\n",
        "None Classify: UP\n",
        "None Classify: UP\n",
        "None Classify: UP\n",
        "None Classify: UP\n",
        "None Classify: UP\n",
        "None Classify: UP\n",
        "None Classify: UP\n",
        "None Classify: UP\n",
        "None Classify: UP\n",
        "None Classify: UP\n",
        "None Classify: UP\n",
        "None Classify: UP\n",
        "None Classify: UP\n",
        "None Classify: UP\n",
        "None Classify: UP\n",
        "None Classify: UP\n",
        "None Classify: UP\n",
        "None Classify: UP"
       ]
      },
      {
       "output_type": "stream",
       "stream": "stdout",
       "text": [
        "\n",
        "None Classify: UP\n",
        "None Classify: UP\n",
        "None Classify: UP\n",
        "None Classify: UP\n",
        "None Classify: UP\n",
        "None Classify: UP\n",
        "None Classify: UP\n",
        "None Classify: UP\n",
        "None Classify: UP\n",
        "None Classify: UP\n",
        "None Classify: UP\n",
        "None Classify: UP\n",
        "None Classify: UP\n",
        "None Classify: UP\n",
        "None Classify: UP\n",
        "None Classify: UP\n",
        "None Classify: UP\n",
        "None Classify: UP\n",
        "None Classify: UP\n",
        "None Classify: UP\n",
        "None Classify: UP\n",
        "None Classify: UP\n",
        "None Classify: UP\n",
        "None Classify: UP\n",
        "None Classify: UP\n",
        "None Classify: UP\n",
        "None Classify: UP\n",
        "None Classify: UP\n",
        "None Classify: UP"
       ]
      },
      {
       "output_type": "stream",
       "stream": "stdout",
       "text": [
        "\n",
        "None Classify: UP\n",
        "None Classify: UP\n",
        "None Classify: UP\n",
        "None Classify: UP\n",
        "None Classify: UP\n",
        "None Classify: UP\n",
        "None Classify: UP\n",
        "None Classify: UP\n",
        "Bancorp Announces Quarterly Dividends Classify: DOWN\n",
        ": Selling 200Kshares.\n",
        "None Classify: UP\n",
        "{dt}: Buying 200Kshares.\n",
        "None Classify: UP\n",
        "None Classify: UP\n",
        "None Classify: UP\n",
        "None Classify: UP\n",
        "Elan Financial Services Acquires Million in Financial Institution Credit Card Portfolios Classify: UP\n",
        "None Classify: UP\n",
        "None Classify: UP\n",
        "None Classify: UP\n",
        "None Classify: UP\n",
        "None Classify: UP\n",
        "None Classify: UP\n",
        "None Classify: UP\n",
        "None Classify: UP\n",
        "None Classify: UP\n",
        "None Classify: UP\n",
        "None Classify: UP\n",
        "None Classify: UP"
       ]
      },
      {
       "output_type": "stream",
       "stream": "stdout",
       "text": [
        "\n",
        "None Classify: UP\n",
        "None Classify: UP\n",
        "None Classify: UP\n",
        "None Classify: UP\n",
        "None Classify: UP\n",
        "None Classify: UP\n",
        "None Classify: UP\n",
        "None Classify: UP\n",
        "None Classify: UP\n",
        "None Classify: UP\n",
        "None Classify: UP\n",
        "Bank National Association Acquires Banking Operations Of BankEast Corporation Of Tennessee Classify: UP\n",
        "US Bank National Association Acquires Indiana Corporate Trust Business From UMB Financial UMB Bank Classify: UP\n",
        "None Classify: UP\n",
        "US Bank National Association Enters Into Definitive Agreement To Purchase Institutional Trust Business Classify: DOWN\n",
        ": Selling 200Kshares.\n",
        "None Classify: UP\n",
        "{dt}: Buying 200Kshares.\n",
        "None Classify: UP\n",
        "None Classify: UP\n",
        "None Classify: UP\n",
        "None Classify: UP\n",
        "None Classify: UP\n",
        "None Classify: UP\n",
        "None Classify: UP\n",
        "None Classify: UP\n",
        "None Classify: UP\n",
        "None Classify: UP\n",
        "None Classify: UP"
       ]
      },
      {
       "output_type": "stream",
       "stream": "stdout",
       "text": [
        "\n",
        "None Classify: UP\n",
        "None Classify: UP\n",
        "None Classify: UP\n",
        "None Classify: UP\n",
        "None Classify: UP\n",
        "None Classify: UP\n",
        "None Classify: UP\n",
        "None Classify: UP\n",
        "None Classify: UP\n",
        "None Classify: UP\n",
        "None Classify: UP\n",
        "None Classify: UP\n",
        "None Classify: UP\n",
        "None Classify: UP\n",
        "None Classify: UP\n",
        "US Bancorp Announces Increase In Quarterly Common Stock Dividend And Authorizes New 100 Million Share Repurchase Program Classify: DOWN\n",
        ": Selling 200Kshares.\n",
        "None Classify: UP\n",
        "{dt}: Buying 200Kshares.\n",
        "None Classify: UP\n",
        "None Classify: UP\n",
        "None Classify: UP\n",
        "None Classify: UP\n",
        "None Classify: UP\n",
        "None Classify: UP\n",
        "None Classify: UP\n",
        "None Classify: UP\n",
        "None Classify: UP\n",
        "None Classify: UP"
       ]
      },
      {
       "output_type": "stream",
       "stream": "stdout",
       "text": [
        "\n",
        "None Classify: UP\n",
        "None Classify: UP\n",
        "None Classify: UP\n",
        "None Classify: UP\n",
        "None Classify: UP\n",
        "None Classify: UP\n",
        "None Classify: UP\n",
        "None Classify: UP\n",
        "None Classify: UP\n",
        "None Classify: UP\n",
        "Bank of America US Bancorp Sued For Role As WaMu Bond Classify: DOWN\n",
        ": Selling 200Kshares.\n",
        "None Classify: UP\n",
        "{dt}: Buying 200Kshares.\n",
        "None Classify: UP\n",
        "None Classify: UP\n",
        "None Classify: UP\n",
        "None Classify: UP\n",
        "None Classify: UP\n",
        "None Classify: UP\n",
        "None Classify: UP\n",
        "None Classify: UP\n",
        "None Classify: UP\n",
        "None Classify: UP\n",
        "None Classify: UP\n",
        "None Classify: UP\n",
        "None Classify: UP\n",
        "None Classify: UP\n",
        "None Classify: UP"
       ]
      },
      {
       "output_type": "stream",
       "stream": "stdout",
       "text": [
        "\n",
        "None Classify: UP\n",
        "None Classify: UP\n",
        "None Classify: UP\n",
        "None Classify: UP\n",
        "None Classify: UP\n",
        "None Classify: UP\n",
        "None Classify: UP\n",
        "None Classify: UP\n",
        "None Classify: UP\n",
        "None Classify: UP\n",
        "None Classify: UP\n",
        "None Classify: UP\n",
        "None Classify: UP\n",
        "None Classify: UP\n",
        "None Classify: UP\n",
        "None Classify: UP\n",
        "None Classify: UP\n",
        "None Classify: UP\n",
        "None Classify: UP\n",
        "None Classify: UP\n",
        "None Classify: UP\n",
        "None Classify: UP\n",
        "None Classify: UP\n",
        "None Classify: UP\n",
        "None Classify: UP\n",
        "None Classify: UP\n",
        "None Classify: UP"
       ]
      },
      {
       "output_type": "stream",
       "stream": "stdout",
       "text": [
        "\n",
        "None Classify: UP\n",
        "None Classify: UP\n",
        "US Bancorp Announces Quarterly Dividends Classify: DOWN\n",
        ": Selling 200Kshares.\n",
        "None Classify: UP\n",
        "{dt}: Buying 200Kshares.\n",
        "None Classify: UP\n",
        "None Classify: UP\n",
        "None Classify: UP\n",
        "None Classify: UP\n",
        "None Classify: UP\n",
        "None Classify: UP\n",
        "None Classify: UP\n",
        "None Classify: UP\n",
        "None Classify: UP\n",
        "None Classify: UP\n",
        "None Classify: UP\n",
        "None Classify: UP\n",
        "None Classify: UP\n",
        "None Classify: UP\n",
        "None Classify: UP\n",
        "None Classify: UP\n",
        "None Classify: UP\n",
        "None Classify: UP\n",
        "None Classify: UP\n",
        "None Classify: UP\n",
        "None Classify: UP"
       ]
      },
      {
       "output_type": "stream",
       "stream": "stdout",
       "text": [
        "\n",
        "None Classify: UP\n",
        "None Classify: UP\n",
        "None Classify: UP\n",
        "None Classify: UP\n",
        "None Classify: UP\n",
        "None Classify: UP\n",
        "None Classify: UP\n",
        "None Classify: UP\n",
        "None Classify: UP\n",
        "None Classify: UP\n",
        "None Classify: UP\n",
        "None Classify: UP\n",
        "None Classify: UP\n",
        "None Classify: UP\n",
        "None Classify: UP\n",
        "None Classify: UP\n",
        "None Classify: UP\n",
        "None Classify: UP\n",
        "None Classify: UP\n",
        "None Classify: UP\n",
        "None Classify: UP\n",
        "None Classify: UP\n",
        "None Classify: UP\n",
        "None Classify: UP"
       ]
      },
      {
       "output_type": "stream",
       "stream": "stdout",
       "text": [
        "\n",
        "None Classify: UP\n",
        "None Classify: UP\n",
        "None Classify: UP\n",
        "None Classify: UP\n",
        "None Classify: UP\n",
        "None Classify: UP\n",
        "None Classify: UP\n",
        "None Classify: UP\n",
        "None Classify: UP\n",
        "None Classify: UP\n",
        "None Classify: UP\n",
        "None Classify: UP\n",
        "None Classify: UP\n",
        "None Classify: UP\n",
        "None Classify: UP\n",
        "None Classify: UP\n",
        "Bancorp Announces Quarterly Dividends Classify: DOWN\n",
        ": Selling 200Kshares.\n",
        "None Classify: UP\n",
        "{dt}: Buying 200Kshares.\n",
        "None Classify: UP\n",
        "None Classify: UP\n",
        "None Classify: UP\n",
        "None Classify: UP\n",
        "None Classify: UP"
       ]
      },
      {
       "output_type": "stream",
       "stream": "stderr",
       "text": [
        "[2012-11-07 13:56] INFO: Performance: Simulated 692.0 trading days out of 693.\n"
       ]
      },
      {
       "output_type": "stream",
       "stream": "stderr",
       "text": [
        "[2012-11-07 13:56] INFO: Performance: first open: 2010-01-04 14:30:00+00:00\n"
       ]
      },
      {
       "output_type": "stream",
       "stream": "stdout",
       "text": [
        "\n",
        "None Classify: UP\n",
        "None Classify: UP\n",
        "None Classify: UP"
       ]
      },
      {
       "output_type": "stream",
       "stream": "stdout",
       "text": [
        "\n"
       ]
      }
     ],
     "prompt_number": 232
    },
    {
     "cell_type": "code",
     "collapsed": false,
     "input": [
      "results.portfolio_value.plot()"
     ],
     "language": "python",
     "metadata": {},
     "outputs": [
      {
       "output_type": "pyout",
       "prompt_number": 233,
       "text": [
        "<matplotlib.axes.AxesSubplot at 0x112032b10>"
       ]
      },
      {
       "output_type": "display_data",
       "png": "[encoded data removed]"
      }
     ],
     "prompt_number": 233
    },
    {
     "cell_type": "code",
     "collapsed": false,
     "input": [
      "class BuyApple(TradingAlgorithm):\n",
      "    def handle_data(self, data):\n",
      "        self.order('AAPL', 1)"
     ],
     "language": "python",
     "metadata": {},
     "outputs": [],
     "prompt_number": 25
    },
    {
     "cell_type": "code",
     "collapsed": false,
     "input": [
      "my_algo = BuyApple()\n"
     ],
     "language": "python",
     "metadata": {},
     "outputs": [],
     "prompt_number": 26
    },
    {
     "cell_type": "code",
     "collapsed": false,
     "input": [
      "results_buy_apple = my_algo.run(data)"
     ],
     "language": "python",
     "metadata": {},
     "outputs": [
      {
       "output_type": "stream",
       "stream": "stderr",
       "text": [
        "[2012-11-04 17:36] INFO: Performance: Simulated 2267.0 trading days out of 2268.\n"
       ]
      },
      {
       "output_type": "stream",
       "stream": "stderr",
       "text": [
        "[2012-11-04 17:36] INFO: Performance: first open: 1993-01-04 14:30:00+00:00\n"
       ]
      }
     ],
     "prompt_number": 27
    },
    {
     "cell_type": "code",
     "collapsed": false,
     "input": [
      "results_buy_apple\n"
     ],
     "language": "python",
     "metadata": {},
     "outputs": [
      {
       "output_type": "pyout",
       "prompt_number": 28,
       "text": [
        "<class 'pandas.core.frame.DataFrame'>\n",
        "DatetimeIndex: 2267 entries, 1993-01-04 21:00:00 to 2001-12-28 21:00:00\n",
        "Data columns:\n",
        "capital_used               2267  non-null values\n",
        "cumulative_capital_used    2267  non-null values\n",
        "ending_cash                2267  non-null values\n",
        "ending_value               2267  non-null values\n",
        "max_capital_used           2267  non-null values\n",
        "max_leverage               2267  non-null values\n",
        "period_close               2267  non-null values\n",
        "period_open                2267  non-null values\n",
        "pnl                        2267  non-null values\n",
        "portfolio_value            2267  non-null values\n",
        "positions                  2267  non-null values\n",
        "returns                    2267  non-null values\n",
        "starting_cash              2267  non-null values\n",
        "starting_value             2267  non-null values\n",
        "transactions               2267  non-null values\n",
        "dtypes: float64(11), object(4)"
       ]
      }
     ],
     "prompt_number": 28
    },
    {
     "cell_type": "code",
     "collapsed": false,
     "input": [
      "results_buy_apple.portfolio_value.plot()"
     ],
     "language": "python",
     "metadata": {},
     "outputs": [
      {
       "output_type": "pyout",
       "prompt_number": 29,
       "text": [
        "<matplotlib.axes.AxesSubplot at 0x1124729d0>"
       ]
      },
      {
       "output_type": "display_data",
       "png": "[encoded data removed]"
      }
     ],
     "prompt_number": 29
    },
    {
     "cell_type": "code",
     "collapsed": false,
     "input": [
      "datetime.date(2012, 10, 1)"
     ],
     "language": "python",
     "metadata": {},
     "outputs": [
      {
       "output_type": "pyout",
       "prompt_number": 14,
       "text": [
        "datetime.date(2012, 10, 1)"
       ]
      }
     ],
     "prompt_number": 14
    },
    {
     "cell_type": "code",
     "collapsed": false,
     "input": [
      "print datetime.date(2012, 10, 1)"
     ],
     "language": "python",
     "metadata": {},
     "outputs": [
      {
       "output_type": "stream",
       "stream": "stdout",
       "text": [
        "2012-10-01\n"
       ]
      }
     ],
     "prompt_number": 15
    },
    {
     "cell_type": "code",
     "collapsed": false,
     "input": [
      "results"
     ],
     "language": "python",
     "metadata": {},
     "outputs": [
      {
       "output_type": "pyout",
       "prompt_number": 244,
       "text": [
        "<class 'pandas.core.frame.DataFrame'>\n",
        "DatetimeIndex: 692 entries, 2010-01-04 21:00:00 to 2012-09-28 21:00:00\n",
        "Data columns:\n",
        "capital_used               692  non-null values\n",
        "cumulative_capital_used    692  non-null values\n",
        "ending_cash                692  non-null values\n",
        "ending_value               692  non-null values\n",
        "max_capital_used           692  non-null values\n",
        "max_leverage               692  non-null values\n",
        "period_close               692  non-null values\n",
        "period_open                692  non-null values\n",
        "pnl                        692  non-null values\n",
        "portfolio_value            692  non-null values\n",
        "positions                  692  non-null values\n",
        "returns                    692  non-null values\n",
        "starting_cash              692  non-null values\n",
        "starting_value             692  non-null values\n",
        "transactions               692  non-null values\n",
        "dtypes: float64(11), object(4)"
       ]
      }
     ],
     "prompt_number": 244
    },
    {
     "cell_type": "code",
     "collapsed": false,
     "input": [
      "results.pnl.plot()"
     ],
     "language": "python",
     "metadata": {},
     "outputs": [
      {
       "output_type": "pyout",
       "prompt_number": 247,
       "text": [
        "<matplotlib.axes.AxesSubplot at 0x1215d1210>"
       ]
      },
      {
       "output_type": "display_data",
       "png": "[encoded data removed]"
      }
     ],
     "prompt_number": 247
    },
    {
     "cell_type": "code",
     "collapsed": false,
     "input": [],
     "language": "python",
     "metadata": {},
     "outputs": []
    }
   ],
   "metadata": {}
  }
 ]
}