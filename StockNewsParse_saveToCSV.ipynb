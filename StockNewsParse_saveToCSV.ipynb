{
 "metadata": {
  "name": "StockNewsParse_saveToCSV"
 },
 "nbformat": 3,
 "nbformat_minor": 0,
 "worksheets": [
  {
   "cells": [
    {
     "cell_type": "code",
     "collapsed": false,
     "input": [
      "import pandas as pd\n",
      "from datetime import datetime\n",
      "from pandas.io.data import DataReader\n",
      "\n",
      "pd.set_printoptions(max_rows=2000)\n",
      "\n",
      "def stockNewsGetter(ticker):\n",
      "    import pandas as pd\n",
      "    from datetime import datetime\n",
      "    from pandas.io.data import DataReader\n",
      "    aapl = DataReader(ticker, \"yahoo\", datetime(2010, 1, 1), datetime(2012, 10, 30))\n",
      "    returns = aapl.pct_change()\n",
      "    \n",
      "    def f(x):\n",
      "        if x > 0.01:\n",
      "            return 1\n",
      "        elif x < -0.01:\n",
      "            return -1\n",
      "        else:\n",
      "            return 0\n",
      "    \n",
      "    frame = returns.applymap(f)\n",
      "    \n",
      "    frame['UP'] = frame['Adj Close'] == 1\n",
      "    frame['DOWN'] = frame['Adj Close'] == -1\n",
      "    frame['NONE'] = frame['Adj Close'] ==0\n",
      "    \n",
      "    def only_alphanum(s):\n",
      "        #s = unicode(s, \"utf-8\")\n",
      "        return ' '.join(c for c in s.split() if c.isalnum())\n",
      "    \n",
      "    from lxml import etree\n",
      "    import datetime\n",
      "    from dateutil.parser import parse\n",
      "    path = \"http://www.google.com/finance/company_news?q=NASDAQ:%s&output=rss&num=500\"% ticker\n",
      "    root = etree.parse(path)\n",
      "    myRoot = root.getroot()\n",
      "    news={}\n",
      "    for element in myRoot.iter(\"item\"):\n",
      "        for item in element.iter(\"pubDate\"):\n",
      "            pubDate = parse(item.text)\n",
      "        for item in element.iter(\"title\"):\n",
      "            title = item.text\n",
      "        news[pubDate.date()]=only_alphanum(title)\n",
      "    \n",
      "    newsframe = pd.Series(news)\n",
      "    frameWithNews = frame.join(pd.DataFrame(newsframe))\n",
      "    #newsUP = frameWithNews['UP'==True]\n",
      "    #newsDOWN = frameWithNews['DOWN'==True]\n",
      "    #newsNONE = frameWithNews['NONE' == True]\n",
      "    newsUP_frame = frameWithNews[frameWithNews['UP']==True]\n",
      "    newsDOWN_frame = frameWithNews[frameWithNews['DOWN']==True]\n",
      "    newsNONE_frame = frameWithNews[frameWithNews['NONE']==True]\n",
      "    \n",
      "    newsUP = newsUP_frame[0]\n",
      "    newsDOWN = newsDOWN_frame[0]\n",
      "    newsNONE = newsNONE_frame[0]\n",
      "    \n",
      "    import pandas.io as io\n",
      "    \n",
      "    if newsUP.dropna().count > 0:\n",
      "        newsUP.dropna().to_csv('%s_news_UP.csv'% ticker)\n",
      "    if newsDOWN.dropna().count > 0:\n",
      "        newsDOWN.dropna().to_csv('%s_news_DOWN.csv'% ticker)\n",
      "    if newsNONE.dropna().count >0:\n",
      "        newsNONE.dropna().to_csv('%s_news_NONE.csv' % ticker)\n",
      "\n",
      "filename = 'nasdaq_tech.txt'\n",
      "tickers = open(filename)\n",
      "tickerz = tickers.readlines()\n",
      "tickerzz = []\n",
      "for ticker in tickerz:\n",
      "    tickerzz.append(only_alphanum(ticker))\n",
      "print tickerzz\n",
      "for ticker in tickerzz:\n",
      "    stockNewsGetter(ticker)\n"
     ],
     "language": "python",
     "metadata": {},
     "outputs": [
      {
       "ename": "AssertionError",
       "evalue": "",
       "output_type": "pyerr",
       "traceback": [
        "\u001b[0;31m---------------------------------------------------------------------------\u001b[0m\n\u001b[0;31mAssertionError\u001b[0m                            Traceback (most recent call last)",
        "\u001b[0;32m<ipython-input-64-00cd9e7f1d53>\u001b[0m in \u001b[0;36m<module>\u001b[0;34m()\u001b[0m\n\u001b[1;32m     74\u001b[0m \u001b[0;32mprint\u001b[0m \u001b[0mtickerzz\u001b[0m\u001b[0;34m\u001b[0m\u001b[0m\n\u001b[1;32m     75\u001b[0m \u001b[0;32mfor\u001b[0m \u001b[0mticker\u001b[0m \u001b[0;32min\u001b[0m \u001b[0mtickerzz\u001b[0m\u001b[0;34m:\u001b[0m\u001b[0;34m\u001b[0m\u001b[0m\n\u001b[0;32m---> 76\u001b[0;31m     \u001b[0mstockNewsGetter\u001b[0m\u001b[0;34m(\u001b[0m\u001b[0mticker\u001b[0m\u001b[0;34m)\u001b[0m\u001b[0;34m\u001b[0m\u001b[0m\n\u001b[0m",
        "\u001b[0;32m<ipython-input-64-00cd9e7f1d53>\u001b[0m in \u001b[0;36mstockNewsGetter\u001b[0;34m(ticker)\u001b[0m\n\u001b[1;32m     62\u001b[0m         \u001b[0mnewsUP\u001b[0m\u001b[0;34m.\u001b[0m\u001b[0mdropna\u001b[0m\u001b[0;34m(\u001b[0m\u001b[0;34m)\u001b[0m\u001b[0;34m.\u001b[0m\u001b[0mto_csv\u001b[0m\u001b[0;34m(\u001b[0m\u001b[0;34m'%s_news_UP.csv'\u001b[0m\u001b[0;34m%\u001b[0m \u001b[0mticker\u001b[0m\u001b[0;34m)\u001b[0m\u001b[0;34m\u001b[0m\u001b[0m\n\u001b[1;32m     63\u001b[0m     \u001b[0;32mif\u001b[0m \u001b[0mnewsDOWN\u001b[0m\u001b[0;34m.\u001b[0m\u001b[0mdropna\u001b[0m\u001b[0;34m(\u001b[0m\u001b[0;34m)\u001b[0m\u001b[0;34m.\u001b[0m\u001b[0mcount\u001b[0m \u001b[0;34m>\u001b[0m \u001b[0;36m0\u001b[0m\u001b[0;34m:\u001b[0m\u001b[0;34m\u001b[0m\u001b[0m\n\u001b[0;32m---> 64\u001b[0;31m         \u001b[0mnewsDOWN\u001b[0m\u001b[0;34m.\u001b[0m\u001b[0mdropna\u001b[0m\u001b[0;34m(\u001b[0m\u001b[0;34m)\u001b[0m\u001b[0;34m.\u001b[0m\u001b[0mto_csv\u001b[0m\u001b[0;34m(\u001b[0m\u001b[0;34m'%s_news_DOWN.csv'\u001b[0m\u001b[0;34m%\u001b[0m \u001b[0mticker\u001b[0m\u001b[0;34m)\u001b[0m\u001b[0;34m\u001b[0m\u001b[0m\n\u001b[0m\u001b[1;32m     65\u001b[0m     \u001b[0;32mif\u001b[0m \u001b[0mnewsNONE\u001b[0m\u001b[0;34m.\u001b[0m\u001b[0mdropna\u001b[0m\u001b[0;34m(\u001b[0m\u001b[0;34m)\u001b[0m\u001b[0;34m.\u001b[0m\u001b[0mcount\u001b[0m \u001b[0;34m>\u001b[0m\u001b[0;36m0\u001b[0m\u001b[0;34m:\u001b[0m\u001b[0;34m\u001b[0m\u001b[0m\n\u001b[1;32m     66\u001b[0m         \u001b[0mnewsNONE\u001b[0m\u001b[0;34m.\u001b[0m\u001b[0mdropna\u001b[0m\u001b[0;34m(\u001b[0m\u001b[0;34m)\u001b[0m\u001b[0;34m.\u001b[0m\u001b[0mto_csv\u001b[0m\u001b[0;34m(\u001b[0m\u001b[0;34m'%s_news_NONE.csv'\u001b[0m \u001b[0;34m%\u001b[0m \u001b[0mticker\u001b[0m\u001b[0;34m)\u001b[0m\u001b[0;34m\u001b[0m\u001b[0m\n",
        "\u001b[0;32m/Library/Python/2.7/site-packages/pandas-0.8.1-py2.7-macosx-10.8-intel.egg/pandas/core/series.pyc\u001b[0m in \u001b[0;36mto_csv\u001b[0;34m(self, path, index, sep, na_rep, header, index_label, mode, nanRep, encoding)\u001b[0m\n\u001b[1;32m   2359\u001b[0m         \"\"\"\n\u001b[1;32m   2360\u001b[0m         \u001b[0;32mfrom\u001b[0m \u001b[0mpandas\u001b[0m\u001b[0;34m.\u001b[0m\u001b[0mcore\u001b[0m\u001b[0;34m.\u001b[0m\u001b[0mframe\u001b[0m \u001b[0;32mimport\u001b[0m \u001b[0mDataFrame\u001b[0m\u001b[0;34m\u001b[0m\u001b[0m\n\u001b[0;32m-> 2361\u001b[0;31m         \u001b[0mdf\u001b[0m \u001b[0;34m=\u001b[0m \u001b[0mDataFrame\u001b[0m\u001b[0;34m(\u001b[0m\u001b[0mself\u001b[0m\u001b[0;34m)\u001b[0m\u001b[0;34m\u001b[0m\u001b[0m\n\u001b[0m\u001b[1;32m   2362\u001b[0m         df.to_csv(path, index=index, sep=sep, na_rep=na_rep, header=header,\n\u001b[1;32m   2363\u001b[0m                   \u001b[0mindex_label\u001b[0m\u001b[0;34m=\u001b[0m\u001b[0mindex_label\u001b[0m\u001b[0;34m,\u001b[0m \u001b[0mmode\u001b[0m\u001b[0;34m=\u001b[0m\u001b[0mmode\u001b[0m\u001b[0;34m,\u001b[0m \u001b[0mnanRep\u001b[0m\u001b[0;34m=\u001b[0m\u001b[0mnanRep\u001b[0m\u001b[0;34m,\u001b[0m\u001b[0;34m\u001b[0m\u001b[0m\n",
        "\u001b[0;32m/Library/Python/2.7/site-packages/pandas-0.8.1-py2.7-macosx-10.8-intel.egg/pandas/core/frame.pyc\u001b[0m in \u001b[0;36m__init__\u001b[0;34m(self, data, index, columns, dtype, copy)\u001b[0m\n\u001b[1;32m    390\u001b[0m             \u001b[0;32melse\u001b[0m\u001b[0;34m:\u001b[0m\u001b[0;34m\u001b[0m\u001b[0m\n\u001b[1;32m    391\u001b[0m                 mgr = self._init_ndarray(data, index, columns, dtype=dtype,\n\u001b[0;32m--> 392\u001b[0;31m                                          copy=copy)\n\u001b[0m\u001b[1;32m    393\u001b[0m         \u001b[0;32melif\u001b[0m \u001b[0misinstance\u001b[0m\u001b[0;34m(\u001b[0m\u001b[0mdata\u001b[0m\u001b[0;34m,\u001b[0m \u001b[0mlist\u001b[0m\u001b[0;34m)\u001b[0m\u001b[0;34m:\u001b[0m\u001b[0;34m\u001b[0m\u001b[0m\n\u001b[1;32m    394\u001b[0m             \u001b[0;32mif\u001b[0m \u001b[0mlen\u001b[0m\u001b[0;34m(\u001b[0m\u001b[0mdata\u001b[0m\u001b[0;34m)\u001b[0m \u001b[0;34m>\u001b[0m \u001b[0;36m0\u001b[0m\u001b[0;34m:\u001b[0m\u001b[0;34m\u001b[0m\u001b[0m\n",
        "\u001b[0;32m/Library/Python/2.7/site-packages/pandas-0.8.1-py2.7-macosx-10.8-intel.egg/pandas/core/frame.pyc\u001b[0m in \u001b[0;36m_init_ndarray\u001b[0;34m(self, values, index, columns, dtype, copy)\u001b[0m\n\u001b[1;32m    502\u001b[0m             \u001b[0mcolumns\u001b[0m \u001b[0;34m=\u001b[0m \u001b[0m_ensure_index\u001b[0m\u001b[0;34m(\u001b[0m\u001b[0mcolumns\u001b[0m\u001b[0;34m)\u001b[0m\u001b[0;34m\u001b[0m\u001b[0m\n\u001b[1;32m    503\u001b[0m \u001b[0;34m\u001b[0m\u001b[0m\n\u001b[0;32m--> 504\u001b[0;31m         \u001b[0mblock\u001b[0m \u001b[0;34m=\u001b[0m \u001b[0mmake_block\u001b[0m\u001b[0;34m(\u001b[0m\u001b[0mvalues\u001b[0m\u001b[0;34m.\u001b[0m\u001b[0mT\u001b[0m\u001b[0;34m,\u001b[0m \u001b[0mcolumns\u001b[0m\u001b[0;34m,\u001b[0m \u001b[0mcolumns\u001b[0m\u001b[0;34m)\u001b[0m\u001b[0;34m\u001b[0m\u001b[0m\n\u001b[0m\u001b[1;32m    505\u001b[0m         \u001b[0;32mreturn\u001b[0m \u001b[0mBlockManager\u001b[0m\u001b[0;34m(\u001b[0m\u001b[0;34m[\u001b[0m\u001b[0mblock\u001b[0m\u001b[0;34m]\u001b[0m\u001b[0;34m,\u001b[0m \u001b[0;34m[\u001b[0m\u001b[0mcolumns\u001b[0m\u001b[0;34m,\u001b[0m \u001b[0mindex\u001b[0m\u001b[0;34m]\u001b[0m\u001b[0;34m)\u001b[0m\u001b[0;34m\u001b[0m\u001b[0m\n\u001b[1;32m    506\u001b[0m \u001b[0;34m\u001b[0m\u001b[0m\n",
        "\u001b[0;32m/Library/Python/2.7/site-packages/pandas-0.8.1-py2.7-macosx-10.8-intel.egg/pandas/core/internals.pyc\u001b[0m in \u001b[0;36mmake_block\u001b[0;34m(values, items, ref_items, do_integrity_check)\u001b[0m\n\u001b[1;32m    459\u001b[0m \u001b[0;34m\u001b[0m\u001b[0m\n\u001b[1;32m    460\u001b[0m     return klass(values, items, ref_items, ndim=values.ndim,\n\u001b[0;32m--> 461\u001b[0;31m                  do_integrity_check=do_integrity_check)\n\u001b[0m\u001b[1;32m    462\u001b[0m \u001b[0;34m\u001b[0m\u001b[0m\n\u001b[1;32m    463\u001b[0m \u001b[0;31m# TODO: flexible with index=None and/or items=None\u001b[0m\u001b[0;34m\u001b[0m\u001b[0;34m\u001b[0m\u001b[0m\n",
        "\u001b[0;32m/Library/Python/2.7/site-packages/pandas-0.8.1-py2.7-macosx-10.8-intel.egg/pandas/core/internals.pyc\u001b[0m in \u001b[0;36m__init__\u001b[0;34m(self, values, items, ref_items, ndim, do_integrity_check)\u001b[0m\n\u001b[1;32m     24\u001b[0m \u001b[0;34m\u001b[0m\u001b[0m\n\u001b[1;32m     25\u001b[0m         \u001b[0;32massert\u001b[0m\u001b[0;34m(\u001b[0m\u001b[0mvalues\u001b[0m\u001b[0;34m.\u001b[0m\u001b[0mndim\u001b[0m \u001b[0;34m==\u001b[0m \u001b[0mndim\u001b[0m\u001b[0;34m)\u001b[0m\u001b[0;34m\u001b[0m\u001b[0m\n\u001b[0;32m---> 26\u001b[0;31m         \u001b[0;32massert\u001b[0m\u001b[0;34m(\u001b[0m\u001b[0mlen\u001b[0m\u001b[0;34m(\u001b[0m\u001b[0mitems\u001b[0m\u001b[0;34m)\u001b[0m \u001b[0;34m==\u001b[0m \u001b[0mlen\u001b[0m\u001b[0;34m(\u001b[0m\u001b[0mvalues\u001b[0m\u001b[0;34m)\u001b[0m\u001b[0;34m)\u001b[0m\u001b[0;34m\u001b[0m\u001b[0m\n\u001b[0m\u001b[1;32m     27\u001b[0m \u001b[0;34m\u001b[0m\u001b[0m\n\u001b[1;32m     28\u001b[0m         \u001b[0mself\u001b[0m\u001b[0;34m.\u001b[0m\u001b[0mvalues\u001b[0m \u001b[0;34m=\u001b[0m \u001b[0mvalues\u001b[0m\u001b[0;34m\u001b[0m\u001b[0m\n",
        "\u001b[0;31mAssertionError\u001b[0m: "
       ]
      },
      {
       "output_type": "stream",
       "stream": "stdout",
       "text": [
        "['VNET', 'JOBS', 'ACCL', 'ACIW', 'APKT', 'ACTS', 'ATVI', 'BIRT', 'ACXM', 'ADEP', 'ADBE', 'ADVS', 'AMCN', 'AIXG', 'AFOP', 'ALLT', 'MDRX', 'AOSL', 'ALTR', 'AMBA', 'AMSWA', 'AMKR', 'ASYS', 'ANAD', 'ADI', 'ANLY', 'ANEN', 'ACOM', 'ANSS', 'ATNY', 'AAPL', 'AMAT', 'AMCC', 'ARMH', 'ARRS', 'ARUN', 'ASTI', 'ASIA', 'ASMI', 'ASML', 'AZPN', 'ATEA', 'ALOT', 'ASUR', 'ATML', 'ATTU', 'ADNC', 'ADAT', 'ABTL', 'ADSK', 'ADP', 'AMAP', 'AVGO', 'AVNW', 'AWRE', 'ACLS', 'AXTI', 'BIDU', 'BBSI', 'BV', 'BCDS', 'BBOX', 'BLKB', 'BCOR', 'BPHX', 'BMC', 'EPAY', 'BLIN', 'BCOV', 'BRCM', 'BSFT', 'BVSN', 'BRCD', 'BRKS', 'BTUI', 'CA', 'CCMP', 'CDNS', 'CAMP', 'CALD', 'CSIQ', 'CARB', 'CAVM', 'CERN', 'CEVA', 'CYOU', 'CHRM', 'CHKP', 'CNIT', 'CSUN', 'CTFO', 'CCIH', 'CNET', 'IMOS', 'CIMT', 'CRUS', 'CSCO', 'CTXS', 'CLRO', 'CKSW', 'COBR', 'CCOI', 'CTSH', 'CLRX', 'CVLT', 'CPSI', 'CTGX', 'CPWR', 'CMTL', 'CNQR', 'CCUR', 'CTCT', 'CSOD', 'CRAY', 'CREE', 'CCRN', 'CSGS', 'CSPI', 'CVV', 'CYMI', 'CY', 'DAEG', 'DTLK', 'DRAM', 'DWCH', 'DSTI', 'TRAK', 'DELL', 'DLGC', 'DGII', 'DGLY', 'DRIV', 'DIOD', 'HILL', 'DSPG', 'DRCO', 'DVOX', 'EOPN', 'ELNK', 'EBIX', 'ELON', 'SATS', 'EDGW', 'EFUT', 'EGAN', 'ELRC', 'EA', 'EFII', 'ELOQ', 'ELTK', 'EMKR', 'ERII', 'ENOC', 'ENPH', 'ENTR', 'ENVI', 'EPIQ', 'PLUS', 'EPOC', 'ERIC', 'EVOL', 'EXA', 'EXAR', 'EXTR', 'EZCH', 'FFIV', 'FB', 'FALC', 'FNSR', 'FSLR', 'FISV', 'FLEX', 'FMCN', 'FORM', 'FORTY', 'FTNT', 'FFN', 'GIGM', 'GILT', 'GCOM', 'GLUU', 'GOOG', 'GRPN', 'GSIT', 'GTAT', 'GUID', 'HSOL', 'HLIT', 'HAUP', 'HSTM', 'HSII', 'HIMX', 'HSFT', 'HITT', 'AWAY', 'HSON', 'INVE', 'IGTE', 'IGOI', 'IMMR', 'INFA', 'INFY', 'INOD', 'ISSC', 'IDTI', 'ISSI', 'INTC', 'ININ', 'IMI', 'INAP', 'IIJI', 'INPH', 'INTX', 'ISIL', 'IVAC', 'INTU', 'IPAS', 'IPGP', 'IXYS', 'JCOM', 'JASO', 'JKHY', 'JDAS', 'JDSU', 'DATE', 'JIVE', 'KELYA', 'KELYB', 'KTEC', 'KTCC', 'KFRC', 'KONE', 'KONG', 'KOPN', 'KLIC', 'KVHI', 'LRCX', 'LAMR', 'LTRX', 'LSCC', 'LPTH', 'LECO', 'LLTC', 'LTON', 'LIVE', 'LPSN', 'LOGI', 'LOGM', 'LOOK', 'LORL', 'LUFK', 'MTSI', 'MGIC', 'MNGA', 'COOL', 'MMUS', 'MKTAY', 'MANH', 'MNTX', 'MRVL', 'MTSN', 'MXIM', 'MGRC', 'MDCA', 'MDAS', 'MDSO', 'MEDW', 'MLNX', 'MEMS', 'MENT', 'MRGE', 'MERU', 'MCRL', 'MCHP', 'MU', 'MCRS', 'MSCC', 'MSFT', 'MSTR', 'MNDO', 'MSPD', 'MIPS', 'MIND', 'MITK', 'MITL', 'MPWR', 'TYPE', 'MOSY', 'MFLX', 'NATI', 'NAVR', 'NCIT', 'NETE', 'NTAP', 'NLST', 'NTCT', 'NTWK', 'NICE', 'NINE', 'NUAN', 'NVEC', 'NVDA', 'NXPI', 'OIIM', 'OCLR', 'OCZ', 'OPAY', 'OMCL', 'OVTI', 'ONNN', 'OTIV', 'OTEX', 'OPNT', 'ORCL', 'OSIS', 'OVRL', 'PFIN', 'PSOF', 'PMTC', 'PRKR', 'PCTI', 'PDFS', 'PRLS', 'PEGA', 'PSMI', 'PRFT', 'PTIX', 'PSEM', 'PERI', 'PVSW', 'ANTP', 'PLAB', 'PXLW', 'PLXS', 'PLXT', 'PMCS', 'PNTR', 'POWI', 'PWAV', 'PKT', 'PRGS', 'PFPT', 'QADA', 'QADB', 'QLIK', 'QLGC', 'QCOM', 'QSII', 'QBAK', 'QLYS', 'QUIK', 'RDCM', 'RSYS', 'RMBS', 'RMTR', 'RCMT', 'RDA', 'RLOC', 'RNWK', 'RP', 'RCII', 'MKTG', 'RTLX', 'RFMD', 'RIMG', 'RVBD', 'RBCN', 'SABA', 'SNDK', 'SANM', 'SPNS', 'SAPE', 'SCSC', 'SGMS', 'SQI', 'SEAC', 'STX', 'SLTC', 'LEDS', 'SMTC', 'SGOC', 'SWIR', 'SIFY', 'SIGM', 'SGMA', 'SILC', 'SGI', 'SLAB', 'SIMO', 'SPIL', 'SLP', 'SINA', 'MOBI', 'SWKS', 'SMT', 'SMSI', 'SMTX', 'SOHU', 'SOFO', 'SONS', 'FIRE', 'SPIR', 'SPLK', 'SPRD', 'SPSC', 'SSNC', 'STEC', 'SSYS', 'STRM', 'SPWR', 'SMCI', 'SUPX', 'SPRT', 'SYKE', 'SYMC', 'SYNC', 'SYNA', 'SNCR', 'SNPS', 'SYNT', 'TTWO', 'TNGO', 'TECD', 'TCCO', 'TSYS', 'TTEC', 'WRLS', 'TSRA', 'TXN', 'DSGX', 'KEYW', 'MIDD', 'ULTI', 'THQI', 'TIBX', 'TIGR', 'TISA', 'TSEM', 'TACT', 'TXCC', 'TZOO', 'TRIP', 'TQNT', 'TBOW', 'TSRI', 'TTMI', 'TWIN', 'UBNT', 'UCTT', 'UTEK', 'UNTD', 'UPIP', 'VCLK', 'VDSI', 'VECO', 'VELT', 'VRNT', 'VRSN', 'VRSK', 'VSNT', 'VSAT', 'VIAS', 'VIMC', 'VRTU', 'VISN', 'VTSS', 'VOCS', 'VLTR', 'WAVX', 'WSTG', 'WWWW', 'WDC', 'RNIN', 'WPPGY', 'WSCI', 'XLNX', 'XRSC', 'XRTX', 'YHOO', 'YNDX', 'YTEC', 'ZBRA', 'ZIXI', 'ZNGA']\n"
       ]
      }
     ],
     "prompt_number": 64
    },
    {
     "cell_type": "code",
     "collapsed": false,
     "input": [
      "frameWithNews_complete = frameWithNews.dropna()"
     ],
     "language": "python",
     "metadata": {},
     "outputs": [],
     "prompt_number": 16
    },
    {
     "cell_type": "code",
     "collapsed": false,
     "input": [
      "newsUP_frame = frameWithNews_complete[frameWithNews_complete['UP']==True]"
     ],
     "language": "python",
     "metadata": {},
     "outputs": [],
     "prompt_number": 22
    },
    {
     "cell_type": "code",
     "collapsed": false,
     "input": [
      "newsUP = newsUP_frame[0]"
     ],
     "language": "python",
     "metadata": {},
     "outputs": [],
     "prompt_number": 23
    },
    {
     "cell_type": "code",
     "collapsed": false,
     "input": [
      "newsUP.dropna()"
     ],
     "language": "python",
     "metadata": {},
     "outputs": [
      {
       "output_type": "pyout",
       "prompt_number": 42,
       "text": [
        "Date\n",
        "2010-11-02    Microsoft Announces Daimler Building New Collabor\n",
        "2010-12-02    Norton Healthcare Enters Agreement With Microsoft\n",
        "2010-12-16                Microsoft Declares Quarterly Dividend\n",
        "2011-01-18    Synnex Technology International Cooperates with M\n",
        "2011-02-01    Prodware SA Establishes New Subsidiary and Launch\n",
        "2011-03-03    Century Payments Chooses Microsoft Microsoft Dyna\n",
        "2011-03-21    Microsoft Takes Legal Action Against Barnes Foxco\n",
        "2011-04-06    Microsoft And Toyota Motor Corporation Announce S\n",
        "2011-04-07    BSQUARE Entered Into A New European Distribution \n",
        "2011-04-21    Nokia Corporation And Microsoft Corporation Sign \n",
        "2011-05-10                      Microsoft Near Billion Deal For\n",
        "2011-05-24    Risc Group IT Solutions SA Launches Collaborative\n",
        "2011-06-30    Microsoft and Onkyo Corporation Sign Patent Agree\n",
        "2011-07-01    Microsoft Corp Chooses EDB Business Partner ASA a\n",
        "2011-07-05          Microsoft And Wistron Sign Patent Agreement\n",
        "2011-07-12    Yell Group plc And Microsoft Plans For Broad Stra\n",
        "2011-07-19    Cap Gemini and Microsoft Plan to Offer Accelerate\n",
        "2011-08-23    Microsoft Formalizes Collaboration With CS2C In C\n",
        "2011-10-14                Microsoft Closes Acquisition Of Skype\n",
        "2011-11-29    Microsoft And AgreeYa Mobility Announces Protocol\n",
        "2011-12-20    SA Signs Purchase Agreement to Acquire Online Sho\n",
        "2012-02-09    Department of Justice Set To Clear Apple And To B\n",
        "2012-03-13    India Court Defers Hearing Against Microsoft Corp\n",
        "2012-03-19    Cincom Systems and Microsoft Corp Signs Global In\n",
        "2012-04-11    Judge Backs Microsoft Corp In Motorola Mobility H\n",
        "2012-04-25    Microsoft Corp And Pegatron Corp Sign Patent Agre\n",
        "2012-06-04       Microsoft Corp To Let Xbox Hook Up With Mobile\n",
        "2012-06-26    Avanquest Software SA Announces Partnership with \n",
        "2012-06-29        Microsoft Corp Network Sale Among Research In\n",
        "2012-09-18    Microsoft Corp Announces Increase in Quarterly Di\n",
        "2012-10-04    Barnes Noble Inc And Microsoft Complete Strategic\n",
        "2012-10-11    DotNetNuke Signs Alliance Agreement With Microsof\n",
        "Name: 0"
       ]
      }
     ],
     "prompt_number": 42
    },
    {
     "cell_type": "code",
     "collapsed": false,
     "input": [],
     "language": "python",
     "metadata": {},
     "outputs": []
    }
   ],
   "metadata": {}
  }
 ]
}