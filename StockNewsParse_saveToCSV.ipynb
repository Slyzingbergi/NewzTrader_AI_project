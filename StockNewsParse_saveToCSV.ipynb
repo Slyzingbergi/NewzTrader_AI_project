{
 "metadata": {
  "name": "StockNewsParse_saveToCSV"
 },
 "nbformat": 3,
 "nbformat_minor": 0,
 "worksheets": [
  {
   "cells": [
    {
     "cell_type": "code",
     "collapsed": false,
     "input": [
      "import pandas as pd\n",
      "from datetime import datetime\n",
      "from pandas.io.data import DataReader\n",
      "\n",
      "pd.set_printoptions(max_rows=2000)\n",
      "\n",
      "\n",
      "aapl = DataReader(\"COST\", \"yahoo\", datetime(2010, 1, 1), datetime(2012, 10, 30))\n",
      "returns = aapl.pct_change()\n",
      "\n",
      "def f(x):\n",
      "    if x > 0.01:\n",
      "        return 1\n",
      "    elif x < -0.01:\n",
      "        return -1\n",
      "    else:\n",
      "        return 0\n",
      "\n",
      "frame = returns.applymap(f)\n",
      "\n",
      "frame['UP'] = frame['Adj Close'] == 1\n",
      "frame['DOWN'] = frame['Adj Close'] == -1\n",
      "frame['NONE'] = frame['Adj Close'] ==0\n",
      "\n",
      "def only_alphanum(s):\n",
      "    #s = unicode(s, \"utf-8\")\n",
      "    return ' '.join(c for c in s.split() if c.isalnum())\n",
      "\n",
      "from lxml import etree\n",
      "import datetime\n",
      "from dateutil.parser import parse\n",
      "path = \"http://www.google.com/finance/company_news?q=NASDAQ:COST&output=rss&num=500\"\n",
      "root = etree.parse(path)\n",
      "myRoot = root.getroot()\n",
      "news={}\n",
      "for element in myRoot.iter(\"item\"):\n",
      "    for item in element.iter(\"pubDate\"):\n",
      "        pubDate = parse(item.text)\n",
      "    for item in element.iter(\"title\"):\n",
      "        title = item.text\n",
      "    news[pubDate.date()]=only_alphanum(title)\n",
      "\n",
      "newsframe = pd.Series(news)\n",
      "frameWithNews = frame.join(pd.DataFrame(newsframe))\n",
      "#newsUP = frameWithNews['UP'==True]\n",
      "#newsDOWN = frameWithNews['DOWN'==True]\n",
      "#newsNONE = frameWithNews['NONE' == True]\n",
      "newsUP_frame = frameWithNews[frameWithNews['UP']==True]\n",
      "newsDOWN_frame = frameWithNews[frameWithNews['DOWN']==True]\n",
      "newsNONE_frame = frameWithNews[frameWithNews['NONE']==True]\n",
      "\n",
      "newsUP = newsUP_frame[0]\n",
      "newsDOWN = newsDOWN_frame[0]\n",
      "newsNONE = newsNONE_frame[0]\n",
      "\n",
      "import pandas.io as io\n",
      "\n",
      "newsUP.dropna().to_csv('COST_news_UP.csv')\n",
      "newsDOWN.dropna().to_csv('COST_news_DOWN.csv')\n",
      "newsNONE.dropna().to_csv('COST_news_NONE.csv')"
     ],
     "language": "python",
     "metadata": {},
     "outputs": [],
     "prompt_number": 44
    },
    {
     "cell_type": "code",
     "collapsed": false,
     "input": [
      "frameWithNews_complete = frameWithNews.dropna()"
     ],
     "language": "python",
     "metadata": {},
     "outputs": [],
     "prompt_number": 16
    },
    {
     "cell_type": "code",
     "collapsed": false,
     "input": [
      "newsUP_frame = frameWithNews_complete[frameWithNews_complete['UP']==True]"
     ],
     "language": "python",
     "metadata": {},
     "outputs": [],
     "prompt_number": 22
    },
    {
     "cell_type": "code",
     "collapsed": false,
     "input": [
      "newsUP = newsUP_frame[0]"
     ],
     "language": "python",
     "metadata": {},
     "outputs": [],
     "prompt_number": 23
    },
    {
     "cell_type": "code",
     "collapsed": false,
     "input": [
      "newsUP.dropna()"
     ],
     "language": "python",
     "metadata": {},
     "outputs": [
      {
       "output_type": "pyout",
       "prompt_number": 42,
       "text": [
        "Date\n",
        "2010-11-02    Microsoft Announces Daimler Building New Collabor\n",
        "2010-12-02    Norton Healthcare Enters Agreement With Microsoft\n",
        "2010-12-16                Microsoft Declares Quarterly Dividend\n",
        "2011-01-18    Synnex Technology International Cooperates with M\n",
        "2011-02-01    Prodware SA Establishes New Subsidiary and Launch\n",
        "2011-03-03    Century Payments Chooses Microsoft Microsoft Dyna\n",
        "2011-03-21    Microsoft Takes Legal Action Against Barnes Foxco\n",
        "2011-04-06    Microsoft And Toyota Motor Corporation Announce S\n",
        "2011-04-07    BSQUARE Entered Into A New European Distribution \n",
        "2011-04-21    Nokia Corporation And Microsoft Corporation Sign \n",
        "2011-05-10                      Microsoft Near Billion Deal For\n",
        "2011-05-24    Risc Group IT Solutions SA Launches Collaborative\n",
        "2011-06-30    Microsoft and Onkyo Corporation Sign Patent Agree\n",
        "2011-07-01    Microsoft Corp Chooses EDB Business Partner ASA a\n",
        "2011-07-05          Microsoft And Wistron Sign Patent Agreement\n",
        "2011-07-12    Yell Group plc And Microsoft Plans For Broad Stra\n",
        "2011-07-19    Cap Gemini and Microsoft Plan to Offer Accelerate\n",
        "2011-08-23    Microsoft Formalizes Collaboration With CS2C In C\n",
        "2011-10-14                Microsoft Closes Acquisition Of Skype\n",
        "2011-11-29    Microsoft And AgreeYa Mobility Announces Protocol\n",
        "2011-12-20    SA Signs Purchase Agreement to Acquire Online Sho\n",
        "2012-02-09    Department of Justice Set To Clear Apple And To B\n",
        "2012-03-13    India Court Defers Hearing Against Microsoft Corp\n",
        "2012-03-19    Cincom Systems and Microsoft Corp Signs Global In\n",
        "2012-04-11    Judge Backs Microsoft Corp In Motorola Mobility H\n",
        "2012-04-25    Microsoft Corp And Pegatron Corp Sign Patent Agre\n",
        "2012-06-04       Microsoft Corp To Let Xbox Hook Up With Mobile\n",
        "2012-06-26    Avanquest Software SA Announces Partnership with \n",
        "2012-06-29        Microsoft Corp Network Sale Among Research In\n",
        "2012-09-18    Microsoft Corp Announces Increase in Quarterly Di\n",
        "2012-10-04    Barnes Noble Inc And Microsoft Complete Strategic\n",
        "2012-10-11    DotNetNuke Signs Alliance Agreement With Microsof\n",
        "Name: 0"
       ]
      }
     ],
     "prompt_number": 42
    },
    {
     "cell_type": "code",
     "collapsed": false,
     "input": [],
     "language": "python",
     "metadata": {},
     "outputs": []
    }
   ],
   "metadata": {}
  }
 ]
}