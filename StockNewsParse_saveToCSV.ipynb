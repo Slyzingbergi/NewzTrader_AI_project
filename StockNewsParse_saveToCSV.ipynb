{
 "metadata": {
  "name": "StockNewsParse_saveToCSV"
 },
 "nbformat": 3,
 "nbformat_minor": 0,
 "worksheets": [
  {
   "cells": [
    {
     "cell_type": "code",
     "collapsed": false,
     "input": [
      "import pandas as pd\n",
      "from datetime import datetime\n",
      "from pandas.io.data import DataReader\n",
      "\n",
      "pd.set_printoptions(max_rows=2000)\n",
      "def only_alphanum(s):\n",
      "    #s = unicode(s, \"utf-8\")\n",
      "    return ' '.join(c for c in s.split() if c.isalnum())\n",
      "def only_alpha(s):\n",
      "    return ' '.join(c for c in s.split() if c.isalpha())\n",
      "def removeNonAscii(s): return \"\".join(i for i in s if ord(i)<128)\n",
      "\n",
      "def isWithin(x, y, z):\n",
      "    # return true if x is within +/- y percent of z \n",
      "    if x > (z * (1+y)) or x < (z * (1+y)):\n",
      "        return False\n",
      "    else:\n",
      "        return True\n",
      "    \n",
      "def stockNewsGetter(ticker):\n",
      "    import pandas as pd\n",
      "    from datetime import datetime\n",
      "    from pandas.io.data import DataReader\n",
      "    aapl = DataReader(ticker, \"yahoo\", datetime(2010, 1, 1))\n",
      "    #returns = aapl.pct_change()\n",
      "    \n",
      "    def f(x):\n",
      "        if x > 0.01:\n",
      "            return 1\n",
      "        elif x < -0.01:\n",
      "            return -1\n",
      "        else:\n",
      "            return 0\n",
      "    \n",
      "   # frame= returns.applymap(f)\n",
      "    frame = aapl\n",
      "    \n",
      "    frame['MA20_Close'] = pd.rolling_mean(frame['Adj Close'], 20)\n",
      "    \n",
      "   # frame['UP'] = frame['Adj Close'] == 1\n",
      "   # frame['DOWN'] = frame['Adj Close'] == -1\n",
      "   # frame['NONE'] = frame['Adj Close'] == 0\n",
      "    frame['UP'] = frame['Adj Close'] > (frame['MA20_Close']*1.03)\n",
      "    frame['DOWN'] = frame['Adj Close'] < (frame['MA20_Close'] * 0.97)\n",
      "    #frame['NONE'] = isWithin(frame['Adj Close'], .05, frame['MA20_Close'])\n",
      "    frame['NONE'] = (frame['UP']==False) & (frame['DOWN']==False)\n",
      "    \n",
      "    from lxml import etree\n",
      "    import datetime\n",
      "    from dateutil.parser import parse\n",
      "    path = \"http://www.google.com/finance/company_news?q=%s&output=rss&num=500\"% ticker\n",
      "    root = etree.parse(path)\n",
      "    myRoot = root.getroot()\n",
      "    news={}\n",
      "    for element in myRoot.iter(\"item\"):\n",
      "        for item in element.iter(\"pubDate\"):\n",
      "            pubDate = parse(item.text)\n",
      "        for item in element.iter(\"title\"):\n",
      "            title = item.text\n",
      "        news[pubDate.date()]=only_alphanum(removeNonAscii(title))\n",
      "    \n",
      "    newsframe = pd.Series(news)\n",
      "    frameWithNews = frame.join(pd.DataFrame(newsframe))\n",
      "    #newsUP = frameWithNews['UP'==True]\n",
      "    #newsDOWN = frameWithNews['DOWN'==True]\n",
      "    #newsNONE = frameWithNews['NONE' == True]\n",
      "    newsUP_frame = frameWithNews[frameWithNews['UP']==True]\n",
      "    newsDOWN_frame = frameWithNews[frameWithNews['DOWN']==True]\n",
      "    newsNONE_frame = frameWithNews[frameWithNews['NONE']==True]\n",
      "    \n",
      "    newsUP = newsUP_frame[0]\n",
      "    newsDOWN = newsDOWN_frame[0]\n",
      "    newsNONE = newsNONE_frame[0]\n",
      "    \n",
      "    import pandas.io as io\n",
      "    \n",
      "    if newsUP.dropna().count() > 1:\n",
      "        newsUP.dropna().to_csv('%s_news_UP.csv'% ticker)\n",
      "    if newsDOWN.dropna().count() > 1:\n",
      "        newsDOWN.dropna().to_csv('%s_news_DOWN.csv'% ticker)\n",
      "    if newsNONE.dropna().count() >1:\n",
      "        newsNONE.dropna().to_csv('%s_news_NONE.csv' % ticker)\n",
      "\n",
      "filename = 'sp_500.txt'\n",
      "tickers = open(filename)\n",
      "tickerz = tickers.readlines()\n",
      "tickerzz = []\n",
      "for ticker in tickerz:\n",
      "    tickerzz.append(only_alphanum(ticker))\n",
      "print tickerzz\n",
      "for ticker in tickerzz:\n",
      "    stockNewsGetter(ticker)\n"
     ],
     "language": "python",
     "metadata": {},
     "outputs": [],
     "prompt_number": "*"
    },
    {
     "cell_type": "code",
     "collapsed": false,
     "input": [
      "    newsNONE.dropna().count"
     ],
     "language": "python",
     "metadata": {},
     "outputs": [
      {
       "ename": "NameError",
       "evalue": "name 'newsNONE' is not defined",
       "output_type": "pyerr",
       "traceback": [
        "\u001b[0;31m---------------------------------------------------------------------------\u001b[0m\n\u001b[0;31mNameError\u001b[0m                                 Traceback (most recent call last)",
        "\u001b[0;32m<ipython-input-9-5470524a03c1>\u001b[0m in \u001b[0;36m<module>\u001b[0;34m()\u001b[0m\n\u001b[0;32m----> 1\u001b[0;31m \u001b[0mnewsNONE\u001b[0m\u001b[0;34m.\u001b[0m\u001b[0mdropna\u001b[0m\u001b[0;34m(\u001b[0m\u001b[0;34m)\u001b[0m\u001b[0;34m.\u001b[0m\u001b[0mcount\u001b[0m\u001b[0;34m\u001b[0m\u001b[0m\n\u001b[0m",
        "\u001b[0;31mNameError\u001b[0m: name 'newsNONE' is not defined"
       ]
      }
     ],
     "prompt_number": 9
    },
    {
     "cell_type": "code",
     "collapsed": false,
     "input": [
      "newsUP_frame = frameWithNews_complete[frameWithNews_complete['UP']==True]"
     ],
     "language": "python",
     "metadata": {},
     "outputs": [],
     "prompt_number": 22
    },
    {
     "cell_type": "code",
     "collapsed": false,
     "input": [
      "newsUP = newsUP_frame[0]"
     ],
     "language": "python",
     "metadata": {},
     "outputs": [],
     "prompt_number": 23
    },
    {
     "cell_type": "code",
     "collapsed": false,
     "input": [
      "newsUP.dropna()"
     ],
     "language": "python",
     "metadata": {},
     "outputs": [
      {
       "ename": "NameError",
       "evalue": "name 'newsUP' is not defined",
       "output_type": "pyerr",
       "traceback": [
        "\u001b[0;31m---------------------------------------------------------------------------\u001b[0m\n\u001b[0;31mNameError\u001b[0m                                 Traceback (most recent call last)",
        "\u001b[0;32m<ipython-input-8-281d6f364040>\u001b[0m in \u001b[0;36m<module>\u001b[0;34m()\u001b[0m\n\u001b[0;32m----> 1\u001b[0;31m \u001b[0mnewsUP\u001b[0m\u001b[0;34m.\u001b[0m\u001b[0mdropna\u001b[0m\u001b[0;34m(\u001b[0m\u001b[0;34m)\u001b[0m\u001b[0;34m\u001b[0m\u001b[0m\n\u001b[0m",
        "\u001b[0;31mNameError\u001b[0m: name 'newsUP' is not defined"
       ]
      }
     ],
     "prompt_number": 8
    },
    {
     "cell_type": "code",
     "collapsed": false,
     "input": [],
     "language": "python",
     "metadata": {},
     "outputs": []
    }
   ],
   "metadata": {}
  }
 ]
}