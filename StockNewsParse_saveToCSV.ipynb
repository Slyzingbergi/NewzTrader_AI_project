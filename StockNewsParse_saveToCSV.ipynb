{
 "metadata": {
  "name": "StockNewsParse_saveToCSV"
 },
 "nbformat": 3,
 "nbformat_minor": 0,
 "worksheets": [
  {
   "cells": [
    {
     "cell_type": "code",
     "collapsed": false,
     "input": [
      "import pandas as pd\n",
      "from datetime import datetime\n",
      "from pandas.io.data import DataReader\n",
      "\n",
      "pd.set_printoptions(max_rows=2000)\n",
      "\n",
      "\n",
      "aapl = DataReader(\"AAPL\", \"yahoo\", datetime(2010, 1, 1), datetime(2012, 10, 30))\n",
      "returns = aapl.pct_change()\n",
      "\n",
      "def f(x):\n",
      "    if x > 0.01:\n",
      "        return 1\n",
      "    elif x < -0.01:\n",
      "        return -1\n",
      "    else:\n",
      "        return 0\n",
      "\n",
      "frame = returns.applymap(f)\n",
      "\n",
      "frame['UP'] = frame['Adj Close'] == 1\n",
      "frame['DOWN'] = frame['Adj Close'] == -1\n",
      "frame['NONE'] = frame['Adj Close'] ==0\n",
      "\n",
      "from lxml import etree\n",
      "import datetime\n",
      "from dateutil.parser import parse\n",
      "path = \"http://www.google.com/finance/company_news?q=NASDAQ:AAPL&output=rss&num=500\"\n",
      "root = etree.parse(path)\n",
      "myRoot = root.getroot()\n",
      "news={}\n",
      "for element in myRoot.iter(\"item\"):\n",
      "    for item in element.iter(\"pubDate\"):\n",
      "        pubDate = parse(item.text)\n",
      "    for item in element.iter(\"title\"):\n",
      "        title = item.text\n",
      "    news[pubDate.date()]=title\n",
      "\n",
      "newsframe = pd.Series(news)\n",
      "frameWithNews = frame.join(pd.DataFrame(newsframe))\n",
      "newsUP = frameWithNews['UP'==True]\n",
      "newsDOWN = frameWithNews['DOWN'==True]\n",
      "newsNONE = frameWithNews['NONE' == True]\n",
      "\n",
      "import pandas.io as io\n",
      "\n",
      "newsUP.dropna().to_csv('newsUP.csv')\n",
      "newsDOWN.dropna().to_csv('newsDOWN.csv')\n",
      "newsNONE.dropna().to_csv('newsNONE.csv')\n"
     ],
     "language": "python",
     "metadata": {},
     "outputs": [],
     "prompt_number": 1
    },
    {
     "cell_type": "code",
     "collapsed": false,
     "input": [],
     "language": "python",
     "metadata": {},
     "outputs": []
    }
   ],
   "metadata": {}
  }
 ]
}