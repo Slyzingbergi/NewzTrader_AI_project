{
 "metadata": {
  "name": "XKCDify plots"
 },
 "nbformat": 3,
 "nbformat_minor": 0,
 "worksheets": [
  {
   "cells": [
    {
     "cell_type": "code",
     "collapsed": false,
     "input": [
      "\"\"\"\n",
      "XKCD plot generator\n",
      "-------------------\n",
      "Author: Jake Vanderplas\n",
      "\n",
      "This is a script that will take any matplotlib line diagram, and convert it\n",
      "to an XKCD-style plot.  It will work for plots with line & text elements,\n",
      "including axes labels and titles (but not axes tick labels).\n",
      "\n",
      "The idea for this comes from work by Damon McDougall\n",
      "  http://www.mail-archive.com/matplotlib-users@lists.sourceforge.net/msg25499.html\n",
      "\"\"\"\n",
      "import numpy as np\n",
      "import pylab as pl\n",
      "from scipy import interpolate, signal\n",
      "import matplotlib.font_manager as fm\n",
      "\n",
      "\n",
      "# We need a special font for the code below.  It can be downloaded this way:\n",
      "import os\n",
      "import urllib2\n",
      "if not os.path.exists('Humor-Sans.ttf'):\n",
      "    fhandle = urllib2.urlopen('http://antiyawn.com/uploads/Humor-Sans.ttf')\n",
      "    open('Humor-Sans.ttf', 'wb').write(fhandle.read())\n",
      "\n",
      "    \n",
      "def xkcd_line(x, y, xlim=None, ylim=None,\n",
      "              mag=1.0, f1=30, f2=0.05, f3=15):\n",
      "    \"\"\"\n",
      "    Mimic a hand-drawn line from (x, y) data\n",
      "\n",
      "    Parameters\n",
      "    ----------\n",
      "    x, y : array_like\n",
      "        arrays to be modified\n",
      "    xlim, ylim : data range\n",
      "        the assumed plot range for the modification.  If not specified,\n",
      "        they will be guessed from the  data\n",
      "    mag : float\n",
      "        magnitude of distortions\n",
      "    f1, f2, f3 : int, float, int\n",
      "        filtering parameters.  f1 gives the size of the window, f2 gives\n",
      "        the high-frequency cutoff, f3 gives the size of the filter\n",
      "    \n",
      "    Returns\n",
      "    -------\n",
      "    x, y : ndarrays\n",
      "        The modified lines\n",
      "    \"\"\"\n",
      "    x = np.asarray(x)\n",
      "    y = np.asarray(y)\n",
      "    \n",
      "    # get limits for rescaling\n",
      "    if xlim is None:\n",
      "        xlim = (x.min(), x.max())\n",
      "    if ylim is None:\n",
      "        ylim = (y.min(), y.max())\n",
      "\n",
      "    if xlim[1] == xlim[0]:\n",
      "        xlim = ylim\n",
      "        \n",
      "    if ylim[1] == ylim[0]:\n",
      "        ylim = xlim\n",
      "\n",
      "    # scale the data\n",
      "    x_scaled = (x - xlim[0]) * 1. / (xlim[1] - xlim[0])\n",
      "    y_scaled = (y - ylim[0]) * 1. / (ylim[1] - ylim[0])\n",
      "\n",
      "    # compute the total distance along the path\n",
      "    dx = x_scaled[1:] - x_scaled[:-1]\n",
      "    dy = y_scaled[1:] - y_scaled[:-1]\n",
      "    dist_tot = np.sum(np.sqrt(dx * dx + dy * dy))\n",
      "\n",
      "    # number of interpolated points is proportional to the distance\n",
      "    Nu = int(200 * dist_tot)\n",
      "    u = np.arange(-1, Nu + 1) * 1. / (Nu - 1)\n",
      "\n",
      "    # interpolate curve at sampled points\n",
      "    k = min(3, len(x) - 1)\n",
      "    res = interpolate.splprep([x_scaled, y_scaled], s=0, k=k)\n",
      "    x_int, y_int = interpolate.splev(u, res[0]) \n",
      "\n",
      "    # we'll perturb perpendicular to the drawn line\n",
      "    dx = x_int[2:] - x_int[:-2]\n",
      "    dy = y_int[2:] - y_int[:-2]\n",
      "    dist = np.sqrt(dx * dx + dy * dy)\n",
      "\n",
      "    # create a filtered perturbation\n",
      "    coeffs = mag * np.random.normal(0, 0.01, len(x_int) - 2)\n",
      "    b = signal.firwin(f1, f2 * dist_tot, window=('kaiser', f3))\n",
      "    response = signal.lfilter(b, 1, coeffs)\n",
      "\n",
      "    x_int[1:-1] += response * dy / dist\n",
      "    y_int[1:-1] += response * dx / dist\n",
      "\n",
      "    # un-scale data\n",
      "    x_int = x_int[1:-1] * (xlim[1] - xlim[0]) + xlim[0]\n",
      "    y_int = y_int[1:-1] * (ylim[1] - ylim[0]) + ylim[0]\n",
      "    \n",
      "    return x_int, y_int\n",
      "\n",
      "\n",
      "def XKCDify(ax, mag=1.0,\n",
      "            f1=50, f2=0.01, f3=15,\n",
      "            bgcolor='w',\n",
      "            xaxis_loc=None,\n",
      "            yaxis_loc=None,\n",
      "            xaxis_arrow='+',\n",
      "            yaxis_arrow='+',\n",
      "            ax_extend=0.1,\n",
      "            expand_axes=False):\n",
      "    \"\"\"Make axis look hand-drawn\n",
      "\n",
      "    This adjusts all lines, text, legends, and axes in the figure to look\n",
      "    like xkcd plots.  Other plot elements are not modified.\n",
      "    \n",
      "    Parameters\n",
      "    ----------\n",
      "    ax : Axes instance\n",
      "        the axes to be modified.\n",
      "    mag : float\n",
      "        the magnitude of the distortion\n",
      "    f1, f2, f3 : int, float, int\n",
      "        filtering parameters.  f1 gives the size of the window, f2 gives\n",
      "        the high-frequency cutoff, f3 gives the size of the filter\n",
      "    xaxis_loc, yaxis_log : float\n",
      "        The locations to draw the x and y axes.  If not specified, they\n",
      "        will be drawn from the bottom left of the plot\n",
      "    xaxis_arrow, yaxis_arrow : str\n",
      "        where to draw arrows on the x/y axes.  Options are '+', '-', '+-', or ''\n",
      "    ax_extend : float\n",
      "        How far (fractionally) to extend the drawn axes beyond the original\n",
      "        axes limits\n",
      "    expand_axes : bool\n",
      "        if True, then expand axes to fill the figure (useful if there is only\n",
      "        a single axes in the figure)\n",
      "    \"\"\"\n",
      "    # Get axes aspect\n",
      "    ext = ax.get_window_extent().extents\n",
      "    aspect = (ext[3] - ext[1]) / (ext[2] - ext[0])\n",
      "\n",
      "    xlim = ax.get_xlim()\n",
      "    ylim = ax.get_ylim()\n",
      "\n",
      "    xspan = xlim[1] - xlim[0]\n",
      "    yspan = ylim[1] - xlim[0]\n",
      "\n",
      "    xax_lim = (xlim[0] - ax_extend * xspan,\n",
      "               xlim[1] + ax_extend * xspan)\n",
      "    yax_lim = (ylim[0] - ax_extend * yspan,\n",
      "               ylim[1] + ax_extend * yspan)\n",
      "\n",
      "    if xaxis_loc is None:\n",
      "        xaxis_loc = ylim[0]\n",
      "\n",
      "    if yaxis_loc is None:\n",
      "        yaxis_loc = xlim[0]\n",
      "\n",
      "    # Draw axes\n",
      "    xaxis = pl.Line2D([xax_lim[0], xax_lim[1]], [xaxis_loc, xaxis_loc],\n",
      "                      linestyle='-', color='k')\n",
      "    yaxis = pl.Line2D([yaxis_loc, yaxis_loc], [yax_lim[0], yax_lim[1]],\n",
      "                      linestyle='-', color='k')\n",
      "\n",
      "    # Label axes3, 0.5, 'hello', fontsize=14)\n",
      "    ax.text(xax_lim[1], xaxis_loc - 0.02 * yspan, ax.get_xlabel(),\n",
      "            fontsize=14, ha='right', va='top', rotation=12)\n",
      "    ax.text(yaxis_loc - 0.02 * xspan, yax_lim[1], ax.get_ylabel(),\n",
      "            fontsize=14, ha='right', va='top', rotation=78)\n",
      "    ax.set_xlabel('')\n",
      "    ax.set_ylabel('')\n",
      "\n",
      "    # Add title\n",
      "    ax.text(0.5 * (xax_lim[1] + xax_lim[0]), yax_lim[1],\n",
      "            ax.get_title(),\n",
      "            ha='center', va='bottom', fontsize=16)\n",
      "    ax.set_title('')\n",
      "\n",
      "    Nlines = len(ax.lines)\n",
      "    lines = [xaxis, yaxis] + [ax.lines.pop(0) for i in range(Nlines)]\n",
      "\n",
      "    for line in lines:\n",
      "        x, y = line.get_data()\n",
      "\n",
      "        x_int, y_int = xkcd_line(x, y, xlim, ylim,\n",
      "                                 mag, f1, f2, f3)\n",
      "\n",
      "        # create foreground and background line\n",
      "        lw = line.get_linewidth()\n",
      "        line.set_linewidth(2 * lw)\n",
      "        line.set_data(x_int, y_int)\n",
      "\n",
      "        # don't add background line for axes\n",
      "        if (line is not xaxis) and (line is not yaxis):\n",
      "            line_bg = pl.Line2D(x_int, y_int, color=bgcolor,\n",
      "                                linewidth=8 * lw)\n",
      "\n",
      "            ax.add_line(line_bg)\n",
      "        ax.add_line(line)\n",
      "\n",
      "    # Draw arrow-heads at the end of axes lines\n",
      "    arr1 = 0.03 * np.array([-1, 0, -1])\n",
      "    arr2 = 0.02 * np.array([-1, 0, 1])\n",
      "\n",
      "    arr1[::2] += np.random.normal(0, 0.005, 2)\n",
      "    arr2[::2] += np.random.normal(0, 0.005, 2)\n",
      "\n",
      "    x, y = xaxis.get_data()\n",
      "    if '+' in str(xaxis_arrow):\n",
      "        ax.plot(x[-1] + arr1 * xspan * aspect,\n",
      "                y[-1] + arr2 * yspan,\n",
      "                color='k', lw=2)\n",
      "    if '-' in str(xaxis_arrow):\n",
      "        ax.plot(x[0] - arr1 * xspan * aspect,\n",
      "                y[0] - arr2 * yspan,\n",
      "                color='k', lw=2)\n",
      "\n",
      "    x, y = yaxis.get_data()\n",
      "    if '+' in str(yaxis_arrow):\n",
      "        ax.plot(x[-1] + arr2 * xspan * aspect,\n",
      "                y[-1] + arr1 * yspan,\n",
      "                color='k', lw=2)\n",
      "    if '-' in str(yaxis_arrow):\n",
      "        ax.plot(x[0] - arr2 * xspan * aspect,\n",
      "                y[0] - arr1 * yspan,\n",
      "                color='k', lw=2)\n",
      "\n",
      "    # Change all the fonts to humor-sans.\n",
      "    prop = fm.FontProperties(fname='Humor-Sans.ttf', size=16)\n",
      "    for text in ax.texts:\n",
      "        text.set_fontproperties(prop)\n",
      "    \n",
      "    # modify legend\n",
      "    leg = ax.get_legend()\n",
      "    if leg is not None:\n",
      "        leg.set_frame_on(False)\n",
      "        \n",
      "        for child in leg.get_children():\n",
      "            if isinstance(child, pl.Line2D):\n",
      "                x, y = child.get_data()\n",
      "                child.set_data(xkcd_line(x, y, mag=10, f1=100, f2=0.001))\n",
      "                child.set_linewidth(2 * child.get_linewidth())\n",
      "            if isinstance(child, pl.Text):\n",
      "                child.set_fontproperties(prop)\n",
      "    \n",
      "    # Set the axis limits\n",
      "    ax.set_xlim(xax_lim[0] - 0.1 * xspan,\n",
      "                xax_lim[1] + 0.1 * xspan)\n",
      "    ax.set_ylim(yax_lim[0] - 0.1 * yspan,\n",
      "                yax_lim[1] + 0.1 * yspan)\n",
      "\n",
      "    # adjust the axes\n",
      "    ax.set_xticks([])\n",
      "    ax.set_yticks([])      \n",
      "\n",
      "    if expand_axes:\n",
      "        ax.figure.set_facecolor(bgcolor)\n",
      "        ax.set_axis_off()\n",
      "        ax.set_position([0, 0, 1, 1])\n",
      "    \n",
      "    return ax"
     ],
     "language": "python",
     "metadata": {},
     "outputs": [],
     "prompt_number": 1
    },
    {
     "cell_type": "code",
     "collapsed": false,
     "input": [
      "from datetime import datetime\n",
      "from pandas.io.data import DataReader"
     ],
     "language": "python",
     "metadata": {},
     "outputs": [],
     "prompt_number": 8
    },
    {
     "cell_type": "code",
     "collapsed": false,
     "input": [
      "goog = DataReader(\"GOOG\", \"yahoo\", datetime(2000, 1, 1), datetime(2012, 1, 1))"
     ],
     "language": "python",
     "metadata": {},
     "outputs": [],
     "prompt_number": 9
    },
    {
     "cell_type": "code",
     "collapsed": false,
     "input": [
      "ax = pylab.axes()"
     ],
     "language": "python",
     "metadata": {},
     "outputs": [
      {
       "output_type": "display_data",
       "png": "[encoded data removed]"
      }
     ],
     "prompt_number": 10
    },
    {
     "cell_type": "code",
     "collapsed": false,
     "input": [
      "ax.set_title(\"Google stock price\")"
     ],
     "language": "python",
     "metadata": {},
     "outputs": [
      {
       "output_type": "pyout",
       "prompt_number": 11,
       "text": [
        "<matplotlib.text.Text at 0x1104ebf10>"
       ]
      }
     ],
     "prompt_number": 11
    },
    {
     "cell_type": "code",
     "collapsed": false,
     "input": [
      "ax.plot(goog)"
     ],
     "language": "python",
     "metadata": {},
     "outputs": [
      {
       "output_type": "pyout",
       "prompt_number": 12,
       "text": [
        "[<matplotlib.lines.Line2D at 0x1104e8b50>,\n",
        " <matplotlib.lines.Line2D at 0x1104ee810>,\n",
        " <matplotlib.lines.Line2D at 0x1104eef50>,\n",
        " <matplotlib.lines.Line2D at 0x1104eeed0>,\n",
        " <matplotlib.lines.Line2D at 0x1104ee3d0>,\n",
        " <matplotlib.lines.Line2D at 0x1104f24d0>]"
       ]
      }
     ],
     "prompt_number": 12
    },
    {
     "cell_type": "code",
     "collapsed": false,
     "input": [
      "XKCDify(ax)"
     ],
     "language": "python",
     "metadata": {},
     "outputs": [
      {
       "output_type": "pyout",
       "prompt_number": 13,
       "text": [
        "<matplotlib.axes.AxesSubplot at 0x1104e7710>"
       ]
      }
     ],
     "prompt_number": 13
    },
    {
     "cell_type": "code",
     "collapsed": false,
     "input": [
      "%pylab inline"
     ],
     "language": "python",
     "metadata": {},
     "outputs": [
      {
       "output_type": "stream",
       "stream": "stdout",
       "text": [
        "\n",
        "Welcome to pylab, a matplotlib-based Python environment [backend: module://IPython.zmq.pylab.backend_inline].\n",
        "For more information, type 'help(pylab)'.\n"
       ]
      }
     ],
     "prompt_number": 14
    },
    {
     "cell_type": "code",
     "collapsed": false,
     "input": [
      "XKCDify(ax)"
     ],
     "language": "python",
     "metadata": {},
     "outputs": [
      {
       "ename": "ValueError",
       "evalue": "Invalid cutoff frequency: frequencies must be greater than 0 and less than nyq.",
       "output_type": "pyerr",
       "traceback": [
        "\u001b[0;31m---------------------------------------------------------------------------\u001b[0m\n\u001b[0;31mValueError\u001b[0m                                Traceback (most recent call last)",
        "\u001b[0;32m<ipython-input-15-40b160d070e5>\u001b[0m in \u001b[0;36m<module>\u001b[0;34m()\u001b[0m\n\u001b[0;32m----> 1\u001b[0;31m \u001b[0mXKCDify\u001b[0m\u001b[0;34m(\u001b[0m\u001b[0max\u001b[0m\u001b[0;34m)\u001b[0m\u001b[0;34m\u001b[0m\u001b[0m\n\u001b[0m",
        "\u001b[0;32m<ipython-input-1-0c240e8782e8>\u001b[0m in \u001b[0;36mXKCDify\u001b[0;34m(ax, mag, f1, f2, f3, bgcolor, xaxis_loc, yaxis_loc, xaxis_arrow, yaxis_arrow, ax_extend, expand_axes)\u001b[0m\n\u001b[1;32m    184\u001b[0m \u001b[0;34m\u001b[0m\u001b[0m\n\u001b[1;32m    185\u001b[0m         x_int, y_int = xkcd_line(x, y, xlim, ylim,\n\u001b[0;32m--> 186\u001b[0;31m                                  mag, f1, f2, f3)\n\u001b[0m\u001b[1;32m    187\u001b[0m \u001b[0;34m\u001b[0m\u001b[0m\n\u001b[1;32m    188\u001b[0m         \u001b[0;31m# create foreground and background line\u001b[0m\u001b[0;34m\u001b[0m\u001b[0;34m\u001b[0m\u001b[0m\n",
        "\u001b[0;32m<ipython-input-1-0c240e8782e8>\u001b[0m in \u001b[0;36mxkcd_line\u001b[0;34m(x, y, xlim, ylim, mag, f1, f2, f3)\u001b[0m\n\u001b[1;32m     88\u001b[0m     \u001b[0;31m# create a filtered perturbation\u001b[0m\u001b[0;34m\u001b[0m\u001b[0;34m\u001b[0m\u001b[0m\n\u001b[1;32m     89\u001b[0m     \u001b[0mcoeffs\u001b[0m \u001b[0;34m=\u001b[0m \u001b[0mmag\u001b[0m \u001b[0;34m*\u001b[0m \u001b[0mnp\u001b[0m\u001b[0;34m.\u001b[0m\u001b[0mrandom\u001b[0m\u001b[0;34m.\u001b[0m\u001b[0mnormal\u001b[0m\u001b[0;34m(\u001b[0m\u001b[0;36m0\u001b[0m\u001b[0;34m,\u001b[0m \u001b[0;36m0.01\u001b[0m\u001b[0;34m,\u001b[0m \u001b[0mlen\u001b[0m\u001b[0;34m(\u001b[0m\u001b[0mx_int\u001b[0m\u001b[0;34m)\u001b[0m \u001b[0;34m-\u001b[0m \u001b[0;36m2\u001b[0m\u001b[0;34m)\u001b[0m\u001b[0;34m\u001b[0m\u001b[0m\n\u001b[0;32m---> 90\u001b[0;31m     \u001b[0mb\u001b[0m \u001b[0;34m=\u001b[0m \u001b[0msignal\u001b[0m\u001b[0;34m.\u001b[0m\u001b[0mfirwin\u001b[0m\u001b[0;34m(\u001b[0m\u001b[0mf1\u001b[0m\u001b[0;34m,\u001b[0m \u001b[0mf2\u001b[0m \u001b[0;34m*\u001b[0m \u001b[0mdist_tot\u001b[0m\u001b[0;34m,\u001b[0m \u001b[0mwindow\u001b[0m\u001b[0;34m=\u001b[0m\u001b[0;34m(\u001b[0m\u001b[0;34m'kaiser'\u001b[0m\u001b[0;34m,\u001b[0m \u001b[0mf3\u001b[0m\u001b[0;34m)\u001b[0m\u001b[0;34m)\u001b[0m\u001b[0;34m\u001b[0m\u001b[0m\n\u001b[0m\u001b[1;32m     91\u001b[0m     \u001b[0mresponse\u001b[0m \u001b[0;34m=\u001b[0m \u001b[0msignal\u001b[0m\u001b[0;34m.\u001b[0m\u001b[0mlfilter\u001b[0m\u001b[0;34m(\u001b[0m\u001b[0mb\u001b[0m\u001b[0;34m,\u001b[0m \u001b[0;36m1\u001b[0m\u001b[0;34m,\u001b[0m \u001b[0mcoeffs\u001b[0m\u001b[0;34m)\u001b[0m\u001b[0;34m\u001b[0m\u001b[0m\n\u001b[1;32m     92\u001b[0m \u001b[0;34m\u001b[0m\u001b[0m\n",
        "\u001b[0;32m/Library/Frameworks/EPD64.framework/Versions/7.3/lib/python2.7/site-packages/scipy/signal/fir_filter_design.py\u001b[0m in \u001b[0;36mfirwin\u001b[0;34m(numtaps, cutoff, width, window, pass_zero, scale, nyq)\u001b[0m\n\u001b[1;32m    251\u001b[0m         \u001b[0;32mraise\u001b[0m \u001b[0mValueError\u001b[0m\u001b[0;34m(\u001b[0m\u001b[0;34m\"At least one cutoff frequency must be given.\"\u001b[0m\u001b[0;34m)\u001b[0m\u001b[0;34m\u001b[0m\u001b[0m\n\u001b[1;32m    252\u001b[0m     \u001b[0;32mif\u001b[0m \u001b[0mcutoff\u001b[0m\u001b[0;34m.\u001b[0m\u001b[0mmin\u001b[0m\u001b[0;34m(\u001b[0m\u001b[0;34m)\u001b[0m \u001b[0;34m<=\u001b[0m \u001b[0;36m0\u001b[0m \u001b[0;32mor\u001b[0m \u001b[0mcutoff\u001b[0m\u001b[0;34m.\u001b[0m\u001b[0mmax\u001b[0m\u001b[0;34m(\u001b[0m\u001b[0;34m)\u001b[0m \u001b[0;34m>=\u001b[0m \u001b[0;36m1\u001b[0m\u001b[0;34m:\u001b[0m\u001b[0;34m\u001b[0m\u001b[0m\n\u001b[0;32m--> 253\u001b[0;31m         raise ValueError(\"Invalid cutoff frequency: frequencies must be \"\n\u001b[0m\u001b[1;32m    254\u001b[0m                          \"greater than 0 and less than nyq.\")\n\u001b[1;32m    255\u001b[0m     \u001b[0;32mif\u001b[0m \u001b[0mnp\u001b[0m\u001b[0;34m.\u001b[0m\u001b[0many\u001b[0m\u001b[0;34m(\u001b[0m\u001b[0mnp\u001b[0m\u001b[0;34m.\u001b[0m\u001b[0mdiff\u001b[0m\u001b[0;34m(\u001b[0m\u001b[0mcutoff\u001b[0m\u001b[0;34m)\u001b[0m \u001b[0;34m<=\u001b[0m \u001b[0;36m0\u001b[0m\u001b[0;34m)\u001b[0m\u001b[0;34m:\u001b[0m\u001b[0;34m\u001b[0m\u001b[0m\n",
        "\u001b[0;31mValueError\u001b[0m: Invalid cutoff frequency: frequencies must be greater than 0 and less than nyq."
       ]
      }
     ],
     "prompt_number": 15
    },
    {
     "cell_type": "code",
     "collapsed": false,
     "input": [
      "XKCDify(ax, xaxis_loc=0.0, yaxis_loc=1.0,\n",
      "        xaxis_arrow='+-', yaxis_arrow='+-',\n",
      "        expand_axes=True)"
     ],
     "language": "python",
     "metadata": {},
     "outputs": [
      {
       "output_type": "pyout",
       "prompt_number": 16,
       "text": [
        "<matplotlib.axes.AxesSubplot at 0x1104e7710>"
       ]
      }
     ],
     "prompt_number": 16
    },
    {
     "cell_type": "code",
     "collapsed": false,
     "input": [
      "%pylab inline"
     ],
     "language": "python",
     "metadata": {},
     "outputs": [
      {
       "output_type": "stream",
       "stream": "stdout",
       "text": [
        "\n",
        "Welcome to pylab, a matplotlib-based Python environment [backend: module://IPython.zmq.pylab.backend_inline].\n",
        "For more information, type 'help(pylab)'.\n"
       ]
      }
     ],
     "prompt_number": 17
    },
    {
     "cell_type": "code",
     "collapsed": false,
     "input": [
      "XKCDify(ax, xaxis_loc=0.0, yaxis_loc=1.0,\n",
      "        xaxis_arrow='+-', yaxis_arrow='+-',\n",
      "        expand_axes=True)"
     ],
     "language": "python",
     "metadata": {},
     "outputs": [
      {
       "output_type": "pyout",
       "prompt_number": 18,
       "text": [
        "<matplotlib.axes.AxesSubplot at 0x1104e7710>"
       ]
      }
     ],
     "prompt_number": 18
    },
    {
     "cell_type": "code",
     "collapsed": false,
     "input": [
      "ax.plot()"
     ],
     "language": "python",
     "metadata": {},
     "outputs": [
      {
       "output_type": "pyout",
       "prompt_number": 19,
       "text": [
        "[]"
       ]
      }
     ],
     "prompt_number": 19
    },
    {
     "cell_type": "code",
     "collapsed": false,
     "input": [
      "ax"
     ],
     "language": "python",
     "metadata": {},
     "outputs": [
      {
       "output_type": "pyout",
       "prompt_number": 20,
       "text": [
        "<matplotlib.axes.AxesSubplot at 0x1104e7710>"
       ]
      }
     ],
     "prompt_number": 20
    },
    {
     "cell_type": "code",
     "collapsed": false,
     "input": [
      "goog.plot()"
     ],
     "language": "python",
     "metadata": {},
     "outputs": [
      {
       "output_type": "pyout",
       "prompt_number": 21,
       "text": [
        "<matplotlib.axes.AxesSubplot at 0x110629d10>"
       ]
      },
      {
       "output_type": "display_data",
       "png": "[encoded data removed]"
      }
     ],
     "prompt_number": 21
    },
    {
     "cell_type": "code",
     "collapsed": false,
     "input": [
      "XKCDify(goog.plot(), xaxis_loc=0.0, yaxis_loc=1.0,\n",
      "        xaxis_arrow='+-', yaxis_arrow='+-',\n",
      "        expand_axes=True)"
     ],
     "language": "python",
     "metadata": {},
     "outputs": [
      {
       "ename": "TypeError",
       "evalue": "unsupported operand type(s) for -: 'numpy.ndarray' and 'numpy.float64'",
       "output_type": "pyerr",
       "traceback": [
        "\u001b[0;31m---------------------------------------------------------------------------\u001b[0m\n\u001b[0;31mTypeError\u001b[0m                                 Traceback (most recent call last)",
        "\u001b[0;32m<ipython-input-23-02f303bd63c9>\u001b[0m in \u001b[0;36m<module>\u001b[0;34m()\u001b[0m\n\u001b[1;32m      1\u001b[0m XKCDify(goog.plot(), xaxis_loc=0.0, yaxis_loc=1.0,\n\u001b[1;32m      2\u001b[0m         \u001b[0mxaxis_arrow\u001b[0m\u001b[0;34m=\u001b[0m\u001b[0;34m'+-'\u001b[0m\u001b[0;34m,\u001b[0m \u001b[0myaxis_arrow\u001b[0m\u001b[0;34m=\u001b[0m\u001b[0;34m'+-'\u001b[0m\u001b[0;34m,\u001b[0m\u001b[0;34m\u001b[0m\u001b[0m\n\u001b[0;32m----> 3\u001b[0;31m         expand_axes=True)\n\u001b[0m",
        "\u001b[0;32m<ipython-input-1-0c240e8782e8>\u001b[0m in \u001b[0;36mXKCDify\u001b[0;34m(ax, mag, f1, f2, f3, bgcolor, xaxis_loc, yaxis_loc, xaxis_arrow, yaxis_arrow, ax_extend, expand_axes)\u001b[0m\n\u001b[1;32m    184\u001b[0m \u001b[0;34m\u001b[0m\u001b[0m\n\u001b[1;32m    185\u001b[0m         x_int, y_int = xkcd_line(x, y, xlim, ylim,\n\u001b[0;32m--> 186\u001b[0;31m                                  mag, f1, f2, f3)\n\u001b[0m\u001b[1;32m    187\u001b[0m \u001b[0;34m\u001b[0m\u001b[0m\n\u001b[1;32m    188\u001b[0m         \u001b[0;31m# create foreground and background line\u001b[0m\u001b[0;34m\u001b[0m\u001b[0;34m\u001b[0m\u001b[0m\n",
        "\u001b[0;32m<ipython-input-1-0c240e8782e8>\u001b[0m in \u001b[0;36mxkcd_line\u001b[0;34m(x, y, xlim, ylim, mag, f1, f2, f3)\u001b[0m\n\u001b[1;32m     64\u001b[0m \u001b[0;34m\u001b[0m\u001b[0m\n\u001b[1;32m     65\u001b[0m     \u001b[0;31m# scale the data\u001b[0m\u001b[0;34m\u001b[0m\u001b[0;34m\u001b[0m\u001b[0m\n\u001b[0;32m---> 66\u001b[0;31m     \u001b[0mx_scaled\u001b[0m \u001b[0;34m=\u001b[0m \u001b[0;34m(\u001b[0m\u001b[0mx\u001b[0m \u001b[0;34m-\u001b[0m \u001b[0mxlim\u001b[0m\u001b[0;34m[\u001b[0m\u001b[0;36m0\u001b[0m\u001b[0;34m]\u001b[0m\u001b[0;34m)\u001b[0m \u001b[0;34m*\u001b[0m \u001b[0;36m1.\u001b[0m \u001b[0;34m/\u001b[0m \u001b[0;34m(\u001b[0m\u001b[0mxlim\u001b[0m\u001b[0;34m[\u001b[0m\u001b[0;36m1\u001b[0m\u001b[0;34m]\u001b[0m \u001b[0;34m-\u001b[0m \u001b[0mxlim\u001b[0m\u001b[0;34m[\u001b[0m\u001b[0;36m0\u001b[0m\u001b[0;34m]\u001b[0m\u001b[0;34m)\u001b[0m\u001b[0;34m\u001b[0m\u001b[0m\n\u001b[0m\u001b[1;32m     67\u001b[0m     \u001b[0my_scaled\u001b[0m \u001b[0;34m=\u001b[0m \u001b[0;34m(\u001b[0m\u001b[0my\u001b[0m \u001b[0;34m-\u001b[0m \u001b[0mylim\u001b[0m\u001b[0;34m[\u001b[0m\u001b[0;36m0\u001b[0m\u001b[0;34m]\u001b[0m\u001b[0;34m)\u001b[0m \u001b[0;34m*\u001b[0m \u001b[0;36m1.\u001b[0m \u001b[0;34m/\u001b[0m \u001b[0;34m(\u001b[0m\u001b[0mylim\u001b[0m\u001b[0;34m[\u001b[0m\u001b[0;36m1\u001b[0m\u001b[0;34m]\u001b[0m \u001b[0;34m-\u001b[0m \u001b[0mylim\u001b[0m\u001b[0;34m[\u001b[0m\u001b[0;36m0\u001b[0m\u001b[0;34m]\u001b[0m\u001b[0;34m)\u001b[0m\u001b[0;34m\u001b[0m\u001b[0m\n\u001b[1;32m     68\u001b[0m \u001b[0;34m\u001b[0m\u001b[0m\n",
        "\u001b[0;31mTypeError\u001b[0m: unsupported operand type(s) for -: 'numpy.ndarray' and 'numpy.float64'"
       ]
      },
      {
       "output_type": "display_data",
       "png": "[encoded data removed]"
      }
     ],
     "prompt_number": 23
    },
    {
     "cell_type": "code",
     "collapsed": false,
     "input": [],
     "language": "python",
     "metadata": {},
     "outputs": []
    }
   ],
   "metadata": {}
  }
 ]
}