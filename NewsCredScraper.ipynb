{
 "metadata": {
  "name": "NewsCredScraper"
 },
 "nbformat": 3,
 "nbformat_minor": 0,
 "worksheets": [
  {
   "cells": [
    {
     "cell_type": "code",
     "collapsed": false,
     "input": [
      "pd.set_printoptions(max_rows=2000)"
     ],
     "language": "python",
     "metadata": {},
     "outputs": []
    },
    {
     "cell_type": "code",
     "collapsed": false,
     "input": [
      "from lxml import etree\n",
      "from datetime import datetime\n",
      "from datetime import date\n",
      "from datetime import timedelta\n",
      "#import datetime \n",
      "from dateutil.parser import parse\n",
      "#import pandas as pd\n",
      "\n",
      "#from pandas.io.data import DataReader\n",
      "#from pandas.io.data import DataReader\n",
      "#from pandas.io.data import DataReader\n",
      "\n",
      "#import pandas as pd\n",
      "#from datetime import datetime\n",
      "\n",
      "import pandas as pd\n",
      "#\n",
      "from pandas.io.data import DataReader\n",
      "\n",
      "def daterange(start_date, end_date):\n",
      "    for n in range(int ((end_date - start_date).days)):\n",
      "        yield start_date + timedelta(n)\n",
      "        \n",
      "def only_alphanum(s):\n",
      "    #s = unicode(s, \"utf-8\")\n",
      "    return ' '.join(c for c in s.split() if c.isalnum())\n",
      "def only_alpha(s):\n",
      "    return ' '.join(c for c in s.split() if c.isalpha())\n",
      "def removeNonAscii(s): return \"\".join(i for i in s if ord(i)<128)\n",
      "\n",
      "sp500 = DataReader(\"SPY\", \"yahoo\", datetime(2009, 1, 1))\n",
      "news={}\n",
      "#descs = {}\n",
      "start_date=date(2009, 1, 1)\n",
      "end_date = date(2012, 11, 9)\n",
      "for single_date in daterange(start_date, end_date):\n",
      "    news[single_date]=[]\n",
      "for single_date in daterange(start_date, end_date):\n",
      "    year = single_date.year\n",
      "    month = single_date.month\n",
      "    day = single_date.day\n",
      "    path = \"http://api.newscred.com/articles?access_key=c4bcc3f7c9bf9ec159f51da0a86ca658&sources=104afa30d811d37a5582a39e1662a311&pagesize=99&from_date=%d-%d-%d&to_date=%d-%d-%d 23:59:59\" % (year, month, day, year, month, day)\n",
      "    while True:\n",
      "        try:\n",
      "            root = etree.parse(path)\n",
      "            break\n",
      "        except etree.XMLSyntaxError:\n",
      "            pass\n",
      "    myRoot = root.getroot()\n",
      "\n",
      "    #news[date(year, month, day)]=[]\n",
      "    #descs[date(year, month, day)]=[]\n",
      "    for element in myRoot.iter(\"article\"):\n",
      "        #for item in element.iter(\"description\"):\n",
      "         #   desc = item.text\n",
      "        for item in element.iter(\"title\"):\n",
      "            title = item.text\n",
      "        for item in element.iter(\"created_at\"):\n",
      "            pubDate = parse(item.text)\n",
      "    \n",
      "        news[pubDate.date()].append(only_alphanum(removeNonAscii(title)))\n",
      "                #descs[pubDate.date()].append(only_alphanum(removeNonAscii(desc)))\n",
      "newsframe = pd.Series(news, name='News')\n",
      "#descframe = pd.Series(descs, name='Desc')\n",
      "frameWithNews = sp500.join(pd.DataFrame(newsframe))\n",
      "#sp500Frame = frameWithNews.join(pd.DataFrame(descframe))"
     ],
     "language": "python",
     "metadata": {},
     "outputs": [],
     "prompt_number": "*"
    },
    {
     "cell_type": "code",
     "collapsed": false,
     "input": [
      "from datetime import timedelta\n",
      "def daterange(start_date, end_date):\n",
      "    for n in range(int ((end_date - start_date).days)):\n",
      "        yield start_date + timedelta(n)\n",
      "\n",
      "newsDict={}\n",
      "start_date=date(2009, 1, 1)\n",
      "end_date = date(2012, 12, 31)\n",
      "for single_date in daterange(start_date, end_date):\n",
      "    newsDict[single_date]=[]"
     ],
     "language": "python",
     "metadata": {},
     "outputs": [],
     "prompt_number": 63
    },
    {
     "cell_type": "code",
     "collapsed": false,
     "input": [
      "news"
     ],
     "language": "python",
     "metadata": {},
     "outputs": [],
     "prompt_number": "*"
    },
    {
     "cell_type": "code",
     "collapsed": false,
     "input": [
      "#print sp500Frame.Desc.ix['02/04/2009']\n",
      "newsList= frameWithNews.News.ix['02/04/2009']"
     ],
     "language": "python",
     "metadata": {},
     "outputs": [],
     "prompt_number": 46
    },
    {
     "cell_type": "code",
     "collapsed": false,
     "input": [
      "print newsList\n"
     ],
     "language": "python",
     "metadata": {},
     "outputs": [
      {
       "output_type": "stream",
       "stream": "stdout",
       "text": [
        "['Traders Bet Technology Rally Be a Long One', 'An AIG Quest to Juice Profit', 'EchoStar Amasses Sirius XM Debt', 'Paul Robeson in His Prime', 'This Doctor Makes Calls', 'Ominous Sign From Banks', 'Business Tax Breaks Raise Concerns', 'Litton Turns to Reducing Principal', 'In Merrill Played Hardball', 'Mortgage Banks Push for Federal Support', 'Makers Seek Bailout', 'Romania Trims Its Rates', 'Iceland Filing Clouds Stakes In Retail', 'European Insurers Post Stronger Earnings', 'Bloomberg LP to Cut Jobs', 'Oil Producers Boost Europe Stocks', 'Nuclear Power Sign Reactor Pact', 'Qantas Posts Plans Share Placement', 'Officials Examine PCCW Deal Vote', 'Visa Results Defy Economic Slump', 'Devon Energy Swings to Loss', 'Panetta Earned in Fees', 'House Delays TV Shift to June', 'Jaffe Speaks With Massachusetts Regulators', 'to Probe Bhutto Assassination', 'Obama Links Bailout to Caps on Pay', 'Judge Postpones Rambus Trial', 'Polo Ralph Net Drops', 'Garmin to Partner on Phones', 'PCCW Voting Records Are Seized', 'German Car Registrations Decline', 'Futures Shrug Off ADP', 'Obama Issues Limits', 'PCCW Shareholders Approve Buyout', 'Sara Lee Trim Forecasts', 'Deep Job Losses in January', 'Baugur Seeks Asset Protection', 'Kraft Posts Lower Cuts Outlook', 'Regulator Blocks Project', 'Obama to Unveil Pay Caps', 'Time Warner Falls Into the Red', 'Qantas Posts Drop in Net Profit', 'Munich Net Income Drops', 'India Nuclear Power Corp In Pact For Reactors', 'Condo King Corus Weighs Options', 'Europe Stocks Open Higher', 'Panasonic Swings to Cuts Jobs', 'Net Slips', 'Hynix Posts Fifth Straight Quarterly Loss', 'Australian Puts New Spin on Bowling', 'Loss Widens on', 'Loss Widens on', 'Luxottica to Offer Recession Benefits', 'Kazakhstan Devalues Currency by', 'Philip Net Falls', 'For Time to Shop as Bankers Flee Big Firms', 'Net Falls at Philip Morris International', 'Total Offers Jobs to Settle Strikes', 'Bird Remains Found in US Air Engine', 'Burnishing Your Driving Skills', 'Growth View for Tech Sector Is Cut', 'Textron Taps Out Billion In Credit', 'Retail Sales Slip', 'Allergan Cuts Rebates Are Set', 'Retail Sales Fall', 'Esprit Profit Fell', 'Munich Re Posts Drop in Profit', 'Gaza War Ended Too Soon', 'Video Sites Allow User Participation', 'Prudential Says It Lost Billion', u'Citron Set to Revamp Its Brand', 'Lawmakers Criticize SEC in Madoff Case', 'Australian Stimulus Rapped', 'Ping An Plans Shenzhen Skyscraper', 'China Tops in Auto Sales', 'Russia Plans Central Asian Force', 'Russia to Expand Bank Support', 'Belarus to Launch Joint Defense', 'Russia Ties Afghan Help to Shift', 'to Give Details on Bank Manager', 'Isolation of Hamas Slows Gaza Rebuilding', 'Talks on Kyrgyz Base Continue', 'Kodak Fails to Calm Investors', 'Markopolos Blasts SEC for', 'Deal to Rock Music Industry', 'China Manufacturing Contracts at Slower Pace', 'Lenovo Brings Back Chinese Leadership', 'Panasonic Plans to Cut Jobs', 'Station Casinos Mulls Bankruptcy Filing', 'More Web Ads Improve Their Aim', 'A Makeover for Your Google Results', 'Questions John Calipari', 'Trustee Seeks Europe Counsel', 'Union Chiefs to Seek End', 'Madoff Client List Is Disclosed In Filing', 'Tech Giant Cisco Posts Lower Net', 'Buffett to Invest in Swiss Re', 'IBM Promote Online Health Records', 'Goldman Wants to Pay Back TARP']\n"
       ]
      }
     ],
     "prompt_number": 47
    },
    {
     "cell_type": "code",
     "collapsed": false,
     "input": [
      "import pandas as pd\n",
      "from datetime import datetime\n",
      "from pandas.io.data import DataReader\n",
      "from pandas.io.data import DataReader\n",
      "class AutoVivification(dict):\n",
      "    \"\"\"Implementation of perl's autovivification feature.\"\"\"\n",
      "    def __getitem__(self, item):\n",
      "        try:\n",
      "            return dict.__getitem__(self, item)\n",
      "        except KeyError:\n",
      "            value = self[item] = type(self)()\n",
      "            return value\n",
      "        \n",
      "# declare global DataFrame- sp500Frame (populate with SPX prices?)\n",
      "sp500 = DataReader(\"SPY\", \"yahoo\", datetime(2010, 1, 1))"
     ],
     "language": "python",
     "metadata": {},
     "outputs": [],
     "prompt_number": 1
    },
    {
     "cell_type": "code",
     "collapsed": false,
     "input": [
      "sp500"
     ],
     "language": "python",
     "metadata": {},
     "outputs": [
      {
       "output_type": "pyout",
       "prompt_number": 2,
       "text": [
        "<class 'pandas.core.frame.DataFrame'>\n",
        "DatetimeIndex: 719 entries, 2010-01-04 00:00:00 to 2012-11-08 00:00:00\n",
        "Data columns:\n",
        "Open         719  non-null values\n",
        "High         719  non-null values\n",
        "Low          719  non-null values\n",
        "Close        719  non-null values\n",
        "Volume       719  non-null values\n",
        "Adj Close    719  non-null values\n",
        "dtypes: float64(5), int64(1)"
       ]
      }
     ],
     "prompt_number": 2
    },
    {
     "cell_type": "code",
     "collapsed": false,
     "input": [],
     "language": "python",
     "metadata": {},
     "outputs": []
    }
   ],
   "metadata": {}
  }
 ]
}