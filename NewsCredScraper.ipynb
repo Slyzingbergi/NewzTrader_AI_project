{
 "metadata": {
  "name": "NewsCredScraper"
 },
 "nbformat": 3,
 "nbformat_minor": 0,
 "worksheets": [
  {
   "cells": [
    {
     "cell_type": "code",
     "collapsed": false,
     "input": [
      "pd.set_printoptions(max_rows=2000)"
     ],
     "language": "python",
     "metadata": {},
     "outputs": [],
     "prompt_number": 31
    },
    {
     "cell_type": "code",
     "collapsed": false,
     "input": [
      "from lxml import etree\n",
      "from datetime import datetime\n",
      "from datetime import date\n",
      "from datetime import timedelta\n",
      "#import datetime \n",
      "from dateutil.parser import parse\n",
      "#import pandas as pd\n",
      "\n",
      "#from pandas.io.data import DataReader\n",
      "#from pandas.io.data import DataReader\n",
      "#from pandas.io.data import DataReader\n",
      "\n",
      "#import pandas as pd\n",
      "#from datetime import datetime\n",
      "\n",
      "import pandas as pd\n",
      "#\n",
      "from pandas.io.data import DataReader\n",
      "\n",
      "def daterange(start_date, end_date):\n",
      "    for n in range(int ((end_date - start_date).days)):\n",
      "        yield start_date + timedelta(n)\n",
      "        \n",
      "def only_alphanum(s):\n",
      "    #s = unicode(s, \"utf-8\")\n",
      "    return ' '.join(c for c in s.split() if c.isalnum())\n",
      "def only_alpha(s):\n",
      "    return ' '.join(c for c in s.split() if c.isalpha())\n",
      "def removeNonAscii(s): return \"\".join(i for i in s if ord(i)<128)\n",
      "\n",
      "sp500 = DataReader(\"SPY\", \"yahoo\", datetime(2009, 1, 1))\n",
      "news={}\n",
      "#descs = {}\n",
      "start_date=date(2009, 1, 1)\n",
      "end_date = date(2012, 11, 9)\n",
      "for single_date in daterange(start_date, end_date):\n",
      "    news[single_date]=[]\n",
      "for single_date in daterange(start_date, end_date):\n",
      "    year = single_date.year\n",
      "    month = single_date.month\n",
      "    day = single_date.day\n",
      "    path = \"http://api.newscred.com/articles?access_key=c4bcc3f7c9bf9ec159f51da0a86ca658&sources=104afa30d811d37a5582a39e1662a311&pagesize=99&from_date=%d-%d-%d&to_date=%d-%d-%d 23:59:59\" % (year, month, day, year, month, day)\n",
      "    while True:\n",
      "        try:\n",
      "            root = etree.parse(path)\n",
      "            break\n",
      "        except etree.XMLSyntaxError:\n",
      "            pass\n",
      "    myRoot = root.getroot()\n",
      "\n",
      "    #news[date(year, month, day)]=[]\n",
      "    #descs[date(year, month, day)]=[]\n",
      "    for element in myRoot.iter(\"article\"):\n",
      "        #for item in element.iter(\"description\"):\n",
      "         #   desc = item.text\n",
      "        for item in element.iter(\"title\"):\n",
      "            title = item.text\n",
      "        for item in element.iter(\"created_at\"):\n",
      "            pubDate = parse(item.text)\n",
      "    \n",
      "        news[pubDate.date()].append(only_alphanum(removeNonAscii(title)))\n",
      "                #descs[pubDate.date()].append(only_alphanum(removeNonAscii(desc)))\n",
      "newsframe = pd.Series(news, name='News')\n",
      "#descframe = pd.Series(descs, name='Desc')\n",
      "frameWithNews = sp500.join(pd.DataFrame(newsframe))\n",
      "#sp500Frame = frameWithNews.join(pd.DataFrame(descframe))"
     ],
     "language": "python",
     "metadata": {},
     "outputs": [
      {
       "ename": "IOError",
       "evalue": "Error reading file 'http://api.newscred.com/articles?access_key=c4bcc3f7c9bf9ec159f51da0a86ca658&sources=104afa30d811d37a5582a39e1662a311&pagesize=99&from_date=2011-10-28&to_date=2011-10-28 23:59:59': failed to load external entity \"http://api.newscred.com/articles?access_key=c4bcc3f7c9bf9ec159f51da0a86ca658&sources=104afa30d811d37a5582a39e1662a311&pagesize=99&from_date=2011-10-28&to_date=2011-10-28%2023:59:59\"",
       "output_type": "pyerr",
       "traceback": [
        "\u001b[0;31m---------------------------------------------------------------------------\u001b[0m\n\u001b[0;31mIOError\u001b[0m                                   Traceback (most recent call last)",
        "\u001b[0;32m<ipython-input-33-17b5c3f3b7f8>\u001b[0m in \u001b[0;36m<module>\u001b[0;34m()\u001b[0m\n\u001b[1;32m     43\u001b[0m     \u001b[0;32mwhile\u001b[0m \u001b[0mTrue\u001b[0m\u001b[0;34m:\u001b[0m\u001b[0;34m\u001b[0m\u001b[0m\n\u001b[1;32m     44\u001b[0m         \u001b[0;32mtry\u001b[0m\u001b[0;34m:\u001b[0m\u001b[0;34m\u001b[0m\u001b[0m\n\u001b[0;32m---> 45\u001b[0;31m             \u001b[0mroot\u001b[0m \u001b[0;34m=\u001b[0m \u001b[0metree\u001b[0m\u001b[0;34m.\u001b[0m\u001b[0mparse\u001b[0m\u001b[0;34m(\u001b[0m\u001b[0mpath\u001b[0m\u001b[0;34m)\u001b[0m\u001b[0;34m\u001b[0m\u001b[0m\n\u001b[0m\u001b[1;32m     46\u001b[0m             \u001b[0;32mbreak\u001b[0m\u001b[0;34m\u001b[0m\u001b[0m\n\u001b[1;32m     47\u001b[0m         \u001b[0;32mexcept\u001b[0m \u001b[0metree\u001b[0m\u001b[0;34m.\u001b[0m\u001b[0mXMLSyntaxError\u001b[0m\u001b[0;34m:\u001b[0m\u001b[0;34m\u001b[0m\u001b[0m\n",
        "\u001b[0;32m/Library/Frameworks/EPD64.framework/Versions/7.3/lib/python2.7/site-packages/lxml/etree.so\u001b[0m in \u001b[0;36mlxml.etree.parse (src/lxml/lxml.etree.c:56220)\u001b[0;34m()\u001b[0m\n",
        "\u001b[0;32m/Library/Frameworks/EPD64.framework/Versions/7.3/lib/python2.7/site-packages/lxml/etree.so\u001b[0m in \u001b[0;36mlxml.etree._parseDocument (src/lxml/lxml.etree.c:82303)\u001b[0;34m()\u001b[0m\n",
        "\u001b[0;32m/Library/Frameworks/EPD64.framework/Versions/7.3/lib/python2.7/site-packages/lxml/etree.so\u001b[0m in \u001b[0;36mlxml.etree._parseDocumentFromURL (src/lxml/lxml.etree.c:82596)\u001b[0;34m()\u001b[0m\n",
        "\u001b[0;32m/Library/Frameworks/EPD64.framework/Versions/7.3/lib/python2.7/site-packages/lxml/etree.so\u001b[0m in \u001b[0;36mlxml.etree._parseDocFromFile (src/lxml/lxml.etree.c:81635)\u001b[0;34m()\u001b[0m\n",
        "\u001b[0;32m/Library/Frameworks/EPD64.framework/Versions/7.3/lib/python2.7/site-packages/lxml/etree.so\u001b[0m in \u001b[0;36mlxml.etree._BaseParser._parseDocFromFile (src/lxml/lxml.etree.c:78544)\u001b[0;34m()\u001b[0m\n",
        "\u001b[0;32m/Library/Frameworks/EPD64.framework/Versions/7.3/lib/python2.7/site-packages/lxml/etree.so\u001b[0m in \u001b[0;36mlxml.etree._ParserContext._handleParseResultDoc (src/lxml/lxml.etree.c:74488)\u001b[0;34m()\u001b[0m\n",
        "\u001b[0;32m/Library/Frameworks/EPD64.framework/Versions/7.3/lib/python2.7/site-packages/lxml/etree.so\u001b[0m in \u001b[0;36mlxml.etree._handleParseResult (src/lxml/lxml.etree.c:75379)\u001b[0;34m()\u001b[0m\n",
        "\u001b[0;32m/Library/Frameworks/EPD64.framework/Versions/7.3/lib/python2.7/site-packages/lxml/etree.so\u001b[0m in \u001b[0;36mlxml.etree._raiseParseError (src/lxml/lxml.etree.c:74681)\u001b[0;34m()\u001b[0m\n",
        "\u001b[0;31mIOError\u001b[0m: Error reading file 'http://api.newscred.com/articles?access_key=c4bcc3f7c9bf9ec159f51da0a86ca658&sources=104afa30d811d37a5582a39e1662a311&pagesize=99&from_date=2011-10-28&to_date=2011-10-28 23:59:59': failed to load external entity \"http://api.newscred.com/articles?access_key=c4bcc3f7c9bf9ec159f51da0a86ca658&sources=104afa30d811d37a5582a39e1662a311&pagesize=99&from_date=2011-10-28&to_date=2011-10-28%2023:59:59\""
       ]
      }
     ],
     "prompt_number": 33
    },
    {
     "cell_type": "code",
     "collapsed": false,
     "input": [
      "import pickle\n",
      "from datetime import datetime\n",
      "from datetime import timedelta\n",
      "from datetime import date\n",
      "\n",
      "def daterange(start_date, end_date):\n",
      "    for n in range(int ((end_date - start_date).days)):\n",
      "        yield start_date + timedelta(n)\n",
      "\n",
      "fkl_file = open('combinedNewsDict.pkl', 'rb')\n",
      "news = pickle.load(fkl_file)\n",
      "fkl_file.close()\n",
      "start_date=date(2011, 7, 27)\n",
      "end_date = date(2012, 11, 9)\n",
      "\n",
      "import pandas as pd\n",
      "#\n",
      "from pandas.io.data import DataReader\n",
      "\n",
      "def daterange(start_date, end_date):\n",
      "    for n in range(int ((end_date - start_date).days)):\n",
      "        yield start_date + timedelta(n)\n",
      "        \n",
      "def only_alphanum(s):\n",
      "    #s = unicode(s, \"utf-8\")\n",
      "    return ' '.join(c for c in s.split() if c.isalnum())\n",
      "def only_alpha(s):\n",
      "    return ' '.join(c for c in s.split() if c.isalpha())\n",
      "def removeNonAscii(s): return \"\".join(i for i in s if ord(i)<128)\n",
      "\n",
      "sp500 = DataReader(\"SPY\", \"yahoo\", datetime(2009, 1, 1))\n",
      "newsframe = pd.Series(news, name='News')\n",
      "#descframe = pd.Series(descs, name='Desc')\n",
      "frameWithNews = sp500.join(pd.DataFrame(newsframe))\n",
      "#sp500Frame = frameWithNews.join(pd.DataFrame(descframe))\n"
     ],
     "language": "python",
     "metadata": {},
     "outputs": [],
     "prompt_number": 53
    },
    {
     "cell_type": "code",
     "collapsed": false,
     "input": [
      "from datetime import timedelta\n",
      "def daterange(start_date, end_date):\n",
      "    for n in range(int ((end_date - start_date).days)):\n",
      "        yield start_date + timedelta(n)\n",
      "\n",
      "newsDict={}\n",
      "start_date=date(2009, 1, 1)\n",
      "end_date = date(2012, 12, 31)\n",
      "for single_date in daterange(start_date, end_date):\n",
      "    newsDict[single_date]=[]"
     ],
     "language": "python",
     "metadata": {},
     "outputs": [],
     "prompt_number": 63
    },
    {
     "cell_type": "code",
     "collapsed": false,
     "input": [],
     "language": "python",
     "metadata": {},
     "outputs": [],
     "prompt_number": 31
    },
    {
     "cell_type": "code",
     "collapsed": false,
     "input": [
      "#print sp500Frame.Desc.ix['02/04/2009']\n",
      "newsList= frameWithNews.News.ix['02/04/2009']"
     ],
     "language": "python",
     "metadata": {},
     "outputs": [],
     "prompt_number": 46
    },
    {
     "cell_type": "code",
     "collapsed": false,
     "input": [
      "print newsList\n"
     ],
     "language": "python",
     "metadata": {},
     "outputs": [
      {
       "output_type": "stream",
       "stream": "stdout",
       "text": [
        "['Traders Bet Technology Rally Be a Long One', 'An AIG Quest to Juice Profit', 'EchoStar Amasses Sirius XM Debt', 'Paul Robeson in His Prime', 'This Doctor Makes Calls', 'Ominous Sign From Banks', 'Business Tax Breaks Raise Concerns', 'Litton Turns to Reducing Principal', 'In Merrill Played Hardball', 'Mortgage Banks Push for Federal Support', 'Makers Seek Bailout', 'Romania Trims Its Rates', 'Iceland Filing Clouds Stakes In Retail', 'European Insurers Post Stronger Earnings', 'Bloomberg LP to Cut Jobs', 'Oil Producers Boost Europe Stocks', 'Nuclear Power Sign Reactor Pact', 'Qantas Posts Plans Share Placement', 'Officials Examine PCCW Deal Vote', 'Visa Results Defy Economic Slump', 'Devon Energy Swings to Loss', 'Panetta Earned in Fees', 'House Delays TV Shift to June', 'Jaffe Speaks With Massachusetts Regulators', 'to Probe Bhutto Assassination', 'Obama Links Bailout to Caps on Pay', 'Judge Postpones Rambus Trial', 'Polo Ralph Net Drops', 'Garmin to Partner on Phones', 'PCCW Voting Records Are Seized', 'German Car Registrations Decline', 'Futures Shrug Off ADP', 'Obama Issues Limits', 'PCCW Shareholders Approve Buyout', 'Sara Lee Trim Forecasts', 'Deep Job Losses in January', 'Baugur Seeks Asset Protection', 'Kraft Posts Lower Cuts Outlook', 'Regulator Blocks Project', 'Obama to Unveil Pay Caps', 'Time Warner Falls Into the Red', 'Qantas Posts Drop in Net Profit', 'Munich Net Income Drops', 'India Nuclear Power Corp In Pact For Reactors', 'Condo King Corus Weighs Options', 'Europe Stocks Open Higher', 'Panasonic Swings to Cuts Jobs', 'Net Slips', 'Hynix Posts Fifth Straight Quarterly Loss', 'Australian Puts New Spin on Bowling', 'Loss Widens on', 'Loss Widens on', 'Luxottica to Offer Recession Benefits', 'Kazakhstan Devalues Currency by', 'Philip Net Falls', 'For Time to Shop as Bankers Flee Big Firms', 'Net Falls at Philip Morris International', 'Total Offers Jobs to Settle Strikes', 'Bird Remains Found in US Air Engine', 'Burnishing Your Driving Skills', 'Growth View for Tech Sector Is Cut', 'Textron Taps Out Billion In Credit', 'Retail Sales Slip', 'Allergan Cuts Rebates Are Set', 'Retail Sales Fall', 'Esprit Profit Fell', 'Munich Re Posts Drop in Profit', 'Gaza War Ended Too Soon', 'Video Sites Allow User Participation', 'Prudential Says It Lost Billion', u'Citron Set to Revamp Its Brand', 'Lawmakers Criticize SEC in Madoff Case', 'Australian Stimulus Rapped', 'Ping An Plans Shenzhen Skyscraper', 'China Tops in Auto Sales', 'Russia Plans Central Asian Force', 'Russia to Expand Bank Support', 'Belarus to Launch Joint Defense', 'Russia Ties Afghan Help to Shift', 'to Give Details on Bank Manager', 'Isolation of Hamas Slows Gaza Rebuilding', 'Talks on Kyrgyz Base Continue', 'Kodak Fails to Calm Investors', 'Markopolos Blasts SEC for', 'Deal to Rock Music Industry', 'China Manufacturing Contracts at Slower Pace', 'Lenovo Brings Back Chinese Leadership', 'Panasonic Plans to Cut Jobs', 'Station Casinos Mulls Bankruptcy Filing', 'More Web Ads Improve Their Aim', 'A Makeover for Your Google Results', 'Questions John Calipari', 'Trustee Seeks Europe Counsel', 'Union Chiefs to Seek End', 'Madoff Client List Is Disclosed In Filing', 'Tech Giant Cisco Posts Lower Net', 'Buffett to Invest in Swiss Re', 'IBM Promote Online Health Records', 'Goldman Wants to Pay Back TARP']\n"
       ]
      }
     ],
     "prompt_number": 47
    },
    {
     "cell_type": "code",
     "collapsed": false,
     "input": [
      "import pandas as pd\n",
      "from datetime import datetime\n",
      "from pandas.io.data import DataReader\n",
      "from pandas.io.data import DataReader\n",
      "class AutoVivification(dict):\n",
      "    \"\"\"Implementation of perl's autovivification feature.\"\"\"\n",
      "    def __getitem__(self, item):\n",
      "        try:\n",
      "            return dict.__getitem__(self, item)\n",
      "        except KeyError:\n",
      "            value = self[item] = type(self)()\n",
      "            return value\n",
      "        \n",
      "# declare global DataFrame- sp500Frame (populate with SPX prices?)\n",
      "sp500 = DataReader(\"SPY\", \"yahoo\", datetime(2010, 1, 1))"
     ],
     "language": "python",
     "metadata": {},
     "outputs": [],
     "prompt_number": 1
    },
    {
     "cell_type": "code",
     "collapsed": false,
     "input": [
      "sp500"
     ],
     "language": "python",
     "metadata": {},
     "outputs": [
      {
       "output_type": "pyout",
       "prompt_number": 2,
       "text": [
        "<class 'pandas.core.frame.DataFrame'>\n",
        "DatetimeIndex: 719 entries, 2010-01-04 00:00:00 to 2012-11-08 00:00:00\n",
        "Data columns:\n",
        "Open         719  non-null values\n",
        "High         719  non-null values\n",
        "Low          719  non-null values\n",
        "Close        719  non-null values\n",
        "Volume       719  non-null values\n",
        "Adj Close    719  non-null values\n",
        "dtypes: float64(5), int64(1)"
       ]
      }
     ],
     "prompt_number": 2
    },
    {
     "cell_type": "code",
     "collapsed": false,
     "input": [
      "newsframe = pd.Series(news, name='News')\n",
      "#descframe = pd.Series(descs, name='Desc')\n",
      "frameWithNews = sp500.join(pd.DataFrame(newsframe))"
     ],
     "language": "python",
     "metadata": {},
     "outputs": [],
     "prompt_number": 4
    },
    {
     "cell_type": "code",
     "collapsed": false,
     "input": [
      "frameWithNews"
     ],
     "language": "python",
     "metadata": {},
     "outputs": [
      {
       "output_type": "pyout",
       "prompt_number": 5,
       "text": [
        "<class 'pandas.core.frame.DataFrame'>\n",
        "DatetimeIndex: 972 entries, 2009-01-02 00:00:00 to 2012-11-09 00:00:00\n",
        "Data columns:\n",
        "Open         972  non-null values\n",
        "High         972  non-null values\n",
        "Low          972  non-null values\n",
        "Close        972  non-null values\n",
        "Volume       972  non-null values\n",
        "Adj Close    972  non-null values\n",
        "News         971  non-null values\n",
        "dtypes: float64(5), int64(1), object(1)"
       ]
      }
     ],
     "prompt_number": 5
    },
    {
     "cell_type": "code",
     "collapsed": false,
     "input": [
      "print frameWithNews.ix['2/2/2009']"
     ],
     "language": "python",
     "metadata": {},
     "outputs": [
      {
       "output_type": "stream",
       "stream": "stdout",
       "text": [
        "Open                                                     81.57\n",
        "High                                                     83.18\n",
        "Low                                                      81.31\n",
        "Close                                                    82.58\n",
        "Volume                                               288233300\n",
        "Adj Close                                                76.39\n",
        "News         ['CEO Gets Rare Second Act', 'PCCW Deal Faces ...\n",
        "Name: 2009-02-02 00:00:00\n"
       ]
      }
     ],
     "prompt_number": 78
    },
    {
     "cell_type": "code",
     "collapsed": false,
     "input": [
      "newsReturns = frameWithNews['Adj Close'].pct_change()"
     ],
     "language": "python",
     "metadata": {},
     "outputs": [],
     "prompt_number": 54
    },
    {
     "cell_type": "code",
     "collapsed": false,
     "input": [
      "newsReturns.name='Returns'"
     ],
     "language": "python",
     "metadata": {},
     "outputs": [],
     "prompt_number": 55
    },
    {
     "cell_type": "code",
     "collapsed": false,
     "input": [
      "returnsFrame = frameWithNews.join(pd.DataFrame(newsReturns))"
     ],
     "language": "python",
     "metadata": {},
     "outputs": [],
     "prompt_number": 56
    },
    {
     "cell_type": "code",
     "collapsed": false,
     "input": [
      "returnsFrame.ix['02/02/2009']"
     ],
     "language": "python",
     "metadata": {},
     "outputs": [
      {
       "output_type": "pyout",
       "prompt_number": 57,
       "text": [
        "Open                                                     81.57\n",
        "High                                                     83.18\n",
        "Low                                                      81.31\n",
        "Close                                                    82.58\n",
        "Volume                                               288233300\n",
        "Adj Close                                                76.39\n",
        "News         ['CEO Gets Rare Second Act', 'PCCW Deal Faces ...\n",
        "Returns                                           -0.003001827\n",
        "Name: 2009-02-02 00:00:00"
       ]
      }
     ],
     "prompt_number": 57
    },
    {
     "cell_type": "code",
     "collapsed": false,
     "input": [
      "print returnsFrame.dropna()"
     ],
     "language": "python",
     "metadata": {},
     "outputs": [
      {
       "output_type": "stream",
       "stream": "stdout",
       "text": [
        "<class 'pandas.core.frame.DataFrame'>\n",
        "DatetimeIndex: 970 entries, 2009-01-05 00:00:00 to 2012-11-08 00:00:00\n",
        "Data columns:\n",
        "Open         970  non-null values\n",
        "High         970  non-null values\n",
        "Low          970  non-null values\n",
        "Close        970  non-null values\n",
        "Volume       970  non-null values\n",
        "Adj Close    970  non-null values\n",
        "News         970  non-null values\n",
        "Returns      970  non-null values\n",
        "dtypes: float64(6), int64(1), object(1)\n"
       ]
      }
     ],
     "prompt_number": 92
    },
    {
     "cell_type": "code",
     "collapsed": false,
     "input": [
      "returnsFrame.to_csv('newsCredReturnsFrame.panda')"
     ],
     "language": "python",
     "metadata": {},
     "outputs": [],
     "prompt_number": 58
    },
    {
     "cell_type": "code",
     "collapsed": false,
     "input": [
      "returnsFrame['UP'] = returnsFrame.Returns > 0.01"
     ],
     "language": "python",
     "metadata": {},
     "outputs": [],
     "prompt_number": 59
    },
    {
     "cell_type": "code",
     "collapsed": false,
     "input": [
      "returnsFrame['DOWN'] = returnsFrame.Returns < -0.01"
     ],
     "language": "python",
     "metadata": {},
     "outputs": [],
     "prompt_number": 60
    },
    {
     "cell_type": "code",
     "collapsed": false,
     "input": [
      "returnsFrame['NONE'] = (returnsFrame['UP']==False) & (returnsFrame['DOWN']==False)"
     ],
     "language": "python",
     "metadata": {},
     "outputs": [],
     "prompt_number": 61
    },
    {
     "cell_type": "code",
     "collapsed": false,
     "input": [
      "print returnsFrame"
     ],
     "language": "python",
     "metadata": {},
     "outputs": [
      {
       "output_type": "stream",
       "stream": "stdout",
       "text": [
        "<class 'pandas.core.frame.DataFrame'>\n",
        "DatetimeIndex: 972 entries, 2009-01-02 00:00:00 to 2012-11-09 00:00:00\n",
        "Data columns:\n",
        "Open         972  non-null values\n",
        "High         972  non-null values\n",
        "Low          972  non-null values\n",
        "Close        972  non-null values\n",
        "Volume       972  non-null values\n",
        "Adj Close    972  non-null values\n",
        "News         971  non-null values\n",
        "Returns      971  non-null values\n",
        "UP           972  non-null values\n",
        "DOWN         972  non-null values\n",
        "NONE         972  non-null values\n",
        "dtypes: bool(3), float64(6), int64(1), object(1)\n"
       ]
      }
     ],
     "prompt_number": 41
    },
    {
     "cell_type": "code",
     "collapsed": false,
     "input": [
      "print returnsFrame.ix['02/02/2009']"
     ],
     "language": "python",
     "metadata": {},
     "outputs": [
      {
       "output_type": "stream",
       "stream": "stdout",
       "text": [
        "Open                                                     81.57\n",
        "High                                                     83.18\n",
        "Low                                                      81.31\n",
        "Close                                                    82.58\n",
        "Volume                                               288233300\n",
        "Adj Close                                                76.39\n",
        "News         ['CEO Gets Rare Second Act', 'PCCW Deal Faces ...\n",
        "Returns                                           -0.003001827\n",
        "UP                                                       False\n",
        "DOWN                                                     False\n",
        "NONE                                                      True\n",
        "Name: 2009-02-02 00:00:00\n"
       ]
      }
     ],
     "prompt_number": 17
    },
    {
     "cell_type": "code",
     "collapsed": false,
     "input": [
      "droppedFrame = returnsFrame\n",
      "\n",
      "newsUP_frame = droppedFrame[droppedFrame['UP']==True]\n",
      "\n",
      "\n",
      "newsDOWN_frame = droppedFrame[droppedFrame['DOWN']==True]\n",
      "newsNONE_frame = droppedFrame[droppedFrame['NONE']==True]"
     ],
     "language": "python",
     "metadata": {},
     "outputs": [],
     "prompt_number": 62
    },
    {
     "cell_type": "code",
     "collapsed": false,
     "input": [
      "newsDOWN_frame = newsDOWN_frame.dropna()"
     ],
     "language": "python",
     "metadata": {},
     "outputs": [],
     "prompt_number": 80
    },
    {
     "cell_type": "code",
     "collapsed": false,
     "input": [
      "# DO THIS FOR NONE, UP, and DOWN\n",
      "i = 1\n",
      "for row in newsDOWN_frame.iterrows():\n",
      "    i+=1\n",
      "    if len(row[1].ix['News'])>0:\n",
      "        for line in row[1].ix['News']:\n",
      "            i+=1\n",
      "            writeFile = open('%d_news_DOWN.csv' % i, 'w')\n",
      "            writeFile.write(line+'\\n')"
     ],
     "language": "python",
     "metadata": {},
     "outputs": [],
     "prompt_number": 82
    },
    {
     "cell_type": "code",
     "collapsed": false,
     "input": [],
     "language": "python",
     "metadata": {},
     "outputs": [],
     "prompt_number": 134
    },
    {
     "cell_type": "code",
     "collapsed": false,
     "input": [
      "\n"
     ],
     "language": "python",
     "metadata": {},
     "outputs": [
      {
       "output_type": "pyout",
       "prompt_number": 135,
       "text": [
        "Index([Open, High, Low, Close, Volume, Adj Close, News, Returns, UP, DOWN,\n",
        "       NONE], dtype=object)"
       ]
      }
     ],
     "prompt_number": 135
    },
    {
     "cell_type": "code",
     "collapsed": false,
     "input": [
      "# NLTK - train nb_classifier\n",
      "\n",
      "\n",
      "import random\n",
      "import nltk as nltk\n",
      "#nltk.download()\n",
      "from nltk.corpus import stopwords\n",
      "import os, os.path\n",
      "path = os.path.expanduser('~/nltk_data')\n",
      "if not os.path.exists(path):\n",
      "    os.mkdir(path)\n",
      "os.path.exists(path)\n",
      "import nltk.data\n",
      "path in nltk.data.path\n",
      "from nltk.corpus.reader import CategorizedPlaintextCorpusReader\n",
      "reader = CategorizedPlaintextCorpusReader('.', r'.*_news_.*\\.csv', cat_pattern=r'.*_news_(\\w+)\\.csv')\n",
      "reader.categories()\n",
      "\n",
      "def bag_of_words(words):\n",
      "    return dict([(word, True) for word in words if word[0].isalpha()])\n",
      "import collections\n",
      "def bag_of_words_not_in_set(words, badwords):\n",
      "    return bag_of_words(set(words)-set(badwords))\n",
      "\n",
      "def bag_of_non_stopwords(words, stopfile='english'):\n",
      "    badwords = stopwords.words(stopfile)\n",
      "    return bag_of_words_not_in_set(words, badwords)\n",
      "\n",
      "from nltk.metrics import BigramAssocMeasures\n",
      "from nltk.collocations import BigramCollocationFinder\n",
      "\n",
      "def bag_of_bigrams_words(words, score_fn=BigramAssocMeasures.chi_sq, n=2000):\n",
      "    bigram_finder = BigramCollocationFinder.from_words(words)\n",
      "    bigrams = bigram_finder.nbest(score_fn, n)\n",
      "    dictOfBigrams = bag_of_words(bigrams)\n",
      "    dictOfBigrams.update(bag_of_non_stopwords(words))\n",
      "    return dictOfBigrams\n",
      "    \n",
      "def label_feats_from_corpus(corp, feature_detector=bag_of_bigrams_words):\n",
      "    label_feats = collections.defaultdict(list)\n",
      "    for label in corp.categories():\n",
      "        for fileid in corp.fileids(categories=[label]):\n",
      "            feats = feature_detector(corp.words(fileids=[fileid]))\n",
      "            label_feats[label].append(feats)\n",
      "    return label_feats\n",
      "\n",
      "def split_label_feats(lfeats, split=0.90):\n",
      "    train_feats = []\n",
      "    test_feats = []\n",
      "    for label, feats in lfeats.iteritems():\n",
      "        random.shuffle(feats, random.random)\n",
      "        cutoff = int(len(feats) * split)\n",
      "        train_feats.extend([(feat, label) for feat in feats[:cutoff]])\n",
      "        test_feats.extend([(feat, label) for feat in feats[cutoff:]])\n",
      "    return train_feats, test_feats\n",
      "\n",
      "\n",
      "\n",
      "\n",
      "reader.categories()\n",
      "\n",
      "lfeats = label_feats_from_corpus(reader)\n",
      "lfeats.keys()\n",
      "train_feats, test_feats = split_label_feats(lfeats)\n",
      "len(train_feats)\n",
      "len(test_feats)\n",
      "\n",
      "from nltk.classify import NaiveBayesClassifier\n",
      "nb_classifier = NaiveBayesClassifier.train(train_feats)\n",
      "nb_classifier.labels()\n",
      "\n",
      "from nltk.classify.util import accuracy\n",
      "accuracy(nb_classifier, test_feats)\n",
      "\n"
     ],
     "language": "python",
     "metadata": {},
     "outputs": [
      {
       "output_type": "pyout",
       "prompt_number": 84,
       "text": [
        "0.4696443341604632"
       ]
      }
     ],
     "prompt_number": 84
    },
    {
     "cell_type": "code",
     "collapsed": false,
     "input": [
      "print len(reader.fileids(categories=['UP']))\n",
      "print len(reader.fileids(categories=['DOWN']))\n",
      "print len(reader.fileids(categories=['NONE']))"
     ],
     "language": "python",
     "metadata": {},
     "outputs": [
      {
       "output_type": "stream",
       "stream": "stdout",
       "text": [
        "11099\n",
        "10627\n",
        "38713\n"
       ]
      }
     ],
     "prompt_number": 85
    },
    {
     "cell_type": "code",
     "collapsed": false,
     "input": [
      "nb_classifier.show_most_informative_features(n=200)"
     ],
     "language": "python",
     "metadata": {},
     "outputs": [
      {
       "output_type": "stream",
       "stream": "stdout",
       "text": [
        "Most Informative Features\n",
        "                 Reopens = True             DOWN : NONE   =     20.6 : 1.0"
       ]
      },
      {
       "output_type": "stream",
       "stream": "stdout",
       "text": [
        "\n",
        "        ('Euro', 'Hits') = True             DOWN : NONE   =     15.8 : 1.0\n",
        "                Flooding = True               UP : NONE   =     15.1 : 1.0\n",
        "     ('Losses', 'Mount') = True             DOWN : NONE   =     13.4 : 1.0\n",
        "          ('Ill', 'for') = True             DOWN : NONE   =     13.4 : 1.0\n",
        "         ('Sales', 'at') = True             DOWN : NONE   =     13.4 : 1.0\n",
        "                    Rout = True             DOWN : NONE   =     13.4 : 1.0\n",
        "                Diplomat = True             DOWN : NONE   =     13.4 : 1.0\n",
        "      ('Stocks', 'Jump') = True               UP : NONE   =     13.3 : 1.0\n",
        "      ('Shares', 'Gain') = True               UP : NONE   =     12.8 : 1.0\n",
        "         ('Tax', 'Deal') = True             DOWN : NONE   =     12.4 : 1.0\n",
        "     ('Stocks', 'Slide') = True             DOWN : UP     =     12.2 : 1.0\n",
        "     ('Fuel', 'Economy') = True             DOWN : NONE   =     10.9 : 1.0\n",
        "             Coordinated = True             DOWN : NONE   =     10.9 : 1.0\n",
        "                 Permits = True             DOWN : NONE   =     10.9 : 1.0\n",
        "     ('Poor', 'Nations') = True             DOWN : NONE   =     10.9 : 1.0\n",
        "         ('Will', 'the') = True             DOWN : NONE   =     10.9 : 1.0\n",
        "               Kickbacks = True             DOWN : NONE   =     10.9 : 1.0\n",
        "       ('Lenders', 'to') = True             DOWN : NONE   =     10.9 : 1.0\n",
        "       ('to', 'Contain') = True             DOWN : NONE   =     10.9 : 1.0\n",
        "      ('Boost', 'Sales') = True             DOWN : NONE   =     10.9 : 1.0\n",
        "    ('Jones', 'Apparel') = True             DOWN : NONE   =     10.9 : 1.0\n",
        "          ('May', 'Hit') = True             DOWN : NONE   =     10.9 : 1.0\n",
        "                    Bare = True             DOWN : NONE   =     10.9 : 1.0\n",
        "        ('Tax', 'Break') = True             DOWN : NONE   =     10.9 : 1.0\n",
        "       ('Alaska', 'Air') = True             DOWN : NONE   =     10.9 : 1.0\n",
        "        ('for', 'Trade') = True             DOWN : NONE   =     10.9 : 1.0\n",
        "         ('Cisco', 'to') = True             DOWN : NONE   =     10.9 : 1.0\n",
        "      ('China', 'Music') = True             DOWN : NONE   =     10.9 : 1.0\n",
        "                   Aegon = True             DOWN : NONE   =     10.9 : 1.0\n",
        "       ('Rises', 'Amid') = True             DOWN : NONE   =     10.9 : 1.0\n",
        "                 Contain = True             DOWN : NONE   =     10.9 : 1.0\n",
        "               Treasures = True             DOWN : NONE   =     10.9 : 1.0\n",
        "     ('Reports', 'Drop') = True             DOWN : NONE   =     10.9 : 1.0\n",
        "      ('The', 'Weekend') = True             DOWN : NONE   =     10.9 : 1.0\n",
        "         ('Court', 'to') = True             DOWN : UP     =     10.8 : 1.0\n",
        "                    GOME = True               UP : NONE   =     10.5 : 1.0\n",
        "     ('Toyota', 'Posts') = True               UP : NONE   =     10.5 : 1.0\n",
        "                   Kings = True               UP : NONE   =     10.5 : 1.0\n",
        "       ('Cut', 'Prices') = True               UP : NONE   =     10.5 : 1.0\n",
        "                 Tripoli = True               UP : NONE   =     10.5 : 1.0\n",
        "                    Boot = True               UP : NONE   =     10.5 : 1.0\n",
        "      ('Trade', 'Mixed') = True               UP : NONE   =     10.5 : 1.0\n",
        "           ('a', 'Hard') = True               UP : NONE   =     10.5 : 1.0\n",
        "                   Rogue = True               UP : NONE   =     10.5 : 1.0\n",
        "                   Lloyd = True               UP : NONE   =     10.5 : 1.0\n",
        "                  Lonely = True               UP : NONE   =     10.5 : 1.0\n",
        "            Therapeutics = True               UP : NONE   =     10.5 : 1.0\n",
        "      ('Virgin', 'Blue') = True               UP : NONE   =     10.5 : 1.0\n",
        "         ('Costs', 'to') = True               UP : NONE   =     10.5 : 1.0\n",
        "                    Boon = True               UP : NONE   =     10.5 : 1.0\n",
        "           ('as', 'CFO') = True               UP : NONE   =     10.5 : 1.0\n",
        "                Actually = True               UP : NONE   =     10.5 : 1.0\n",
        "      ('Kansas', 'City') = True               UP : NONE   =     10.5 : 1.0\n",
        "                 McQueen = True               UP : NONE   =     10.5 : 1.0\n",
        "               Consensus = True             DOWN : NONE   =      9.5 : 1.0\n",
        "    ('Music', 'Service') = True             DOWN : NONE   =      9.5 : 1.0\n",
        "                   Dutch = True             NONE : DOWN   =      9.2 : 1.0\n",
        "                  Quakes = True               UP : NONE   =      9.1 : 1.0\n",
        "                   Flows = True               UP : NONE   =      9.1 : 1.0\n",
        "     ('World', 'Series') = True               UP : NONE   =      9.1 : 1.0\n",
        "   ('Borrowing', 'Hits') = True             DOWN : NONE   =      8.5 : 1.0\n",
        "       ('More', 'Women') = True             DOWN : NONE   =      8.5 : 1.0\n",
        "    ('Markets', 'Lower') = True             DOWN : NONE   =      8.5 : 1.0\n",
        "    ('Stay', 'Sluggish') = True             DOWN : NONE   =      8.5 : 1.0\n",
        "    ('Blackstone', 'in') = True             DOWN : NONE   =      8.5 : 1.0\n",
        "         ('Up', 'Short') = True             DOWN : NONE   =      8.5 : 1.0\n",
        "               Chemicals = True             DOWN : NONE   =      8.5 : 1.0\n",
        "         ('Get', 'Help') = True             DOWN : NONE   =      8.5 : 1.0\n",
        "      ('Jitters', 'Hit') = True             DOWN : NONE   =      8.5 : 1.0\n",
        "        ('as', 'Yields') = True             DOWN : NONE   =      8.5 : 1.0\n",
        "                   Defer = True             DOWN : NONE   =      8.5 : 1.0\n",
        "     ('Cuts', 'Ratings') = True             DOWN : NONE   =      8.5 : 1.0\n",
        "        ('Need', 'More') = True             DOWN : NONE   =      8.5 : 1.0\n",
        "                Disabled = True             DOWN : NONE   =      8.5 : 1.0\n",
        " ('Senate', 'Democrats') = True             DOWN : NONE   =      8.5 : 1.0\n",
        "('Bankruptcy', 'Protection') = True             DOWN : NONE   =      8.5 : 1.0\n",
        "    ('Macarthur', 'Bid') = True             DOWN : NONE   =      8.5 : 1.0\n",
        "          ('Tax', 'Cut') = True             DOWN : NONE   =      8.5 : 1.0\n",
        "     ('Agricole', 'Net') = True             DOWN : NONE   =      8.5 : 1.0\n",
        "                    Nazi = True             DOWN : NONE   =      8.5 : 1.0\n",
        "    ('Greek', 'Leftist') = True             DOWN : NONE   =      8.5 : 1.0\n",
        "                    CNPC = True             DOWN : NONE   =      8.5 : 1.0\n",
        "                Weakened = True             DOWN : NONE   =      8.5 : 1.0\n",
        "         ('Grows', 'Up') = True             DOWN : NONE   =      8.5 : 1.0\n",
        "       ('for', 'London') = True             DOWN : NONE   =      8.5 : 1.0\n",
        "     ('Debt', 'Worries') = True             DOWN : NONE   =      8.5 : 1.0\n",
        "           ('on', 'LSE') = True             DOWN : NONE   =      8.5 : 1.0\n",
        "       ('Sales', 'Stay') = True             DOWN : NONE   =      8.5 : 1.0\n",
        "       ('Before', 'You') = True             DOWN : NONE   =      8.5 : 1.0\n",
        "          ('Data', 'to') = True             DOWN : NONE   =      8.5 : 1.0\n",
        "       ('as', 'Margins') = True             DOWN : NONE   =      8.5 : 1.0\n",
        "          ('Have', 'in') = True             DOWN : NONE   =      8.5 : 1.0\n",
        "                Declined = True             DOWN : NONE   =      8.5 : 1.0\n",
        "        ('In', 'Praise') = True             DOWN : NONE   =      8.5 : 1.0\n",
        "      ('Comes', 'Under') = True             DOWN : NONE   =      8.5 : 1.0\n",
        "    ('Italian', 'Banks') = True             DOWN : NONE   =      8.5 : 1.0\n",
        "       ('Could', 'Hurt') = True             DOWN : NONE   =      8.5 : 1.0\n",
        "   ('Trims', 'Forecast') = True             DOWN : NONE   =      8.5 : 1.0\n",
        "                  Pujols = True             DOWN : NONE   =      8.5 : 1.0\n",
        "         ('for', 'Iron') = True             DOWN : NONE   =      8.5 : 1.0\n",
        "           ('Up', 'New') = True             DOWN : NONE   =      8.5 : 1.0\n",
        "         ('for', 'Work') = True             DOWN : NONE   =      8.5 : 1.0\n",
        "             Dreamliners = True             DOWN : NONE   =      8.5 : 1.0\n",
        "                Believed = True             DOWN : NONE   =      8.5 : 1.0\n",
        "       ('Pattern', 'of') = True             DOWN : NONE   =      8.5 : 1.0\n",
        "         ('to', 'Defer') = True             DOWN : NONE   =      8.5 : 1.0\n",
        "         ('Care', 'for') = True             DOWN : NONE   =      8.5 : 1.0\n",
        "      ('Grounded', 'in') = True             DOWN : NONE   =      8.5 : 1.0\n",
        "          ('This', 'Is') = True             DOWN : NONE   =      8.5 : 1.0\n",
        "('Unemployment', 'Hits') = True             DOWN : NONE   =      8.5 : 1.0\n",
        "          ('Key', 'for') = True             DOWN : NONE   =      8.5 : 1.0\n",
        "               Estimated = True             DOWN : NONE   =      8.5 : 1.0\n",
        "                  Stamps = True             DOWN : NONE   =      8.5 : 1.0\n",
        "   ('Over', 'Mortgages') = True             DOWN : NONE   =      8.5 : 1.0\n",
        "                   Rican = True             DOWN : NONE   =      8.5 : 1.0\n",
        "        ('to', 'Stress') = True             DOWN : NONE   =      8.5 : 1.0\n",
        "                      Il = True             DOWN : NONE   =      8.5 : 1.0\n",
        "     ('Virgin', 'Media') = True             DOWN : NONE   =      8.5 : 1.0\n",
        "   ('Global', 'Markets') = True             DOWN : NONE   =      8.5 : 1.0\n",
        "        ('for', 'Bonds') = True             DOWN : NONE   =      8.5 : 1.0\n",
        "            Refinancings = True             DOWN : NONE   =      8.5 : 1.0\n",
        "        ('Last', 'Week') = True             DOWN : NONE   =      8.5 : 1.0\n",
        "                    CCTV = True             DOWN : NONE   =      8.5 : 1.0\n",
        "     ('China', 'Swings') = True             DOWN : NONE   =      8.5 : 1.0\n",
        "  ('Global', 'Recovery') = True             DOWN : NONE   =      8.5 : 1.0\n",
        "  ('Regulators', 'Shut') = True             DOWN : NONE   =      8.5 : 1.0\n",
        "                 Outlets = True             DOWN : NONE   =      8.5 : 1.0\n",
        "                 Plummet = True             DOWN : NONE   =      8.5 : 1.0\n",
        "         ('on', 'Stake') = True             DOWN : NONE   =      8.5 : 1.0\n",
        "     ('Outlook', 'Dims') = True             DOWN : NONE   =      8.5 : 1.0\n",
        "   ('Antitrust', 'Case') = True             DOWN : NONE   =      8.5 : 1.0\n",
        "        ('Sony', 'Bets') = True             DOWN : NONE   =      8.5 : 1.0\n",
        "        ('Police', 'in') = True             DOWN : NONE   =      8.5 : 1.0\n",
        "                    Foul = True             DOWN : NONE   =      8.5 : 1.0\n",
        "      ('Dollar', 'Hits') = True             DOWN : NONE   =      8.5 : 1.0\n",
        "           ('Make', 'a') = True             DOWN : NONE   =      8.5 : 1.0\n",
        "    ('Third', 'Quarter') = True             DOWN : NONE   =      8.5 : 1.0\n",
        "          ('Buy', 'for') = True             DOWN : NONE   =      8.5 : 1.0\n",
        "     ('SABMiller', 'to') = True             DOWN : NONE   =      8.5 : 1.0\n",
        "      ('Chooses', 'New') = True             DOWN : NONE   =      8.5 : 1.0\n",
        "   ('Shares', 'Plummet') = True             DOWN : NONE   =      8.5 : 1.0\n",
        " ('Mitsubishi', 'Heavy') = True             DOWN : NONE   =      8.5 : 1.0\n",
        "  ('Mortgage', 'Market') = True             DOWN : NONE   =      8.5 : 1.0\n",
        "        ('on', 'Public') = True             DOWN : NONE   =      8.5 : 1.0\n",
        "         ('Life', 'for') = True             DOWN : NONE   =      8.5 : 1.0\n",
        "  ('Inflation', 'Rises') = True             DOWN : NONE   =      8.5 : 1.0\n",
        "     ('Hit', 'European') = True             DOWN : NONE   =      8.5 : 1.0\n",
        "       ('Lessons', 'of') = True             DOWN : NONE   =      8.5 : 1.0\n",
        "        ('of', 'Denial') = True             DOWN : NONE   =      8.5 : 1.0\n",
        "              Recognizes = True             DOWN : NONE   =      8.5 : 1.0\n",
        "     ('Olympus', 'Case') = True             DOWN : NONE   =      8.5 : 1.0\n",
        "          ('in', 'Plan') = True             DOWN : NONE   =      8.5 : 1.0\n",
        "        ('in', 'Energy') = True             DOWN : NONE   =      8.5 : 1.0\n",
        "       ('Air', 'Swings') = True             DOWN : NONE   =      8.5 : 1.0\n",
        "                     UMC = True             DOWN : NONE   =      8.5 : 1.0\n",
        "        ('Leases', 'in') = True             DOWN : NONE   =      8.5 : 1.0\n",
        "                  Insure = True             DOWN : NONE   =      8.5 : 1.0\n",
        "        ('Amazon', 'to') = True             DOWN : NONE   =      8.5 : 1.0\n",
        "   ('Treasury', 'Yield') = True             DOWN : NONE   =      8.5 : 1.0\n",
        "          ('Jong', 'Il') = True             DOWN : NONE   =      8.5 : 1.0\n",
        "                 Spooked = True             DOWN : NONE   =      8.5 : 1.0\n",
        "                     Cry = True             DOWN : NONE   =      8.5 : 1.0\n",
        "           ('to', 'Sue') = True             DOWN : NONE   =      8.5 : 1.0\n",
        "    ('for', 'Genentech') = True             DOWN : NONE   =      8.5 : 1.0\n",
        "                Religion = True             DOWN : NONE   =      8.5 : 1.0\n",
        "                   Pains = True             DOWN : NONE   =      8.5 : 1.0\n",
        "          ('Bets', 'On') = True             DOWN : NONE   =      8.5 : 1.0\n",
        "    ('Stocks', 'Nikkei') = True             DOWN : NONE   =      8.5 : 1.0\n",
        "      ('Post', 'Profit') = True             DOWN : NONE   =      8.5 : 1.0\n",
        "                  Prompt = True             DOWN : NONE   =      8.5 : 1.0\n",
        "        ('Coming', 'to') = True             DOWN : NONE   =      8.5 : 1.0\n",
        "      ('Charges', 'Hit') = True             DOWN : NONE   =      8.5 : 1.0\n",
        "('Manufacturing', 'Gauge') = True             DOWN : NONE   =      8.5 : 1.0\n",
        "                  Couple = True             DOWN : NONE   =      8.5 : 1.0\n",
        "         ('Gas', 'Spat') = True             DOWN : NONE   =      8.5 : 1.0\n",
        "                Chairmen = True               UP : NONE   =      8.1 : 1.0\n",
        "  ('Northeast', 'India') = True               UP : NONE   =      8.1 : 1.0\n",
        "                  Lights = True               UP : NONE   =      8.1 : 1.0\n",
        "                Overtake = True               UP : NONE   =      8.1 : 1.0\n",
        "                 Parsons = True               UP : NONE   =      8.1 : 1.0\n",
        " ('Defense', 'Spending') = True               UP : NONE   =      8.1 : 1.0\n",
        "  ('Slashes', 'Outlook') = True               UP : NONE   =      8.1 : 1.0\n",
        "                Syracuse = True               UP : NONE   =      8.1 : 1.0\n",
        "            ('in', 'BP') = True               UP : NONE   =      8.1 : 1.0\n",
        "     ('Gold', 'Futures') = True               UP : NONE   =      8.1 : 1.0\n",
        "         ('to', 'Firms') = True               UP : NONE   =      8.1 : 1.0\n",
        "           ('Off', 'to') = True               UP : NONE   =      8.1 : 1.0\n",
        "     ('Net', 'Declines') = True               UP : NONE   =      8.1 : 1.0\n",
        "     ('China', 'Denies') = True               UP : NONE   =      8.1 : 1.0\n",
        "     ('in', 'Northeast') = True               UP : NONE   =      8.1 : 1.0\n",
        "         ('for', 'Auto') = True               UP : NONE   =      8.1 : 1.0\n",
        "    ('Clashes', 'Erupt') = True               UP : NONE   =      8.1 : 1.0\n",
        "          ('Nod', 'for') = True               UP : NONE   =      8.1 : 1.0\n",
        "        ('May', 'Raise') = True               UP : NONE   =      8.1 : 1.0\n",
        "           ('on', 'UBS') = True               UP : NONE   =      8.1 : 1.0\n",
        "       ('Faces', 'Suit') = True               UP : NONE   =      8.1 : 1.0\n",
        "           ('Sees', 'a') = True               UP : NONE   =      8.1 : 1.0\n",
        "     ('Boost', 'Output') = True               UP : NONE   =      8.1 : 1.0\n",
        "                Sinochem = True               UP : NONE   =      8.1 : 1.0\n"
       ]
      }
     ],
     "prompt_number": 86
    },
    {
     "cell_type": "code",
     "collapsed": false,
     "input": [
      "# Use news dict for the day's news\n",
      "# something like:\n",
      "# up = 0\n",
      "# down = 0\n",
      "# none = 0\n",
      "# for newsItem in news[today]:\n",
      "#     newsClass = self.nb_classifier.classy(newsItem)\n",
      "#     if newsClass == 'UP':\n",
      "#           up+=1\n",
      "#     elif newsClass == 'DOWN':\n",
      "#           down+=1\n",
      "#     else:\n",
      "#           non+=1\n",
      "# if up/(down+none) >1:\n",
      "#     signal = 'BUY'\n",
      "# elif down/(up+none) >1:\n",
      "#     signal = 'SELL'\n",
      "# else:\n",
      "#     signal = 'NONE'\n",
      "\n",
      "\n",
      "\n",
      "mystart = date(2009, 1, 1)\n",
      "myend = date(2009, 6, 1)\n",
      "spy = load_from_yahoo(stocks=['SPY'], start=mystart, end=myend)\n",
      "\n",
      "import pandas as pd\n",
      "import numpy as np\n",
      "import matplotlib.pyplot as plt\n",
      "\n",
      "#import zipline as zp\n",
      "from zipline.algorithm import TradingAlgorithm\n",
      "from zipline.transforms import MovingAverage, batch_transform\n",
      "from zipline.utils.factory import load_from_yahoo\n",
      "\n",
      "\n",
      "class NLPFinanceNews(TradingAlgorithm):\n",
      "    def initialize(self, classifier, news, ticker):\n",
      "        self.invested = False\n",
      "        self.buy_orders = []\n",
      "        self.sell_orders = []\n",
      "        self.classifier = classifier\n",
      "        self.news = news\n",
      "        self.ticker = ticker\n",
      "    \n",
      "    def bag_of_words(self, words):\n",
      "        return dict([(word, True) for word in words if word[0].isalpha()])\n",
      "    \n",
      "    def handle_data(self, data):\n",
      "        print  self.news.get(datetime.date(data[self.ticker].datetime.year, data[self.ticker].datetime.month, data[self.ticker].datetime.day), 'None') + \" Classify: \" + self.classifier.classify(self.bag_of_words(self.news.get(datetime.date(data[self.ticker].datetime.year, data[self.ticker].datetime.month, data[self.ticker].datetime.day), 'None')))\n",
      "        if self.classifier.classify(self.bag_of_words(self.news.get(datetime.date(data[self.ticker].datetime.year, data[self.ticker].datetime.month, data[self.ticker].datetime.day), 'None'))) == 'UP' and not self.invested:\n",
      "            self.order(self.ticker, 200)\n",
      "            self.invested = True\n",
      "            self.buy_orders.append(data[self.ticker].datetime)\n",
      "            print \"{dt}: Buying 200\" +  self.ticker + \"shares.\".format(dt=data[self.ticker].datetime)\n",
      "        elif self.classifier.classify(self.bag_of_words(self.news.get(datetime.date(data[self.ticker].datetime.year, data[self.ticker].datetime.month, data[self.ticker].datetime.day), 'None'))) == 'DOWN': # and self.invested:\n",
      "            self.order(self.ticker, -200)\n",
      "            self.invested = False\n",
      "            self.sell_orders.append(data[self.ticker].datetime)\n",
      "            print \": Selling 200\" + self.ticker + \"shares.\"\n",
      " \n",
      "                                       "
     ],
     "language": "python",
     "metadata": {},
     "outputs": [
      {
       "output_type": "stream",
       "stream": "stdout",
       "text": [
        "SPY\n",
        "SPX"
       ]
      },
      {
       "output_type": "stream",
       "stream": "stdout",
       "text": [
        "\n"
       ]
      }
     ],
     "prompt_number": 147
    },
    {
     "cell_type": "code",
     "collapsed": false,
     "input": [
      "nlp = NLPFinanceNews(nb_classifier, news, 'K')\n",
      "results = nlp.run(aapl)"
     ],
     "language": "python",
     "metadata": {},
     "outputs": [
      {
       "ename": "NameError",
       "evalue": "name 'nb_classifier' is not defined",
       "output_type": "pyerr",
       "traceback": [
        "\u001b[0;31m---------------------------------------------------------------------------\u001b[0m\n\u001b[0;31mNameError\u001b[0m                                 Traceback (most recent call last)",
        "\u001b[0;32m<ipython-input-151-c8b4b37b3c5c>\u001b[0m in \u001b[0;36m<module>\u001b[0;34m()\u001b[0m\n\u001b[0;32m----> 1\u001b[0;31m \u001b[0mnlp\u001b[0m \u001b[0;34m=\u001b[0m \u001b[0mNLPFinanceNews\u001b[0m\u001b[0;34m(\u001b[0m\u001b[0mnb_classifier\u001b[0m\u001b[0;34m,\u001b[0m \u001b[0mnews\u001b[0m\u001b[0;34m,\u001b[0m \u001b[0;34m'K'\u001b[0m\u001b[0;34m)\u001b[0m\u001b[0;34m\u001b[0m\u001b[0m\n\u001b[0m\u001b[1;32m      2\u001b[0m \u001b[0mresults\u001b[0m \u001b[0;34m=\u001b[0m \u001b[0mnlp\u001b[0m\u001b[0;34m.\u001b[0m\u001b[0mrun\u001b[0m\u001b[0;34m(\u001b[0m\u001b[0maapl\u001b[0m\u001b[0;34m)\u001b[0m\u001b[0;34m\u001b[0m\u001b[0m\n",
        "\u001b[0;31mNameError\u001b[0m: name 'nb_classifier' is not defined"
       ]
      }
     ],
     "prompt_number": 151
    },
    {
     "cell_type": "code",
     "collapsed": false,
     "input": [
      "newsUP_frame = returnsFrame.truncate(after='9/1/2009')"
     ],
     "language": "python",
     "metadata": {},
     "outputs": [],
     "prompt_number": 154
    },
    {
     "cell_type": "code",
     "collapsed": false,
     "input": [
      "newsUP_frame"
     ],
     "language": "python",
     "metadata": {},
     "outputs": [
      {
       "output_type": "pyout",
       "prompt_number": 155,
       "text": [
        "<class 'pandas.core.frame.DataFrame'>\n",
        "DatetimeIndex: 168 entries, 2009-01-02 00:00:00 to 2009-09-01 00:00:00\n",
        "Data columns:\n",
        "Open         168  non-null values\n",
        "High         168  non-null values\n",
        "Low          168  non-null values\n",
        "Close        168  non-null values\n",
        "Volume       168  non-null values\n",
        "Adj Close    168  non-null values\n",
        "News         168  non-null values\n",
        "Returns      167  non-null values\n",
        "UP           168  non-null values\n",
        "DOWN         168  non-null values\n",
        "NONE         168  non-null values\n",
        "dtypes: bool(3), float64(6), int64(1), object(1)"
       ]
      }
     ],
     "prompt_number": 155
    },
    {
     "cell_type": "code",
     "collapsed": false,
     "input": [],
     "language": "python",
     "metadata": {},
     "outputs": []
    }
   ],
   "metadata": {}
  }
 ]
}