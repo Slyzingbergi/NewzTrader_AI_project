{
 "metadata": {
  "name": "NewsCredScraper"
 },
 "nbformat": 3,
 "nbformat_minor": 0,
 "worksheets": [
  {
   "cells": [
    {
     "cell_type": "code",
     "collapsed": false,
     "input": [
      "pd.set_printoptions(max_rows=2000)"
     ],
     "language": "python",
     "metadata": {},
     "outputs": [],
     "prompt_number": 31
    },
    {
     "cell_type": "code",
     "collapsed": false,
     "input": [
      "from lxml import etree\n",
      "from datetime import datetime\n",
      "from datetime import date\n",
      "from datetime import timedelta\n",
      "#import datetime \n",
      "from dateutil.parser import parse\n",
      "#import pandas as pd\n",
      "\n",
      "#from pandas.io.data import DataReader\n",
      "#from pandas.io.data import DataReader\n",
      "#from pandas.io.data import DataReader\n",
      "\n",
      "#import pandas as pd\n",
      "#from datetime import datetime\n",
      "\n",
      "import pandas as pd\n",
      "#\n",
      "from pandas.io.data import DataReader\n",
      "\n",
      "def daterange(start_date, end_date):\n",
      "    for n in range(int ((end_date - start_date).days)):\n",
      "        yield start_date + timedelta(n)\n",
      "        \n",
      "def only_alphanum(s):\n",
      "    #s = unicode(s, \"utf-8\")\n",
      "    return ' '.join(c for c in s.split() if c.isalnum())\n",
      "def only_alpha(s):\n",
      "    return ' '.join(c for c in s.split() if c.isalpha())\n",
      "def removeNonAscii(s): return \"\".join(i for i in s if ord(i)<128)\n",
      "\n",
      "sp500 = DataReader(\"SPY\", \"yahoo\", datetime(2009, 1, 1))\n",
      "news={}\n",
      "#descs = {}\n",
      "start_date=date(2009, 1, 1)\n",
      "end_date = date(2012, 11, 9)\n",
      "for single_date in daterange(start_date, end_date):\n",
      "    news[single_date]=[]\n",
      "for single_date in daterange(start_date, end_date):\n",
      "    year = single_date.year\n",
      "    month = single_date.month\n",
      "    day = single_date.day\n",
      "    path = \"http://api.newscred.com/articles?access_key=c4bcc3f7c9bf9ec159f51da0a86ca658&sources=104afa30d811d37a5582a39e1662a311&pagesize=99&from_date=%d-%d-%d&to_date=%d-%d-%d 23:59:59\" % (year, month, day, year, month, day)\n",
      "    while True:\n",
      "        try:\n",
      "            root = etree.parse(path)\n",
      "            break\n",
      "        except etree.XMLSyntaxError:\n",
      "            pass\n",
      "    myRoot = root.getroot()\n",
      "\n",
      "    #news[date(year, month, day)]=[]\n",
      "    #descs[date(year, month, day)]=[]\n",
      "    for element in myRoot.iter(\"article\"):\n",
      "        #for item in element.iter(\"description\"):\n",
      "         #   desc = item.text\n",
      "        for item in element.iter(\"title\"):\n",
      "            title = item.text\n",
      "        for item in element.iter(\"created_at\"):\n",
      "            pubDate = parse(item.text)\n",
      "    \n",
      "        news[pubDate.date()].append(only_alphanum(removeNonAscii(title)))\n",
      "                #descs[pubDate.date()].append(only_alphanum(removeNonAscii(desc)))\n",
      "newsframe = pd.Series(news, name='News')\n",
      "#descframe = pd.Series(descs, name='Desc')\n",
      "frameWithNews = sp500.join(pd.DataFrame(newsframe))\n",
      "#sp500Frame = frameWithNews.join(pd.DataFrame(descframe))"
     ],
     "language": "python",
     "metadata": {},
     "outputs": [
      {
       "ename": "IOError",
       "evalue": "Error reading file 'http://api.newscred.com/articles?access_key=c4bcc3f7c9bf9ec159f51da0a86ca658&sources=104afa30d811d37a5582a39e1662a311&pagesize=99&from_date=2011-10-28&to_date=2011-10-28 23:59:59': failed to load external entity \"http://api.newscred.com/articles?access_key=c4bcc3f7c9bf9ec159f51da0a86ca658&sources=104afa30d811d37a5582a39e1662a311&pagesize=99&from_date=2011-10-28&to_date=2011-10-28%2023:59:59\"",
       "output_type": "pyerr",
       "traceback": [
        "\u001b[0;31m---------------------------------------------------------------------------\u001b[0m\n\u001b[0;31mIOError\u001b[0m                                   Traceback (most recent call last)",
        "\u001b[0;32m<ipython-input-33-17b5c3f3b7f8>\u001b[0m in \u001b[0;36m<module>\u001b[0;34m()\u001b[0m\n\u001b[1;32m     43\u001b[0m     \u001b[0;32mwhile\u001b[0m \u001b[0mTrue\u001b[0m\u001b[0;34m:\u001b[0m\u001b[0;34m\u001b[0m\u001b[0m\n\u001b[1;32m     44\u001b[0m         \u001b[0;32mtry\u001b[0m\u001b[0;34m:\u001b[0m\u001b[0;34m\u001b[0m\u001b[0m\n\u001b[0;32m---> 45\u001b[0;31m             \u001b[0mroot\u001b[0m \u001b[0;34m=\u001b[0m \u001b[0metree\u001b[0m\u001b[0;34m.\u001b[0m\u001b[0mparse\u001b[0m\u001b[0;34m(\u001b[0m\u001b[0mpath\u001b[0m\u001b[0;34m)\u001b[0m\u001b[0;34m\u001b[0m\u001b[0m\n\u001b[0m\u001b[1;32m     46\u001b[0m             \u001b[0;32mbreak\u001b[0m\u001b[0;34m\u001b[0m\u001b[0m\n\u001b[1;32m     47\u001b[0m         \u001b[0;32mexcept\u001b[0m \u001b[0metree\u001b[0m\u001b[0;34m.\u001b[0m\u001b[0mXMLSyntaxError\u001b[0m\u001b[0;34m:\u001b[0m\u001b[0;34m\u001b[0m\u001b[0m\n",
        "\u001b[0;32m/Library/Frameworks/EPD64.framework/Versions/7.3/lib/python2.7/site-packages/lxml/etree.so\u001b[0m in \u001b[0;36mlxml.etree.parse (src/lxml/lxml.etree.c:56220)\u001b[0;34m()\u001b[0m\n",
        "\u001b[0;32m/Library/Frameworks/EPD64.framework/Versions/7.3/lib/python2.7/site-packages/lxml/etree.so\u001b[0m in \u001b[0;36mlxml.etree._parseDocument (src/lxml/lxml.etree.c:82303)\u001b[0;34m()\u001b[0m\n",
        "\u001b[0;32m/Library/Frameworks/EPD64.framework/Versions/7.3/lib/python2.7/site-packages/lxml/etree.so\u001b[0m in \u001b[0;36mlxml.etree._parseDocumentFromURL (src/lxml/lxml.etree.c:82596)\u001b[0;34m()\u001b[0m\n",
        "\u001b[0;32m/Library/Frameworks/EPD64.framework/Versions/7.3/lib/python2.7/site-packages/lxml/etree.so\u001b[0m in \u001b[0;36mlxml.etree._parseDocFromFile (src/lxml/lxml.etree.c:81635)\u001b[0;34m()\u001b[0m\n",
        "\u001b[0;32m/Library/Frameworks/EPD64.framework/Versions/7.3/lib/python2.7/site-packages/lxml/etree.so\u001b[0m in \u001b[0;36mlxml.etree._BaseParser._parseDocFromFile (src/lxml/lxml.etree.c:78544)\u001b[0;34m()\u001b[0m\n",
        "\u001b[0;32m/Library/Frameworks/EPD64.framework/Versions/7.3/lib/python2.7/site-packages/lxml/etree.so\u001b[0m in \u001b[0;36mlxml.etree._ParserContext._handleParseResultDoc (src/lxml/lxml.etree.c:74488)\u001b[0;34m()\u001b[0m\n",
        "\u001b[0;32m/Library/Frameworks/EPD64.framework/Versions/7.3/lib/python2.7/site-packages/lxml/etree.so\u001b[0m in \u001b[0;36mlxml.etree._handleParseResult (src/lxml/lxml.etree.c:75379)\u001b[0;34m()\u001b[0m\n",
        "\u001b[0;32m/Library/Frameworks/EPD64.framework/Versions/7.3/lib/python2.7/site-packages/lxml/etree.so\u001b[0m in \u001b[0;36mlxml.etree._raiseParseError (src/lxml/lxml.etree.c:74681)\u001b[0;34m()\u001b[0m\n",
        "\u001b[0;31mIOError\u001b[0m: Error reading file 'http://api.newscred.com/articles?access_key=c4bcc3f7c9bf9ec159f51da0a86ca658&sources=104afa30d811d37a5582a39e1662a311&pagesize=99&from_date=2011-10-28&to_date=2011-10-28 23:59:59': failed to load external entity \"http://api.newscred.com/articles?access_key=c4bcc3f7c9bf9ec159f51da0a86ca658&sources=104afa30d811d37a5582a39e1662a311&pagesize=99&from_date=2011-10-28&to_date=2011-10-28%2023:59:59\""
       ]
      }
     ],
     "prompt_number": 33
    },
    {
     "cell_type": "code",
     "collapsed": false,
     "input": [
      "import pickle\n",
      "from datetime import datetime\n",
      "from datetime import timedelta\n",
      "from datetime import date\n",
      "\n",
      "def daterange(start_date, end_date):\n",
      "    for n in range(int ((end_date - start_date).days)):\n",
      "        yield start_date + timedelta(n)\n",
      "\n",
      "fkl_file = open('combinedNewsDict.pkl', 'rb')\n",
      "news = pickle.load(fkl_file)\n",
      "fkl_file.close()\n",
      "start_date=date(2011, 7, 27)\n",
      "end_date = date(2012, 11, 9)\n",
      "\n",
      "import pandas as pd\n",
      "#\n",
      "from pandas.io.data import DataReader\n",
      "\n",
      "def daterange(start_date, end_date):\n",
      "    for n in range(int ((end_date - start_date).days)):\n",
      "        yield start_date + timedelta(n)\n",
      "        \n",
      "def only_alphanum(s):\n",
      "    #s = unicode(s, \"utf-8\")\n",
      "    return ' '.join(c for c in s.split() if c.isalnum())\n",
      "def only_alpha(s):\n",
      "    return ' '.join(c for c in s.split() if c.isalpha())\n",
      "def removeNonAscii(s): return \"\".join(i for i in s if ord(i)<128)\n",
      "\n",
      "sp500 = DataReader(\"SPY\", \"yahoo\", datetime(2009, 1, 1))\n",
      "newsframe = pd.Series(news, name='News')\n",
      "#descframe = pd.Series(descs, name='Desc')\n",
      "frameWithNews = sp500.join(pd.DataFrame(newsframe))\n",
      "#sp500Frame = frameWithNews.join(pd.DataFrame(descframe))\n"
     ],
     "language": "python",
     "metadata": {},
     "outputs": [],
     "prompt_number": 53
    },
    {
     "cell_type": "code",
     "collapsed": false,
     "input": [
      "from datetime import timedelta\n",
      "def daterange(start_date, end_date):\n",
      "    for n in range(int ((end_date - start_date).days)):\n",
      "        yield start_date + timedelta(n)\n",
      "\n",
      "newsDict={}\n",
      "start_date=date(2009, 1, 1)\n",
      "end_date = date(2012, 12, 31)\n",
      "for single_date in daterange(start_date, end_date):\n",
      "    newsDict[single_date]=[]"
     ],
     "language": "python",
     "metadata": {},
     "outputs": [],
     "prompt_number": 63
    },
    {
     "cell_type": "code",
     "collapsed": false,
     "input": [],
     "language": "python",
     "metadata": {},
     "outputs": [],
     "prompt_number": 31
    },
    {
     "cell_type": "code",
     "collapsed": false,
     "input": [
      "#print sp500Frame.Desc.ix['02/04/2009']\n",
      "newsList= frameWithNews.News.ix['02/04/2009']"
     ],
     "language": "python",
     "metadata": {},
     "outputs": [],
     "prompt_number": 46
    },
    {
     "cell_type": "code",
     "collapsed": false,
     "input": [
      "print newsList\n"
     ],
     "language": "python",
     "metadata": {},
     "outputs": [
      {
       "output_type": "stream",
       "stream": "stdout",
       "text": [
        "['Traders Bet Technology Rally Be a Long One', 'An AIG Quest to Juice Profit', 'EchoStar Amasses Sirius XM Debt', 'Paul Robeson in His Prime', 'This Doctor Makes Calls', 'Ominous Sign From Banks', 'Business Tax Breaks Raise Concerns', 'Litton Turns to Reducing Principal', 'In Merrill Played Hardball', 'Mortgage Banks Push for Federal Support', 'Makers Seek Bailout', 'Romania Trims Its Rates', 'Iceland Filing Clouds Stakes In Retail', 'European Insurers Post Stronger Earnings', 'Bloomberg LP to Cut Jobs', 'Oil Producers Boost Europe Stocks', 'Nuclear Power Sign Reactor Pact', 'Qantas Posts Plans Share Placement', 'Officials Examine PCCW Deal Vote', 'Visa Results Defy Economic Slump', 'Devon Energy Swings to Loss', 'Panetta Earned in Fees', 'House Delays TV Shift to June', 'Jaffe Speaks With Massachusetts Regulators', 'to Probe Bhutto Assassination', 'Obama Links Bailout to Caps on Pay', 'Judge Postpones Rambus Trial', 'Polo Ralph Net Drops', 'Garmin to Partner on Phones', 'PCCW Voting Records Are Seized', 'German Car Registrations Decline', 'Futures Shrug Off ADP', 'Obama Issues Limits', 'PCCW Shareholders Approve Buyout', 'Sara Lee Trim Forecasts', 'Deep Job Losses in January', 'Baugur Seeks Asset Protection', 'Kraft Posts Lower Cuts Outlook', 'Regulator Blocks Project', 'Obama to Unveil Pay Caps', 'Time Warner Falls Into the Red', 'Qantas Posts Drop in Net Profit', 'Munich Net Income Drops', 'India Nuclear Power Corp In Pact For Reactors', 'Condo King Corus Weighs Options', 'Europe Stocks Open Higher', 'Panasonic Swings to Cuts Jobs', 'Net Slips', 'Hynix Posts Fifth Straight Quarterly Loss', 'Australian Puts New Spin on Bowling', 'Loss Widens on', 'Loss Widens on', 'Luxottica to Offer Recession Benefits', 'Kazakhstan Devalues Currency by', 'Philip Net Falls', 'For Time to Shop as Bankers Flee Big Firms', 'Net Falls at Philip Morris International', 'Total Offers Jobs to Settle Strikes', 'Bird Remains Found in US Air Engine', 'Burnishing Your Driving Skills', 'Growth View for Tech Sector Is Cut', 'Textron Taps Out Billion In Credit', 'Retail Sales Slip', 'Allergan Cuts Rebates Are Set', 'Retail Sales Fall', 'Esprit Profit Fell', 'Munich Re Posts Drop in Profit', 'Gaza War Ended Too Soon', 'Video Sites Allow User Participation', 'Prudential Says It Lost Billion', u'Citron Set to Revamp Its Brand', 'Lawmakers Criticize SEC in Madoff Case', 'Australian Stimulus Rapped', 'Ping An Plans Shenzhen Skyscraper', 'China Tops in Auto Sales', 'Russia Plans Central Asian Force', 'Russia to Expand Bank Support', 'Belarus to Launch Joint Defense', 'Russia Ties Afghan Help to Shift', 'to Give Details on Bank Manager', 'Isolation of Hamas Slows Gaza Rebuilding', 'Talks on Kyrgyz Base Continue', 'Kodak Fails to Calm Investors', 'Markopolos Blasts SEC for', 'Deal to Rock Music Industry', 'China Manufacturing Contracts at Slower Pace', 'Lenovo Brings Back Chinese Leadership', 'Panasonic Plans to Cut Jobs', 'Station Casinos Mulls Bankruptcy Filing', 'More Web Ads Improve Their Aim', 'A Makeover for Your Google Results', 'Questions John Calipari', 'Trustee Seeks Europe Counsel', 'Union Chiefs to Seek End', 'Madoff Client List Is Disclosed In Filing', 'Tech Giant Cisco Posts Lower Net', 'Buffett to Invest in Swiss Re', 'IBM Promote Online Health Records', 'Goldman Wants to Pay Back TARP']\n"
       ]
      }
     ],
     "prompt_number": 47
    },
    {
     "cell_type": "code",
     "collapsed": false,
     "input": [
      "import pandas as pd\n",
      "from datetime import datetime\n",
      "from pandas.io.data import DataReader\n",
      "from pandas.io.data import DataReader\n",
      "class AutoVivification(dict):\n",
      "    \"\"\"Implementation of perl's autovivification feature.\"\"\"\n",
      "    def __getitem__(self, item):\n",
      "        try:\n",
      "            return dict.__getitem__(self, item)\n",
      "        except KeyError:\n",
      "            value = self[item] = type(self)()\n",
      "            return value\n",
      "        \n",
      "# declare global DataFrame- sp500Frame (populate with SPX prices?)\n",
      "sp500 = DataReader(\"SPY\", \"yahoo\", datetime(2010, 1, 1))"
     ],
     "language": "python",
     "metadata": {},
     "outputs": [],
     "prompt_number": 1
    },
    {
     "cell_type": "code",
     "collapsed": false,
     "input": [
      "sp500"
     ],
     "language": "python",
     "metadata": {},
     "outputs": [
      {
       "output_type": "pyout",
       "prompt_number": 2,
       "text": [
        "<class 'pandas.core.frame.DataFrame'>\n",
        "DatetimeIndex: 719 entries, 2010-01-04 00:00:00 to 2012-11-08 00:00:00\n",
        "Data columns:\n",
        "Open         719  non-null values\n",
        "High         719  non-null values\n",
        "Low          719  non-null values\n",
        "Close        719  non-null values\n",
        "Volume       719  non-null values\n",
        "Adj Close    719  non-null values\n",
        "dtypes: float64(5), int64(1)"
       ]
      }
     ],
     "prompt_number": 2
    },
    {
     "cell_type": "code",
     "collapsed": false,
     "input": [
      "newsframe = pd.Series(news, name='News')\n",
      "#descframe = pd.Series(descs, name='Desc')\n",
      "frameWithNews = sp500.join(pd.DataFrame(newsframe))"
     ],
     "language": "python",
     "metadata": {},
     "outputs": [],
     "prompt_number": 4
    },
    {
     "cell_type": "code",
     "collapsed": false,
     "input": [
      "frameWithNews"
     ],
     "language": "python",
     "metadata": {},
     "outputs": [
      {
       "output_type": "pyout",
       "prompt_number": 5,
       "text": [
        "<class 'pandas.core.frame.DataFrame'>\n",
        "DatetimeIndex: 972 entries, 2009-01-02 00:00:00 to 2012-11-09 00:00:00\n",
        "Data columns:\n",
        "Open         972  non-null values\n",
        "High         972  non-null values\n",
        "Low          972  non-null values\n",
        "Close        972  non-null values\n",
        "Volume       972  non-null values\n",
        "Adj Close    972  non-null values\n",
        "News         971  non-null values\n",
        "dtypes: float64(5), int64(1), object(1)"
       ]
      }
     ],
     "prompt_number": 5
    },
    {
     "cell_type": "code",
     "collapsed": false,
     "input": [
      "print frameWithNews.ix['2/2/2009']"
     ],
     "language": "python",
     "metadata": {},
     "outputs": [
      {
       "output_type": "stream",
       "stream": "stdout",
       "text": [
        "Open                                                     81.57\n",
        "High                                                     83.18\n",
        "Low                                                      81.31\n",
        "Close                                                    82.58\n",
        "Volume                                               288233300\n",
        "Adj Close                                                76.39\n",
        "News         ['CEO Gets Rare Second Act', 'PCCW Deal Faces ...\n",
        "Name: 2009-02-02 00:00:00\n"
       ]
      }
     ],
     "prompt_number": 78
    },
    {
     "cell_type": "code",
     "collapsed": false,
     "input": [
      "newsReturns = frameWithNews['Adj Close'].pct_change()"
     ],
     "language": "python",
     "metadata": {},
     "outputs": [],
     "prompt_number": 54
    },
    {
     "cell_type": "code",
     "collapsed": false,
     "input": [
      "newsReturns.name='Returns'"
     ],
     "language": "python",
     "metadata": {},
     "outputs": [],
     "prompt_number": 55
    },
    {
     "cell_type": "code",
     "collapsed": false,
     "input": [
      "returnsFrame = frameWithNews.join(pd.DataFrame(newsReturns))"
     ],
     "language": "python",
     "metadata": {},
     "outputs": [],
     "prompt_number": 56
    },
    {
     "cell_type": "code",
     "collapsed": false,
     "input": [
      "returnsFrame.ix['02/02/2009']"
     ],
     "language": "python",
     "metadata": {},
     "outputs": [
      {
       "output_type": "pyout",
       "prompt_number": 57,
       "text": [
        "Open                                                     81.57\n",
        "High                                                     83.18\n",
        "Low                                                      81.31\n",
        "Close                                                    82.58\n",
        "Volume                                               288233300\n",
        "Adj Close                                                76.39\n",
        "News         ['CEO Gets Rare Second Act', 'PCCW Deal Faces ...\n",
        "Returns                                           -0.003001827\n",
        "Name: 2009-02-02 00:00:00"
       ]
      }
     ],
     "prompt_number": 57
    },
    {
     "cell_type": "code",
     "collapsed": false,
     "input": [
      "print returnsFrame.dropna()"
     ],
     "language": "python",
     "metadata": {},
     "outputs": [
      {
       "output_type": "stream",
       "stream": "stdout",
       "text": [
        "<class 'pandas.core.frame.DataFrame'>\n",
        "DatetimeIndex: 970 entries, 2009-01-05 00:00:00 to 2012-11-08 00:00:00\n",
        "Data columns:\n",
        "Open         970  non-null values\n",
        "High         970  non-null values\n",
        "Low          970  non-null values\n",
        "Close        970  non-null values\n",
        "Volume       970  non-null values\n",
        "Adj Close    970  non-null values\n",
        "News         970  non-null values\n",
        "Returns      970  non-null values\n",
        "dtypes: float64(6), int64(1), object(1)\n"
       ]
      }
     ],
     "prompt_number": 92
    },
    {
     "cell_type": "code",
     "collapsed": false,
     "input": [
      "returnsFrame.to_csv('newsCredReturnsFrame.panda')"
     ],
     "language": "python",
     "metadata": {},
     "outputs": [],
     "prompt_number": 58
    },
    {
     "cell_type": "code",
     "collapsed": false,
     "input": [
      "returnsFrame['UP'] = returnsFrame.Returns > 0.01"
     ],
     "language": "python",
     "metadata": {},
     "outputs": [],
     "prompt_number": 59
    },
    {
     "cell_type": "code",
     "collapsed": false,
     "input": [
      "returnsFrame['DOWN'] = returnsFrame.Returns < -0.01"
     ],
     "language": "python",
     "metadata": {},
     "outputs": [],
     "prompt_number": 60
    },
    {
     "cell_type": "code",
     "collapsed": false,
     "input": [
      "returnsFrame['NONE'] = (returnsFrame['UP']==False) & (returnsFrame['DOWN']==False)"
     ],
     "language": "python",
     "metadata": {},
     "outputs": [],
     "prompt_number": 61
    },
    {
     "cell_type": "code",
     "collapsed": false,
     "input": [
      "print returnsFrame"
     ],
     "language": "python",
     "metadata": {},
     "outputs": [
      {
       "output_type": "stream",
       "stream": "stdout",
       "text": [
        "<class 'pandas.core.frame.DataFrame'>\n",
        "DatetimeIndex: 972 entries, 2009-01-02 00:00:00 to 2012-11-09 00:00:00\n",
        "Data columns:\n",
        "Open         972  non-null values\n",
        "High         972  non-null values\n",
        "Low          972  non-null values\n",
        "Close        972  non-null values\n",
        "Volume       972  non-null values\n",
        "Adj Close    972  non-null values\n",
        "News         971  non-null values\n",
        "Returns      971  non-null values\n",
        "UP           972  non-null values\n",
        "DOWN         972  non-null values\n",
        "NONE         972  non-null values\n",
        "dtypes: bool(3), float64(6), int64(1), object(1)\n"
       ]
      }
     ],
     "prompt_number": 41
    },
    {
     "cell_type": "code",
     "collapsed": false,
     "input": [
      "print returnsFrame.ix['02/02/2009']"
     ],
     "language": "python",
     "metadata": {},
     "outputs": [
      {
       "output_type": "stream",
       "stream": "stdout",
       "text": [
        "Open                                                     81.57\n",
        "High                                                     83.18\n",
        "Low                                                      81.31\n",
        "Close                                                    82.58\n",
        "Volume                                               288233300\n",
        "Adj Close                                                76.39\n",
        "News         ['CEO Gets Rare Second Act', 'PCCW Deal Faces ...\n",
        "Returns                                           -0.003001827\n",
        "UP                                                       False\n",
        "DOWN                                                     False\n",
        "NONE                                                      True\n",
        "Name: 2009-02-02 00:00:00\n"
       ]
      }
     ],
     "prompt_number": 17
    },
    {
     "cell_type": "code",
     "collapsed": false,
     "input": [
      "droppedFrame = returnsFrame\n",
      "\n",
      "newsUP_frame = droppedFrame[droppedFrame['UP']==True]\n",
      "\n",
      "\n",
      "newsDOWN_frame = droppedFrame[droppedFrame['DOWN']==True]\n",
      "newsNONE_frame = droppedFrame[droppedFrame['NONE']==True]"
     ],
     "language": "python",
     "metadata": {},
     "outputs": [],
     "prompt_number": 62
    },
    {
     "cell_type": "code",
     "collapsed": false,
     "input": [
      "newsDOWN_frame = newsDOWN_frame.dropna()"
     ],
     "language": "python",
     "metadata": {},
     "outputs": [],
     "prompt_number": 80
    },
    {
     "cell_type": "code",
     "collapsed": false,
     "input": [
      "# DO THIS FOR NONE, UP, and DOWN\n",
      "i = 1\n",
      "for row in newsDOWN_frame.iterrows():\n",
      "    i+=1\n",
      "    if len(row[1].ix['News'])>0:\n",
      "        for line in row[1].ix['News']:\n",
      "            i+=1\n",
      "            writeFile = open('%d_news_DOWN.csv' % i, 'w')\n",
      "            writeFile.write(line+'\\n')"
     ],
     "language": "python",
     "metadata": {},
     "outputs": [],
     "prompt_number": 82
    },
    {
     "cell_type": "code",
     "collapsed": false,
     "input": [],
     "language": "python",
     "metadata": {},
     "outputs": [],
     "prompt_number": 134
    },
    {
     "cell_type": "code",
     "collapsed": false,
     "input": [
      "\n"
     ],
     "language": "python",
     "metadata": {},
     "outputs": [
      {
       "output_type": "pyout",
       "prompt_number": 135,
       "text": [
        "Index([Open, High, Low, Close, Volume, Adj Close, News, Returns, UP, DOWN,\n",
        "       NONE], dtype=object)"
       ]
      }
     ],
     "prompt_number": 135
    },
    {
     "cell_type": "code",
     "collapsed": false,
     "input": [
      "# NLTK - train nb_classifier\n",
      "\n",
      "\n",
      "import random\n",
      "import nltk as nltk\n",
      "#nltk.download()\n",
      "from nltk.corpus import stopwords\n",
      "import os, os.path\n",
      "path = os.path.expanduser('~/nltk_data')\n",
      "if not os.path.exists(path):\n",
      "    os.mkdir(path)\n",
      "os.path.exists(path)\n",
      "import nltk.data\n",
      "path in nltk.data.path\n",
      "from nltk.corpus.reader import CategorizedPlaintextCorpusReader\n",
      "reader = CategorizedPlaintextCorpusReader('.', r'.*_news_.*\\.csv', cat_pattern=r'.*_news_(\\w+)\\.csv')\n",
      "reader.categories()\n",
      "\n",
      "def bag_of_words(words):\n",
      "    return dict([(word, True) for word in words if word[0].isalpha()])\n",
      "import collections\n",
      "def bag_of_words_not_in_set(words, badwords):\n",
      "    return bag_of_words(set(words)-set(badwords))\n",
      "\n",
      "def bag_of_non_stopwords(words, stopfile='english'):\n",
      "    badwords = stopwords.words(stopfile)\n",
      "    return bag_of_words_not_in_set(words, badwords)\n",
      "\n",
      "from nltk.metrics import BigramAssocMeasures\n",
      "from nltk.collocations import BigramCollocationFinder\n",
      "\n",
      "def bag_of_bigrams_words(words, score_fn=BigramAssocMeasures.chi_sq, n=2000):\n",
      "    bigram_finder = BigramCollocationFinder.from_words(words)\n",
      "    bigrams = bigram_finder.nbest(score_fn, n)\n",
      "    dictOfBigrams = bag_of_words(bigrams)\n",
      "    dictOfBigrams.update(bag_of_non_stopwords(words))\n",
      "    return dictOfBigrams\n",
      "    \n",
      "def label_feats_from_corpus(corp, feature_detector=bag_of_bigrams_words):\n",
      "    label_feats = collections.defaultdict(list)\n",
      "    for label in corp.categories():\n",
      "        for fileid in corp.fileids(categories=[label]):\n",
      "            feats = feature_detector(corp.words(fileids=[fileid]))\n",
      "            label_feats[label].append(feats)\n",
      "    return label_feats\n",
      "\n",
      "def split_label_feats(lfeats, split=0.90):\n",
      "    train_feats = []\n",
      "    test_feats = []\n",
      "    for label, feats in lfeats.iteritems():\n",
      "        random.shuffle(feats, random.random)\n",
      "        cutoff = int(len(feats) * split)\n",
      "        train_feats.extend([(feat, label) for feat in feats[:cutoff]])\n",
      "        test_feats.extend([(feat, label) for feat in feats[cutoff:]])\n",
      "    return train_feats, test_feats\n",
      "\n",
      "\n",
      "\n",
      "\n",
      "reader.categories()\n",
      "\n",
      "lfeats = label_feats_from_corpus(reader)\n",
      "lfeats.keys()\n",
      "train_feats, test_feats = split_label_feats(lfeats)\n",
      "len(train_feats)\n",
      "len(test_feats)\n",
      "\n",
      "from nltk.classify import NaiveBayesClassifier\n",
      "nb_classifier = NaiveBayesClassifier.train(train_feats)\n",
      "nb_classifier.labels()\n",
      "\n",
      "from nltk.classify.util import accuracy\n",
      "accuracy(nb_classifier, test_feats)\n",
      "\n"
     ],
     "language": "python",
     "metadata": {},
     "outputs": [
      {
       "output_type": "pyout",
       "prompt_number": 84,
       "text": [
        "0.4696443341604632"
       ]
      }
     ],
     "prompt_number": 84
    },
    {
     "cell_type": "code",
     "collapsed": false,
     "input": [
      "print len(reader.fileids(categories=['UP']))\n",
      "print len(reader.fileids(categories=['DOWN']))\n",
      "print len(reader.fileids(categories=['NONE']))"
     ],
     "language": "python",
     "metadata": {},
     "outputs": [
      {
       "output_type": "stream",
       "stream": "stdout",
       "text": [
        "11099\n",
        "10627\n",
        "38713\n"
       ]
      }
     ],
     "prompt_number": 85
    },
    {
     "cell_type": "code",
     "collapsed": false,
     "input": [
      "nb_classifier.show_most_informative_features(n=200)"
     ],
     "language": "python",
     "metadata": {},
     "outputs": [
      {
       "output_type": "stream",
       "stream": "stdout",
       "text": [
        "Most Informative Features\n",
        "                 Reopens = True             DOWN : NONE   =     20.6 : 1.0"
       ]
      },
      {
       "output_type": "stream",
       "stream": "stdout",
       "text": [
        "\n",
        "        ('Euro', 'Hits') = True             DOWN : NONE   =     15.8 : 1.0\n",
        "                Flooding = True               UP : NONE   =     15.1 : 1.0\n",
        "     ('Losses', 'Mount') = True             DOWN : NONE   =     13.4 : 1.0\n",
        "          ('Ill', 'for') = True             DOWN : NONE   =     13.4 : 1.0\n",
        "         ('Sales', 'at') = True             DOWN : NONE   =     13.4 : 1.0\n",
        "                    Rout = True             DOWN : NONE   =     13.4 : 1.0\n",
        "                Diplomat = True             DOWN : NONE   =     13.4 : 1.0\n",
        "      ('Stocks', 'Jump') = True               UP : NONE   =     13.3 : 1.0\n",
        "      ('Shares', 'Gain') = True               UP : NONE   =     12.8 : 1.0\n",
        "         ('Tax', 'Deal') = True             DOWN : NONE   =     12.4 : 1.0\n",
        "     ('Stocks', 'Slide') = True             DOWN : UP     =     12.2 : 1.0\n",
        "     ('Fuel', 'Economy') = True             DOWN : NONE   =     10.9 : 1.0\n",
        "             Coordinated = True             DOWN : NONE   =     10.9 : 1.0\n",
        "                 Permits = True             DOWN : NONE   =     10.9 : 1.0\n",
        "     ('Poor', 'Nations') = True             DOWN : NONE   =     10.9 : 1.0\n",
        "         ('Will', 'the') = True             DOWN : NONE   =     10.9 : 1.0\n",
        "               Kickbacks = True             DOWN : NONE   =     10.9 : 1.0\n",
        "       ('Lenders', 'to') = True             DOWN : NONE   =     10.9 : 1.0\n",
        "       ('to', 'Contain') = True             DOWN : NONE   =     10.9 : 1.0\n",
        "      ('Boost', 'Sales') = True             DOWN : NONE   =     10.9 : 1.0\n",
        "    ('Jones', 'Apparel') = True             DOWN : NONE   =     10.9 : 1.0\n",
        "          ('May', 'Hit') = True             DOWN : NONE   =     10.9 : 1.0\n",
        "                    Bare = True             DOWN : NONE   =     10.9 : 1.0\n",
        "        ('Tax', 'Break') = True             DOWN : NONE   =     10.9 : 1.0\n",
        "       ('Alaska', 'Air') = True             DOWN : NONE   =     10.9 : 1.0\n",
        "        ('for', 'Trade') = True             DOWN : NONE   =     10.9 : 1.0\n",
        "         ('Cisco', 'to') = True             DOWN : NONE   =     10.9 : 1.0\n",
        "      ('China', 'Music') = True             DOWN : NONE   =     10.9 : 1.0\n",
        "                   Aegon = True             DOWN : NONE   =     10.9 : 1.0\n",
        "       ('Rises', 'Amid') = True             DOWN : NONE   =     10.9 : 1.0\n",
        "                 Contain = True             DOWN : NONE   =     10.9 : 1.0\n",
        "               Treasures = True             DOWN : NONE   =     10.9 : 1.0\n",
        "     ('Reports', 'Drop') = True             DOWN : NONE   =     10.9 : 1.0\n",
        "      ('The', 'Weekend') = True             DOWN : NONE   =     10.9 : 1.0\n",
        "         ('Court', 'to') = True             DOWN : UP     =     10.8 : 1.0\n",
        "                    GOME = True               UP : NONE   =     10.5 : 1.0\n",
        "     ('Toyota', 'Posts') = True               UP : NONE   =     10.5 : 1.0\n",
        "                   Kings = True               UP : NONE   =     10.5 : 1.0\n",
        "       ('Cut', 'Prices') = True               UP : NONE   =     10.5 : 1.0\n",
        "                 Tripoli = True               UP : NONE   =     10.5 : 1.0\n",
        "                    Boot = True               UP : NONE   =     10.5 : 1.0\n",
        "      ('Trade', 'Mixed') = True               UP : NONE   =     10.5 : 1.0\n",
        "           ('a', 'Hard') = True               UP : NONE   =     10.5 : 1.0\n",
        "                   Rogue = True               UP : NONE   =     10.5 : 1.0\n",
        "                   Lloyd = True               UP : NONE   =     10.5 : 1.0\n",
        "                  Lonely = True               UP : NONE   =     10.5 : 1.0\n",
        "            Therapeutics = True               UP : NONE   =     10.5 : 1.0\n",
        "      ('Virgin', 'Blue') = True               UP : NONE   =     10.5 : 1.0\n",
        "         ('Costs', 'to') = True               UP : NONE   =     10.5 : 1.0\n",
        "                    Boon = True               UP : NONE   =     10.5 : 1.0\n",
        "           ('as', 'CFO') = True               UP : NONE   =     10.5 : 1.0\n",
        "                Actually = True               UP : NONE   =     10.5 : 1.0\n",
        "      ('Kansas', 'City') = True               UP : NONE   =     10.5 : 1.0\n",
        "                 McQueen = True               UP : NONE   =     10.5 : 1.0\n",
        "               Consensus = True             DOWN : NONE   =      9.5 : 1.0\n",
        "    ('Music', 'Service') = True             DOWN : NONE   =      9.5 : 1.0\n",
        "                   Dutch = True             NONE : DOWN   =      9.2 : 1.0\n",
        "                  Quakes = True               UP : NONE   =      9.1 : 1.0\n",
        "                   Flows = True               UP : NONE   =      9.1 : 1.0\n",
        "     ('World', 'Series') = True               UP : NONE   =      9.1 : 1.0\n",
        "   ('Borrowing', 'Hits') = True             DOWN : NONE   =      8.5 : 1.0\n",
        "       ('More', 'Women') = True             DOWN : NONE   =      8.5 : 1.0\n",
        "    ('Markets', 'Lower') = True             DOWN : NONE   =      8.5 : 1.0\n",
        "    ('Stay', 'Sluggish') = True             DOWN : NONE   =      8.5 : 1.0\n",
        "    ('Blackstone', 'in') = True             DOWN : NONE   =      8.5 : 1.0\n",
        "         ('Up', 'Short') = True             DOWN : NONE   =      8.5 : 1.0\n",
        "               Chemicals = True             DOWN : NONE   =      8.5 : 1.0\n",
        "         ('Get', 'Help') = True             DOWN : NONE   =      8.5 : 1.0\n",
        "      ('Jitters', 'Hit') = True             DOWN : NONE   =      8.5 : 1.0\n",
        "        ('as', 'Yields') = True             DOWN : NONE   =      8.5 : 1.0\n",
        "                   Defer = True             DOWN : NONE   =      8.5 : 1.0\n",
        "     ('Cuts', 'Ratings') = True             DOWN : NONE   =      8.5 : 1.0\n",
        "        ('Need', 'More') = True             DOWN : NONE   =      8.5 : 1.0\n",
        "                Disabled = True             DOWN : NONE   =      8.5 : 1.0\n",
        " ('Senate', 'Democrats') = True             DOWN : NONE   =      8.5 : 1.0\n",
        "('Bankruptcy', 'Protection') = True             DOWN : NONE   =      8.5 : 1.0\n",
        "    ('Macarthur', 'Bid') = True             DOWN : NONE   =      8.5 : 1.0\n",
        "          ('Tax', 'Cut') = True             DOWN : NONE   =      8.5 : 1.0\n",
        "     ('Agricole', 'Net') = True             DOWN : NONE   =      8.5 : 1.0\n",
        "                    Nazi = True             DOWN : NONE   =      8.5 : 1.0\n",
        "    ('Greek', 'Leftist') = True             DOWN : NONE   =      8.5 : 1.0\n",
        "                    CNPC = True             DOWN : NONE   =      8.5 : 1.0\n",
        "                Weakened = True             DOWN : NONE   =      8.5 : 1.0\n",
        "         ('Grows', 'Up') = True             DOWN : NONE   =      8.5 : 1.0\n",
        "       ('for', 'London') = True             DOWN : NONE   =      8.5 : 1.0\n",
        "     ('Debt', 'Worries') = True             DOWN : NONE   =      8.5 : 1.0\n",
        "           ('on', 'LSE') = True             DOWN : NONE   =      8.5 : 1.0\n",
        "       ('Sales', 'Stay') = True             DOWN : NONE   =      8.5 : 1.0\n",
        "       ('Before', 'You') = True             DOWN : NONE   =      8.5 : 1.0\n",
        "          ('Data', 'to') = True             DOWN : NONE   =      8.5 : 1.0\n",
        "       ('as', 'Margins') = True             DOWN : NONE   =      8.5 : 1.0\n",
        "          ('Have', 'in') = True             DOWN : NONE   =      8.5 : 1.0\n",
        "                Declined = True             DOWN : NONE   =      8.5 : 1.0\n",
        "        ('In', 'Praise') = True             DOWN : NONE   =      8.5 : 1.0\n",
        "      ('Comes', 'Under') = True             DOWN : NONE   =      8.5 : 1.0\n",
        "    ('Italian', 'Banks') = True             DOWN : NONE   =      8.5 : 1.0\n",
        "       ('Could', 'Hurt') = True             DOWN : NONE   =      8.5 : 1.0\n",
        "   ('Trims', 'Forecast') = True             DOWN : NONE   =      8.5 : 1.0\n",
        "                  Pujols = True             DOWN : NONE   =      8.5 : 1.0\n",
        "         ('for', 'Iron') = True             DOWN : NONE   =      8.5 : 1.0\n",
        "           ('Up', 'New') = True             DOWN : NONE   =      8.5 : 1.0\n",
        "         ('for', 'Work') = True             DOWN : NONE   =      8.5 : 1.0\n",
        "             Dreamliners = True             DOWN : NONE   =      8.5 : 1.0\n",
        "                Believed = True             DOWN : NONE   =      8.5 : 1.0\n",
        "       ('Pattern', 'of') = True             DOWN : NONE   =      8.5 : 1.0\n",
        "         ('to', 'Defer') = True             DOWN : NONE   =      8.5 : 1.0\n",
        "         ('Care', 'for') = True             DOWN : NONE   =      8.5 : 1.0\n",
        "      ('Grounded', 'in') = True             DOWN : NONE   =      8.5 : 1.0\n",
        "          ('This', 'Is') = True             DOWN : NONE   =      8.5 : 1.0\n",
        "('Unemployment', 'Hits') = True             DOWN : NONE   =      8.5 : 1.0\n",
        "          ('Key', 'for') = True             DOWN : NONE   =      8.5 : 1.0\n",
        "               Estimated = True             DOWN : NONE   =      8.5 : 1.0\n",
        "                  Stamps = True             DOWN : NONE   =      8.5 : 1.0\n",
        "   ('Over', 'Mortgages') = True             DOWN : NONE   =      8.5 : 1.0\n",
        "                   Rican = True             DOWN : NONE   =      8.5 : 1.0\n",
        "        ('to', 'Stress') = True             DOWN : NONE   =      8.5 : 1.0\n",
        "                      Il = True             DOWN : NONE   =      8.5 : 1.0\n",
        "     ('Virgin', 'Media') = True             DOWN : NONE   =      8.5 : 1.0\n",
        "   ('Global', 'Markets') = True             DOWN : NONE   =      8.5 : 1.0\n",
        "        ('for', 'Bonds') = True             DOWN : NONE   =      8.5 : 1.0\n",
        "            Refinancings = True             DOWN : NONE   =      8.5 : 1.0\n",
        "        ('Last', 'Week') = True             DOWN : NONE   =      8.5 : 1.0\n",
        "                    CCTV = True             DOWN : NONE   =      8.5 : 1.0\n",
        "     ('China', 'Swings') = True             DOWN : NONE   =      8.5 : 1.0\n",
        "  ('Global', 'Recovery') = True             DOWN : NONE   =      8.5 : 1.0\n",
        "  ('Regulators', 'Shut') = True             DOWN : NONE   =      8.5 : 1.0\n",
        "                 Outlets = True             DOWN : NONE   =      8.5 : 1.0\n",
        "                 Plummet = True             DOWN : NONE   =      8.5 : 1.0\n",
        "         ('on', 'Stake') = True             DOWN : NONE   =      8.5 : 1.0\n",
        "     ('Outlook', 'Dims') = True             DOWN : NONE   =      8.5 : 1.0\n",
        "   ('Antitrust', 'Case') = True             DOWN : NONE   =      8.5 : 1.0\n",
        "        ('Sony', 'Bets') = True             DOWN : NONE   =      8.5 : 1.0\n",
        "        ('Police', 'in') = True             DOWN : NONE   =      8.5 : 1.0\n",
        "                    Foul = True             DOWN : NONE   =      8.5 : 1.0\n",
        "      ('Dollar', 'Hits') = True             DOWN : NONE   =      8.5 : 1.0\n",
        "           ('Make', 'a') = True             DOWN : NONE   =      8.5 : 1.0\n",
        "    ('Third', 'Quarter') = True             DOWN : NONE   =      8.5 : 1.0\n",
        "          ('Buy', 'for') = True             DOWN : NONE   =      8.5 : 1.0\n",
        "     ('SABMiller', 'to') = True             DOWN : NONE   =      8.5 : 1.0\n",
        "      ('Chooses', 'New') = True             DOWN : NONE   =      8.5 : 1.0\n",
        "   ('Shares', 'Plummet') = True             DOWN : NONE   =      8.5 : 1.0\n",
        " ('Mitsubishi', 'Heavy') = True             DOWN : NONE   =      8.5 : 1.0\n",
        "  ('Mortgage', 'Market') = True             DOWN : NONE   =      8.5 : 1.0\n",
        "        ('on', 'Public') = True             DOWN : NONE   =      8.5 : 1.0\n",
        "         ('Life', 'for') = True             DOWN : NONE   =      8.5 : 1.0\n",
        "  ('Inflation', 'Rises') = True             DOWN : NONE   =      8.5 : 1.0\n",
        "     ('Hit', 'European') = True             DOWN : NONE   =      8.5 : 1.0\n",
        "       ('Lessons', 'of') = True             DOWN : NONE   =      8.5 : 1.0\n",
        "        ('of', 'Denial') = True             DOWN : NONE   =      8.5 : 1.0\n",
        "              Recognizes = True             DOWN : NONE   =      8.5 : 1.0\n",
        "     ('Olympus', 'Case') = True             DOWN : NONE   =      8.5 : 1.0\n",
        "          ('in', 'Plan') = True             DOWN : NONE   =      8.5 : 1.0\n",
        "        ('in', 'Energy') = True             DOWN : NONE   =      8.5 : 1.0\n",
        "       ('Air', 'Swings') = True             DOWN : NONE   =      8.5 : 1.0\n",
        "                     UMC = True             DOWN : NONE   =      8.5 : 1.0\n",
        "        ('Leases', 'in') = True             DOWN : NONE   =      8.5 : 1.0\n",
        "                  Insure = True             DOWN : NONE   =      8.5 : 1.0\n",
        "        ('Amazon', 'to') = True             DOWN : NONE   =      8.5 : 1.0\n",
        "   ('Treasury', 'Yield') = True             DOWN : NONE   =      8.5 : 1.0\n",
        "          ('Jong', 'Il') = True             DOWN : NONE   =      8.5 : 1.0\n",
        "                 Spooked = True             DOWN : NONE   =      8.5 : 1.0\n",
        "                     Cry = True             DOWN : NONE   =      8.5 : 1.0\n",
        "           ('to', 'Sue') = True             DOWN : NONE   =      8.5 : 1.0\n",
        "    ('for', 'Genentech') = True             DOWN : NONE   =      8.5 : 1.0\n",
        "                Religion = True             DOWN : NONE   =      8.5 : 1.0\n",
        "                   Pains = True             DOWN : NONE   =      8.5 : 1.0\n",
        "          ('Bets', 'On') = True             DOWN : NONE   =      8.5 : 1.0\n",
        "    ('Stocks', 'Nikkei') = True             DOWN : NONE   =      8.5 : 1.0\n",
        "      ('Post', 'Profit') = True             DOWN : NONE   =      8.5 : 1.0\n",
        "                  Prompt = True             DOWN : NONE   =      8.5 : 1.0\n",
        "        ('Coming', 'to') = True             DOWN : NONE   =      8.5 : 1.0\n",
        "      ('Charges', 'Hit') = True             DOWN : NONE   =      8.5 : 1.0\n",
        "('Manufacturing', 'Gauge') = True             DOWN : NONE   =      8.5 : 1.0\n",
        "                  Couple = True             DOWN : NONE   =      8.5 : 1.0\n",
        "         ('Gas', 'Spat') = True             DOWN : NONE   =      8.5 : 1.0\n",
        "                Chairmen = True               UP : NONE   =      8.1 : 1.0\n",
        "  ('Northeast', 'India') = True               UP : NONE   =      8.1 : 1.0\n",
        "                  Lights = True               UP : NONE   =      8.1 : 1.0\n",
        "                Overtake = True               UP : NONE   =      8.1 : 1.0\n",
        "                 Parsons = True               UP : NONE   =      8.1 : 1.0\n",
        " ('Defense', 'Spending') = True               UP : NONE   =      8.1 : 1.0\n",
        "  ('Slashes', 'Outlook') = True               UP : NONE   =      8.1 : 1.0\n",
        "                Syracuse = True               UP : NONE   =      8.1 : 1.0\n",
        "            ('in', 'BP') = True               UP : NONE   =      8.1 : 1.0\n",
        "     ('Gold', 'Futures') = True               UP : NONE   =      8.1 : 1.0\n",
        "         ('to', 'Firms') = True               UP : NONE   =      8.1 : 1.0\n",
        "           ('Off', 'to') = True               UP : NONE   =      8.1 : 1.0\n",
        "     ('Net', 'Declines') = True               UP : NONE   =      8.1 : 1.0\n",
        "     ('China', 'Denies') = True               UP : NONE   =      8.1 : 1.0\n",
        "     ('in', 'Northeast') = True               UP : NONE   =      8.1 : 1.0\n",
        "         ('for', 'Auto') = True               UP : NONE   =      8.1 : 1.0\n",
        "    ('Clashes', 'Erupt') = True               UP : NONE   =      8.1 : 1.0\n",
        "          ('Nod', 'for') = True               UP : NONE   =      8.1 : 1.0\n",
        "        ('May', 'Raise') = True               UP : NONE   =      8.1 : 1.0\n",
        "           ('on', 'UBS') = True               UP : NONE   =      8.1 : 1.0\n",
        "       ('Faces', 'Suit') = True               UP : NONE   =      8.1 : 1.0\n",
        "           ('Sees', 'a') = True               UP : NONE   =      8.1 : 1.0\n",
        "     ('Boost', 'Output') = True               UP : NONE   =      8.1 : 1.0\n",
        "                Sinochem = True               UP : NONE   =      8.1 : 1.0\n"
       ]
      }
     ],
     "prompt_number": 86
    },
    {
     "cell_type": "code",
     "collapsed": false,
     "input": [
      "# Use news dict for the day's news\n",
      "# something like:\n",
      "# up = 0\n",
      "# down = 0\n",
      "# none = 0\n",
      "# for newsItem in news[today]:\n",
      "#     newsClass = self.nb_classifier.classy(newsItem)\n",
      "#     if newsClass == 'UP':\n",
      "#           up+=1\n",
      "#     elif newsClass == 'DOWN':\n",
      "#           down+=1\n",
      "#     else:\n",
      "#           non+=1\n",
      "# if up/(down+none) >1:\n",
      "#     signal = 'BUY'\n",
      "# elif down/(up+none) >1:\n",
      "#     signal = 'SELL'\n",
      "# else:\n",
      "#     signal = 'NONE'\n",
      "\n",
      "import pandas as pd\n",
      "import numpy as np\n",
      "import matplotlib.pyplot as plt\n",
      "\n",
      "#import zipline as zp\n",
      "from zipline.algorithm import TradingAlgorithm\n",
      "from zipline.transforms import MovingAverage, batch_transform\n",
      "from zipline.utils.factory import load_from_yahoo\n",
      "\n",
      "mystart = date(2009, 1, 1)\n",
      "myend = date(2012, 10, 30)\n",
      "spy = load_from_yahoo(stocks=['SPY'], start=mystart, end=myend)\n",
      "\n",
      "\n",
      "\n",
      "\n",
      "class NLPFinanceNews(TradingAlgorithm):\n",
      "    def initialize(self, classifier, news, ticker):\n",
      "        self.invested = False\n",
      "        self.long = False\n",
      "        self.short = False\n",
      "        self.buy_orders = []\n",
      "        self.sell_orders = []\n",
      "        self.classifier = classifier\n",
      "        self.news = news\n",
      "        self.ticker = ticker\n",
      "        self.netshares = 0\n",
      "    \n",
      "    def bag_of_words(self, words):\n",
      "        return dict([(word, True) for word in words if word[0].isalpha()])\n",
      "    \n",
      "    def handle_data(self, data):\n",
      "        today = date(data[self.ticker].datetime.year, data[self.ticker].datetime.month, data[self.ticker].datetime.day)\n",
      "        up = 0.0\n",
      "        down = 0.0\n",
      "        none = 0.0\n",
      "        for newsItem in self.news[today]:\n",
      "            newsClass = self.classifier.classify(self.bag_of_words(newsItem))\n",
      "            if newsClass == 'UP':\n",
      "                up+=1\n",
      "            elif newsClass == 'DOWN':\n",
      "                down+=1\n",
      "            else:\n",
      "                none += 1\n",
      "        print str(today) + \": UP: \" + str(up) + \" DOWN: \" + str(down) + \" NONE: \" + str(none)\n",
      "        #print  self.news.get(date(data[self.ticker].datetime.year, data[self.ticker].datetime.month, data[self.ticker].datetime.day), 'None') + \" Classify: \" + self.classifier.classify(self.bag_of_words(self.news.get(date(data[self.ticker].datetime.year, data[self.ticker].datetime.month, data[self.ticker].datetime.day), 'None')))\n",
      "        \n",
      "       \n",
      "        if up > (down+none+1) and self.netshares <=200:\n",
      "            self.order(self.ticker, 200)\n",
      "            self.invested = True\n",
      "            self.long=True\n",
      "            self.netshares +=200\n",
      "            self.buy_orders.append(data[self.ticker].datetime)\n",
      "            print str(today)+ \": Buying 200\" +  self.ticker + \"shares.\"\n",
      "        \n",
      "        elif down > (up+none+1) and self.netshares >= -200:\n",
      "            \n",
      "            self.order(self.ticker, -200)\n",
      "            self.invested = False\n",
      "            self.netshares -= 200\n",
      "            self.sell_orders.append(data[self.ticker].datetime)\n",
      "            print str(today) + \" : Selling 200\" + self.ticker + \"shares.\"\n",
      "        \n",
      " \n",
      "                                       "
     ],
     "language": "python",
     "metadata": {},
     "outputs": [
      {
       "output_type": "stream",
       "stream": "stdout",
       "text": [
        "SPY\n",
        "SPX"
       ]
      },
      {
       "output_type": "stream",
       "stream": "stdout",
       "text": [
        "\n"
       ]
      }
     ],
     "prompt_number": 113
    },
    {
     "cell_type": "code",
     "collapsed": false,
     "input": [
      "nlp = NLPFinanceNews(nb_classifier, news, 'SPY')\n",
      "results = nlp.run(spy)"
     ],
     "language": "python",
     "metadata": {},
     "outputs": [
      {
       "output_type": "stream",
       "stream": "stdout",
       "text": [
        "2009-01-02: UP: 16.0 DOWN: 20.0 NONE: 10.0\n",
        "2009-01-05: UP: 32.0 DOWN: 29.0 NONE: 25.0\n",
        "2009-01-06: UP: 35.0 DOWN: 24.0 NONE: 27.0\n",
        "2009-01-07: UP: 30.0 DOWN: 35.0 NONE: 21.0\n",
        "2009-01-08: UP: 32.0 DOWN: 42.0 NONE: 22.0\n",
        "2009-01-09: UP: 27.0 DOWN: 21.0 NONE: 14.0\n",
        "2009-01-12: UP: 26.0 DOWN: 27.0 NONE: 21.0\n",
        "2009-01-13: UP: 34.0 DOWN: 41.0 NONE: 24.0"
       ]
      },
      {
       "output_type": "stream",
       "stream": "stdout",
       "text": [
        "\n",
        "2009-01-14: UP: 33.0 DOWN: 35.0 NONE: 28.0\n",
        "2009-01-15: UP: 32.0 DOWN: 35.0 NONE: 32.0\n",
        "2009-01-16: UP: 28.0 DOWN: 26.0 NONE: 21.0\n",
        "2009-01-20: UP: 30.0 DOWN: 37.0 NONE: 31.0\n",
        "2009-01-21: UP: 36.0 DOWN: 35.0 NONE: 28.0\n",
        "2009-01-22: UP: 38.0 DOWN: 37.0 NONE: 24.0"
       ]
      },
      {
       "output_type": "stream",
       "stream": "stdout",
       "text": [
        "\n",
        "2009-01-23: UP: 22.0 DOWN: 22.0 NONE: 17.0\n",
        "2009-01-26: UP: 31.0 DOWN: 38.0 NONE: 24.0\n",
        "2009-01-27: UP: 30.0 DOWN: 48.0 NONE: 21.0\n",
        "2009-01-28: UP: 32.0 DOWN: 37.0 NONE: 30.0\n",
        "2009-01-29: UP: 35.0 DOWN: 40.0 NONE: 24.0\n",
        "2009-01-30: UP: 22.0 DOWN: 31.0 NONE: 22.0\n",
        "2009-02-02: UP: 25.0 DOWN: 38.0 NONE: 34.0"
       ]
      },
      {
       "output_type": "stream",
       "stream": "stdout",
       "text": [
        "\n",
        "2009-02-03: UP: 23.0 DOWN: 47.0 NONE: 29.0\n",
        "2009-02-04: UP: 27.0 DOWN: 40.0 NONE: 32.0\n",
        "2009-02-05: UP: 31.0 DOWN: 39.0 NONE: 29.0\n",
        "2009-02-06: UP: 26.0 DOWN: 38.0 NONE: 14.0\n",
        "2009-02-09: UP: 32.0 DOWN: 49.0 NONE: 18.0\n",
        "2009-02-10: UP: 22.0 DOWN: 47.0 NONE: 30.0"
       ]
      },
      {
       "output_type": "stream",
       "stream": "stdout",
       "text": [
        "\n",
        "2009-02-11: UP: 32.0 DOWN: 42.0 NONE: 25.0\n",
        "2009-02-12: UP: 30.0 DOWN: 47.0 NONE: 22.0\n",
        "2009-02-13: UP: 25.0 DOWN: 28.0 NONE: 27.0\n",
        "2009-02-17: UP: 35.0 DOWN: 40.0 NONE: 24.0\n",
        "2009-02-18: UP: 33.0 DOWN: 40.0 NONE: 26.0\n",
        "2009-02-19: UP: 29.0 DOWN: 42.0 NONE: 28.0"
       ]
      },
      {
       "output_type": "stream",
       "stream": "stdout",
       "text": [
        "\n",
        "2009-02-20: UP: 22.0 DOWN: 34.0 NONE: 17.0\n",
        "2009-02-23: UP: 33.0 DOWN: 40.0 NONE: 26.0\n",
        "2009-02-24: UP: 21.0 DOWN: 29.0 NONE: 14.0\n",
        "2009-02-25: UP: 26.0 DOWN: 42.0 NONE: 27.0\n",
        "2009-02-26: UP: 31.0 DOWN: 27.0 NONE: 20.0\n",
        "2009-02-27: UP: 21.0 DOWN: 19.0 NONE: 14.0\n",
        "2009-03-02: UP: 18.0 DOWN: 27.0 NONE: 18.0"
       ]
      },
      {
       "output_type": "stream",
       "stream": "stdout",
       "text": [
        "\n",
        "2009-03-03: UP: 25.0 DOWN: 23.0 NONE: 19.0\n",
        "2009-03-04: UP: 22.0 DOWN: 26.0 NONE: 16.0\n",
        "2009-03-05: UP: 17.0 DOWN: 18.0 NONE: 14.0\n",
        "2009-03-06: UP: 24.0 DOWN: 23.0 NONE: 21.0\n",
        "2009-03-09: UP: 24.0 DOWN: 34.0 NONE: 20.0\n",
        "2009-03-10: UP: 11.0 DOWN: 24.0 NONE: 19.0\n",
        "2009-03-11: UP: 16.0 DOWN: 36.0 NONE: 21.0\n",
        "2009-03-12: UP: 24.0 DOWN: 27.0 NONE: 22.0"
       ]
      },
      {
       "output_type": "stream",
       "stream": "stdout",
       "text": [
        "\n",
        "2009-03-13: UP: 20.0 DOWN: 35.0 NONE: 11.0\n",
        "2009-03-13 : Selling 200SPYshares.\n",
        "2009-03-16: UP: 21.0 DOWN: 31.0 NONE: 19.0\n",
        "2009-03-17: UP: 15.0 DOWN: 36.0 NONE: 19.0\n",
        "2009-03-17 : Selling 200SPYshares.\n",
        "2009-03-18: UP: 27.0 DOWN: 21.0 NONE: 15.0\n",
        "2009-03-19: UP: 21.0 DOWN: 24.0 NONE: 18.0\n",
        "2009-03-20: UP: 27.0 DOWN: 22.0 NONE: 18.0\n",
        "2009-03-23: UP: 12.0 DOWN: 18.0 NONE: 13.0\n",
        "2009-03-24: UP: 19.0 DOWN: 13.0 NONE: 16.0"
       ]
      },
      {
       "output_type": "stream",
       "stream": "stdout",
       "text": [
        "\n",
        "2009-03-25: UP: 15.0 DOWN: 20.0 NONE: 8.0\n",
        "2009-03-26: UP: 14.0 DOWN: 12.0 NONE: 12.0\n",
        "2009-03-27: UP: 18.0 DOWN: 15.0 NONE: 9.0\n",
        "2009-03-30: UP: 16.0 DOWN: 21.0 NONE: 9.0\n",
        "2009-03-31: UP: 22.0 DOWN: 21.0 NONE: 15.0\n",
        "2009-04-01: UP: 19.0 DOWN: 23.0 NONE: 28.0\n",
        "2009-04-02: UP: 21.0 DOWN: 31.0 NONE: 24.0\n",
        "2009-04-03: UP: 13.0 DOWN: 20.0 NONE: 13.0\n",
        "2009-04-06: UP: 14.0 DOWN: 11.0 NONE: 14.0\n",
        "2009-04-07: UP: 20.0 DOWN: 20.0 NONE: 17.0"
       ]
      },
      {
       "output_type": "stream",
       "stream": "stdout",
       "text": [
        "\n",
        "2009-04-08: UP: 12.0 DOWN: 16.0 NONE: 13.0\n",
        "2009-04-09: UP: 19.0 DOWN: 17.0 NONE: 9.0\n",
        "2009-04-13: UP: 14.0 DOWN: 20.0 NONE: 12.0\n",
        "2009-04-14: UP: 21.0 DOWN: 26.0 NONE: 8.0\n",
        "2009-04-15: UP: 16.0 DOWN: 24.0 NONE: 12.0\n",
        "2009-04-16: UP: 12.0 DOWN: 22.0 NONE: 19.0\n",
        "2009-04-17: UP: 15.0 DOWN: 19.0 NONE: 13.0\n",
        "2009-04-20: UP: 15.0 DOWN: 20.0 NONE: 13.0\n",
        "2009-04-21: UP: 15.0 DOWN: 19.0 NONE: 15.0\n",
        "2009-04-22: UP: 17.0 DOWN: 29.0 NONE: 14.0"
       ]
      },
      {
       "output_type": "stream",
       "stream": "stdout",
       "text": [
        "\n",
        "2009-04-23: UP: 22.0 DOWN: 27.0 NONE: 16.0\n",
        "2009-04-24: UP: 25.0 DOWN: 27.0 NONE: 20.0\n",
        "2009-04-27: UP: 15.0 DOWN: 20.0 NONE: 16.0\n",
        "2009-04-28: UP: 25.0 DOWN: 34.0 NONE: 22.0\n",
        "2009-04-29: UP: 19.0 DOWN: 21.0 NONE: 18.0\n",
        "2009-04-30: UP: 18.0 DOWN: 24.0 NONE: 19.0\n",
        "2009-05-01: UP: 6.0 DOWN: 24.0 NONE: 8.0\n",
        "2009-05-04: UP: 13.0 DOWN: 17.0 NONE: 10.0"
       ]
      },
      {
       "output_type": "stream",
       "stream": "stdout",
       "text": [
        "\n",
        "2009-05-05: UP: 15.0 DOWN: 25.0 NONE: 16.0\n",
        "2009-05-06: UP: 25.0 DOWN: 14.0 NONE: 13.0\n",
        "2009-05-07: UP: 11.0 DOWN: 16.0 NONE: 11.0\n",
        "2009-05-08: UP: 25.0 DOWN: 17.0 NONE: 15.0\n",
        "2009-05-11: UP: 21.0 DOWN: 15.0 NONE: 15.0\n",
        "2009-05-12: UP: 28.0 DOWN: 17.0 NONE: 14.0\n",
        "2009-05-13: UP: 29.0 DOWN: 14.0 NONE: 22.0\n",
        "2009-05-14: UP: 14.0 DOWN: 23.0 NONE: 17.0\n",
        "2009-05-15: UP: 24.0 DOWN: 22.0 NONE: 17.0"
       ]
      },
      {
       "output_type": "stream",
       "stream": "stdout",
       "text": [
        "\n",
        "2009-05-18: UP: 13.0 DOWN: 17.0 NONE: 12.0\n",
        "2009-05-19: UP: 17.0 DOWN: 28.0 NONE: 14.0\n",
        "2009-05-20: UP: 23.0 DOWN: 23.0 NONE: 24.0\n",
        "2009-05-21: UP: 23.0 DOWN: 26.0 NONE: 14.0\n",
        "2009-05-22: UP: 20.0 DOWN: 19.0 NONE: 16.0\n",
        "2009-05-26: UP: 15.0 DOWN: 12.0 NONE: 12.0\n",
        "2009-05-27: UP: 9.0 DOWN: 17.0 NONE: 7.0\n",
        "2009-05-28: UP: 16.0 DOWN: 25.0 NONE: 14.0\n",
        "2009-05-29: UP: 17.0 DOWN: 14.0 NONE: 14.0"
       ]
      },
      {
       "output_type": "stream",
       "stream": "stdout",
       "text": [
        "\n",
        "2009-06-01: UP: 16.0 DOWN: 15.0 NONE: 11.0\n",
        "2009-06-02: UP: 25.0 DOWN: 36.0 NONE: 14.0\n",
        "2009-06-03: UP: 18.0 DOWN: 22.0 NONE: 13.0\n",
        "2009-06-04: UP: 14.0 DOWN: 20.0 NONE: 10.0\n",
        "2009-06-05: UP: 20.0 DOWN: 16.0 NONE: 18.0\n",
        "2009-06-08: UP: 12.0 DOWN: 13.0 NONE: 17.0\n",
        "2009-06-09: UP: 15.0 DOWN: 12.0 NONE: 12.0\n",
        "2009-06-10: UP: 10.0 DOWN: 16.0 NONE: 18.0\n",
        "2009-06-11: UP: 10.0 DOWN: 21.0 NONE: 15.0"
       ]
      },
      {
       "output_type": "stream",
       "stream": "stdout",
       "text": [
        "\n",
        "2009-06-12: UP: 7.0 DOWN: 17.0 NONE: 15.0\n",
        "2009-06-15: UP: 15.0 DOWN: 19.0 NONE: 18.0\n",
        "2009-06-16: UP: 15.0 DOWN: 17.0 NONE: 17.0\n",
        "2009-06-17: UP: 14.0 DOWN: 19.0 NONE: 9.0\n",
        "2009-06-18: UP: 9.0 DOWN: 11.0 NONE: 11.0\n",
        "2009-06-19: UP: 18.0 DOWN: 12.0 NONE: 5.0\n",
        "2009-06-22: UP: 9.0 DOWN: 19.0 NONE: 14.0\n",
        "2009-06-23: UP: 12.0 DOWN: 12.0 NONE: 10.0\n",
        "2009-06-24: UP: 13.0 DOWN: 11.0 NONE: 9.0\n",
        "2009-06-25: UP: 11.0 DOWN: 9.0 NONE: 14.0\n",
        "2009-06-26: UP: 11.0 DOWN: 18.0 NONE: 15.0"
       ]
      },
      {
       "output_type": "stream",
       "stream": "stdout",
       "text": [
        "\n",
        "2009-06-29: UP: 17.0 DOWN: 18.0 NONE: 10.0\n",
        "2009-06-30: UP: 15.0 DOWN: 17.0 NONE: 15.0\n",
        "2009-07-01: UP: 7.0 DOWN: 19.0 NONE: 12.0\n",
        "2009-07-02: UP: 20.0 DOWN: 18.0 NONE: 10.0\n",
        "2009-07-06: UP: 10.0 DOWN: 17.0 NONE: 5.0\n",
        "2009-07-07: UP: 10.0 DOWN: 22.0 NONE: 10.0\n",
        "2009-07-08: UP: 13.0 DOWN: 13.0 NONE: 14.0\n",
        "2009-07-09: UP: 12.0 DOWN: 13.0 NONE: 8.0\n",
        "2009-07-10: UP: 11.0 DOWN: 12.0 NONE: 11.0\n",
        "2009-07-13: UP: 13.0 DOWN: 21.0 NONE: 15.0"
       ]
      },
      {
       "output_type": "stream",
       "stream": "stdout",
       "text": [
        "\n",
        "2009-07-14: UP: 5.0 DOWN: 11.0 NONE: 12.0\n",
        "2009-07-15: UP: 26.0 DOWN: 28.0 NONE: 15.0\n",
        "2009-07-16: UP: 9.0 DOWN: 14.0 NONE: 6.0\n",
        "2009-07-17: UP: 19.0 DOWN: 16.0 NONE: 11.0\n",
        "2009-07-20: UP: 12.0 DOWN: 15.0 NONE: 15.0\n",
        "2009-07-21: UP: 21.0 DOWN: 40.0 NONE: 18.0\n",
        "2009-07-22: UP: 23.0 DOWN: 31.0 NONE: 11.0\n",
        "2009-07-23: UP: 37.0 DOWN: 41.0 NONE: 23.0\n",
        "2009-07-24: UP: 18.0 DOWN: 27.0 NONE: 26.0"
       ]
      },
      {
       "output_type": "stream",
       "stream": "stdout",
       "text": [
        "\n",
        "2009-07-27: UP: 16.0 DOWN: 21.0 NONE: 17.0\n",
        "2009-07-28: UP: 37.0 DOWN: 50.0 NONE: 20.0\n",
        "2009-07-29: UP: 27.0 DOWN: 42.0 NONE: 24.0\n",
        "2009-07-30: UP: 31.0 DOWN: 34.0 NONE: 29.0\n",
        "2009-07-31: UP: 24.0 DOWN: 35.0 NONE: 26.0\n",
        "2009-08-03: UP: 15.0 DOWN: 19.0 NONE: 10.0\n",
        "2009-08-04: UP: 14.0 DOWN: 24.0 NONE: 12.0\n",
        "2009-08-05: UP: 10.0 DOWN: 16.0 NONE: 12.0"
       ]
      },
      {
       "output_type": "stream",
       "stream": "stdout",
       "text": [
        "\n",
        "2009-08-06: UP: 16.0 DOWN: 12.0 NONE: 16.0\n",
        "2009-08-07: UP: 12.0 DOWN: 14.0 NONE: 9.0\n",
        "2009-08-10: UP: 17.0 DOWN: 28.0 NONE: 19.0\n",
        "2009-08-11: UP: 24.0 DOWN: 24.0 NONE: 21.0\n",
        "2009-08-12: UP: 21.0 DOWN: 37.0 NONE: 26.0\n",
        "2009-08-13: UP: 18.0 DOWN: 34.0 NONE: 37.0\n",
        "2009-08-14: UP: 29.0 DOWN: 28.0 NONE: 15.0\n",
        "2009-08-17: UP: 17.0 DOWN: 29.0 NONE: 21.0"
       ]
      },
      {
       "output_type": "stream",
       "stream": "stdout",
       "text": [
        "\n",
        "2009-08-18: UP: 24.0 DOWN: 42.0 NONE: 26.0\n",
        "2009-08-19: UP: 26.0 DOWN: 17.0 NONE: 13.0\n",
        "2009-08-20: UP: 26.0 DOWN: 32.0 NONE: 20.0\n",
        "2009-08-21: UP: 26.0 DOWN: 28.0 NONE: 17.0\n",
        "2009-08-24: UP: 14.0 DOWN: 22.0 NONE: 16.0\n",
        "2009-08-25: UP: 32.0 DOWN: 30.0 NONE: 20.0\n",
        "2009-08-26: UP: 20.0 DOWN: 26.0 NONE: 20.0\n",
        "2009-08-27: UP: 20.0 DOWN: 29.0 NONE: 19.0"
       ]
      },
      {
       "output_type": "stream",
       "stream": "stdout",
       "text": [
        "\n",
        "2009-08-28: UP: 31.0 DOWN: 38.0 NONE: 29.0\n",
        "2009-08-31: UP: 23.0 DOWN: 36.0 NONE: 22.0\n",
        "2009-09-01: UP: 46.0 DOWN: 30.0 NONE: 23.0\n",
        "2009-09-02: UP: 26.0 DOWN: 40.0 NONE: 33.0\n",
        "2009-09-03: UP: 30.0 DOWN: 30.0 NONE: 18.0\n",
        "2009-09-04: UP: 19.0 DOWN: 38.0 NONE: 24.0"
       ]
      },
      {
       "output_type": "stream",
       "stream": "stdout",
       "text": [
        "\n",
        "2009-09-08: UP: 34.0 DOWN: 39.0 NONE: 31.0\n",
        "2009-09-09: UP: 40.0 DOWN: 36.0 NONE: 18.0\n",
        "2009-09-10: UP: 39.0 DOWN: 33.0 NONE: 25.0\n",
        "2009-09-11: UP: 30.0 DOWN: 22.0 NONE: 18.0\n",
        "2009-09-14: UP: 30.0 DOWN: 28.0 NONE: 19.0\n",
        "2009-09-15: UP: 30.0 DOWN: 35.0 NONE: 27.0"
       ]
      },
      {
       "output_type": "stream",
       "stream": "stdout",
       "text": [
        "\n",
        "2009-09-16: UP: 31.0 DOWN: 39.0 NONE: 28.0\n",
        "2009-09-17: UP: 21.0 DOWN: 28.0 NONE: 28.0\n",
        "2009-09-18: UP: 29.0 DOWN: 37.0 NONE: 35.0\n",
        "2009-09-21: UP: 19.0 DOWN: 36.0 NONE: 17.0\n",
        "2009-09-22: UP: 30.0 DOWN: 38.0 NONE: 26.0\n",
        "2009-09-23: UP: 24.0 DOWN: 34.0 NONE: 26.0\n",
        "2009-09-24: UP: 34.0 DOWN: 41.0 NONE: 21.0"
       ]
      },
      {
       "output_type": "stream",
       "stream": "stdout",
       "text": [
        "\n",
        "2009-09-25: UP: 39.0 DOWN: 31.0 NONE: 31.0\n",
        "2009-09-28: UP: 22.0 DOWN: 39.0 NONE: 19.0\n",
        "2009-09-29: UP: 29.0 DOWN: 40.0 NONE: 24.0\n",
        "2009-09-30: UP: 26.0 DOWN: 31.0 NONE: 25.0\n",
        "2009-10-01: UP: 28.0 DOWN: 32.0 NONE: 34.0\n",
        "2009-10-02: UP: 29.0 DOWN: 30.0 NONE: 24.0"
       ]
      },
      {
       "output_type": "stream",
       "stream": "stdout",
       "text": [
        "\n",
        "2009-10-05: UP: 30.0 DOWN: 30.0 NONE: 24.0\n",
        "2009-10-06: UP: 32.0 DOWN: 28.0 NONE: 20.0\n",
        "2009-10-07: UP: 33.0 DOWN: 42.0 NONE: 24.0\n",
        "2009-10-08: UP: 28.0 DOWN: 23.0 NONE: 23.0\n",
        "2009-10-09: UP: 22.0 DOWN: 30.0 NONE: 17.0\n",
        "2009-10-12: UP: 29.0 DOWN: 28.0 NONE: 26.0\n",
        "2009-10-13: UP: 35.0 DOWN: 36.0 NONE: 22.0"
       ]
      },
      {
       "output_type": "stream",
       "stream": "stdout",
       "text": [
        "\n",
        "2009-10-14: UP: 28.0 DOWN: 35.0 NONE: 16.0\n",
        "2009-10-15: UP: 24.0 DOWN: 27.0 NONE: 28.0\n",
        "2009-10-16: UP: 21.0 DOWN: 24.0 NONE: 20.0\n",
        "2009-10-19: UP: 25.0 DOWN: 29.0 NONE: 25.0\n",
        "2009-10-20: UP: 38.0 DOWN: 38.0 NONE: 17.0\n",
        "2009-10-21: UP: 37.0 DOWN: 36.0 NONE: 25.0\n",
        "2009-10-22: UP: 31.0 DOWN: 48.0 NONE: 20.0"
       ]
      },
      {
       "output_type": "stream",
       "stream": "stdout",
       "text": [
        "\n",
        "2009-10-23: UP: 39.0 DOWN: 25.0 NONE: 16.0\n",
        "2009-10-26: UP: 33.0 DOWN: 42.0 NONE: 28.0\n",
        "2009-10-27: UP: 35.0 DOWN: 33.0 NONE: 29.0\n",
        "2009-10-28: UP: 33.0 DOWN: 32.0 NONE: 27.0\n",
        "2009-10-29: UP: 22.0 DOWN: 45.0 NONE: 40.0\n",
        "2009-10-30: UP: 29.0 DOWN: 51.0 NONE: 18.0"
       ]
      },
      {
       "output_type": "stream",
       "stream": "stdout",
       "text": [
        "\n",
        "2009-11-02: UP: 32.0 DOWN: 35.0 NONE: 33.0\n",
        "2009-11-03: UP: 20.0 DOWN: 35.0 NONE: 23.0\n",
        "2009-11-04: UP: 29.0 DOWN: 34.0 NONE: 36.0\n",
        "2009-11-05: UP: 26.0 DOWN: 33.0 NONE: 26.0\n",
        "2009-11-06: UP: 26.0 DOWN: 27.0 NONE: 19.0\n",
        "2009-11-09: UP: 0.0 DOWN: 0.0 NONE: 0.0\n",
        "2009-11-10: UP: 0.0 DOWN: 0.0 NONE: 0.0\n",
        "2009-11-11: UP: 28.0 DOWN: 36.0 NONE: 21.0"
       ]
      },
      {
       "output_type": "stream",
       "stream": "stdout",
       "text": [
        "\n",
        "2009-11-12: UP: 27.0 DOWN: 28.0 NONE: 25.0\n",
        "2009-11-13: UP: 23.0 DOWN: 22.0 NONE: 13.0\n",
        "2009-11-16: UP: 23.0 DOWN: 31.0 NONE: 15.0\n",
        "2009-11-17: UP: 25.0 DOWN: 34.0 NONE: 30.0\n",
        "2009-11-18: UP: 30.0 DOWN: 35.0 NONE: 26.0\n",
        "2009-11-19: UP: 16.0 DOWN: 31.0 NONE: 25.0\n",
        "2009-11-20: UP: 24.0 DOWN: 33.0 NONE: 20.0"
       ]
      },
      {
       "output_type": "stream",
       "stream": "stdout",
       "text": [
        "\n",
        "2009-11-23: UP: 26.0 DOWN: 32.0 NONE: 24.0\n",
        "2009-11-24: UP: 25.0 DOWN: 35.0 NONE: 27.0\n",
        "2009-11-25: UP: 17.0 DOWN: 30.0 NONE: 13.0\n",
        "2009-11-27: UP: 13.0 DOWN: 21.0 NONE: 21.0\n",
        "2009-11-30: UP: 22.0 DOWN: 27.0 NONE: 15.0\n",
        "2009-12-01: UP: 25.0 DOWN: 44.0 NONE: 21.0\n",
        "2009-12-02: UP: 24.0 DOWN: 42.0 NONE: 23.0"
       ]
      },
      {
       "output_type": "stream",
       "stream": "stdout",
       "text": [
        "\n",
        "2009-12-03: UP: 31.0 DOWN: 30.0 NONE: 13.0\n",
        "2009-12-04: UP: 24.0 DOWN: 25.0 NONE: 17.0\n",
        "2009-12-07: UP: 20.0 DOWN: 36.0 NONE: 23.0\n",
        "2009-12-08: UP: 24.0 DOWN: 36.0 NONE: 29.0\n",
        "2009-12-09: UP: 25.0 DOWN: 39.0 NONE: 12.0\n",
        "2009-12-10: UP: 32.0 DOWN: 35.0 NONE: 26.0\n",
        "2009-12-11: UP: 24.0 DOWN: 31.0 NONE: 24.0"
       ]
      },
      {
       "output_type": "stream",
       "stream": "stdout",
       "text": [
        "\n",
        "2009-12-14: UP: 13.0 DOWN: 26.0 NONE: 18.0\n",
        "2009-12-15: UP: 30.0 DOWN: 37.0 NONE: 28.0\n",
        "2009-12-16: UP: 29.0 DOWN: 22.0 NONE: 30.0\n",
        "2009-12-17: UP: 24.0 DOWN: 32.0 NONE: 24.0\n",
        "2009-12-18: UP: 24.0 DOWN: 27.0 NONE: 22.0\n",
        "2009-12-21: UP: 19.0 DOWN: 36.0 NONE: 20.0\n",
        "2009-12-22: UP: 18.0 DOWN: 40.0 NONE: 19.0"
       ]
      },
      {
       "output_type": "stream",
       "stream": "stdout",
       "text": [
        "\n",
        "2009-12-23: UP: 26.0 DOWN: 27.0 NONE: 17.0\n",
        "2009-12-24: UP: 25.0 DOWN: 19.0 NONE: 9.0\n",
        "2009-12-28: UP: 17.0 DOWN: 26.0 NONE: 15.0\n",
        "2009-12-29: UP: 25.0 DOWN: 31.0 NONE: 19.0\n",
        "2009-12-30: UP: 30.0 DOWN: 17.0 NONE: 12.0\n",
        "2009-12-31: UP: 16.0 DOWN: 26.0 NONE: 11.0\n",
        "2010-01-04: UP: 27.0 DOWN: 23.0 NONE: 15.0\n",
        "2010-01-05: UP: 28.0 DOWN: 23.0 NONE: 35.0"
       ]
      },
      {
       "output_type": "stream",
       "stream": "stdout",
       "text": [
        "\n",
        "2010-01-06: UP: 16.0 DOWN: 37.0 NONE: 9.0\n",
        "2010-01-07: UP: 0.0 DOWN: 0.0 NONE: 0.0\n",
        "2010-01-08: UP: 37.0 DOWN: 55.0 NONE: 41.0\n",
        "2010-01-11: UP: 24.0 DOWN: 22.0 NONE: 17.0\n",
        "2010-01-12: UP: 22.0 DOWN: 30.0 NONE: 29.0\n",
        "2010-01-13: UP: 29.0 DOWN: 22.0 NONE: 22.0\n",
        "2010-01-14: UP: 29.0 DOWN: 33.0 NONE: 24.0"
       ]
      },
      {
       "output_type": "stream",
       "stream": "stdout",
       "text": [
        "\n",
        "2010-01-15: UP: 31.0 DOWN: 29.0 NONE: 26.0\n",
        "2010-01-19: UP: 20.0 DOWN: 25.0 NONE: 23.0\n",
        "2010-01-20: UP: 34.0 DOWN: 34.0 NONE: 31.0\n",
        "2010-01-21: UP: 32.0 DOWN: 34.0 NONE: 14.0\n",
        "2010-01-22: UP: 24.0 DOWN: 33.0 NONE: 22.0\n",
        "2010-01-25: UP: 18.0 DOWN: 30.0 NONE: 17.0\n",
        "2010-01-26: UP: 36.0 DOWN: 40.0 NONE: 28.0"
       ]
      },
      {
       "output_type": "stream",
       "stream": "stdout",
       "text": [
        "\n",
        "2010-01-27: UP: 25.0 DOWN: 31.0 NONE: 20.0\n",
        "2010-01-28: UP: 39.0 DOWN: 37.0 NONE: 25.0\n",
        "2010-01-29: UP: 33.0 DOWN: 22.0 NONE: 16.0\n",
        "2010-02-01: UP: 12.0 DOWN: 32.0 NONE: 9.0\n",
        "2010-02-02: UP: 24.0 DOWN: 29.0 NONE: 15.0\n",
        "2010-02-03: UP: 24.0 DOWN: 36.0 NONE: 16.0\n",
        "2010-02-04: UP: 22.0 DOWN: 41.0 NONE: 25.0"
       ]
      },
      {
       "output_type": "stream",
       "stream": "stdout",
       "text": [
        "\n",
        "2010-02-05: UP: 20.0 DOWN: 28.0 NONE: 18.0\n",
        "2010-02-08: UP: 36.0 DOWN: 38.0 NONE: 21.0\n",
        "2010-02-09: UP: 22.0 DOWN: 42.0 NONE: 28.0\n",
        "2010-02-10: UP: 28.0 DOWN: 40.0 NONE: 22.0\n",
        "2010-02-11: UP: 25.0 DOWN: 39.0 NONE: 22.0\n",
        "2010-02-12: UP: 24.0 DOWN: 33.0 NONE: 25.0"
       ]
      },
      {
       "output_type": "stream",
       "stream": "stdout",
       "text": [
        "\n",
        "2010-02-16: UP: 36.0 DOWN: 25.0 NONE: 33.0\n",
        "2010-02-17: UP: 31.0 DOWN: 36.0 NONE: 21.0\n",
        "2010-02-18: UP: 31.0 DOWN: 37.0 NONE: 31.0\n",
        "2010-02-19: UP: 31.0 DOWN: 38.0 NONE: 29.0\n",
        "2010-02-22: UP: 32.0 DOWN: 43.0 NONE: 17.0\n",
        "2010-02-23: UP: 33.0 DOWN: 32.0 NONE: 24.0"
       ]
      },
      {
       "output_type": "stream",
       "stream": "stdout",
       "text": [
        "\n",
        "2010-02-24: UP: 29.0 DOWN: 34.0 NONE: 19.0\n",
        "2010-02-25: UP: 30.0 DOWN: 52.0 NONE: 23.0\n",
        "2010-02-26: UP: 20.0 DOWN: 35.0 NONE: 16.0\n",
        "2010-03-01: UP: 24.0 DOWN: 24.0 NONE: 34.0\n",
        "2010-03-02: UP: 23.0 DOWN: 38.0 NONE: 18.0\n",
        "2010-03-03: UP: 23.0 DOWN: 34.0 NONE: 23.0"
       ]
      },
      {
       "output_type": "stream",
       "stream": "stdout",
       "text": [
        "\n",
        "2010-03-04: UP: 32.0 DOWN: 45.0 NONE: 30.0\n",
        "2010-03-05: UP: 31.0 DOWN: 33.0 NONE: 28.0\n",
        "2010-03-08: UP: 32.0 DOWN: 29.0 NONE: 22.0\n",
        "2010-03-09: UP: 21.0 DOWN: 33.0 NONE: 27.0\n",
        "2010-03-10: UP: 37.0 DOWN: 34.0 NONE: 25.0\n",
        "2010-03-11: UP: 38.0 DOWN: 43.0 NONE: 27.0"
       ]
      },
      {
       "output_type": "stream",
       "stream": "stdout",
       "text": [
        "\n",
        "2010-03-12: UP: 32.0 DOWN: 25.0 NONE: 19.0\n",
        "2010-03-15: UP: 27.0 DOWN: 36.0 NONE: 28.0\n",
        "2010-03-16: UP: 36.0 DOWN: 38.0 NONE: 26.0\n",
        "2010-03-17: UP: 34.0 DOWN: 33.0 NONE: 34.0\n",
        "2010-03-18: UP: 36.0 DOWN: 36.0 NONE: 33.0\n",
        "2010-03-19: UP: 35.0 DOWN: 40.0 NONE: 19.0"
       ]
      },
      {
       "output_type": "stream",
       "stream": "stdout",
       "text": [
        "\n",
        "2010-03-22: UP: 25.0 DOWN: 30.0 NONE: 17.0\n",
        "2010-03-23: UP: 42.0 DOWN: 29.0 NONE: 29.0\n",
        "2010-03-24: UP: 33.0 DOWN: 37.0 NONE: 26.0\n",
        "2010-03-25: UP: 40.0 DOWN: 36.0 NONE: 23.0\n",
        "2010-03-26: UP: 28.0 DOWN: 39.0 NONE: 26.0\n",
        "2010-03-29: UP: 28.0 DOWN: 46.0 NONE: 32.0"
       ]
      },
      {
       "output_type": "stream",
       "stream": "stdout",
       "text": [
        "\n",
        "2010-03-30: UP: 38.0 DOWN: 31.0 NONE: 30.0\n",
        "2010-03-31: UP: 33.0 DOWN: 28.0 NONE: 28.0\n",
        "2010-04-01: UP: 27.0 DOWN: 41.0 NONE: 20.0\n",
        "2010-04-05: UP: 23.0 DOWN: 25.0 NONE: 22.0\n",
        "2010-04-06: UP: 23.0 DOWN: 30.0 NONE: 34.0\n",
        "2010-04-07: UP: 31.0 DOWN: 29.0 NONE: 22.0"
       ]
      },
      {
       "output_type": "stream",
       "stream": "stdout",
       "text": [
        "\n",
        "2010-04-08: UP: 22.0 DOWN: 40.0 NONE: 28.0\n",
        "2010-04-09: UP: 23.0 DOWN: 24.0 NONE: 29.0\n",
        "2010-04-12: UP: 35.0 DOWN: 41.0 NONE: 33.0\n",
        "2010-04-13: UP: 26.0 DOWN: 50.0 NONE: 22.0\n",
        "2010-04-14: UP: 33.0 DOWN: 38.0 NONE: 23.0\n",
        "2010-04-15: UP: 32.0 DOWN: 36.0 NONE: 35.0"
       ]
      },
      {
       "output_type": "stream",
       "stream": "stdout",
       "text": [
        "\n",
        "2010-04-16: UP: 21.0 DOWN: 28.0 NONE: 19.0\n",
        "2010-04-19: UP: 41.0 DOWN: 28.0 NONE: 22.0\n",
        "2010-04-20: UP: 37.0 DOWN: 33.0 NONE: 21.0\n",
        "2010-04-21: UP: 34.0 DOWN: 38.0 NONE: 34.0\n",
        "2010-04-22: UP: 33.0 DOWN: 26.0 NONE: 32.0\n",
        "2010-04-23: UP: 31.0 DOWN: 17.0 NONE: 21.0\n",
        "2010-04-26: UP: 13.0 DOWN: 11.0 NONE: 7.0"
       ]
      },
      {
       "output_type": "stream",
       "stream": "stdout",
       "text": [
        "\n",
        "2010-04-27: UP: 7.0 DOWN: 7.0 NONE: 3.0\n",
        "2010-04-28: UP: 9.0 DOWN: 21.0 NONE: 12.0\n",
        "2010-04-29: UP: 43.0 DOWN: 46.0 NONE: 37.0\n",
        "2010-04-30: UP: 32.0 DOWN: 41.0 NONE: 30.0\n",
        "2010-05-03: UP: 24.0 DOWN: 37.0 NONE: 27.0\n",
        "2010-05-04: UP: 27.0 DOWN: 42.0 NONE: 25.0\n",
        "2010-05-05: UP: 36.0 DOWN: 37.0 NONE: 32.0"
       ]
      },
      {
       "output_type": "stream",
       "stream": "stdout",
       "text": [
        "\n",
        "2010-05-06: UP: 31.0 DOWN: 35.0 NONE: 34.0\n",
        "2010-05-07: UP: 33.0 DOWN: 26.0 NONE: 29.0\n",
        "2010-05-10: UP: 13.0 DOWN: 31.0 NONE: 21.0\n",
        "2010-05-11: UP: 43.0 DOWN: 44.0 NONE: 25.0\n",
        "2010-05-12: UP: 26.0 DOWN: 38.0 NONE: 22.0\n",
        "2010-05-13: UP: 33.0 DOWN: 26.0 NONE: 22.0"
       ]
      },
      {
       "output_type": "stream",
       "stream": "stdout",
       "text": [
        "\n",
        "2010-05-14: UP: 28.0 DOWN: 34.0 NONE: 28.0\n",
        "2010-05-17: UP: 33.0 DOWN: 34.0 NONE: 24.0\n",
        "2010-05-18: UP: 30.0 DOWN: 39.0 NONE: 31.0\n",
        "2010-05-19: UP: 39.0 DOWN: 32.0 NONE: 23.0\n",
        "2010-05-20: UP: 41.0 DOWN: 36.0 NONE: 24.0\n",
        "2010-05-21: UP: 35.0 DOWN: 31.0 NONE: 20.0"
       ]
      },
      {
       "output_type": "stream",
       "stream": "stdout",
       "text": [
        "\n",
        "2010-05-24: UP: 27.0 DOWN: 43.0 NONE: 25.0\n",
        "2010-05-25: UP: 33.0 DOWN: 36.0 NONE: 27.0\n",
        "2010-05-26: UP: 33.0 DOWN: 40.0 NONE: 23.0\n",
        "2010-05-27: UP: 33.0 DOWN: 42.0 NONE: 21.0\n",
        "2010-05-28: UP: 29.0 DOWN: 21.0 NONE: 26.0\n",
        "2010-06-01: UP: 30.0 DOWN: 37.0 NONE: 26.0"
       ]
      },
      {
       "output_type": "stream",
       "stream": "stdout",
       "text": [
        "\n",
        "2010-06-02: UP: 36.0 DOWN: 29.0 NONE: 24.0\n",
        "2010-06-03: UP: 47.0 DOWN: 36.0 NONE: 21.0\n",
        "2010-06-04: UP: 29.0 DOWN: 43.0 NONE: 22.0\n",
        "2010-06-07: UP: 31.0 DOWN: 22.0 NONE: 25.0\n",
        "2010-06-08: UP: 26.0 DOWN: 32.0 NONE: 28.0\n",
        "2010-06-09: UP: 36.0 DOWN: 36.0 NONE: 38.0"
       ]
      },
      {
       "output_type": "stream",
       "stream": "stdout",
       "text": [
        "\n",
        "2010-06-10: UP: 29.0 DOWN: 42.0 NONE: 27.0\n",
        "2010-06-11: UP: 30.0 DOWN: 30.0 NONE: 23.0\n",
        "2010-06-14: UP: 26.0 DOWN: 23.0 NONE: 16.0\n",
        "2010-06-15: UP: 46.0 DOWN: 35.0 NONE: 26.0\n",
        "2010-06-16: UP: 28.0 DOWN: 33.0 NONE: 28.0\n",
        "2010-06-17: UP: 33.0 DOWN: 30.0 NONE: 29.0"
       ]
      },
      {
       "output_type": "stream",
       "stream": "stdout",
       "text": [
        "\n",
        "2010-06-18: UP: 32.0 DOWN: 24.0 NONE: 25.0\n",
        "2010-06-21: UP: 24.0 DOWN: 47.0 NONE: 34.0\n",
        "2010-06-22: UP: 28.0 DOWN: 32.0 NONE: 18.0\n",
        "2010-06-23: UP: 31.0 DOWN: 38.0 NONE: 17.0\n",
        "2010-06-24: UP: 22.0 DOWN: 25.0 NONE: 19.0\n",
        "2010-06-25: UP: 22.0 DOWN: 41.0 NONE: 25.0"
       ]
      },
      {
       "output_type": "stream",
       "stream": "stdout",
       "text": [
        "\n",
        "2010-06-28: UP: 44.0 DOWN: 39.0 NONE: 20.0\n",
        "2010-06-29: UP: 33.0 DOWN: 37.0 NONE: 17.0\n",
        "2010-06-30: UP: 29.0 DOWN: 44.0 NONE: 29.0\n",
        "2010-07-01: UP: 38.0 DOWN: 33.0 NONE: 36.0\n",
        "2010-07-02: UP: 29.0 DOWN: 30.0 NONE: 18.0\n",
        "2010-07-06: UP: 20.0 DOWN: 29.0 NONE: 33.0"
       ]
      },
      {
       "output_type": "stream",
       "stream": "stdout",
       "text": [
        "\n",
        "2010-07-07: UP: 26.0 DOWN: 44.0 NONE: 25.0\n",
        "2010-07-08: UP: 38.0 DOWN: 33.0 NONE: 28.0\n",
        "2010-07-09: UP: 26.0 DOWN: 27.0 NONE: 15.0\n",
        "2010-07-12: UP: 5.0 DOWN: 2.0 NONE: 1.0\n",
        "2010-07-12: Buying 200SPYshares.\n",
        "2010-07-13: UP: 0.0 DOWN: 1.0 NONE: 0.0\n",
        "2010-07-14: UP: 0.0 DOWN: 0.0 NONE: 0.0\n",
        "2010-07-15: UP: 0.0 DOWN: 0.0 NONE: 0.0\n",
        "2010-07-16: UP: 0.0 DOWN: 0.0 NONE: 0.0\n",
        "2010-07-19: UP: 0.0 DOWN: 0.0 NONE: 0.0\n",
        "2010-07-20: UP: 0.0 DOWN: 0.0 NONE: 0.0\n",
        "2010-07-21: UP: 0.0 DOWN: 0.0 NONE: 0.0\n",
        "2010-07-22: UP: 0.0 DOWN: 0.0 NONE: 0.0\n",
        "2010-07-23: UP: 0.0 DOWN: 0.0 NONE: 0.0\n",
        "2010-07-26: UP: 0.0 DOWN: 0.0 NONE: 0.0\n",
        "2010-07-27: UP: 0.0 DOWN: 0.0 NONE: 0.0\n",
        "2010-07-28: UP: 0.0 DOWN: 0.0 NONE: 0.0"
       ]
      },
      {
       "output_type": "stream",
       "stream": "stdout",
       "text": [
        "\n",
        "2010-07-29: UP: 0.0 DOWN: 0.0 NONE: 0.0\n",
        "2010-07-30: UP: 0.0 DOWN: 0.0 NONE: 0.0\n",
        "2010-08-02: UP: 0.0 DOWN: 0.0 NONE: 0.0\n",
        "2010-08-03: UP: 0.0 DOWN: 0.0 NONE: 0.0\n",
        "2010-08-04: UP: 0.0 DOWN: 0.0 NONE: 0.0\n",
        "2010-08-05: UP: 0.0 DOWN: 0.0 NONE: 0.0\n",
        "2010-08-06: UP: 0.0 DOWN: 0.0 NONE: 0.0\n",
        "2010-08-09: UP: 0.0 DOWN: 0.0 NONE: 0.0\n",
        "2010-08-10: UP: 0.0 DOWN: 0.0 NONE: 0.0\n",
        "2010-08-11: UP: 0.0 DOWN: 0.0 NONE: 0.0\n",
        "2010-08-12: UP: 0.0 DOWN: 0.0 NONE: 0.0\n",
        "2010-08-13: UP: 0.0 DOWN: 0.0 NONE: 0.0\n",
        "2010-08-16: UP: 0.0 DOWN: 0.0 NONE: 0.0\n",
        "2010-08-17: UP: 0.0 DOWN: 0.0 NONE: 0.0\n",
        "2010-08-18: UP: 0.0 DOWN: 0.0 NONE: 0.0\n",
        "2010-08-19: UP: 0.0 DOWN: 0.0 NONE: 0.0\n",
        "2010-08-20: UP: 0.0 DOWN: 0.0 NONE: 0.0\n",
        "2010-08-23: UP: 0.0 DOWN: 0.0 NONE: 0.0\n",
        "2010-08-24: UP: 0.0 DOWN: 0.0 NONE: 0.0\n",
        "2010-08-25: UP: 0.0 DOWN: 0.0 NONE: 0.0\n",
        "2010-08-26: UP: 0.0 DOWN: 0.0 NONE: 0.0\n",
        "2010-08-27: UP: 0.0 DOWN: 0.0 NONE: 0.0\n",
        "2010-08-30: UP: 0.0 DOWN: 0.0 NONE: 0.0\n",
        "2010-08-31: UP: 0.0 DOWN: 0.0 NONE: 0.0\n",
        "2010-09-01: UP: 0.0 DOWN: 0.0 NONE: 0.0\n",
        "2010-09-02: UP: 0.0 DOWN: 0.0 NONE: 0.0\n",
        "2010-09-03: UP: 0.0 DOWN: 0.0 NONE: 0.0\n",
        "2010-09-07: UP: 0.0 DOWN: 0.0 NONE: 0.0\n",
        "2010-09-08: UP: 0.0 DOWN: 0.0 NONE: 0.0\n",
        "2010-09-09: UP: 0.0 DOWN: 0.0 NONE: 0.0\n",
        "2010-09-10: UP: 0.0 DOWN: 0.0 NONE: 0.0\n",
        "2010-09-13: UP: 0.0 DOWN: 0.0 NONE: 0.0\n",
        "2010-09-14: UP: 0.0 DOWN: 0.0 NONE: 0.0"
       ]
      },
      {
       "output_type": "stream",
       "stream": "stdout",
       "text": [
        "\n",
        "2010-09-15: UP: 0.0 DOWN: 0.0 NONE: 0.0\n",
        "2010-09-16: UP: 0.0 DOWN: 0.0 NONE: 0.0\n",
        "2010-09-17: UP: 0.0 DOWN: 0.0 NONE: 0.0\n",
        "2010-09-20: UP: 0.0 DOWN: 0.0 NONE: 0.0\n",
        "2010-09-21: UP: 0.0 DOWN: 0.0 NONE: 0.0\n",
        "2010-09-22: UP: 0.0 DOWN: 0.0 NONE: 0.0\n",
        "2010-09-23: UP: 0.0 DOWN: 0.0 NONE: 0.0\n",
        "2010-09-24: UP: 0.0 DOWN: 0.0 NONE: 0.0\n",
        "2010-09-27: UP: 0.0 DOWN: 0.0 NONE: 0.0\n",
        "2010-09-28: UP: 0.0 DOWN: 0.0 NONE: 0.0\n",
        "2010-09-29: UP: 0.0 DOWN: 0.0 NONE: 0.0\n",
        "2010-09-30: UP: 0.0 DOWN: 0.0 NONE: 0.0\n",
        "2010-10-01: UP: 0.0 DOWN: 0.0 NONE: 0.0\n",
        "2010-10-04: UP: 0.0 DOWN: 0.0 NONE: 0.0\n",
        "2010-10-05: UP: 0.0 DOWN: 0.0 NONE: 0.0\n",
        "2010-10-06: UP: 0.0 DOWN: 0.0 NONE: 0.0\n",
        "2010-10-07: UP: 0.0 DOWN: 0.0 NONE: 0.0\n",
        "2010-10-08: UP: 0.0 DOWN: 0.0 NONE: 0.0\n",
        "2010-10-11: UP: 0.0 DOWN: 0.0 NONE: 0.0\n",
        "2010-10-12: UP: 0.0 DOWN: 0.0 NONE: 0.0\n",
        "2010-10-13: UP: 0.0 DOWN: 0.0 NONE: 0.0\n",
        "2010-10-14: UP: 0.0 DOWN: 0.0 NONE: 0.0\n",
        "2010-10-15: UP: 0.0 DOWN: 0.0 NONE: 0.0\n",
        "2010-10-18: UP: 0.0 DOWN: 0.0 NONE: 0.0\n",
        "2010-10-19: UP: 0.0 DOWN: 0.0 NONE: 0.0\n",
        "2010-10-20: UP: 0.0 DOWN: 0.0 NONE: 0.0\n",
        "2010-10-21: UP: 0.0 DOWN: 0.0 NONE: 0.0\n",
        "2010-10-22: UP: 0.0 DOWN: 0.0 NONE: 0.0"
       ]
      },
      {
       "output_type": "stream",
       "stream": "stdout",
       "text": [
        "\n",
        "2010-10-25: UP: 0.0 DOWN: 0.0 NONE: 0.0\n",
        "2010-10-26: UP: 0.0 DOWN: 0.0 NONE: 0.0\n",
        "2010-10-27: UP: 0.0 DOWN: 0.0 NONE: 0.0\n",
        "2010-10-28: UP: 0.0 DOWN: 0.0 NONE: 0.0\n",
        "2010-10-29: UP: 0.0 DOWN: 0.0 NONE: 0.0\n",
        "2010-11-01: UP: 0.0 DOWN: 0.0 NONE: 0.0\n",
        "2010-11-02: UP: 0.0 DOWN: 0.0 NONE: 0.0\n",
        "2010-11-03: UP: 0.0 DOWN: 0.0 NONE: 0.0\n",
        "2010-11-04: UP: 0.0 DOWN: 0.0 NONE: 0.0\n",
        "2010-11-05: UP: 0.0 DOWN: 0.0 NONE: 0.0\n",
        "2010-11-08: UP: 0.0 DOWN: 0.0 NONE: 0.0\n",
        "2010-11-09: UP: 0.0 DOWN: 0.0 NONE: 0.0\n",
        "2010-11-10: UP: 0.0 DOWN: 0.0 NONE: 0.0\n",
        "2010-11-11: UP: 0.0 DOWN: 0.0 NONE: 0.0\n",
        "2010-11-12: UP: 0.0 DOWN: 0.0 NONE: 0.0\n",
        "2010-11-15: UP: 0.0 DOWN: 0.0 NONE: 0.0\n",
        "2010-11-16: UP: 0.0 DOWN: 0.0 NONE: 0.0\n",
        "2010-11-17: UP: 0.0 DOWN: 0.0 NONE: 0.0\n",
        "2010-11-18: UP: 0.0 DOWN: 0.0 NONE: 0.0\n",
        "2010-11-19: UP: 0.0 DOWN: 0.0 NONE: 0.0\n",
        "2010-11-22: UP: 0.0 DOWN: 0.0 NONE: 0.0\n",
        "2010-11-23: UP: 0.0 DOWN: 0.0 NONE: 0.0\n",
        "2010-11-24: UP: 0.0 DOWN: 0.0 NONE: 0.0\n",
        "2010-11-26: UP: 0.0 DOWN: 0.0 NONE: 0.0\n",
        "2010-11-29: UP: 0.0 DOWN: 0.0 NONE: 0.0\n",
        "2010-11-30: UP: 0.0 DOWN: 0.0 NONE: 0.0\n",
        "2010-12-01: UP: 0.0 DOWN: 0.0 NONE: 0.0\n",
        "2010-12-02: UP: 0.0 DOWN: 0.0 NONE: 0.0\n",
        "2010-12-03: UP: 0.0 DOWN: 0.0 NONE: 0.0\n",
        "2010-12-06: UP: 0.0 DOWN: 0.0 NONE: 0.0\n",
        "2010-12-07: UP: 0.0 DOWN: 0.0 NONE: 0.0"
       ]
      },
      {
       "output_type": "stream",
       "stream": "stdout",
       "text": [
        "\n",
        "2010-12-08: UP: 0.0 DOWN: 0.0 NONE: 0.0\n",
        "2010-12-09: UP: 0.0 DOWN: 0.0 NONE: 0.0\n",
        "2010-12-10: UP: 0.0 DOWN: 0.0 NONE: 0.0\n",
        "2010-12-13: UP: 0.0 DOWN: 0.0 NONE: 0.0\n",
        "2010-12-14: UP: 0.0 DOWN: 0.0 NONE: 0.0\n",
        "2010-12-15: UP: 0.0 DOWN: 0.0 NONE: 0.0\n",
        "2010-12-16: UP: 0.0 DOWN: 0.0 NONE: 0.0\n",
        "2010-12-17: UP: 0.0 DOWN: 0.0 NONE: 0.0\n",
        "2010-12-20: UP: 0.0 DOWN: 0.0 NONE: 0.0\n",
        "2010-12-21: UP: 0.0 DOWN: 0.0 NONE: 0.0\n",
        "2010-12-22: UP: 0.0 DOWN: 0.0 NONE: 0.0\n",
        "2010-12-23: UP: 0.0 DOWN: 0.0 NONE: 0.0\n",
        "2010-12-27: UP: 0.0 DOWN: 0.0 NONE: 0.0\n",
        "2010-12-28: UP: 0.0 DOWN: 0.0 NONE: 0.0\n",
        "2010-12-29: UP: 0.0 DOWN: 0.0 NONE: 0.0\n",
        "2010-12-30: UP: 0.0 DOWN: 0.0 NONE: 0.0\n",
        "2010-12-31: UP: 0.0 DOWN: 0.0 NONE: 0.0\n",
        "2011-01-03: UP: 0.0 DOWN: 0.0 NONE: 0.0\n",
        "2011-01-04: UP: 0.0 DOWN: 0.0 NONE: 0.0\n",
        "2011-01-05: UP: 0.0 DOWN: 0.0 NONE: 0.0\n",
        "2011-01-06: UP: 0.0 DOWN: 0.0 NONE: 0.0\n",
        "2011-01-07: UP: 0.0 DOWN: 0.0 NONE: 0.0\n",
        "2011-01-10: UP: 0.0 DOWN: 0.0 NONE: 0.0\n",
        "2011-01-11: UP: 0.0 DOWN: 0.0 NONE: 0.0\n",
        "2011-01-12: UP: 0.0 DOWN: 0.0 NONE: 0.0\n",
        "2011-01-13: UP: 0.0 DOWN: 0.0 NONE: 0.0\n",
        "2011-01-14: UP: 0.0 DOWN: 0.0 NONE: 0.0\n",
        "2011-01-18: UP: 0.0 DOWN: 0.0 NONE: 0.0\n",
        "2011-01-19: UP: 0.0 DOWN: 0.0 NONE: 0.0"
       ]
      },
      {
       "output_type": "stream",
       "stream": "stdout",
       "text": [
        "\n",
        "2011-01-20: UP: 0.0 DOWN: 0.0 NONE: 0.0\n",
        "2011-01-21: UP: 0.0 DOWN: 0.0 NONE: 0.0\n",
        "2011-01-24: UP: 0.0 DOWN: 0.0 NONE: 0.0\n",
        "2011-01-25: UP: 0.0 DOWN: 0.0 NONE: 0.0\n",
        "2011-01-26: UP: 0.0 DOWN: 0.0 NONE: 0.0\n",
        "2011-01-27: UP: 0.0 DOWN: 0.0 NONE: 0.0\n",
        "2011-01-28: UP: 0.0 DOWN: 0.0 NONE: 0.0\n",
        "2011-01-31: UP: 0.0 DOWN: 0.0 NONE: 0.0\n",
        "2011-02-01: UP: 0.0 DOWN: 0.0 NONE: 0.0\n",
        "2011-02-02: UP: 0.0 DOWN: 0.0 NONE: 0.0\n",
        "2011-02-03: UP: 0.0 DOWN: 0.0 NONE: 0.0\n",
        "2011-02-04: UP: 0.0 DOWN: 0.0 NONE: 0.0\n",
        "2011-02-07: UP: 0.0 DOWN: 0.0 NONE: 0.0\n",
        "2011-02-08: UP: 0.0 DOWN: 0.0 NONE: 0.0\n",
        "2011-02-09: UP: 0.0 DOWN: 0.0 NONE: 0.0\n",
        "2011-02-10: UP: 0.0 DOWN: 0.0 NONE: 0.0\n",
        "2011-02-11: UP: 0.0 DOWN: 0.0 NONE: 0.0\n",
        "2011-02-14: UP: 0.0 DOWN: 0.0 NONE: 0.0\n",
        "2011-02-15: UP: 0.0 DOWN: 0.0 NONE: 0.0\n",
        "2011-02-16: UP: 0.0 DOWN: 0.0 NONE: 0.0\n",
        "2011-02-17: UP: 0.0 DOWN: 0.0 NONE: 0.0\n",
        "2011-02-18: UP: 0.0 DOWN: 0.0 NONE: 0.0\n",
        "2011-02-22: UP: 0.0 DOWN: 0.0 NONE: 0.0\n",
        "2011-02-23: UP: 0.0 DOWN: 0.0 NONE: 0.0\n",
        "2011-02-24: UP: 0.0 DOWN: 0.0 NONE: 0.0\n",
        "2011-02-25: UP: 0.0 DOWN: 0.0 NONE: 0.0\n",
        "2011-02-28: UP: 0.0 DOWN: 0.0 NONE: 0.0\n",
        "2011-03-01: UP: 0.0 DOWN: 0.0 NONE: 0.0\n",
        "2011-03-02: UP: 0.0 DOWN: 0.0 NONE: 0.0"
       ]
      },
      {
       "output_type": "stream",
       "stream": "stdout",
       "text": [
        "\n",
        "2011-03-03: UP: 0.0 DOWN: 0.0 NONE: 0.0\n",
        "2011-03-04: UP: 0.0 DOWN: 0.0 NONE: 0.0\n",
        "2011-03-07: UP: 0.0 DOWN: 0.0 NONE: 0.0\n",
        "2011-03-08: UP: 0.0 DOWN: 0.0 NONE: 0.0\n",
        "2011-03-09: UP: 0.0 DOWN: 0.0 NONE: 0.0\n",
        "2011-03-10: UP: 0.0 DOWN: 0.0 NONE: 0.0\n",
        "2011-03-11: UP: 0.0 DOWN: 0.0 NONE: 0.0\n",
        "2011-03-14: UP: 0.0 DOWN: 0.0 NONE: 0.0\n",
        "2011-03-15: UP: 0.0 DOWN: 0.0 NONE: 0.0\n",
        "2011-03-16: UP: 0.0 DOWN: 0.0 NONE: 0.0\n",
        "2011-03-17: UP: 0.0 DOWN: 0.0 NONE: 0.0\n",
        "2011-03-18: UP: 0.0 DOWN: 0.0 NONE: 0.0\n",
        "2011-03-21: UP: 0.0 DOWN: 0.0 NONE: 0.0\n",
        "2011-03-22: UP: 0.0 DOWN: 0.0 NONE: 0.0\n",
        "2011-03-23: UP: 0.0 DOWN: 0.0 NONE: 0.0\n",
        "2011-03-24: UP: 0.0 DOWN: 0.0 NONE: 0.0\n",
        "2011-03-25: UP: 0.0 DOWN: 0.0 NONE: 0.0\n",
        "2011-03-28: UP: 0.0 DOWN: 0.0 NONE: 0.0\n",
        "2011-03-29: UP: 0.0 DOWN: 0.0 NONE: 0.0\n",
        "2011-03-30: UP: 0.0 DOWN: 0.0 NONE: 0.0\n",
        "2011-03-31: UP: 0.0 DOWN: 0.0 NONE: 0.0\n",
        "2011-04-01: UP: 0.0 DOWN: 0.0 NONE: 0.0\n",
        "2011-04-04: UP: 0.0 DOWN: 0.0 NONE: 0.0\n",
        "2011-04-05: UP: 0.0 DOWN: 0.0 NONE: 0.0\n",
        "2011-04-06: UP: 0.0 DOWN: 0.0 NONE: 0.0\n",
        "2011-04-07: UP: 15.0 DOWN: 9.0 NONE: 15.0\n",
        "2011-04-08: UP: 0.0 DOWN: 0.0 NONE: 0.0\n",
        "2011-04-11: UP: 0.0 DOWN: 0.0 NONE: 0.0"
       ]
      },
      {
       "output_type": "stream",
       "stream": "stdout",
       "text": [
        "\n",
        "2011-04-12: UP: 0.0 DOWN: 0.0 NONE: 0.0\n",
        "2011-04-13: UP: 0.0 DOWN: 0.0 NONE: 0.0\n",
        "2011-04-14: UP: 0.0 DOWN: 0.0 NONE: 0.0\n",
        "2011-04-15: UP: 0.0 DOWN: 0.0 NONE: 0.0\n",
        "2011-04-18: UP: 0.0 DOWN: 0.0 NONE: 0.0\n",
        "2011-04-19: UP: 0.0 DOWN: 0.0 NONE: 0.0\n",
        "2011-04-20: UP: 0.0 DOWN: 0.0 NONE: 0.0\n",
        "2011-04-21: UP: 0.0 DOWN: 0.0 NONE: 0.0\n",
        "2011-04-25: UP: 0.0 DOWN: 0.0 NONE: 0.0\n",
        "2011-04-26: UP: 0.0 DOWN: 0.0 NONE: 0.0\n",
        "2011-04-27: UP: 0.0 DOWN: 0.0 NONE: 0.0\n",
        "2011-04-28: UP: 0.0 DOWN: 0.0 NONE: 0.0\n",
        "2011-04-29: UP: 0.0 DOWN: 0.0 NONE: 0.0\n",
        "2011-05-02: UP: 0.0 DOWN: 0.0 NONE: 0.0\n",
        "2011-05-03: UP: 0.0 DOWN: 0.0 NONE: 0.0\n",
        "2011-05-04: UP: 0.0 DOWN: 0.0 NONE: 0.0\n",
        "2011-05-05: UP: 0.0 DOWN: 0.0 NONE: 0.0\n",
        "2011-05-06: UP: 0.0 DOWN: 0.0 NONE: 0.0\n",
        "2011-05-09: UP: 0.0 DOWN: 0.0 NONE: 0.0\n",
        "2011-05-10: UP: 0.0 DOWN: 0.0 NONE: 0.0\n",
        "2011-05-11: UP: 0.0 DOWN: 0.0 NONE: 0.0\n",
        "2011-05-12: UP: 0.0 DOWN: 0.0 NONE: 0.0\n",
        "2011-05-13: UP: 0.0 DOWN: 0.0 NONE: 0.0\n",
        "2011-05-16: UP: 0.0 DOWN: 0.0 NONE: 0.0"
       ]
      },
      {
       "output_type": "stream",
       "stream": "stdout",
       "text": [
        "\n",
        "2011-05-17: UP: 0.0 DOWN: 0.0 NONE: 0.0\n",
        "2011-05-18: UP: 0.0 DOWN: 0.0 NONE: 0.0\n",
        "2011-05-19: UP: 0.0 DOWN: 0.0 NONE: 0.0\n",
        "2011-05-20: UP: 0.0 DOWN: 0.0 NONE: 0.0\n",
        "2011-05-23: UP: 0.0 DOWN: 0.0 NONE: 0.0\n",
        "2011-05-24: UP: 0.0 DOWN: 0.0 NONE: 0.0\n",
        "2011-05-25: UP: 0.0 DOWN: 0.0 NONE: 0.0\n",
        "2011-05-26: UP: 0.0 DOWN: 0.0 NONE: 0.0\n",
        "2011-05-27: UP: 0.0 DOWN: 0.0 NONE: 0.0\n",
        "2011-05-31: UP: 0.0 DOWN: 0.0 NONE: 0.0\n",
        "2011-06-01: UP: 0.0 DOWN: 0.0 NONE: 0.0\n",
        "2011-06-02: UP: 0.0 DOWN: 0.0 NONE: 0.0\n",
        "2011-06-03: UP: 0.0 DOWN: 0.0 NONE: 0.0\n",
        "2011-06-06: UP: 0.0 DOWN: 0.0 NONE: 0.0\n",
        "2011-06-07: UP: 0.0 DOWN: 0.0 NONE: 0.0\n",
        "2011-06-08: UP: 0.0 DOWN: 0.0 NONE: 0.0\n",
        "2011-06-09: UP: 0.0 DOWN: 0.0 NONE: 0.0\n",
        "2011-06-10: UP: 0.0 DOWN: 0.0 NONE: 0.0\n",
        "2011-06-13: UP: 0.0 DOWN: 0.0 NONE: 0.0\n",
        "2011-06-14: UP: 0.0 DOWN: 0.0 NONE: 0.0\n",
        "2011-06-15: UP: 0.0 DOWN: 0.0 NONE: 0.0\n",
        "2011-06-16: UP: 0.0 DOWN: 0.0 NONE: 0.0\n",
        "2011-06-17: UP: 0.0 DOWN: 0.0 NONE: 0.0\n",
        "2011-06-20: UP: 0.0 DOWN: 0.0 NONE: 0.0\n",
        "2011-06-21: UP: 0.0 DOWN: 0.0 NONE: 0.0\n",
        "2011-06-22: UP: 0.0 DOWN: 0.0 NONE: 0.0\n",
        "2011-06-23: UP: 0.0 DOWN: 0.0 NONE: 0.0\n",
        "2011-06-24: UP: 0.0 DOWN: 0.0 NONE: 0.0"
       ]
      },
      {
       "output_type": "stream",
       "stream": "stdout",
       "text": [
        "\n",
        "2011-06-27: UP: 0.0 DOWN: 0.0 NONE: 0.0\n",
        "2011-06-28: UP: 0.0 DOWN: 0.0 NONE: 0.0\n",
        "2011-06-29: UP: 0.0 DOWN: 0.0 NONE: 0.0\n",
        "2011-06-30: UP: 0.0 DOWN: 0.0 NONE: 0.0\n",
        "2011-07-01: UP: 0.0 DOWN: 0.0 NONE: 0.0\n",
        "2011-07-05: UP: 0.0 DOWN: 0.0 NONE: 0.0\n",
        "2011-07-06: UP: 0.0 DOWN: 0.0 NONE: 0.0\n",
        "2011-07-07: UP: 0.0 DOWN: 0.0 NONE: 0.0\n",
        "2011-07-08: UP: 0.0 DOWN: 0.0 NONE: 0.0\n",
        "2011-07-11: UP: 11.0 DOWN: 10.0 NONE: 12.0\n",
        "2011-07-12: UP: 0.0 DOWN: 0.0 NONE: 0.0\n",
        "2011-07-13: UP: 0.0 DOWN: 0.0 NONE: 0.0\n",
        "2011-07-14: UP: 0.0 DOWN: 0.0 NONE: 0.0\n",
        "2011-07-15: UP: 0.0 DOWN: 0.0 NONE: 0.0\n",
        "2011-07-18: UP: 0.0 DOWN: 0.0 NONE: 0.0\n",
        "2011-07-19: UP: 0.0 DOWN: 0.0 NONE: 0.0\n",
        "2011-07-20: UP: 0.0 DOWN: 0.0 NONE: 0.0\n",
        "2011-07-21: UP: 0.0 DOWN: 0.0 NONE: 0.0\n",
        "2011-07-22: UP: 12.0 DOWN: 10.0 NONE: 13.0\n",
        "2011-07-25: UP: 0.0 DOWN: 0.0 NONE: 0.0\n",
        "2011-07-26: UP: 9.0 DOWN: 10.0 NONE: 12.0"
       ]
      },
      {
       "output_type": "stream",
       "stream": "stdout",
       "text": [
        "\n",
        "2011-07-27: UP: 27.0 DOWN: 38.0 NONE: 23.0\n",
        "2011-07-28: UP: 38.0 DOWN: 37.0 NONE: 34.0\n",
        "2011-07-29: UP: 40.0 DOWN: 41.0 NONE: 15.0\n",
        "2011-08-01: UP: 25.0 DOWN: 40.0 NONE: 26.0\n",
        "2011-08-02: UP: 26.0 DOWN: 44.0 NONE: 35.0\n",
        "2011-08-03: UP: 23.0 DOWN: 43.0 NONE: 27.0"
       ]
      },
      {
       "output_type": "stream",
       "stream": "stdout",
       "text": [
        "\n",
        "2011-08-04: UP: 23.0 DOWN: 53.0 NONE: 23.0\n",
        "2011-08-04 : Selling 200SPYshares.\n",
        "2011-08-05: UP: 34.0 DOWN: 30.0 NONE: 26.0\n",
        "2011-08-08: UP: 35.0 DOWN: 33.0 NONE: 35.0\n",
        "2011-08-09: UP: 28.0 DOWN: 34.0 NONE: 30.0\n",
        "2011-08-10: UP: 22.0 DOWN: 46.0 NONE: 33.0"
       ]
      },
      {
       "output_type": "stream",
       "stream": "stdout",
       "text": [
        "\n",
        "2011-08-11: UP: 25.0 DOWN: 40.0 NONE: 26.0\n",
        "2011-08-12: UP: 27.0 DOWN: 33.0 NONE: 26.0\n",
        "2011-08-15: UP: 31.0 DOWN: 35.0 NONE: 22.0\n",
        "2011-08-16: UP: 34.0 DOWN: 41.0 NONE: 20.0\n",
        "2011-08-17: UP: 20.0 DOWN: 35.0 NONE: 34.0\n",
        "2011-08-18: UP: 34.0 DOWN: 54.0 NONE: 29.0"
       ]
      },
      {
       "output_type": "stream",
       "stream": "stdout",
       "text": [
        "\n",
        "2011-08-19: UP: 32.0 DOWN: 38.0 NONE: 23.0\n",
        "2011-08-22: UP: 38.0 DOWN: 42.0 NONE: 19.0\n",
        "2011-08-23: UP: 31.0 DOWN: 43.0 NONE: 26.0\n",
        "2011-08-24: UP: 38.0 DOWN: 40.0 NONE: 26.0\n",
        "2011-08-25: UP: 43.0 DOWN: 37.0 NONE: 24.0"
       ]
      },
      {
       "output_type": "stream",
       "stream": "stdout",
       "text": [
        "\n",
        "2011-08-26: UP: 31.0 DOWN: 42.0 NONE: 23.0\n",
        "2011-08-29: UP: 35.0 DOWN: 30.0 NONE: 24.0\n",
        "2011-08-30: UP: 33.0 DOWN: 42.0 NONE: 29.0\n",
        "2011-08-31: UP: 32.0 DOWN: 39.0 NONE: 18.0\n",
        "2011-09-01: UP: 39.0 DOWN: 38.0 NONE: 23.0\n",
        "2011-09-02: UP: 36.0 DOWN: 39.0 NONE: 33.0"
       ]
      },
      {
       "output_type": "stream",
       "stream": "stdout",
       "text": [
        "\n",
        "2011-09-06: UP: 32.0 DOWN: 42.0 NONE: 30.0\n",
        "2011-09-07: UP: 31.0 DOWN: 43.0 NONE: 26.0\n",
        "2011-09-08: UP: 25.0 DOWN: 41.0 NONE: 25.0\n",
        "2011-09-09: UP: 37.0 DOWN: 41.0 NONE: 30.0\n",
        "2011-09-12: UP: 34.0 DOWN: 37.0 NONE: 25.0"
       ]
      },
      {
       "output_type": "stream",
       "stream": "stdout",
       "text": [
        "\n",
        "2011-09-13: UP: 29.0 DOWN: 35.0 NONE: 30.0\n",
        "2011-09-14: UP: 37.0 DOWN: 27.0 NONE: 34.0\n",
        "2011-09-15: UP: 38.0 DOWN: 36.0 NONE: 27.0\n",
        "2011-09-16: UP: 37.0 DOWN: 39.0 NONE: 20.0\n",
        "2011-09-19: UP: 25.0 DOWN: 46.0 NONE: 23.0\n",
        "2011-09-20: UP: 22.0 DOWN: 37.0 NONE: 28.0"
       ]
      },
      {
       "output_type": "stream",
       "stream": "stdout",
       "text": [
        "\n",
        "2011-09-21: UP: 34.0 DOWN: 49.0 NONE: 28.0\n",
        "2011-09-22: UP: 42.0 DOWN: 27.0 NONE: 28.0\n",
        "2011-09-23: UP: 34.0 DOWN: 43.0 NONE: 22.0\n",
        "2011-09-26: UP: 28.0 DOWN: 32.0 NONE: 23.0\n",
        "2011-09-27: UP: 26.0 DOWN: 49.0 NONE: 34.0"
       ]
      },
      {
       "output_type": "stream",
       "stream": "stdout",
       "text": [
        "\n",
        "2011-09-28: UP: 38.0 DOWN: 43.0 NONE: 22.0\n",
        "2011-09-29: UP: 41.0 DOWN: 29.0 NONE: 22.0\n",
        "2011-09-30: UP: 34.0 DOWN: 35.0 NONE: 38.0\n",
        "2011-10-03: UP: 35.0 DOWN: 49.0 NONE: 31.0\n",
        "2011-10-04: UP: 29.0 DOWN: 43.0 NONE: 33.0"
       ]
      },
      {
       "output_type": "stream",
       "stream": "stdout",
       "text": [
        "\n",
        "2011-10-05: UP: 24.0 DOWN: 43.0 NONE: 21.0\n",
        "2011-10-06: UP: 25.0 DOWN: 36.0 NONE: 19.0\n",
        "2011-10-07: UP: 28.0 DOWN: 39.0 NONE: 26.0\n",
        "2011-10-10: UP: 26.0 DOWN: 43.0 NONE: 29.0\n",
        "2011-10-11: UP: 25.0 DOWN: 21.0 NONE: 25.0\n",
        "2011-10-12: UP: 35.0 DOWN: 57.0 NONE: 33.0"
       ]
      },
      {
       "output_type": "stream",
       "stream": "stdout",
       "text": [
        "\n",
        "2011-10-13: UP: 35.0 DOWN: 35.0 NONE: 23.0\n",
        "2011-10-14: UP: 31.0 DOWN: 42.0 NONE: 34.0\n",
        "2011-10-17: UP: 25.0 DOWN: 40.0 NONE: 24.0\n",
        "2011-10-18: UP: 39.0 DOWN: 37.0 NONE: 34.0\n",
        "2011-10-19: UP: 34.0 DOWN: 37.0 NONE: 28.0\n",
        "2011-10-20: UP: 31.0 DOWN: 35.0 NONE: 22.0"
       ]
      },
      {
       "output_type": "stream",
       "stream": "stdout",
       "text": [
        "\n",
        "2011-10-21: UP: 43.0 DOWN: 34.0 NONE: 31.0\n",
        "2011-10-24: UP: 28.0 DOWN: 51.0 NONE: 31.0\n",
        "2011-10-25: UP: 19.0 DOWN: 38.0 NONE: 38.0\n",
        "2011-10-26: UP: 32.0 DOWN: 33.0 NONE: 31.0\n",
        "2011-10-27: UP: 25.0 DOWN: 38.0 NONE: 24.0"
       ]
      },
      {
       "output_type": "stream",
       "stream": "stdout",
       "text": [
        "\n",
        "2011-10-28: UP: 38.0 DOWN: 45.0 NONE: 33.0\n",
        "2011-10-31: UP: 39.0 DOWN: 37.0 NONE: 29.0\n",
        "2011-11-01: UP: 35.0 DOWN: 31.0 NONE: 23.0\n",
        "2011-11-02: UP: 38.0 DOWN: 28.0 NONE: 39.0\n",
        "2011-11-03: UP: 33.0 DOWN: 34.0 NONE: 20.0\n",
        "2011-11-04: UP: 41.0 DOWN: 29.0 NONE: 26.0"
       ]
      },
      {
       "output_type": "stream",
       "stream": "stdout",
       "text": [
        "\n",
        "2011-11-07: UP: 28.0 DOWN: 38.0 NONE: 18.0\n",
        "2011-11-08: UP: 43.0 DOWN: 42.0 NONE: 26.0\n",
        "2011-11-09: UP: 28.0 DOWN: 34.0 NONE: 22.0\n",
        "2011-11-10: UP: 32.0 DOWN: 28.0 NONE: 27.0\n",
        "2011-11-11: UP: 48.0 DOWN: 38.0 NONE: 35.0"
       ]
      },
      {
       "output_type": "stream",
       "stream": "stdout",
       "text": [
        "\n",
        "2011-11-14: UP: 32.0 DOWN: 39.0 NONE: 25.0\n",
        "2011-11-15: UP: 37.0 DOWN: 42.0 NONE: 28.0\n",
        "2011-11-16: UP: 30.0 DOWN: 35.0 NONE: 28.0\n",
        "2011-11-17: UP: 31.0 DOWN: 45.0 NONE: 25.0\n",
        "2011-11-18: UP: 26.0 DOWN: 53.0 NONE: 23.0"
       ]
      },
      {
       "output_type": "stream",
       "stream": "stdout",
       "text": [
        "\n",
        "2011-11-21: UP: 25.0 DOWN: 25.0 NONE: 22.0\n",
        "2011-11-22: UP: 29.0 DOWN: 46.0 NONE: 20.0\n",
        "2011-11-23: UP: 24.0 DOWN: 45.0 NONE: 33.0\n",
        "2011-11-25: UP: 33.0 DOWN: 42.0 NONE: 21.0\n",
        "2011-11-28: UP: 26.0 DOWN: 46.0 NONE: 26.0\n",
        "2011-11-29: UP: 30.0 DOWN: 44.0 NONE: 25.0"
       ]
      },
      {
       "output_type": "stream",
       "stream": "stdout",
       "text": [
        "\n",
        "2011-11-30: UP: 22.0 DOWN: 40.0 NONE: 28.0\n",
        "2011-12-01: UP: 28.0 DOWN: 42.0 NONE: 30.0\n",
        "2011-12-02: UP: 27.0 DOWN: 50.0 NONE: 24.0\n",
        "2011-12-05: UP: 15.0 DOWN: 20.0 NONE: 12.0\n",
        "2011-12-06: UP: 29.0 DOWN: 35.0 NONE: 34.0\n",
        "2011-12-07: UP: 38.0 DOWN: 36.0 NONE: 25.0"
       ]
      },
      {
       "output_type": "stream",
       "stream": "stdout",
       "text": [
        "\n",
        "2011-12-08: UP: 29.0 DOWN: 44.0 NONE: 30.0\n",
        "2011-12-09: UP: 30.0 DOWN: 36.0 NONE: 27.0\n",
        "2011-12-12: UP: 30.0 DOWN: 43.0 NONE: 29.0\n",
        "2011-12-13: UP: 21.0 DOWN: 57.0 NONE: 21.0\n",
        "2011-12-14: UP: 25.0 DOWN: 48.0 NONE: 29.0"
       ]
      },
      {
       "output_type": "stream",
       "stream": "stdout",
       "text": [
        "\n",
        "2011-12-15: UP: 25.0 DOWN: 53.0 NONE: 24.0\n",
        "2011-12-16: UP: 30.0 DOWN: 42.0 NONE: 24.0\n",
        "2011-12-19: UP: 31.0 DOWN: 51.0 NONE: 19.0\n",
        "2011-12-20: UP: 34.0 DOWN: 43.0 NONE: 25.0\n",
        "2011-12-21: UP: 24.0 DOWN: 56.0 NONE: 21.0"
       ]
      },
      {
       "output_type": "stream",
       "stream": "stdout",
       "text": [
        "\n",
        "2011-12-22: UP: 35.0 DOWN: 34.0 NONE: 21.0\n",
        "2011-12-23: UP: 27.0 DOWN: 46.0 NONE: 34.0\n",
        "2011-12-27: UP: 15.0 DOWN: 28.0 NONE: 21.0\n",
        "2011-12-28: UP: 29.0 DOWN: 26.0 NONE: 27.0\n",
        "2011-12-29: UP: 21.0 DOWN: 34.0 NONE: 23.0\n",
        "2011-12-30: UP: 21.0 DOWN: 30.0 NONE: 16.0"
       ]
      },
      {
       "output_type": "stream",
       "stream": "stdout",
       "text": [
        "\n",
        "2012-01-03: UP: 39.0 DOWN: 39.0 NONE: 26.0\n",
        "2012-01-04: UP: 27.0 DOWN: 41.0 NONE: 24.0\n",
        "2012-01-05: UP: 31.0 DOWN: 42.0 NONE: 20.0\n",
        "2012-01-06: UP: 31.0 DOWN: 50.0 NONE: 34.0\n",
        "2012-01-09: UP: 37.0 DOWN: 34.0 NONE: 28.0"
       ]
      },
      {
       "output_type": "stream",
       "stream": "stdout",
       "text": [
        "\n",
        "2012-01-10: UP: 35.0 DOWN: 37.0 NONE: 23.0\n",
        "2012-01-11: UP: 32.0 DOWN: 39.0 NONE: 34.0\n",
        "2012-01-12: UP: 38.0 DOWN: 38.0 NONE: 26.0\n",
        "2012-01-13: UP: 30.0 DOWN: 39.0 NONE: 22.0\n",
        "2012-01-17: UP: 36.0 DOWN: 38.0 NONE: 27.0"
       ]
      },
      {
       "output_type": "stream",
       "stream": "stdout",
       "text": [
        "\n",
        "2012-01-18: UP: 28.0 DOWN: 45.0 NONE: 28.0\n",
        "2012-01-19: UP: 25.0 DOWN: 41.0 NONE: 29.0\n",
        "2012-01-20: UP: 30.0 DOWN: 30.0 NONE: 41.0\n",
        "2012-01-23: UP: 46.0 DOWN: 34.0 NONE: 12.0\n",
        "2012-01-24: UP: 25.0 DOWN: 43.0 NONE: 35.0"
       ]
      },
      {
       "output_type": "stream",
       "stream": "stdout",
       "text": [
        "\n",
        "2012-01-25: UP: 32.0 DOWN: 40.0 NONE: 21.0\n",
        "2012-01-26: UP: 29.0 DOWN: 33.0 NONE: 35.0\n",
        "2012-01-27: UP: 43.0 DOWN: 32.0 NONE: 35.0\n",
        "2012-01-30: UP: 35.0 DOWN: 35.0 NONE: 26.0\n",
        "2012-01-31: UP: 33.0 DOWN: 36.0 NONE: 29.0\n",
        "2012-02-01: UP: 29.0 DOWN: 41.0 NONE: 32.0"
       ]
      },
      {
       "output_type": "stream",
       "stream": "stdout",
       "text": [
        "\n",
        "2012-02-02: UP: 24.0 DOWN: 27.0 NONE: 24.0\n",
        "2012-02-03: UP: 34.0 DOWN: 47.0 NONE: 34.0\n",
        "2012-02-06: UP: 42.0 DOWN: 35.0 NONE: 23.0\n",
        "2012-02-07: UP: 31.0 DOWN: 43.0 NONE: 26.0"
       ]
      },
      {
       "output_type": "stream",
       "stream": "stdout",
       "text": [
        "\n",
        "2012-02-08: UP: 36.0 DOWN: 40.0 NONE: 28.0\n",
        "2012-02-09: UP: 22.0 DOWN: 35.0 NONE: 21.0\n",
        "2012-02-10: UP: 38.0 DOWN: 44.0 NONE: 31.0\n",
        "2012-02-13: UP: 40.0 DOWN: 36.0 NONE: 26.0\n",
        "2012-02-14: UP: 28.0 DOWN: 31.0 NONE: 32.0"
       ]
      },
      {
       "output_type": "stream",
       "stream": "stdout",
       "text": [
        "\n",
        "2012-02-15: UP: 40.0 DOWN: 46.0 NONE: 16.0\n",
        "2012-02-16: UP: 27.0 DOWN: 32.0 NONE: 23.0\n",
        "2012-02-17: UP: 43.0 DOWN: 37.0 NONE: 21.0\n",
        "2012-02-21: UP: 33.0 DOWN: 45.0 NONE: 25.0\n",
        "2012-02-22: UP: 36.0 DOWN: 46.0 NONE: 32.0"
       ]
      },
      {
       "output_type": "stream",
       "stream": "stdout",
       "text": [
        "\n",
        "2012-02-23: UP: 33.0 DOWN: 31.0 NONE: 20.0\n",
        "2012-02-24: UP: 40.0 DOWN: 32.0 NONE: 12.0\n",
        "2012-02-27: UP: 27.0 DOWN: 55.0 NONE: 21.0\n",
        "2012-02-28: UP: 34.0 DOWN: 40.0 NONE: 28.0\n",
        "2012-02-29: UP: 39.0 DOWN: 41.0 NONE: 21.0\n",
        "2012-03-01: UP: 33.0 DOWN: 35.0 NONE: 16.0"
       ]
      },
      {
       "output_type": "stream",
       "stream": "stdout",
       "text": [
        "\n",
        "2012-03-02: UP: 26.0 DOWN: 46.0 NONE: 25.0\n",
        "2012-03-05: UP: 31.0 DOWN: 41.0 NONE: 36.0\n",
        "2012-03-06: UP: 38.0 DOWN: 36.0 NONE: 25.0\n",
        "2012-03-07: UP: 31.0 DOWN: 38.0 NONE: 25.0\n",
        "2012-03-08: UP: 33.0 DOWN: 38.0 NONE: 22.0"
       ]
      },
      {
       "output_type": "stream",
       "stream": "stdout",
       "text": [
        "\n",
        "2012-03-09: UP: 45.0 DOWN: 48.0 NONE: 16.0\n",
        "2012-03-12: UP: 28.0 DOWN: 48.0 NONE: 24.0\n",
        "2012-03-13: UP: 33.0 DOWN: 44.0 NONE: 25.0\n",
        "2012-03-14: UP: 28.0 DOWN: 18.0 NONE: 24.0\n",
        "2012-03-15: UP: 42.0 DOWN: 55.0 NONE: 30.0"
       ]
      },
      {
       "output_type": "stream",
       "stream": "stdout",
       "text": [
        "\n",
        "2012-03-16: UP: 31.0 DOWN: 51.0 NONE: 23.0\n",
        "2012-03-19: UP: 22.0 DOWN: 37.0 NONE: 28.0\n",
        "2012-03-20: UP: 42.0 DOWN: 32.0 NONE: 20.0\n",
        "2012-03-21: UP: 29.0 DOWN: 45.0 NONE: 31.0\n",
        "2012-03-22: UP: 36.0 DOWN: 34.0 NONE: 28.0"
       ]
      },
      {
       "output_type": "stream",
       "stream": "stdout",
       "text": [
        "\n",
        "2012-03-23: UP: 24.0 DOWN: 44.0 NONE: 33.0\n",
        "2012-03-26: UP: 37.0 DOWN: 43.0 NONE: 30.0\n",
        "2012-03-27: UP: 37.0 DOWN: 33.0 NONE: 28.0\n",
        "2012-03-28: UP: 26.0 DOWN: 45.0 NONE: 24.0\n",
        "2012-03-29: UP: 34.0 DOWN: 43.0 NONE: 23.0"
       ]
      },
      {
       "output_type": "stream",
       "stream": "stdout",
       "text": [
        "\n",
        "2012-03-30: UP: 34.0 DOWN: 46.0 NONE: 17.0\n",
        "2012-04-02: UP: 35.0 DOWN: 33.0 NONE: 35.0\n",
        "2012-04-03: UP: 30.0 DOWN: 30.0 NONE: 27.0\n",
        "2012-04-04: UP: 36.0 DOWN: 47.0 NONE: 27.0\n",
        "2012-04-05: UP: 27.0 DOWN: 54.0 NONE: 22.0"
       ]
      },
      {
       "output_type": "stream",
       "stream": "stdout",
       "text": [
        "\n",
        "2012-04-09: UP: 25.0 DOWN: 33.0 NONE: 21.0\n",
        "2012-04-10: UP: 30.0 DOWN: 42.0 NONE: 24.0\n",
        "2012-04-11: UP: 36.0 DOWN: 42.0 NONE: 25.0\n",
        "2012-04-12: UP: 26.0 DOWN: 39.0 NONE: 28.0\n",
        "2012-04-13: UP: 39.0 DOWN: 42.0 NONE: 25.0"
       ]
      },
      {
       "output_type": "stream",
       "stream": "stdout",
       "text": [
        "\n",
        "2012-04-16: UP: 29.0 DOWN: 39.0 NONE: 25.0\n",
        "2012-04-17: UP: 32.0 DOWN: 39.0 NONE: 23.0\n",
        "2012-04-18: UP: 23.0 DOWN: 41.0 NONE: 40.0\n",
        "2012-04-19: UP: 25.0 DOWN: 46.0 NONE: 27.0\n",
        "2012-04-20: UP: 32.0 DOWN: 40.0 NONE: 26.0"
       ]
      },
      {
       "output_type": "stream",
       "stream": "stdout",
       "text": [
        "\n",
        "2012-04-23: UP: 33.0 DOWN: 39.0 NONE: 25.0\n",
        "2012-04-24: UP: 29.0 DOWN: 46.0 NONE: 25.0\n",
        "2012-04-25: UP: 34.0 DOWN: 41.0 NONE: 25.0\n",
        "2012-04-26: UP: 36.0 DOWN: 41.0 NONE: 18.0\n",
        "2012-04-27: UP: 29.0 DOWN: 50.0 NONE: 27.0"
       ]
      },
      {
       "output_type": "stream",
       "stream": "stdout",
       "text": [
        "\n",
        "2012-04-30: UP: 32.0 DOWN: 34.0 NONE: 28.0\n",
        "2012-05-01: UP: 30.0 DOWN: 44.0 NONE: 31.0\n",
        "2012-05-02: UP: 27.0 DOWN: 42.0 NONE: 27.0\n",
        "2012-05-03: UP: 24.0 DOWN: 40.0 NONE: 20.0\n",
        "2012-05-04: UP: 33.0 DOWN: 46.0 NONE: 22.0\n",
        "2012-05-07: UP: 35.0 DOWN: 41.0 NONE: 16.0"
       ]
      },
      {
       "output_type": "stream",
       "stream": "stdout",
       "text": [
        "\n",
        "2012-05-08: UP: 29.0 DOWN: 33.0 NONE: 27.0\n",
        "2012-05-09: UP: 33.0 DOWN: 43.0 NONE: 30.0\n",
        "2012-05-10: UP: 26.0 DOWN: 42.0 NONE: 31.0\n",
        "2012-05-11: UP: 36.0 DOWN: 44.0 NONE: 25.0\n",
        "2012-05-14: UP: 33.0 DOWN: 37.0 NONE: 29.0"
       ]
      },
      {
       "output_type": "stream",
       "stream": "stdout",
       "text": [
        "\n",
        "2012-05-15: UP: 43.0 DOWN: 40.0 NONE: 17.0\n",
        "2012-05-16: UP: 41.0 DOWN: 33.0 NONE: 24.0\n",
        "2012-05-17: UP: 30.0 DOWN: 42.0 NONE: 27.0\n",
        "2012-05-18: UP: 30.0 DOWN: 39.0 NONE: 17.0\n",
        "2012-05-21: UP: 32.0 DOWN: 35.0 NONE: 29.0"
       ]
      },
      {
       "output_type": "stream",
       "stream": "stdout",
       "text": [
        "\n",
        "2012-05-22: UP: 41.0 DOWN: 36.0 NONE: 21.0\n",
        "2012-05-23: UP: 40.0 DOWN: 42.0 NONE: 22.0\n",
        "2012-05-24: UP: 33.0 DOWN: 42.0 NONE: 21.0\n",
        "2012-05-25: UP: 30.0 DOWN: 38.0 NONE: 32.0\n",
        "2012-05-29: UP: 26.0 DOWN: 47.0 NONE: 27.0"
       ]
      },
      {
       "output_type": "stream",
       "stream": "stdout",
       "text": [
        "\n",
        "2012-05-30: UP: 28.0 DOWN: 49.0 NONE: 24.0\n",
        "2012-05-31: UP: 31.0 DOWN: 37.0 NONE: 21.0\n",
        "2012-06-01: UP: 44.0 DOWN: 33.0 NONE: 25.0\n",
        "2012-06-04: UP: 30.0 DOWN: 35.0 NONE: 31.0\n",
        "2012-06-05: UP: 33.0 DOWN: 44.0 NONE: 29.0"
       ]
      },
      {
       "output_type": "stream",
       "stream": "stdout",
       "text": [
        "\n",
        "2012-06-06: UP: 33.0 DOWN: 34.0 NONE: 27.0\n",
        "2012-06-07: UP: 28.0 DOWN: 42.0 NONE: 34.0\n",
        "2012-06-08: UP: 31.0 DOWN: 34.0 NONE: 28.0\n",
        "2012-06-11: UP: 32.0 DOWN: 38.0 NONE: 23.0\n",
        "2012-06-12: UP: 38.0 DOWN: 40.0 NONE: 13.0"
       ]
      },
      {
       "output_type": "stream",
       "stream": "stdout",
       "text": [
        "\n",
        "2012-06-13: UP: 34.0 DOWN: 44.0 NONE: 23.0\n",
        "2012-06-14: UP: 35.0 DOWN: 43.0 NONE: 26.0\n",
        "2012-06-15: UP: 34.0 DOWN: 35.0 NONE: 16.0\n",
        "2012-06-18: UP: 24.0 DOWN: 30.0 NONE: 27.0\n",
        "2012-06-19: UP: 31.0 DOWN: 40.0 NONE: 32.0\n",
        "2012-06-20: UP: 32.0 DOWN: 47.0 NONE: 18.0"
       ]
      },
      {
       "output_type": "stream",
       "stream": "stdout",
       "text": [
        "\n",
        "2012-06-21: UP: 26.0 DOWN: 41.0 NONE: 32.0\n",
        "2012-06-22: UP: 35.0 DOWN: 41.0 NONE: 19.0\n",
        "2012-06-25: UP: 26.0 DOWN: 44.0 NONE: 30.0\n",
        "2012-06-26: UP: 23.0 DOWN: 43.0 NONE: 29.0\n",
        "2012-06-27: UP: 32.0 DOWN: 43.0 NONE: 22.0"
       ]
      },
      {
       "output_type": "stream",
       "stream": "stdout",
       "text": [
        "\n",
        "2012-06-28: UP: 36.0 DOWN: 42.0 NONE: 23.0\n",
        "2012-06-29: UP: 29.0 DOWN: 41.0 NONE: 33.0\n",
        "2012-07-02: UP: 36.0 DOWN: 38.0 NONE: 22.0\n",
        "2012-07-03: UP: 28.0 DOWN: 34.0 NONE: 26.0\n",
        "2012-07-05: UP: 35.0 DOWN: 39.0 NONE: 37.0"
       ]
      },
      {
       "output_type": "stream",
       "stream": "stdout",
       "text": [
        "\n",
        "2012-07-06: UP: 37.0 DOWN: 33.0 NONE: 14.0\n",
        "2012-07-09: UP: 32.0 DOWN: 36.0 NONE: 31.0\n",
        "2012-07-10: UP: 33.0 DOWN: 34.0 NONE: 27.0\n",
        "2012-07-11: UP: 28.0 DOWN: 52.0 NONE: 22.0\n",
        "2012-07-12: UP: 38.0 DOWN: 36.0 NONE: 27.0"
       ]
      },
      {
       "output_type": "stream",
       "stream": "stdout",
       "text": [
        "\n",
        "2012-07-13: UP: 36.0 DOWN: 25.0 NONE: 15.0\n",
        "2012-07-16: UP: 39.0 DOWN: 29.0 NONE: 20.0\n",
        "2012-07-17: UP: 36.0 DOWN: 37.0 NONE: 36.0\n",
        "2012-07-18: UP: 31.0 DOWN: 36.0 NONE: 22.0\n",
        "2012-07-19: UP: 36.0 DOWN: 37.0 NONE: 31.0"
       ]
      },
      {
       "output_type": "stream",
       "stream": "stdout",
       "text": [
        "\n",
        "2012-07-20: UP: 40.0 DOWN: 38.0 NONE: 17.0\n",
        "2012-07-23: UP: 31.0 DOWN: 39.0 NONE: 32.0\n",
        "2012-07-24: UP: 28.0 DOWN: 38.0 NONE: 33.0\n",
        "2012-07-25: UP: 32.0 DOWN: 44.0 NONE: 19.0\n",
        "2012-07-26: UP: 30.0 DOWN: 49.0 NONE: 21.0"
       ]
      },
      {
       "output_type": "stream",
       "stream": "stdout",
       "text": [
        "\n",
        "2012-07-27: UP: 15.0 DOWN: 42.0 NONE: 29.0\n",
        "2012-07-30: UP: 28.0 DOWN: 37.0 NONE: 28.0\n",
        "2012-07-31: UP: 28.0 DOWN: 40.0 NONE: 35.0\n",
        "2012-08-01: UP: 33.0 DOWN: 40.0 NONE: 24.0\n",
        "2012-08-02: UP: 25.0 DOWN: 44.0 NONE: 27.0"
       ]
      },
      {
       "output_type": "stream",
       "stream": "stdout",
       "text": [
        "\n",
        "2012-08-03: UP: 43.0 DOWN: 40.0 NONE: 18.0\n",
        "2012-08-06: UP: 27.0 DOWN: 33.0 NONE: 30.0\n",
        "2012-08-07: UP: 22.0 DOWN: 56.0 NONE: 26.0\n",
        "2012-08-08: UP: 20.0 DOWN: 43.0 NONE: 29.0\n",
        "2012-08-09: UP: 29.0 DOWN: 45.0 NONE: 29.0"
       ]
      },
      {
       "output_type": "stream",
       "stream": "stdout",
       "text": [
        "\n",
        "2012-08-10: UP: 29.0 DOWN: 32.0 NONE: 16.0\n",
        "2012-08-13: UP: 27.0 DOWN: 29.0 NONE: 22.0\n",
        "2012-08-14: UP: 23.0 DOWN: 49.0 NONE: 26.0\n",
        "2012-08-15: UP: 28.0 DOWN: 36.0 NONE: 29.0\n",
        "2012-08-16: UP: 41.0 DOWN: 35.0 NONE: 22.0\n",
        "2012-08-17: UP: 35.0 DOWN: 44.0 NONE: 22.0"
       ]
      },
      {
       "output_type": "stream",
       "stream": "stdout",
       "text": [
        "\n",
        "2012-08-20: UP: 28.0 DOWN: 38.0 NONE: 23.0\n",
        "2012-08-21: UP: 24.0 DOWN: 32.0 NONE: 29.0\n",
        "2012-08-22: UP: 29.0 DOWN: 42.0 NONE: 20.0\n",
        "2012-08-23: UP: 28.0 DOWN: 42.0 NONE: 26.0\n",
        "2012-08-24: UP: 31.0 DOWN: 29.0 NONE: 25.0"
       ]
      },
      {
       "output_type": "stream",
       "stream": "stdout",
       "text": [
        "\n",
        "2012-08-27: UP: 27.0 DOWN: 43.0 NONE: 25.0\n",
        "2012-08-28: UP: 27.0 DOWN: 44.0 NONE: 17.0\n",
        "2012-08-29: UP: 45.0 DOWN: 37.0 NONE: 27.0\n",
        "2012-08-30: UP: 27.0 DOWN: 46.0 NONE: 25.0\n",
        "2012-08-31: UP: 26.0 DOWN: 36.0 NONE: 24.0"
       ]
      },
      {
       "output_type": "stream",
       "stream": "stdout",
       "text": [
        "\n",
        "2012-09-04: UP: 27.0 DOWN: 38.0 NONE: 34.0\n",
        "2012-09-05: UP: 28.0 DOWN: 49.0 NONE: 19.0\n",
        "2012-09-06: UP: 34.0 DOWN: 40.0 NONE: 26.0\n",
        "2012-09-07: UP: 38.0 DOWN: 31.0 NONE: 26.0\n",
        "2012-09-10: UP: 29.0 DOWN: 49.0 NONE: 23.0"
       ]
      },
      {
       "output_type": "stream",
       "stream": "stdout",
       "text": [
        "\n",
        "2012-09-11: UP: 34.0 DOWN: 47.0 NONE: 16.0\n",
        "2012-09-12: UP: 39.0 DOWN: 40.0 NONE: 22.0\n",
        "2012-09-13: UP: 32.0 DOWN: 31.0 NONE: 23.0\n",
        "2012-09-14: UP: 26.0 DOWN: 34.0 NONE: 33.0\n",
        "2012-09-17: UP: 29.0 DOWN: 38.0 NONE: 27.0"
       ]
      },
      {
       "output_type": "stream",
       "stream": "stdout",
       "text": [
        "\n",
        "2012-09-18: UP: 29.0 DOWN: 37.0 NONE: 25.0\n",
        "2012-09-19: UP: 38.0 DOWN: 34.0 NONE: 22.0\n",
        "2012-09-20: UP: 30.0 DOWN: 38.0 NONE: 21.0\n",
        "2012-09-21: UP: 38.0 DOWN: 42.0 NONE: 25.0\n",
        "2012-09-24: UP: 27.0 DOWN: 37.0 NONE: 21.0"
       ]
      },
      {
       "output_type": "stream",
       "stream": "stdout",
       "text": [
        "\n",
        "2012-09-25: UP: 25.0 DOWN: 37.0 NONE: 17.0\n",
        "2012-09-26: UP: 27.0 DOWN: 35.0 NONE: 22.0\n",
        "2012-09-27: UP: 27.0 DOWN: 45.0 NONE: 23.0\n",
        "2012-09-28: UP: 26.0 DOWN: 39.0 NONE: 14.0\n",
        "2012-10-01: UP: 25.0 DOWN: 42.0 NONE: 18.0\n",
        "2012-10-02: UP: 18.0 DOWN: 37.0 NONE: 23.0"
       ]
      },
      {
       "output_type": "stream",
       "stream": "stdout",
       "text": [
        "\n",
        "2012-10-03: UP: 24.0 DOWN: 44.0 NONE: 14.0\n",
        "2012-10-04: UP: 33.0 DOWN: 30.0 NONE: 34.0\n",
        "2012-10-05: UP: 26.0 DOWN: 47.0 NONE: 18.0\n",
        "2012-10-08: UP: 23.0 DOWN: 48.0 NONE: 26.0\n",
        "2012-10-09: UP: 31.0 DOWN: 46.0 NONE: 14.0"
       ]
      },
      {
       "output_type": "stream",
       "stream": "stdout",
       "text": [
        "\n",
        "2012-10-10: UP: 33.0 DOWN: 35.0 NONE: 30.0\n",
        "2012-10-11: UP: 26.0 DOWN: 41.0 NONE: 28.0\n",
        "2012-10-12: UP: 27.0 DOWN: 35.0 NONE: 22.0\n",
        "2012-10-15: UP: 26.0 DOWN: 36.0 NONE: 21.0\n",
        "2012-10-16: UP: 28.0 DOWN: 42.0 NONE: 22.0\n",
        "2012-10-17: UP: 29.0 DOWN: 39.0 NONE: 24.0"
       ]
      },
      {
       "output_type": "stream",
       "stream": "stdout",
       "text": [
        "\n",
        "2012-10-18: UP: 32.0 DOWN: 38.0 NONE: 30.0\n",
        "2012-10-19: UP: 28.0 DOWN: 35.0 NONE: 22.0\n",
        "2012-10-22: UP: 31.0 DOWN: 35.0 NONE: 20.0\n",
        "2012-10-23: UP: 27.0 DOWN: 39.0 NONE: 22.0\n",
        "2012-10-24: UP: 41.0 DOWN: 47.0 NONE: 20.0"
       ]
      },
      {
       "output_type": "stream",
       "stream": "stderr",
       "text": [
        "[2012-11-13 22:57] INFO: Performance: Simulated 963.0 trading days out of 964.\n"
       ]
      },
      {
       "output_type": "stream",
       "stream": "stderr",
       "text": [
        "[2012-11-13 22:57] INFO: Performance: first open: 2009-01-02 14:30:00+00:00\n"
       ]
      },
      {
       "output_type": "stream",
       "stream": "stdout",
       "text": [
        "\n",
        "2012-10-25: UP: 27.0 DOWN: 40.0 NONE: 25.0\n",
        "2012-10-26: UP: 25.0 DOWN: 37.0 NONE: 21.0"
       ]
      },
      {
       "output_type": "stream",
       "stream": "stdout",
       "text": [
        "\n"
       ]
      }
     ],
     "prompt_number": 114
    },
    {
     "cell_type": "code",
     "collapsed": false,
     "input": [
      "spy.SPY.plot()"
     ],
     "language": "python",
     "metadata": {},
     "outputs": [
      {
       "output_type": "pyout",
       "prompt_number": 111,
       "text": [
        "<matplotlib.axes.AxesSubplot at 0x12016a8d0>"
       ]
      },
      {
       "output_type": "display_data",
       "png": "[encoded data removed]"
      }
     ],
     "prompt_number": 111
    },
    {
     "cell_type": "code",
     "collapsed": false,
     "input": [
      "results.portfolio_value.plot()"
     ],
     "language": "python",
     "metadata": {},
     "outputs": [
      {
       "output_type": "pyout",
       "prompt_number": 115,
       "text": [
        "<matplotlib.axes.AxesSubplot at 0x121415290>"
       ]
      },
      {
       "output_type": "display_data",
       "png": "[encoded data removed]"
      }
     ],
     "prompt_number": 115
    },
    {
     "cell_type": "code",
     "collapsed": false,
     "input": [
      "newsUP_frame"
     ],
     "language": "python",
     "metadata": {},
     "outputs": [
      {
       "output_type": "pyout",
       "prompt_number": 155,
       "text": [
        "<class 'pandas.core.frame.DataFrame'>\n",
        "DatetimeIndex: 168 entries, 2009-01-02 00:00:00 to 2009-09-01 00:00:00\n",
        "Data columns:\n",
        "Open         168  non-null values\n",
        "High         168  non-null values\n",
        "Low          168  non-null values\n",
        "Close        168  non-null values\n",
        "Volume       168  non-null values\n",
        "Adj Close    168  non-null values\n",
        "News         168  non-null values\n",
        "Returns      167  non-null values\n",
        "UP           168  non-null values\n",
        "DOWN         168  non-null values\n",
        "NONE         168  non-null values\n",
        "dtypes: bool(3), float64(6), int64(1), object(1)"
       ]
      }
     ],
     "prompt_number": 155
    },
    {
     "cell_type": "code",
     "collapsed": false,
     "input": [],
     "language": "python",
     "metadata": {},
     "outputs": []
    }
   ],
   "metadata": {}
  }
 ]
}