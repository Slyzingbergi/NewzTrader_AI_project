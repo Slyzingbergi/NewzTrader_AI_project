{
 "metadata": {
  "name": "BabyNames"
 },
 "nbformat": 3,
 "nbformat_minor": 0,
 "worksheets": [
  {
   "cells": [
    {
     "cell_type": "code",
     "collapsed": false,
     "input": [
      "from pandas import *"
     ],
     "language": "python",
     "metadata": {},
     "outputs": [],
     "prompt_number": 1
    },
    {
     "cell_type": "code",
     "collapsed": false,
     "input": [
      "names = read_csv('baby-names2.csv')\n",
      "set_printoptions(max_rows=500)"
     ],
     "language": "python",
     "metadata": {},
     "outputs": [],
     "prompt_number": 8
    },
    {
     "cell_type": "code",
     "collapsed": false,
     "input": [
      "names"
     ],
     "language": "python",
     "metadata": {},
     "outputs": [
      {
       "output_type": "pyout",
       "prompt_number": 3,
       "text": [
        "<class 'pandas.core.frame.DataFrame'>\n",
        "Int64Index: 258000 entries, 0 to 257999\n",
        "Data columns:\n",
        "year       258000  non-null values\n",
        "name       258000  non-null values\n",
        "prop       258000  non-null values\n",
        "sex        258000  non-null values\n",
        "soundex    258000  non-null values\n",
        "dtypes: float64(1), int64(1), object(3)"
       ]
      }
     ],
     "prompt_number": 3
    },
    {
     "cell_type": "code",
     "collapsed": false,
     "input": [
      "names.head()"
     ],
     "language": "python",
     "metadata": {},
     "outputs": [
      {
       "html": [
        "<div style=\"max-height:1000px;max-width:1500px;overflow:auto;\">\n",
        "<table border=\"1\">\n",
        "  <thead>\n",
        "    <tr>\n",
        "      <th></th>\n",
        "      <th>year</th>\n",
        "      <th>name</th>\n",
        "      <th>prop</th>\n",
        "      <th>sex</th>\n",
        "      <th>soundex</th>\n",
        "    </tr>\n",
        "  </thead>\n",
        "  <tbody>\n",
        "    <tr>\n",
        "      <td><strong>0</strong></td>\n",
        "      <td> 1880</td>\n",
        "      <td>    John</td>\n",
        "      <td> 0.081541</td>\n",
        "      <td> boy</td>\n",
        "      <td> J500</td>\n",
        "    </tr>\n",
        "    <tr>\n",
        "      <td><strong>1</strong></td>\n",
        "      <td> 1880</td>\n",
        "      <td> William</td>\n",
        "      <td> 0.080511</td>\n",
        "      <td> boy</td>\n",
        "      <td> W450</td>\n",
        "    </tr>\n",
        "    <tr>\n",
        "      <td><strong>2</strong></td>\n",
        "      <td> 1880</td>\n",
        "      <td>   James</td>\n",
        "      <td> 0.050057</td>\n",
        "      <td> boy</td>\n",
        "      <td> J520</td>\n",
        "    </tr>\n",
        "    <tr>\n",
        "      <td><strong>3</strong></td>\n",
        "      <td> 1880</td>\n",
        "      <td> Charles</td>\n",
        "      <td> 0.045167</td>\n",
        "      <td> boy</td>\n",
        "      <td> C642</td>\n",
        "    </tr>\n",
        "    <tr>\n",
        "      <td><strong>4</strong></td>\n",
        "      <td> 1880</td>\n",
        "      <td>  George</td>\n",
        "      <td> 0.043292</td>\n",
        "      <td> boy</td>\n",
        "      <td> G620</td>\n",
        "    </tr>\n",
        "  </tbody>\n",
        "</table>\n",
        "</div>"
       ],
       "output_type": "pyout",
       "prompt_number": 4,
       "text": [
        "   year     name      prop  sex soundex\n",
        "0  1880     John  0.081541  boy    J500\n",
        "1  1880  William  0.080511  boy    W450\n",
        "2  1880    James  0.050057  boy    J520\n",
        "3  1880  Charles  0.045167  boy    C642\n",
        "4  1880   George  0.043292  boy    G620"
       ]
      }
     ],
     "prompt_number": 4
    },
    {
     "cell_type": "code",
     "collapsed": false,
     "input": [
      "names[names.year == 1880].tail()"
     ],
     "language": "python",
     "metadata": {},
     "outputs": [
      {
       "html": [
        "<div style=\"max-height:1000px;max-width:1500px;overflow:auto;\">\n",
        "<table border=\"1\">\n",
        "  <thead>\n",
        "    <tr>\n",
        "      <th></th>\n",
        "      <th>year</th>\n",
        "      <th>name</th>\n",
        "      <th>prop</th>\n",
        "      <th>sex</th>\n",
        "      <th>soundex</th>\n",
        "    </tr>\n",
        "  </thead>\n",
        "  <tbody>\n",
        "    <tr>\n",
        "      <td><strong>129995</strong></td>\n",
        "      <td> 1880</td>\n",
        "      <td> Emaline</td>\n",
        "      <td> 0.000041</td>\n",
        "      <td> girl</td>\n",
        "      <td> E545</td>\n",
        "    </tr>\n",
        "    <tr>\n",
        "      <td><strong>129996</strong></td>\n",
        "      <td> 1880</td>\n",
        "      <td>   Ester</td>\n",
        "      <td> 0.000041</td>\n",
        "      <td> girl</td>\n",
        "      <td> E236</td>\n",
        "    </tr>\n",
        "    <tr>\n",
        "      <td><strong>129997</strong></td>\n",
        "      <td> 1880</td>\n",
        "      <td>   Eulah</td>\n",
        "      <td> 0.000041</td>\n",
        "      <td> girl</td>\n",
        "      <td> E400</td>\n",
        "    </tr>\n",
        "    <tr>\n",
        "      <td><strong>129998</strong></td>\n",
        "      <td> 1880</td>\n",
        "      <td> Eulalie</td>\n",
        "      <td> 0.000041</td>\n",
        "      <td> girl</td>\n",
        "      <td> E440</td>\n",
        "    </tr>\n",
        "    <tr>\n",
        "      <td><strong>129999</strong></td>\n",
        "      <td> 1880</td>\n",
        "      <td>    Euna</td>\n",
        "      <td> 0.000041</td>\n",
        "      <td> girl</td>\n",
        "      <td> E500</td>\n",
        "    </tr>\n",
        "  </tbody>\n",
        "</table>\n",
        "</div>"
       ],
       "output_type": "pyout",
       "prompt_number": 10,
       "text": [
        "        year     name      prop   sex soundex\n",
        "129995  1880  Emaline  0.000041  girl    E545\n",
        "129996  1880    Ester  0.000041  girl    E236\n",
        "129997  1880    Eulah  0.000041  girl    E400\n",
        "129998  1880  Eulalie  0.000041  girl    E440\n",
        "129999  1880     Euna  0.000041  girl    E500"
       ]
      }
     ],
     "prompt_number": 10
    },
    {
     "cell_type": "code",
     "collapsed": false,
     "input": [
      "boys = names[names.sex == 'boy']"
     ],
     "language": "python",
     "metadata": {},
     "outputs": [],
     "prompt_number": 11
    },
    {
     "cell_type": "code",
     "collapsed": false,
     "input": [
      "girls = names[names.sex == 'girl']"
     ],
     "language": "python",
     "metadata": {},
     "outputs": [],
     "prompt_number": 12
    },
    {
     "cell_type": "code",
     "collapsed": false,
     "input": [
      "pandas.__version__"
     ],
     "language": "python",
     "metadata": {},
     "outputs": [
      {
       "ename": "NameError",
       "evalue": "name 'pandas' is not defined",
       "output_type": "pyerr",
       "traceback": [
        "\u001b[0;31m---------------------------------------------------------------------------\u001b[0m\n\u001b[0;31mNameError\u001b[0m                                 Traceback (most recent call last)",
        "\u001b[0;32m<ipython-input-13-c7f5a798035a>\u001b[0m in \u001b[0;36m<module>\u001b[0;34m()\u001b[0m\n\u001b[0;32m----> 1\u001b[0;31m \u001b[0mpandas\u001b[0m\u001b[0;34m.\u001b[0m\u001b[0m__version__\u001b[0m\u001b[0;34m\u001b[0m\u001b[0m\n\u001b[0m",
        "\u001b[0;31mNameError\u001b[0m: name 'pandas' is not defined"
       ]
      }
     ],
     "prompt_number": 13
    },
    {
     "cell_type": "code",
     "collapsed": false,
     "input": [
      "__version__"
     ],
     "language": "python",
     "metadata": {},
     "outputs": [
      {
       "output_type": "pyout",
       "prompt_number": 14,
       "text": [
        "'1.6.1'"
       ]
      }
     ],
     "prompt_number": 14
    },
    {
     "cell_type": "code",
     "collapsed": false,
     "input": [
      "import pandas\n",
      "pandas.__version__"
     ],
     "language": "python",
     "metadata": {},
     "outputs": [
      {
       "output_type": "pyout",
       "prompt_number": 15,
       "text": [
        "'0.8.1'"
       ]
      }
     ],
     "prompt_number": 15
    },
    {
     "cell_type": "code",
     "collapsed": false,
     "input": [
      "boys"
     ],
     "language": "python",
     "metadata": {},
     "outputs": [
      {
       "output_type": "pyout",
       "prompt_number": 16,
       "text": [
        "<class 'pandas.core.frame.DataFrame'>\n",
        "Int64Index: 129000 entries, 0 to 128999\n",
        "Data columns:\n",
        "year       129000  non-null values\n",
        "name       129000  non-null values\n",
        "prop       129000  non-null values\n",
        "sex        129000  non-null values\n",
        "soundex    129000  non-null values\n",
        "dtypes: float64(1), int64(1), object(3)"
       ]
      }
     ],
     "prompt_number": 16
    },
    {
     "cell_type": "code",
     "collapsed": false,
     "input": [
      "boys.groupby('year').size()"
     ],
     "language": "python",
     "metadata": {},
     "outputs": [
      {
       "output_type": "pyout",
       "prompt_number": 18,
       "text": [
        "year\n",
        "1880    1000\n",
        "1881    1000\n",
        "1882    1000\n",
        "1883    1000\n",
        "1884    1000\n",
        "1885    1000\n",
        "1886    1000\n",
        "1887    1000\n",
        "1888    1000\n",
        "1889    1000\n",
        "1890    1000\n",
        "1891    1000\n",
        "1892    1000\n",
        "1893    1000\n",
        "1894    1000\n",
        "1895    1000\n",
        "1896    1000\n",
        "1897    1000\n",
        "1898    1000\n",
        "1899    1000\n",
        "1900    1000\n",
        "1901    1000\n",
        "1902    1000\n",
        "1903    1000\n",
        "1904    1000\n",
        "1905    1000\n",
        "1906    1000\n",
        "1907    1000\n",
        "1908    1000\n",
        "1909    1000\n",
        "1910    1000\n",
        "1911    1000\n",
        "1912    1000\n",
        "1913    1000\n",
        "1914    1000\n",
        "1915    1000\n",
        "1916    1000\n",
        "1917    1000\n",
        "1918    1000\n",
        "1919    1000\n",
        "1920    1000\n",
        "1921    1000\n",
        "1922    1000\n",
        "1923    1000\n",
        "1924    1000\n",
        "1925    1000\n",
        "1926    1000\n",
        "1927    1000\n",
        "1928    1000\n",
        "1929    1000\n",
        "1930    1000\n",
        "1931    1000\n",
        "1932    1000\n",
        "1933    1000\n",
        "1934    1000\n",
        "1935    1000\n",
        "1936    1000\n",
        "1937    1000\n",
        "1938    1000\n",
        "1939    1000\n",
        "1940    1000\n",
        "1941    1000\n",
        "1942    1000\n",
        "1943    1000\n",
        "1944    1000\n",
        "1945    1000\n",
        "1946    1000\n",
        "1947    1000\n",
        "1948    1000\n",
        "1949    1000\n",
        "1950    1000\n",
        "1951    1000\n",
        "1952    1000\n",
        "1953    1000\n",
        "1954    1000\n",
        "1955    1000\n",
        "1956    1000\n",
        "1957    1000\n",
        "1958    1000\n",
        "1959    1000\n",
        "1960    1000\n",
        "1961    1000\n",
        "1962    1000\n",
        "1963    1000\n",
        "1964    1000\n",
        "1965    1000\n",
        "1966    1000\n",
        "1967    1000\n",
        "1968    1000\n",
        "1969    1000\n",
        "1970    1000\n",
        "1971    1000\n",
        "1972    1000\n",
        "1973    1000\n",
        "1974    1000\n",
        "1975    1000\n",
        "1976    1000\n",
        "1977    1000\n",
        "1978    1000\n",
        "1979    1000\n",
        "1980    1000\n",
        "1981    1000\n",
        "1982    1000\n",
        "1983    1000\n",
        "1984    1000\n",
        "1985    1000\n",
        "1986    1000\n",
        "1987    1000\n",
        "1988    1000\n",
        "1989    1000\n",
        "1990    1000\n",
        "1991    1000\n",
        "1992    1000\n",
        "1993    1000\n",
        "1994    1000\n",
        "1995    1000\n",
        "1996    1000\n",
        "1997    1000\n",
        "1998    1000\n",
        "1999    1000\n",
        "2000    1000\n",
        "2001    1000\n",
        "2002    1000\n",
        "2003    1000\n",
        "2004    1000\n",
        "2005    1000\n",
        "2006    1000\n",
        "2007    1000\n",
        "2008    1000\n",
        "Length: 129"
       ]
      }
     ],
     "prompt_number": 18
    },
    {
     "cell_type": "code",
     "collapsed": false,
     "input": [
      "boys[boys.year==2000].prop.idxmax()"
     ],
     "language": "python",
     "metadata": {},
     "outputs": [
      {
       "output_type": "pyout",
       "prompt_number": 19,
       "text": [
        "120000"
       ]
      }
     ],
     "prompt_number": 19
    },
    {
     "cell_type": "code",
     "collapsed": false,
     "input": [
      "boys.ix(120000)"
     ],
     "language": "python",
     "metadata": {},
     "outputs": [
      {
       "ename": "TypeError",
       "evalue": "'_NDFrameIndexer' object is not callable",
       "output_type": "pyerr",
       "traceback": [
        "\u001b[0;31m---------------------------------------------------------------------------\u001b[0m\n\u001b[0;31mTypeError\u001b[0m                                 Traceback (most recent call last)",
        "\u001b[0;32m<ipython-input-20-6402f8b00a4c>\u001b[0m in \u001b[0;36m<module>\u001b[0;34m()\u001b[0m\n\u001b[0;32m----> 1\u001b[0;31m \u001b[0mboys\u001b[0m\u001b[0;34m.\u001b[0m\u001b[0mix\u001b[0m\u001b[0;34m(\u001b[0m\u001b[0;36m120000\u001b[0m\u001b[0;34m)\u001b[0m\u001b[0;34m\u001b[0m\u001b[0m\n\u001b[0m",
        "\u001b[0;31mTypeError\u001b[0m: '_NDFrameIndexer' object is not callable"
       ]
      }
     ],
     "prompt_number": 20
    },
    {
     "cell_type": "code",
     "collapsed": false,
     "input": [],
     "language": "python",
     "metadata": {},
     "outputs": []
    },
    {
     "cell_type": "code",
     "collapsed": false,
     "input": [],
     "language": "python",
     "metadata": {},
     "outputs": []
    },
    {
     "cell_type": "code",
     "collapsed": false,
     "input": [],
     "language": "python",
     "metadata": {},
     "outputs": []
    }
   ],
   "metadata": {}
  }
 ]
}