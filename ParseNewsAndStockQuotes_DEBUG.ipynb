{
 "metadata": {
  "name": "ParseNewsAndStockQuotes_DEBUG"
 },
 "nbformat": 3,
 "nbformat_minor": 0,
 "worksheets": [
  {
   "cells": [
    {
     "cell_type": "code",
     "collapsed": false,
     "input": [
      "import pandas as pd\n",
      "from datetime import datetime\n",
      "from pandas.io.data import DataReader\n",
      "\n",
      "pd.set_printoptions(max_rows=2000)\n",
      "def only_alphanum(s):\n",
      "    #s = unicode(s, \"utf-8\")\n",
      "    return ' '.join(c for c in s.split() if c.isalnum())\n",
      "def only_alpha(s):\n",
      "    return ' '.join(c for c in s.split() if c.isalpha())\n",
      "\n",
      "import pandas as pd\n",
      "from datetime import datetime\n",
      "from pandas.io.data import DataReader\n",
      "aapl = DataReader('AAPL', \"yahoo\", datetime(2010, 1, 1))\n",
      "returns = aapl.pct_change()\n",
      "\n",
      "def f(x):\n",
      "    if x > 0:\n",
      "        return 1\n",
      "    elif x < 0:\n",
      "        return -1\n",
      "    else:\n",
      "        return 0\n",
      "\n",
      "frame = returns.applymap(f)\n",
      "\n",
      "frame['UP'] = frame['Adj Close'] == 1\n",
      "frame['DOWN'] = frame['Adj Close'] == -1\n",
      "frame['NONE'] = frame['Adj Close'] == 0\n",
      "\n",
      "ticker = 'AAPL'\n",
      "\n",
      "from lxml import etree\n",
      "import datetime\n",
      "from dateutil.parser import parse\n",
      "path = \"http://www.google.com/finance/company_news?q=NYSE:AAPL&output=rss&num=500\"\n",
      "root = etree.parse(path)\n",
      "myRoot = root.getroot()\n",
      "news={}\n",
      "for element in myRoot.iter(\"item\"):\n",
      "    for item in element.iter(\"pubDate\"):\n",
      "        pubDate = parse(item.text)\n",
      "    for item in element.iter(\"title\"):\n",
      "        title = item.text\n",
      "    news[pubDate.date()]=only_alphanum(title)\n",
      "\n",
      "newsframe = pd.Series(news)\n",
      "frameWithNews = frame.join(pd.DataFrame(newsframe))\n",
      "#newsUP = frameWithNews['UP'==True]\n",
      "#newsDOWN = frameWithNews['DOWN'==True]\n",
      "#newsNONE = frameWithNews['NONE' == True]\n",
      "newsUP_frame = frameWithNews[frameWithNews['UP']==True]\n",
      "newsDOWN_frame = frameWithNews[frameWithNews['DOWN']==True]\n",
      "newsNONE_frame = frameWithNews[frameWithNews['NONE']==True]\n",
      "\n",
      "newsUP = newsUP_frame[0]\n",
      "newsDOWN = newsDOWN_frame[0]\n",
      "newsNONE = newsNONE_frame[0]\n",
      "\n",
      "import pandas.io as io\n",
      "\n",
      "if newsUP.dropna().count() > 1:\n",
      "    newsUP.dropna().to_csv('DEBUG_news_UP.csv')\n",
      "if newsDOWN.dropna().count() > 1:\n",
      "    newsDOWN.dropna().to_csv('DEBUG_news_DOWN.csv')\n",
      "if newsNONE.dropna().count() >1:\n",
      "    newsNONE.dropna().to_csv('DEBUG_news_NONE.csv')\n"
     ],
     "language": "python",
     "metadata": {},
     "outputs": [],
     "prompt_number": 10
    },
    {
     "cell_type": "code",
     "collapsed": false,
     "input": [
      "newsUP.dropna().count()"
     ],
     "language": "python",
     "metadata": {},
     "outputs": [
      {
       "output_type": "pyout",
       "prompt_number": 12,
       "text": [
        "9"
       ]
      }
     ],
     "prompt_number": 12
    },
    {
     "cell_type": "code",
     "collapsed": false,
     "input": [],
     "language": "python",
     "metadata": {},
     "outputs": []
    }
   ],
   "metadata": {}
  }
 ]
}